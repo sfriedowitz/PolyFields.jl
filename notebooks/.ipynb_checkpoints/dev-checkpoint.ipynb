{
 "cells": [
  {
   "cell_type": "markdown",
   "metadata": {},
   "source": [
    "# Imports"
   ]
  },
  {
   "cell_type": "code",
   "execution_count": 1,
   "metadata": {},
   "outputs": [
    {
     "name": "stderr",
     "output_type": "stream",
     "text": [
      "\u001b[32m\u001b[1m Activating\u001b[22m\u001b[39m environment at `/mnt/c/Users/sfrie/Documents/Code/julia/PolyFields.jl/Project.toml`\n"
     ]
    }
   ],
   "source": [
    "import Pkg\n",
    "\n",
    "Pkg.activate(\"../\")"
   ]
  },
  {
   "cell_type": "code",
   "execution_count": 8,
   "metadata": {},
   "outputs": [],
   "source": [
    "using BenchmarkTools\n",
    "\n",
    "using FFTW\n",
    "using LinearAlgebra\n",
    "using JSON\n",
    "\n",
    "using StaticArrays\n",
    "using Random\n",
    "using Statistics\n",
    "using LineSearches\n",
    "\n",
    "using Plots"
   ]
  },
  {
   "cell_type": "code",
   "execution_count": 3,
   "metadata": {
    "scrolled": true
   },
   "outputs": [
    {
     "name": "stderr",
     "output_type": "stream",
     "text": [
      "┌ Info: Precompiling PolyFields [537b8fae-343b-4751-aed0-0d38a89c053e]\n",
      "└ @ Base loading.jl:1278\n"
     ]
    }
   ],
   "source": [
    "using PolyFields"
   ]
  },
  {
   "cell_type": "markdown",
   "metadata": {
    "heading_collapsed": true
   },
   "source": [
    "# Examples"
   ]
  },
  {
   "cell_type": "markdown",
   "metadata": {
    "hidden": true
   },
   "source": [
    "## MDE Solutions"
   ]
  },
  {
   "cell_type": "markdown",
   "metadata": {
    "heading_collapsed": true,
    "hidden": true
   },
   "source": [
    "### Finite Difference Toy Model - Sec 3.6.1"
   ]
  },
  {
   "cell_type": "code",
   "execution_count": null,
   "metadata": {
    "hidden": true
   },
   "outputs": [],
   "source": [
    "N = 200\n",
    "b = 1/(sqrt(N/6))\n",
    "L = 10.0\n",
    "\n",
    "W(x, L) = 1 - 2*sech(3*(x - L/2)/2)^2\n",
    "\n",
    ";"
   ]
  },
  {
   "cell_type": "code",
   "execution_count": null,
   "metadata": {
    "hidden": true
   },
   "outputs": [],
   "source": [
    "Nx = 32\n",
    "Ns = 200\n",
    "\n",
    "dx = L/(Nx-1)\n",
    "ds = N/(Ns-1)\n",
    "\n",
    "x = collect(range(0, L, step = dx))\n",
    "s = collect(range(0, N, step = ds))\n",
    "wx = W.(x, L)\n",
    "\n",
    ";"
   ]
  },
  {
   "cell_type": "code",
   "execution_count": null,
   "metadata": {
    "hidden": true
   },
   "outputs": [],
   "source": [
    "q = ones(Nx, Ns)\n",
    "q[:,1] .= 1.0\n",
    "\n",
    "tol = 1e-6\n",
    "max_steps = 300\n",
    "\n",
    "norm_prev = norm(q)\n",
    "norm_curr = 0.0\n",
    "\n",
    "step = 1\n",
    "while step <= max_steps\n",
    "    step += 1\n",
    "    norm_prev = norm(q)\n",
    "    \n",
    "    if step % 25 == 0\n",
    "        println(\"Calculating for step $(step).\")\n",
    "    end\n",
    "    \n",
    "    # Finite diff the propagator matrix\n",
    "    for j in 1:Nx\n",
    "        for n in 1:Ns-1\n",
    "            # PBC in spatial dimension\n",
    "            jp1 = mod1(j+1, Nx)\n",
    "            jm1 = mod1(j-1, Nx)\n",
    "\n",
    "            rhs = (b^2/6)*((q[jp1, n] - 2*q[j,n] + q[jm1,n])/(dx^2)) - q[j,n]*wx[j]/N\n",
    "            q[j,n+1] = q[j,n] + ds*rhs\n",
    "        end\n",
    "    end\n",
    "    \n",
    "    norm_curr = norm(q)\n",
    "    if abs(norm_prev - norm_curr) < tol\n",
    "        print(\"Tolerance reached at step $(step) -- breaking.\")\n",
    "        break\n",
    "    end\n",
    "end  "
   ]
  },
  {
   "cell_type": "code",
   "execution_count": null,
   "metadata": {
    "hidden": true
   },
   "outputs": [],
   "source": [
    "plot(x, q[:,end], label = \"W(x)\")\n",
    "plot!(x, wx, label = \"q(x, N)\")\n",
    "\n",
    "plot!(legend = :bottomright, size = (400, 275))"
   ]
  },
  {
   "cell_type": "markdown",
   "metadata": {
    "heading_collapsed": true,
    "hidden": true
   },
   "source": [
    "### Crank-Nicolson Scheme - Sec 3.6.1"
   ]
  },
  {
   "cell_type": "code",
   "execution_count": 21,
   "metadata": {
    "hidden": true
   },
   "outputs": [],
   "source": [
    "N = 50\n",
    "b = 1.0/(sqrt(N/6))\n",
    "L = 5.0\n",
    "\n",
    "W(x, L) = 1 - 2*sech(3*(x - L/2)/2)^2\n",
    "\n",
    ";"
   ]
  },
  {
   "cell_type": "code",
   "execution_count": 22,
   "metadata": {
    "hidden": true
   },
   "outputs": [],
   "source": [
    "Nx = 128\n",
    "Ns = 200\n",
    "\n",
    "dx = L/(Nx-1)\n",
    "ds = N/(Ns-1)\n",
    "\n",
    "x = collect(range(0, L, step = dx))\n",
    "s = collect(range(0, N, step = ds))\n",
    "wx = W.(x, L)\n",
    "\n",
    ";"
   ]
  },
  {
   "cell_type": "code",
   "execution_count": 23,
   "metadata": {
    "hidden": true
   },
   "outputs": [],
   "source": [
    "q = zeros(Nx, Ns)\n",
    "q[:,1] .= 1.0\n",
    "\n",
    "# Operators for solver\n",
    "WX = diagm(0 => wx/N)\n",
    "\n",
    "# Init T w/ PBC\n",
    "T = zeros(Nx, Nx)\n",
    "for j in 1:Nx\n",
    "    jp1 = mod1(j+1, Nx)\n",
    "    jm1 = mod1(j-1, Nx)\n",
    "    \n",
    "    T[j,j] = -2.0\n",
    "    T[j,jp1] = 1.0\n",
    "    T[j,jm1] = 1.0\n",
    "end\n",
    "\n",
    "# Matrix operators for solver\n",
    "TW = (I - (ds/2)*WX + (b^2*ds)/(12*dx^2)*T)\n",
    "TWM = (I + (ds/2)*WX - (b^2*ds)/(12*dx^2)*T)\n",
    "\n",
    "# Matrix solve for each chain discretization\n",
    "for n in 1:Ns-1\n",
    "    q[:,n+1] = TWM \\ TW * q[:,n]\n",
    "end"
   ]
  },
  {
   "cell_type": "code",
   "execution_count": 24,
   "metadata": {
    "hidden": true
   },
   "outputs": [
    {
     "data": {
      "image/svg+xml": [
       "<?xml version=\"1.0\" encoding=\"utf-8\"?>\n",
       "<svg xmlns=\"http://www.w3.org/2000/svg\" xmlns:xlink=\"http://www.w3.org/1999/xlink\" width=\"400\" height=\"275\" viewBox=\"0 0 1600 1100\">\n",
       "<defs>\n",
       "  <clipPath id=\"clip430\">\n",
       "    <rect x=\"0\" y=\"0\" width=\"1600\" height=\"1100\"/>\n",
       "  </clipPath>\n",
       "</defs>\n",
       "<path clip-path=\"url(#clip430)\" d=\"\n",
       "M0 1100 L1600 1100 L1600 0 L0 0  Z\n",
       "  \" fill=\"#ffffff\" fill-rule=\"evenodd\" fill-opacity=\"1\"/>\n",
       "<defs>\n",
       "  <clipPath id=\"clip431\">\n",
       "    <rect x=\"320\" y=\"0\" width=\"1121\" height=\"1100\"/>\n",
       "  </clipPath>\n",
       "</defs>\n",
       "<path clip-path=\"url(#clip430)\" d=\"\n",
       "M171.654 990.368 L1552.76 990.368 L1552.76 47.2441 L171.654 47.2441  Z\n",
       "  \" fill=\"#ffffff\" fill-rule=\"evenodd\" fill-opacity=\"1\"/>\n",
       "<defs>\n",
       "  <clipPath id=\"clip432\">\n",
       "    <rect x=\"171\" y=\"47\" width=\"1382\" height=\"944\"/>\n",
       "  </clipPath>\n",
       "</defs>\n",
       "<polyline clip-path=\"url(#clip432)\" style=\"stroke:#000000; stroke-width:2; stroke-opacity:0.1; fill:none\" points=\"\n",
       "  210.741,990.368 210.741,47.2441 \n",
       "  \"/>\n",
       "<polyline clip-path=\"url(#clip432)\" style=\"stroke:#000000; stroke-width:2; stroke-opacity:0.1; fill:none\" points=\"\n",
       "  471.327,990.368 471.327,47.2441 \n",
       "  \"/>\n",
       "<polyline clip-path=\"url(#clip432)\" style=\"stroke:#000000; stroke-width:2; stroke-opacity:0.1; fill:none\" points=\"\n",
       "  731.912,990.368 731.912,47.2441 \n",
       "  \"/>\n",
       "<polyline clip-path=\"url(#clip432)\" style=\"stroke:#000000; stroke-width:2; stroke-opacity:0.1; fill:none\" points=\"\n",
       "  992.497,990.368 992.497,47.2441 \n",
       "  \"/>\n",
       "<polyline clip-path=\"url(#clip432)\" style=\"stroke:#000000; stroke-width:2; stroke-opacity:0.1; fill:none\" points=\"\n",
       "  1253.08,990.368 1253.08,47.2441 \n",
       "  \"/>\n",
       "<polyline clip-path=\"url(#clip432)\" style=\"stroke:#000000; stroke-width:2; stroke-opacity:0.1; fill:none\" points=\"\n",
       "  1513.67,990.368 1513.67,47.2441 \n",
       "  \"/>\n",
       "<polyline clip-path=\"url(#clip430)\" style=\"stroke:#000000; stroke-width:4; stroke-opacity:1; fill:none\" points=\"\n",
       "  171.654,990.368 1552.76,990.368 \n",
       "  \"/>\n",
       "<polyline clip-path=\"url(#clip430)\" style=\"stroke:#000000; stroke-width:4; stroke-opacity:1; fill:none\" points=\"\n",
       "  210.741,990.368 210.741,979.05 \n",
       "  \"/>\n",
       "<polyline clip-path=\"url(#clip430)\" style=\"stroke:#000000; stroke-width:4; stroke-opacity:1; fill:none\" points=\"\n",
       "  471.327,990.368 471.327,979.05 \n",
       "  \"/>\n",
       "<polyline clip-path=\"url(#clip430)\" style=\"stroke:#000000; stroke-width:4; stroke-opacity:1; fill:none\" points=\"\n",
       "  731.912,990.368 731.912,979.05 \n",
       "  \"/>\n",
       "<polyline clip-path=\"url(#clip430)\" style=\"stroke:#000000; stroke-width:4; stroke-opacity:1; fill:none\" points=\"\n",
       "  992.497,990.368 992.497,979.05 \n",
       "  \"/>\n",
       "<polyline clip-path=\"url(#clip430)\" style=\"stroke:#000000; stroke-width:4; stroke-opacity:1; fill:none\" points=\"\n",
       "  1253.08,990.368 1253.08,979.05 \n",
       "  \"/>\n",
       "<polyline clip-path=\"url(#clip430)\" style=\"stroke:#000000; stroke-width:4; stroke-opacity:1; fill:none\" points=\"\n",
       "  1513.67,990.368 1513.67,979.05 \n",
       "  \"/>\n",
       "<path clip-path=\"url(#clip430)\" d=\"M 0 0 M210.741 1013.16 Q207.13 1013.16 205.302 1016.72 Q203.496 1020.27 203.496 1027.39 Q203.496 1034.5 205.302 1038.07 Q207.13 1041.61 210.741 1041.61 Q214.376 1041.61 216.181 1038.07 Q218.01 1034.5 218.01 1027.39 Q218.01 1020.27 216.181 1016.72 Q214.376 1013.16 210.741 1013.16 M210.741 1009.45 Q216.552 1009.45 219.607 1014.06 Q222.686 1018.64 222.686 1027.39 Q222.686 1036.12 219.607 1040.73 Q216.552 1045.31 210.741 1045.31 Q204.931 1045.31 201.853 1040.73 Q198.797 1036.12 198.797 1027.39 Q198.797 1018.64 201.853 1014.06 Q204.931 1009.45 210.741 1009.45 Z\" fill=\"#000000\" fill-rule=\"evenodd\" fill-opacity=\"1\" /><path clip-path=\"url(#clip430)\" d=\"M 0 0 M461.709 1040.7 L469.348 1040.7 L469.348 1014.34 L461.037 1016.01 L461.037 1011.75 L469.301 1010.08 L473.977 1010.08 L473.977 1040.7 L481.616 1040.7 L481.616 1044.64 L461.709 1044.64 L461.709 1040.7 Z\" fill=\"#000000\" fill-rule=\"evenodd\" fill-opacity=\"1\" /><path clip-path=\"url(#clip430)\" d=\"M 0 0 M726.565 1040.7 L742.884 1040.7 L742.884 1044.64 L720.94 1044.64 L720.94 1040.7 Q723.602 1037.95 728.185 1033.32 Q732.792 1028.67 733.972 1027.33 Q736.218 1024.8 737.097 1023.07 Q738 1021.31 738 1019.62 Q738 1016.86 736.056 1015.13 Q734.134 1013.39 731.032 1013.39 Q728.833 1013.39 726.38 1014.15 Q723.949 1014.92 721.171 1016.47 L721.171 1011.75 Q723.995 1010.61 726.449 1010.03 Q728.903 1009.45 730.94 1009.45 Q736.31 1009.45 739.505 1012.14 Q742.699 1014.83 742.699 1019.32 Q742.699 1021.45 741.889 1023.37 Q741.102 1025.26 738.995 1027.86 Q738.417 1028.53 735.315 1031.75 Q732.213 1034.94 726.565 1040.7 Z\" fill=\"#000000\" fill-rule=\"evenodd\" fill-opacity=\"1\" /><path clip-path=\"url(#clip430)\" d=\"M 0 0 M996.745 1026.01 Q1000.1 1026.72 1001.98 1028.99 Q1003.87 1031.26 1003.87 1034.59 Q1003.87 1039.71 1000.36 1042.51 Q996.838 1045.31 990.356 1045.31 Q988.18 1045.31 985.866 1044.87 Q983.574 1044.45 981.12 1043.6 L981.12 1039.08 Q983.065 1040.22 985.379 1040.8 Q987.694 1041.38 990.217 1041.38 Q994.615 1041.38 996.907 1039.64 Q999.222 1037.9 999.222 1034.59 Q999.222 1031.54 997.069 1029.83 Q994.94 1028.09 991.12 1028.09 L987.092 1028.09 L987.092 1024.25 L991.305 1024.25 Q994.754 1024.25 996.583 1022.88 Q998.412 1021.49 998.412 1018.9 Q998.412 1016.24 996.514 1014.83 Q994.639 1013.39 991.12 1013.39 Q989.199 1013.39 987 1013.81 Q984.801 1014.22 982.162 1015.1 L982.162 1010.94 Q984.824 1010.2 987.139 1009.83 Q989.477 1009.45 991.537 1009.45 Q996.861 1009.45 999.963 1011.89 Q1003.06 1014.29 1003.06 1018.41 Q1003.06 1021.28 1001.42 1023.27 Q999.778 1025.24 996.745 1026.01 Z\" fill=\"#000000\" fill-rule=\"evenodd\" fill-opacity=\"1\" /><path clip-path=\"url(#clip430)\" d=\"M 0 0 M1256.09 1014.15 L1244.29 1032.6 L1256.09 1032.6 L1256.09 1014.15 M1254.87 1010.08 L1260.74 1010.08 L1260.74 1032.6 L1265.68 1032.6 L1265.68 1036.49 L1260.74 1036.49 L1260.74 1044.64 L1256.09 1044.64 L1256.09 1036.49 L1240.49 1036.49 L1240.49 1031.98 L1254.87 1010.08 Z\" fill=\"#000000\" fill-rule=\"evenodd\" fill-opacity=\"1\" /><path clip-path=\"url(#clip430)\" d=\"M 0 0 M1503.95 1010.08 L1522.3 1010.08 L1522.3 1014.02 L1508.23 1014.02 L1508.23 1022.49 Q1509.25 1022.14 1510.27 1021.98 Q1511.28 1021.79 1512.3 1021.79 Q1518.09 1021.79 1521.47 1024.96 Q1524.85 1028.14 1524.85 1033.55 Q1524.85 1039.13 1521.38 1042.23 Q1517.9 1045.31 1511.58 1045.31 Q1509.41 1045.31 1507.14 1044.94 Q1504.9 1044.57 1502.49 1043.83 L1502.49 1039.13 Q1504.57 1040.26 1506.79 1040.82 Q1509.02 1041.38 1511.49 1041.38 Q1515.5 1041.38 1517.83 1039.27 Q1520.17 1037.16 1520.17 1033.55 Q1520.17 1029.94 1517.83 1027.83 Q1515.5 1025.73 1511.49 1025.73 Q1509.62 1025.73 1507.74 1026.14 Q1505.89 1026.56 1503.95 1027.44 L1503.95 1010.08 Z\" fill=\"#000000\" fill-rule=\"evenodd\" fill-opacity=\"1\" /><polyline clip-path=\"url(#clip432)\" style=\"stroke:#000000; stroke-width:2; stroke-opacity:0.1; fill:none\" points=\"\n",
       "  171.654,964.412 1552.76,964.412 \n",
       "  \"/>\n",
       "<polyline clip-path=\"url(#clip432)\" style=\"stroke:#000000; stroke-width:2; stroke-opacity:0.1; fill:none\" points=\"\n",
       "  171.654,753.111 1552.76,753.111 \n",
       "  \"/>\n",
       "<polyline clip-path=\"url(#clip432)\" style=\"stroke:#000000; stroke-width:2; stroke-opacity:0.1; fill:none\" points=\"\n",
       "  171.654,541.81 1552.76,541.81 \n",
       "  \"/>\n",
       "<polyline clip-path=\"url(#clip432)\" style=\"stroke:#000000; stroke-width:2; stroke-opacity:0.1; fill:none\" points=\"\n",
       "  171.654,330.509 1552.76,330.509 \n",
       "  \"/>\n",
       "<polyline clip-path=\"url(#clip432)\" style=\"stroke:#000000; stroke-width:2; stroke-opacity:0.1; fill:none\" points=\"\n",
       "  171.654,119.208 1552.76,119.208 \n",
       "  \"/>\n",
       "<polyline clip-path=\"url(#clip430)\" style=\"stroke:#000000; stroke-width:4; stroke-opacity:1; fill:none\" points=\"\n",
       "  171.654,990.368 171.654,47.2441 \n",
       "  \"/>\n",
       "<polyline clip-path=\"url(#clip430)\" style=\"stroke:#000000; stroke-width:4; stroke-opacity:1; fill:none\" points=\"\n",
       "  171.654,964.412 188.227,964.412 \n",
       "  \"/>\n",
       "<polyline clip-path=\"url(#clip430)\" style=\"stroke:#000000; stroke-width:4; stroke-opacity:1; fill:none\" points=\"\n",
       "  171.654,753.111 188.227,753.111 \n",
       "  \"/>\n",
       "<polyline clip-path=\"url(#clip430)\" style=\"stroke:#000000; stroke-width:4; stroke-opacity:1; fill:none\" points=\"\n",
       "  171.654,541.81 188.227,541.81 \n",
       "  \"/>\n",
       "<polyline clip-path=\"url(#clip430)\" style=\"stroke:#000000; stroke-width:4; stroke-opacity:1; fill:none\" points=\"\n",
       "  171.654,330.509 188.227,330.509 \n",
       "  \"/>\n",
       "<polyline clip-path=\"url(#clip430)\" style=\"stroke:#000000; stroke-width:4; stroke-opacity:1; fill:none\" points=\"\n",
       "  171.654,119.208 188.227,119.208 \n",
       "  \"/>\n",
       "<path clip-path=\"url(#clip430)\" d=\"M 0 0 M55.2236 964.864 L84.8994 964.864 L84.8994 968.799 L55.2236 968.799 L55.2236 964.864 Z\" fill=\"#000000\" fill-rule=\"evenodd\" fill-opacity=\"1\" /><path clip-path=\"url(#clip430)\" d=\"M 0 0 M90.779 977.757 L98.4178 977.757 L98.4178 951.391 L90.1077 953.058 L90.1077 948.799 L98.3715 947.132 L103.047 947.132 L103.047 977.757 L110.686 977.757 L110.686 981.692 L90.779 981.692 L90.779 977.757 Z\" fill=\"#000000\" fill-rule=\"evenodd\" fill-opacity=\"1\" /><path clip-path=\"url(#clip430)\" d=\"M 0 0 M115.756 975.813 L120.64 975.813 L120.64 981.692 L115.756 981.692 L115.756 975.813 Z\" fill=\"#000000\" fill-rule=\"evenodd\" fill-opacity=\"1\" /><path clip-path=\"url(#clip430)\" d=\"M 0 0 M135.709 950.211 Q132.098 950.211 130.27 953.776 Q128.464 957.317 128.464 964.447 Q128.464 971.553 130.27 975.118 Q132.098 978.66 135.709 978.66 Q139.344 978.66 141.149 975.118 Q142.978 971.553 142.978 964.447 Q142.978 957.317 141.149 953.776 Q139.344 950.211 135.709 950.211 M135.709 946.507 Q141.519 946.507 144.575 951.114 Q147.654 955.697 147.654 964.447 Q147.654 973.174 144.575 977.78 Q141.519 982.363 135.709 982.363 Q129.899 982.363 126.82 977.78 Q123.765 973.174 123.765 964.447 Q123.765 955.697 126.82 951.114 Q129.899 946.507 135.709 946.507 Z\" fill=\"#000000\" fill-rule=\"evenodd\" fill-opacity=\"1\" /><path clip-path=\"url(#clip430)\" d=\"M 0 0 M54.9921 753.563 L84.6679 753.563 L84.6679 757.498 L54.9921 757.498 L54.9921 753.563 Z\" fill=\"#000000\" fill-rule=\"evenodd\" fill-opacity=\"1\" /><path clip-path=\"url(#clip430)\" d=\"M 0 0 M99.7373 738.91 Q96.1262 738.91 94.2975 742.475 Q92.4919 746.016 92.4919 753.146 Q92.4919 760.252 94.2975 763.817 Q96.1262 767.359 99.7373 767.359 Q103.371 767.359 105.177 763.817 Q107.006 760.252 107.006 753.146 Q107.006 746.016 105.177 742.475 Q103.371 738.91 99.7373 738.91 M99.7373 735.206 Q105.547 735.206 108.603 739.813 Q111.682 744.396 111.682 753.146 Q111.682 761.873 108.603 766.479 Q105.547 771.062 99.7373 771.062 Q93.9271 771.062 90.8484 766.479 Q87.7929 761.873 87.7929 753.146 Q87.7929 744.396 90.8484 739.813 Q93.9271 735.206 99.7373 735.206 Z\" fill=\"#000000\" fill-rule=\"evenodd\" fill-opacity=\"1\" /><path clip-path=\"url(#clip430)\" d=\"M 0 0 M116.751 764.512 L121.635 764.512 L121.635 770.391 L116.751 770.391 L116.751 764.512 Z\" fill=\"#000000\" fill-rule=\"evenodd\" fill-opacity=\"1\" /><path clip-path=\"url(#clip430)\" d=\"M 0 0 M126.751 735.831 L145.107 735.831 L145.107 739.766 L131.033 739.766 L131.033 748.239 Q132.052 747.891 133.07 747.729 Q134.089 747.544 135.107 747.544 Q140.894 747.544 144.274 750.715 Q147.654 753.887 147.654 759.303 Q147.654 764.882 144.181 767.984 Q140.709 771.062 134.39 771.062 Q132.214 771.062 129.945 770.692 Q127.7 770.322 125.293 769.581 L125.293 764.882 Q127.376 766.016 129.598 766.572 Q131.82 767.127 134.297 767.127 Q138.302 767.127 140.64 765.021 Q142.978 762.914 142.978 759.303 Q142.978 755.692 140.64 753.586 Q138.302 751.479 134.297 751.479 Q132.422 751.479 130.547 751.896 Q128.695 752.313 126.751 753.192 L126.751 735.831 Z\" fill=\"#000000\" fill-rule=\"evenodd\" fill-opacity=\"1\" /><path clip-path=\"url(#clip430)\" d=\"M 0 0 M98.7419 527.609 Q95.1308 527.609 93.3021 531.174 Q91.4966 534.715 91.4966 541.845 Q91.4966 548.951 93.3021 552.516 Q95.1308 556.058 98.7419 556.058 Q102.376 556.058 104.182 552.516 Q106.01 548.951 106.01 541.845 Q106.01 534.715 104.182 531.174 Q102.376 527.609 98.7419 527.609 M98.7419 523.905 Q104.552 523.905 107.608 528.512 Q110.686 533.095 110.686 541.845 Q110.686 550.572 107.608 555.178 Q104.552 559.761 98.7419 559.761 Q92.9317 559.761 89.8531 555.178 Q86.7975 550.572 86.7975 541.845 Q86.7975 533.095 89.8531 528.512 Q92.9317 523.905 98.7419 523.905 Z\" fill=\"#000000\" fill-rule=\"evenodd\" fill-opacity=\"1\" /><path clip-path=\"url(#clip430)\" d=\"M 0 0 M115.756 553.211 L120.64 553.211 L120.64 559.09 L115.756 559.09 L115.756 553.211 Z\" fill=\"#000000\" fill-rule=\"evenodd\" fill-opacity=\"1\" /><path clip-path=\"url(#clip430)\" d=\"M 0 0 M135.709 527.609 Q132.098 527.609 130.27 531.174 Q128.464 534.715 128.464 541.845 Q128.464 548.951 130.27 552.516 Q132.098 556.058 135.709 556.058 Q139.344 556.058 141.149 552.516 Q142.978 548.951 142.978 541.845 Q142.978 534.715 141.149 531.174 Q139.344 527.609 135.709 527.609 M135.709 523.905 Q141.519 523.905 144.575 528.512 Q147.654 533.095 147.654 541.845 Q147.654 550.572 144.575 555.178 Q141.519 559.761 135.709 559.761 Q129.899 559.761 126.82 555.178 Q123.765 550.572 123.765 541.845 Q123.765 533.095 126.82 528.512 Q129.899 523.905 135.709 523.905 Z\" fill=\"#000000\" fill-rule=\"evenodd\" fill-opacity=\"1\" /><path clip-path=\"url(#clip430)\" d=\"M 0 0 M99.7373 316.308 Q96.1262 316.308 94.2975 319.873 Q92.4919 323.414 92.4919 330.544 Q92.4919 337.65 94.2975 341.215 Q96.1262 344.757 99.7373 344.757 Q103.371 344.757 105.177 341.215 Q107.006 337.65 107.006 330.544 Q107.006 323.414 105.177 319.873 Q103.371 316.308 99.7373 316.308 M99.7373 312.604 Q105.547 312.604 108.603 317.211 Q111.682 321.794 111.682 330.544 Q111.682 339.271 108.603 343.877 Q105.547 348.46 99.7373 348.46 Q93.9271 348.46 90.8484 343.877 Q87.7929 339.271 87.7929 330.544 Q87.7929 321.794 90.8484 317.211 Q93.9271 312.604 99.7373 312.604 Z\" fill=\"#000000\" fill-rule=\"evenodd\" fill-opacity=\"1\" /><path clip-path=\"url(#clip430)\" d=\"M 0 0 M116.751 341.91 L121.635 341.91 L121.635 347.789 L116.751 347.789 L116.751 341.91 Z\" fill=\"#000000\" fill-rule=\"evenodd\" fill-opacity=\"1\" /><path clip-path=\"url(#clip430)\" d=\"M 0 0 M126.751 313.229 L145.107 313.229 L145.107 317.164 L131.033 317.164 L131.033 325.637 Q132.052 325.289 133.07 325.127 Q134.089 324.942 135.107 324.942 Q140.894 324.942 144.274 328.113 Q147.654 331.285 147.654 336.701 Q147.654 342.28 144.181 345.382 Q140.709 348.46 134.39 348.46 Q132.214 348.46 129.945 348.09 Q127.7 347.72 125.293 346.979 L125.293 342.28 Q127.376 343.414 129.598 343.97 Q131.82 344.525 134.297 344.525 Q138.302 344.525 140.64 342.419 Q142.978 340.312 142.978 336.701 Q142.978 333.09 140.64 330.984 Q138.302 328.877 134.297 328.877 Q132.422 328.877 130.547 329.294 Q128.695 329.711 126.751 330.59 L126.751 313.229 Z\" fill=\"#000000\" fill-rule=\"evenodd\" fill-opacity=\"1\" /><path clip-path=\"url(#clip430)\" d=\"M 0 0 M90.779 132.553 L98.4178 132.553 L98.4178 106.187 L90.1077 107.854 L90.1077 103.595 L98.3715 101.928 L103.047 101.928 L103.047 132.553 L110.686 132.553 L110.686 136.488 L90.779 136.488 L90.779 132.553 Z\" fill=\"#000000\" fill-rule=\"evenodd\" fill-opacity=\"1\" /><path clip-path=\"url(#clip430)\" d=\"M 0 0 M115.756 130.609 L120.64 130.609 L120.64 136.488 L115.756 136.488 L115.756 130.609 Z\" fill=\"#000000\" fill-rule=\"evenodd\" fill-opacity=\"1\" /><path clip-path=\"url(#clip430)\" d=\"M 0 0 M135.709 105.007 Q132.098 105.007 130.27 108.572 Q128.464 112.113 128.464 119.243 Q128.464 126.349 130.27 129.914 Q132.098 133.456 135.709 133.456 Q139.344 133.456 141.149 129.914 Q142.978 126.349 142.978 119.243 Q142.978 112.113 141.149 108.572 Q139.344 105.007 135.709 105.007 M135.709 101.303 Q141.519 101.303 144.575 105.91 Q147.654 110.493 147.654 119.243 Q147.654 127.97 144.575 132.576 Q141.519 137.159 135.709 137.159 Q129.899 137.159 126.82 132.576 Q123.765 127.97 123.765 119.243 Q123.765 110.493 126.82 105.91 Q129.899 101.303 135.709 101.303 Z\" fill=\"#000000\" fill-rule=\"evenodd\" fill-opacity=\"1\" /><polyline clip-path=\"url(#clip432)\" style=\"stroke:#009af9; stroke-width:4; stroke-opacity:1; fill:none\" points=\"\n",
       "  210.741,350.441 221.001,350.303 231.26,350.028 241.519,349.614 251.779,349.062 262.038,348.37 272.297,347.536 282.556,346.56 292.816,345.44 303.075,344.173 \n",
       "  313.334,342.757 323.593,341.191 333.853,339.47 344.112,337.592 354.371,335.554 364.63,333.352 374.89,330.984 385.149,328.444 395.408,325.729 405.667,322.835 \n",
       "  415.927,319.757 426.186,316.493 436.445,313.036 446.705,309.383 456.964,305.53 467.223,301.472 477.482,297.206 487.742,292.727 498.001,288.032 508.26,283.118 \n",
       "  518.519,277.983 528.779,272.624 539.038,267.04 549.297,261.231 559.556,255.197 569.816,248.941 580.075,242.465 590.334,235.776 600.594,228.879 610.853,221.785 \n",
       "  621.112,214.504 631.371,207.051 641.631,199.444 651.89,191.703 662.149,183.854 672.408,175.923 682.668,167.945 692.927,159.955 703.186,151.996 713.445,144.113 \n",
       "  723.705,136.357 733.964,128.781 744.223,121.445 754.483,114.408 764.742,107.734 775.001,101.488 785.26,95.7336 795.52,90.5342 805.779,85.9495 816.038,82.0349 \n",
       "  826.297,78.8394 836.557,76.4046 846.816,74.7628 857.075,73.9363 867.334,73.9363 877.594,74.7628 887.853,76.4046 898.112,78.8394 908.371,82.0349 918.631,85.9495 \n",
       "  928.89,90.5342 939.149,95.7336 949.409,101.488 959.668,107.734 969.927,114.408 980.186,121.445 990.446,128.781 1000.7,136.357 1010.96,144.113 1021.22,151.996 \n",
       "  1031.48,159.955 1041.74,167.945 1052,175.923 1062.26,183.854 1072.52,191.703 1082.78,199.444 1093.04,207.051 1103.3,214.504 1113.56,221.785 1123.82,228.879 \n",
       "  1134.08,235.776 1144.33,242.465 1154.59,248.941 1164.85,255.197 1175.11,261.231 1185.37,267.04 1195.63,272.624 1205.89,277.983 1216.15,283.118 1226.41,288.032 \n",
       "  1236.67,292.727 1246.93,297.206 1257.19,301.472 1267.45,305.53 1277.71,309.383 1287.96,313.036 1298.22,316.493 1308.48,319.757 1318.74,322.835 1329,325.729 \n",
       "  1339.26,328.444 1349.52,330.984 1359.78,333.352 1370.04,335.554 1380.3,337.592 1390.56,339.47 1400.82,341.191 1411.08,342.757 1421.33,344.173 1431.59,345.44 \n",
       "  1441.85,346.56 1452.11,347.536 1462.37,348.37 1472.63,349.062 1482.89,349.614 1493.15,350.028 1503.41,350.303 1513.67,350.441 \n",
       "  \"/>\n",
       "<polyline clip-path=\"url(#clip432)\" style=\"stroke:#e26f46; stroke-width:4; stroke-opacity:1; fill:none\" points=\"\n",
       "  210.741,121.076 221.001,121.31 231.26,121.573 241.519,121.869 251.779,122.202 262.038,122.577 272.297,122.998 282.556,123.472 292.816,124.005 303.075,124.604 \n",
       "  313.334,125.278 323.593,126.036 333.853,126.888 344.112,127.846 354.371,128.923 364.63,130.133 374.89,131.493 385.149,133.02 395.408,134.736 405.667,136.662 \n",
       "  415.927,138.825 426.186,141.252 436.445,143.974 446.705,147.028 456.964,150.451 467.223,154.285 477.482,158.579 487.742,163.384 498.001,168.758 508.26,174.763 \n",
       "  518.519,181.466 528.779,188.943 539.038,197.272 549.297,206.541 559.556,216.839 569.816,228.263 580.075,240.915 590.334,254.897 600.594,270.317 610.853,287.279 \n",
       "  621.112,305.886 631.371,326.234 641.631,348.407 651.89,372.475 662.149,398.485 672.408,426.458 682.668,456.376 692.927,488.179 703.186,521.753 713.445,556.925 \n",
       "  723.705,593.454 733.964,631.024 744.223,669.242 754.483,707.637 764.742,745.663 775.001,782.707 785.26,818.105 795.52,851.159 805.779,881.162 816.038,907.424 \n",
       "  826.297,929.307 836.557,946.254 846.816,957.814 857.075,963.676 867.334,963.676 877.594,957.814 887.853,946.254 898.112,929.307 908.371,907.424 918.631,881.162 \n",
       "  928.89,851.159 939.149,818.105 949.409,782.707 959.668,745.663 969.927,707.637 980.186,669.242 990.446,631.024 1000.7,593.454 1010.96,556.925 1021.22,521.753 \n",
       "  1031.48,488.179 1041.74,456.376 1052,426.458 1062.26,398.485 1072.52,372.475 1082.78,348.407 1093.04,326.234 1103.3,305.886 1113.56,287.279 1123.82,270.317 \n",
       "  1134.08,254.897 1144.33,240.915 1154.59,228.263 1164.85,216.839 1175.11,206.541 1185.37,197.272 1195.63,188.943 1205.89,181.466 1216.15,174.763 1226.41,168.758 \n",
       "  1236.67,163.384 1246.93,158.579 1257.19,154.285 1267.45,150.451 1277.71,147.028 1287.96,143.974 1298.22,141.252 1308.48,138.825 1318.74,136.662 1329,134.736 \n",
       "  1339.26,133.02 1349.52,131.493 1359.78,130.133 1370.04,128.923 1380.3,127.846 1390.56,126.888 1400.82,126.036 1411.08,125.278 1421.33,124.604 1431.59,124.005 \n",
       "  1441.85,123.472 1452.11,122.998 1462.37,122.577 1472.63,122.202 1482.89,121.869 1493.15,121.573 1503.41,121.31 1513.67,121.076 \n",
       "  \"/>\n",
       "<path clip-path=\"url(#clip430)\" d=\"\n",
       "M1218.15 958.93 L1506.72 958.93 L1506.72 777.49 L1218.15 777.49  Z\n",
       "  \" fill=\"#ffffff\" fill-rule=\"evenodd\" fill-opacity=\"1\"/>\n",
       "<polyline clip-path=\"url(#clip430)\" style=\"stroke:#000000; stroke-width:4; stroke-opacity:1; fill:none\" points=\"\n",
       "  1218.15,958.93 1506.72,958.93 1506.72,777.49 1218.15,777.49 1218.15,958.93 \n",
       "  \"/>\n",
       "<polyline clip-path=\"url(#clip430)\" style=\"stroke:#009af9; stroke-width:4; stroke-opacity:1; fill:none\" points=\"\n",
       "  1233.49,837.97 1325.57,837.97 \n",
       "  \"/>\n",
       "<path clip-path=\"url(#clip430)\" d=\"M 0 0 M1345.31 842.311 Q1345.31 847.01 1347.23 849.695 Q1349.18 852.357 1352.56 852.357 Q1355.94 852.357 1357.88 849.695 Q1359.82 847.01 1359.82 842.311 Q1359.82 837.612 1357.88 834.95 Q1355.94 832.264 1352.56 832.264 Q1349.18 832.264 1347.23 834.95 Q1345.31 837.612 1345.31 842.311 M1359.82 851.362 Q1358.48 853.676 1356.42 854.811 Q1354.39 855.922 1351.51 855.922 Q1346.82 855.922 1343.85 852.172 Q1340.91 848.422 1340.91 842.311 Q1340.91 836.2 1343.85 832.45 Q1346.82 828.7 1351.51 828.7 Q1354.39 828.7 1356.42 829.834 Q1358.48 830.945 1359.82 833.26 L1359.82 829.325 L1364.08 829.325 L1364.08 865.111 L1359.82 865.111 L1359.82 851.362 Z\" fill=\"#000000\" fill-rule=\"evenodd\" fill-opacity=\"1\" /><path clip-path=\"url(#clip430)\" d=\"M 0 0 M1378.78 819.278 Q1375.68 824.602 1374.18 829.811 Q1372.67 835.019 1372.67 840.366 Q1372.67 845.713 1374.18 850.968 Q1375.7 856.199 1378.78 861.5 L1375.08 861.5 Q1371.61 856.061 1369.87 850.806 Q1368.16 845.551 1368.16 840.366 Q1368.16 835.204 1369.87 829.973 Q1371.58 824.741 1375.08 819.278 L1378.78 819.278 Z\" fill=\"#000000\" fill-rule=\"evenodd\" fill-opacity=\"1\" /><path clip-path=\"url(#clip430)\" d=\"M 0 0 M1404.8 829.325 L1395.43 841.94 L1405.29 855.25 L1400.26 855.25 L1392.72 845.065 L1385.17 855.25 L1380.15 855.25 L1390.22 841.686 L1381.01 829.325 L1386.03 829.325 L1392.9 838.561 L1399.78 829.325 L1404.8 829.325 Z\" fill=\"#000000\" fill-rule=\"evenodd\" fill-opacity=\"1\" /><path clip-path=\"url(#clip430)\" d=\"M 0 0 M1410.84 849.371 L1415.73 849.371 L1415.73 853.352 L1411.93 860.76 L1408.95 860.76 L1410.84 853.352 L1410.84 849.371 Z\" fill=\"#000000\" fill-rule=\"evenodd\" fill-opacity=\"1\" /><path clip-path=\"url(#clip430)\" d=\"M 0 0 M1435.45 820.69 L1441.75 820.69 L1457.07 849.602 L1457.07 820.69 L1461.61 820.69 L1461.61 855.25 L1455.31 855.25 L1439.99 826.339 L1439.99 855.25 L1435.45 855.25 L1435.45 820.69 Z\" fill=\"#000000\" fill-rule=\"evenodd\" fill-opacity=\"1\" /><path clip-path=\"url(#clip430)\" d=\"M 0 0 M1465.4 819.278 L1469.11 819.278 Q1472.58 824.741 1474.29 829.973 Q1476.03 835.204 1476.03 840.366 Q1476.03 845.551 1474.29 850.806 Q1472.58 856.061 1469.11 861.5 L1465.4 861.5 Q1468.48 856.199 1469.99 850.968 Q1471.51 845.713 1471.51 840.366 Q1471.51 835.019 1469.99 829.811 Q1468.48 824.602 1465.4 819.278 Z\" fill=\"#000000\" fill-rule=\"evenodd\" fill-opacity=\"1\" /><polyline clip-path=\"url(#clip430)\" style=\"stroke:#e26f46; stroke-width:4; stroke-opacity:1; fill:none\" points=\"\n",
       "  1233.49,898.45 1325.57,898.45 \n",
       "  \"/>\n",
       "<path clip-path=\"url(#clip430)\" d=\"M 0 0 M1340.91 881.17 L1345.64 881.17 L1352.9 910.383 L1360.15 881.17 L1365.4 881.17 L1372.67 910.383 L1379.92 881.17 L1384.66 881.17 L1375.98 915.73 L1370.1 915.73 L1362.81 885.731 L1355.45 915.73 L1349.57 915.73 L1340.91 881.17 Z\" fill=\"#000000\" fill-rule=\"evenodd\" fill-opacity=\"1\" /><path clip-path=\"url(#clip430)\" d=\"M 0 0 M1399.36 879.758 Q1396.26 885.082 1394.76 890.291 Q1393.25 895.499 1393.25 900.846 Q1393.25 906.193 1394.76 911.448 Q1396.28 916.679 1399.36 921.98 L1395.66 921.98 Q1392.19 916.541 1390.45 911.286 Q1388.74 906.031 1388.74 900.846 Q1388.74 895.684 1390.45 890.453 Q1392.16 885.221 1395.66 879.758 L1399.36 879.758 Z\" fill=\"#000000\" fill-rule=\"evenodd\" fill-opacity=\"1\" /><path clip-path=\"url(#clip430)\" d=\"M 0 0 M1425.38 889.805 L1416.01 902.42 L1425.87 915.73 L1420.84 915.73 L1413.3 905.545 L1405.75 915.73 L1400.73 915.73 L1410.8 902.166 L1401.58 889.805 L1406.61 889.805 L1413.48 899.041 L1420.36 889.805 L1425.38 889.805 Z\" fill=\"#000000\" fill-rule=\"evenodd\" fill-opacity=\"1\" /><path clip-path=\"url(#clip430)\" d=\"M 0 0 M1429.66 879.758 L1433.37 879.758 Q1436.84 885.221 1438.55 890.453 Q1440.29 895.684 1440.29 900.846 Q1440.29 906.031 1438.55 911.286 Q1436.84 916.541 1433.37 921.98 L1429.66 921.98 Q1432.74 916.679 1434.25 911.448 Q1435.77 906.193 1435.77 900.846 Q1435.77 895.499 1434.25 890.291 Q1432.74 885.082 1429.66 879.758 Z\" fill=\"#000000\" fill-rule=\"evenodd\" fill-opacity=\"1\" /></svg>\n"
      ]
     },
     "execution_count": 24,
     "metadata": {},
     "output_type": "execute_result"
    }
   ],
   "source": [
    "plot(x, q[:,end], label = \"q(x, N)\")\n",
    "plot!(x, wx, label = \"W(x)\")\n",
    "\n",
    "plot!(legend = :bottomright, size = (400, 275))"
   ]
  },
  {
   "cell_type": "markdown",
   "metadata": {
    "hidden": true
   },
   "source": [
    "### Psuedo-Spectral Scheme - Sec. 3.6.2"
   ]
  },
  {
   "cell_type": "code",
   "execution_count": null,
   "metadata": {
    "hidden": true
   },
   "outputs": [],
   "source": [
    "N = 50\n",
    "b = 1/(sqrt(N/6))\n",
    "L = 10.0\n",
    "\n",
    "W(x, L) = 1 - 2*sech(3*(x - L/2)/2)^2\n",
    "\n",
    ";"
   ]
  },
  {
   "cell_type": "code",
   "execution_count": null,
   "metadata": {
    "hidden": true
   },
   "outputs": [],
   "source": [
    "Nx = 32\n",
    "Ns = 200\n",
    "\n",
    "dx = L/Nx\n",
    "ds = N/Ns\n",
    "\n",
    "x = collect(range(0; step = dx, length = Nx))\n",
    "wx = W.(x, L)\n",
    "\n",
    ";"
   ]
  },
  {
   "cell_type": "code",
   "execution_count": null,
   "metadata": {
    "hidden": true
   },
   "outputs": [],
   "source": [
    "q = zeros(Complex{Float64}, Nx, Ns)\n",
    "q[:,1] .= 1.0\n",
    "\n",
    "# Operators for solver\n",
    "LW = exp.(-(wx/N)*ds/2)\n",
    "\n",
    "LD = zeros(Nx)\n",
    "for idx = 0:Nx-1\n",
    "    jx = idx < Nx/2 ? idx : Nx-idx\n",
    "    LD[idx+1] = exp(-2*pi^2*b^2*ds*jx^2/(3*L^2))\n",
    "end\n",
    "\n",
    "for n = 1:Ns-1\n",
    "    qn13 = LW .* q[:,n]\n",
    "    an13 = fft(qn13)\n",
    "    hj = LD .* an13\n",
    "    qn23 = ifft(LD .* an13)\n",
    "    q[:,n+1] = LW .* qn23\n",
    "end\n",
    "\n",
    ";"
   ]
  },
  {
   "cell_type": "code",
   "execution_count": null,
   "metadata": {
    "hidden": true
   },
   "outputs": [],
   "source": [
    "Qw = sum(q[:, end]) / L\n",
    "rho = sum(q .* reverse(q, dims = 2), dims = 2) / L / Qw\n",
    "rho *= L / N\n",
    "\n",
    "\n",
    ";"
   ]
  },
  {
   "cell_type": "code",
   "execution_count": null,
   "metadata": {
    "hidden": true
   },
   "outputs": [],
   "source": [
    "plot(x, real(q[:,end]), label = \"q(x, N)\")\n",
    "plot!(x, real(rho), label = \"rho(x)\")\n",
    "plot!(x, wx, label = \"W(x)\")\n",
    "\n",
    "plot!(legend = :bottomright, size = (400, 275))"
   ]
  },
  {
   "cell_type": "markdown",
   "metadata": {
    "heading_collapsed": true,
    "hidden": true
   },
   "source": [
    "### Higher Dimensional Solver"
   ]
  },
  {
   "cell_type": "code",
   "execution_count": null,
   "metadata": {
    "hidden": true
   },
   "outputs": [],
   "source": [
    "N = 50\n",
    "b = 1/(sqrt(N/6))\n",
    "Lx = 20.0\n",
    "Ly = 20.0\n",
    "\n",
    "e1 = [Lx, 0.0]\n",
    "e2 = [0.0, Ly]\n",
    "\n",
    "#W(x, y, Lx, Ly) = cos(3*pi*x/Lx) * sin(4*pi*y/Ly)\n",
    "W(x, y, Lx, Ly) = (1 - 2*(sech(3(y - Ly/2)/2))^2) * (1 - 2*(sech(3(x - Lx/2)/2))^2)\n",
    "\n",
    ";"
   ]
  },
  {
   "cell_type": "code",
   "execution_count": null,
   "metadata": {
    "hidden": true
   },
   "outputs": [],
   "source": [
    "Nx = 64\n",
    "Ny = 64\n",
    "\n",
    "dx = Lx/Nx\n",
    "dy = Ly/Ny\n",
    "\n",
    "ds = 0.1\n",
    "Ns = trunc(Int, N/ds)\n",
    "\n",
    "x = collect(range(0; length = Nx, step = dx))\n",
    "y = collect(range(0; length = Ny, step = dy))\n",
    "\n",
    "wr = zeros(Nx, Ny)\n",
    "for i = 1:Nx\n",
    "    for j = 1:Ny\n",
    "        wr[i, j] = W(x[i], y[j], Lx, Ly)\n",
    "    end\n",
    "end\n",
    "\n",
    ";"
   ]
  },
  {
   "cell_type": "code",
   "execution_count": null,
   "metadata": {
    "hidden": true
   },
   "outputs": [],
   "source": [
    "q = zeros(Complex{Float64}, Nx, Ny, Ns)\n",
    "q[:, :, 1] .= 1.0\n",
    "\n",
    "# Operators for solver\n",
    "LW = zeros(Nx, Ny)\n",
    "LD = zeros(Nx, Ny)\n",
    "\n",
    "@. LW = exp(-(wr/N)*ds/2)\n",
    "\n",
    "for idx in CartesianIndices((1:Nx, 1:Ny))\n",
    "    jx = idx[1] <= Nx/2 ? idx[1] : Nx-idx[1]\n",
    "    jy = idx[2] <= Ny/2 ? idx[2] : Ny-idx[2]\n",
    "    \n",
    "    LD[idx] = exp(-2*pi^2*b^2*ds*jx^2/(3*Lx^2)) * exp(-2*pi^2*b^2*ds*jy^2/(3*Ly^2))\n",
    "end\n",
    "\n",
    "function mde_solve!(q, LW, LD)\n",
    "    Nx, Ny, Ns = size(q)\n",
    "    \n",
    "    FT = plan_fft(q[:, :, 1])\n",
    "    iFT = inv(FT)\n",
    "    qh =  zeros(Complex{Float64}, Nx, Ny)\n",
    "    \n",
    "    @views for n = 2:Ns\n",
    "        q[:, :, n] .= LW .* q[:, :, n-1]\n",
    "        mul!(qh, FT, q[:, :, n])\n",
    "        qh .*= LD\n",
    "        mul!(q[:, :, n], iFT, qh)\n",
    "        q[:, :, n] .*= LW\n",
    "    end \n",
    "end\n",
    "\n",
    "@time mde_solve!(q, LW, LD)"
   ]
  },
  {
   "cell_type": "code",
   "execution_count": null,
   "metadata": {
    "hidden": true
   },
   "outputs": [],
   "source": [
    "Qw = sum(q[:, :, end]) / Lx / Ly\n",
    "rho = dropdims(sum(q .* reverse(q, dims = 3), dims = 3), dims = 3) / Lx / Ly / Qw\n",
    "rho *= Lx * Ly / N\n",
    "\n",
    "\n",
    ";"
   ]
  },
  {
   "cell_type": "code",
   "execution_count": null,
   "metadata": {
    "hidden": true,
    "scrolled": false
   },
   "outputs": [],
   "source": [
    "plot(x, y, wr, st = :surface, color = :blues)\n",
    "plot!(x, y, real(q[:,:,end]), st = :surface, color = :reds)"
   ]
  },
  {
   "cell_type": "markdown",
   "metadata": {},
   "source": [
    "# SCFT Program"
   ]
  },
  {
   "cell_type": "code",
   "execution_count": 36,
   "metadata": {},
   "outputs": [],
   "source": [
    "dims = (64, 1, 1)\n",
    "cell = Cell1D(5)\n",
    "\n",
    ";"
   ]
  },
  {
   "cell_type": "code",
   "execution_count": 37,
   "metadata": {},
   "outputs": [],
   "source": [
    "amon = Monomer(; id = 1, vol = 1.0, charge = 1.0)\n",
    "bmon = Monomer(; id = 2, vol = 1.0, charge = 0.0)\n",
    "cmon = Monomer(; id = 3, vol = 2.0)\n",
    "\n",
    "sys = FieldSystem(dims, cell; monomers = [amon, bmon, cmon], ensemble = Canonical, mde = :RQM4)\n",
    "\n",
    "# Add species \n",
    "chain = Diblock(amon, bmon, 500, 0.5, 1.0, 1.0, 100)\n",
    "add_species!(sys, chain, 1.0)\n",
    "\n",
    "# Interactions\n",
    "fh = FloryInteraction()\n",
    "set_interaction!(fh, amon, bmon, 0.25)\n",
    "add_interaction!(sys, fh)\n",
    "\n",
    "# # Initializatione\n",
    "fieldinit!(sys, \"../examples/seeds/lam1d.json\")\n",
    "#fieldinit!(sys)\n",
    "\n",
    "# ;"
   ]
  },
  {
   "cell_type": "code",
   "execution_count": null,
   "metadata": {},
   "outputs": [],
   "source": []
  },
  {
   "cell_type": "code",
   "execution_count": null,
   "metadata": {},
   "outputs": [],
   "source": []
  },
  {
   "cell_type": "code",
   "execution_count": null,
   "metadata": {},
   "outputs": [],
   "source": []
  },
  {
   "cell_type": "code",
   "execution_count": null,
   "metadata": {},
   "outputs": [],
   "source": []
  },
  {
   "cell_type": "code",
   "execution_count": 145,
   "metadata": {
    "scrolled": true
   },
   "outputs": [
    {
     "name": "stdout",
     "output_type": "stream",
     "text": [
      "Step (0     /  2500): rerr = 8.236921e-03, fhelm = 5.33078e-02\n",
      "Step (100   /  2500): rerr = 4.115335e-03, fhelm = 5.32385e-02\n",
      "Step (200   /  2500): rerr = 1.894837e-03, fhelm = 5.31988e-02\n",
      "Step (300   /  2500): rerr = 8.749782e-04, fhelm = 5.31811e-02\n",
      "Step (400   /  2500): rerr = 4.049819e-04, fhelm = 5.31731e-02\n",
      "Step (500   /  2500): rerr = 1.880308e-04, fhelm = 5.31695e-02\n",
      "Step (600   /  2500): rerr = 8.773884e-05, fhelm = 5.31679e-02\n",
      "Step (700   /  2500): rerr = 4.127256e-05, fhelm = 5.31672e-02\n",
      "Step (800   /  2500): rerr = 1.966153e-05, fhelm = 5.31669e-02\n",
      "Converged @ step = 894: rerr = 9.960968e-06, fhelm = 5.31667e-02\n",
      "  0.211202 seconds (25.47 k allocations: 527.875 KiB)\n"
     ]
    },
    {
     "data": {
      "text/plain": [
       "PolyFields.SCFTResults\n",
       "  time: Float64 0.211163263\n",
       "  nsteps: Int64 894\n",
       "  converged: Bool true\n",
       "  rerr: Float64 9.960967822306453e-6\n",
       "  serr: Float64 0.0\n",
       "  fhelm: Float64 0.053166717805607\n"
      ]
     },
     "execution_count": 145,
     "metadata": {},
     "output_type": "execute_result"
    }
   ],
   "source": [
    "opts = SCFTOptions(nsteps = 2500, nsout = 100, rtol = 1e-5, stol = 1e-6)\n",
    "\n",
    "updater = MomentumUpdater(method = \"MOM\", gamma = 0.9, lam = 0.01, beta2 = 0.999)\n",
    "\n",
    "@time res = scft!(sys, updater; opts = opts)"
   ]
  },
  {
   "cell_type": "code",
   "execution_count": 146,
   "metadata": {
    "scrolled": false
   },
   "outputs": [
    {
     "data": {
      "image/svg+xml": [
       "<?xml version=\"1.0\" encoding=\"utf-8\"?>\n",
       "<svg xmlns=\"http://www.w3.org/2000/svg\" xmlns:xlink=\"http://www.w3.org/1999/xlink\" width=\"600\" height=\"400\" viewBox=\"0 0 2400 1600\">\n",
       "<defs>\n",
       "  <clipPath id=\"clip1200\">\n",
       "    <rect x=\"0\" y=\"0\" width=\"2400\" height=\"1600\"/>\n",
       "  </clipPath>\n",
       "</defs>\n",
       "<path clip-path=\"url(#clip1200)\" d=\"\n",
       "M0 1600 L2400 1600 L2400 0 L0 0  Z\n",
       "  \" fill=\"#ffffff\" fill-rule=\"evenodd\" fill-opacity=\"1\"/>\n",
       "<defs>\n",
       "  <clipPath id=\"clip1201\">\n",
       "    <rect x=\"480\" y=\"0\" width=\"1681\" height=\"1600\"/>\n",
       "  </clipPath>\n",
       "</defs>\n",
       "<path clip-path=\"url(#clip1200)\" d=\"\n",
       "M180.66 1487.47 L2352.76 1487.47 L2352.76 47.2441 L180.66 47.2441  Z\n",
       "  \" fill=\"#ffffff\" fill-rule=\"evenodd\" fill-opacity=\"1\"/>\n",
       "<defs>\n",
       "  <clipPath id=\"clip1202\">\n",
       "    <rect x=\"180\" y=\"47\" width=\"2173\" height=\"1441\"/>\n",
       "  </clipPath>\n",
       "</defs>\n",
       "<polyline clip-path=\"url(#clip1202)\" style=\"stroke:#000000; stroke-width:2; stroke-opacity:0.1; fill:none\" points=\"\n",
       "  209.609,1487.47 209.609,47.2441 \n",
       "  \"/>\n",
       "<polyline clip-path=\"url(#clip1202)\" style=\"stroke:#000000; stroke-width:2; stroke-opacity:0.1; fill:none\" points=\"\n",
       "  534.87,1487.47 534.87,47.2441 \n",
       "  \"/>\n",
       "<polyline clip-path=\"url(#clip1202)\" style=\"stroke:#000000; stroke-width:2; stroke-opacity:0.1; fill:none\" points=\"\n",
       "  860.131,1487.47 860.131,47.2441 \n",
       "  \"/>\n",
       "<polyline clip-path=\"url(#clip1202)\" style=\"stroke:#000000; stroke-width:2; stroke-opacity:0.1; fill:none\" points=\"\n",
       "  1185.39,1487.47 1185.39,47.2441 \n",
       "  \"/>\n",
       "<polyline clip-path=\"url(#clip1202)\" style=\"stroke:#000000; stroke-width:2; stroke-opacity:0.1; fill:none\" points=\"\n",
       "  1510.65,1487.47 1510.65,47.2441 \n",
       "  \"/>\n",
       "<polyline clip-path=\"url(#clip1202)\" style=\"stroke:#000000; stroke-width:2; stroke-opacity:0.1; fill:none\" points=\"\n",
       "  1835.92,1487.47 1835.92,47.2441 \n",
       "  \"/>\n",
       "<polyline clip-path=\"url(#clip1202)\" style=\"stroke:#000000; stroke-width:2; stroke-opacity:0.1; fill:none\" points=\"\n",
       "  2161.18,1487.47 2161.18,47.2441 \n",
       "  \"/>\n",
       "<polyline clip-path=\"url(#clip1202)\" style=\"stroke:#000000; stroke-width:2; stroke-opacity:0.1; fill:none\" points=\"\n",
       "  180.66,1283.4 2352.76,1283.4 \n",
       "  \"/>\n",
       "<polyline clip-path=\"url(#clip1202)\" style=\"stroke:#000000; stroke-width:2; stroke-opacity:0.1; fill:none\" points=\"\n",
       "  180.66,983.586 2352.76,983.586 \n",
       "  \"/>\n",
       "<polyline clip-path=\"url(#clip1202)\" style=\"stroke:#000000; stroke-width:2; stroke-opacity:0.1; fill:none\" points=\"\n",
       "  180.66,683.771 2352.76,683.771 \n",
       "  \"/>\n",
       "<polyline clip-path=\"url(#clip1202)\" style=\"stroke:#000000; stroke-width:2; stroke-opacity:0.1; fill:none\" points=\"\n",
       "  180.66,383.956 2352.76,383.956 \n",
       "  \"/>\n",
       "<polyline clip-path=\"url(#clip1202)\" style=\"stroke:#000000; stroke-width:2; stroke-opacity:0.1; fill:none\" points=\"\n",
       "  180.66,84.1413 2352.76,84.1413 \n",
       "  \"/>\n",
       "<polyline clip-path=\"url(#clip1200)\" style=\"stroke:#000000; stroke-width:4; stroke-opacity:1; fill:none\" points=\"\n",
       "  180.66,1487.47 2352.76,1487.47 \n",
       "  \"/>\n",
       "<polyline clip-path=\"url(#clip1200)\" style=\"stroke:#000000; stroke-width:4; stroke-opacity:1; fill:none\" points=\"\n",
       "  180.66,1487.47 180.66,47.2441 \n",
       "  \"/>\n",
       "<polyline clip-path=\"url(#clip1200)\" style=\"stroke:#000000; stroke-width:4; stroke-opacity:1; fill:none\" points=\"\n",
       "  209.609,1487.47 209.609,1465.87 \n",
       "  \"/>\n",
       "<polyline clip-path=\"url(#clip1200)\" style=\"stroke:#000000; stroke-width:4; stroke-opacity:1; fill:none\" points=\"\n",
       "  534.87,1487.47 534.87,1465.87 \n",
       "  \"/>\n",
       "<polyline clip-path=\"url(#clip1200)\" style=\"stroke:#000000; stroke-width:4; stroke-opacity:1; fill:none\" points=\"\n",
       "  860.131,1487.47 860.131,1465.87 \n",
       "  \"/>\n",
       "<polyline clip-path=\"url(#clip1200)\" style=\"stroke:#000000; stroke-width:4; stroke-opacity:1; fill:none\" points=\"\n",
       "  1185.39,1487.47 1185.39,1465.87 \n",
       "  \"/>\n",
       "<polyline clip-path=\"url(#clip1200)\" style=\"stroke:#000000; stroke-width:4; stroke-opacity:1; fill:none\" points=\"\n",
       "  1510.65,1487.47 1510.65,1465.87 \n",
       "  \"/>\n",
       "<polyline clip-path=\"url(#clip1200)\" style=\"stroke:#000000; stroke-width:4; stroke-opacity:1; fill:none\" points=\"\n",
       "  1835.92,1487.47 1835.92,1465.87 \n",
       "  \"/>\n",
       "<polyline clip-path=\"url(#clip1200)\" style=\"stroke:#000000; stroke-width:4; stroke-opacity:1; fill:none\" points=\"\n",
       "  2161.18,1487.47 2161.18,1465.87 \n",
       "  \"/>\n",
       "<polyline clip-path=\"url(#clip1200)\" style=\"stroke:#000000; stroke-width:4; stroke-opacity:1; fill:none\" points=\"\n",
       "  180.66,1283.4 213.242,1283.4 \n",
       "  \"/>\n",
       "<polyline clip-path=\"url(#clip1200)\" style=\"stroke:#000000; stroke-width:4; stroke-opacity:1; fill:none\" points=\"\n",
       "  180.66,983.586 213.242,983.586 \n",
       "  \"/>\n",
       "<polyline clip-path=\"url(#clip1200)\" style=\"stroke:#000000; stroke-width:4; stroke-opacity:1; fill:none\" points=\"\n",
       "  180.66,683.771 213.242,683.771 \n",
       "  \"/>\n",
       "<polyline clip-path=\"url(#clip1200)\" style=\"stroke:#000000; stroke-width:4; stroke-opacity:1; fill:none\" points=\"\n",
       "  180.66,383.956 213.242,383.956 \n",
       "  \"/>\n",
       "<polyline clip-path=\"url(#clip1200)\" style=\"stroke:#000000; stroke-width:4; stroke-opacity:1; fill:none\" points=\"\n",
       "  180.66,84.1413 213.242,84.1413 \n",
       "  \"/>\n",
       "<g clip-path=\"url(#clip1200)\">\n",
       "<text style=\"fill:#000000; fill-opacity:1; font-family:Arial,Helvetica Neue,Helvetica,sans-serif; font-size:48px; text-anchor:middle;\" transform=\"rotate(0, 209.609, 1541.47)\" x=\"209.609\" y=\"1541.47\">0</text>\n",
       "</g>\n",
       "<g clip-path=\"url(#clip1200)\">\n",
       "<text style=\"fill:#000000; fill-opacity:1; font-family:Arial,Helvetica Neue,Helvetica,sans-serif; font-size:48px; text-anchor:middle;\" transform=\"rotate(0, 534.87, 1541.47)\" x=\"534.87\" y=\"1541.47\">10</text>\n",
       "</g>\n",
       "<g clip-path=\"url(#clip1200)\">\n",
       "<text style=\"fill:#000000; fill-opacity:1; font-family:Arial,Helvetica Neue,Helvetica,sans-serif; font-size:48px; text-anchor:middle;\" transform=\"rotate(0, 860.131, 1541.47)\" x=\"860.131\" y=\"1541.47\">20</text>\n",
       "</g>\n",
       "<g clip-path=\"url(#clip1200)\">\n",
       "<text style=\"fill:#000000; fill-opacity:1; font-family:Arial,Helvetica Neue,Helvetica,sans-serif; font-size:48px; text-anchor:middle;\" transform=\"rotate(0, 1185.39, 1541.47)\" x=\"1185.39\" y=\"1541.47\">30</text>\n",
       "</g>\n",
       "<g clip-path=\"url(#clip1200)\">\n",
       "<text style=\"fill:#000000; fill-opacity:1; font-family:Arial,Helvetica Neue,Helvetica,sans-serif; font-size:48px; text-anchor:middle;\" transform=\"rotate(0, 1510.65, 1541.47)\" x=\"1510.65\" y=\"1541.47\">40</text>\n",
       "</g>\n",
       "<g clip-path=\"url(#clip1200)\">\n",
       "<text style=\"fill:#000000; fill-opacity:1; font-family:Arial,Helvetica Neue,Helvetica,sans-serif; font-size:48px; text-anchor:middle;\" transform=\"rotate(0, 1835.92, 1541.47)\" x=\"1835.92\" y=\"1541.47\">50</text>\n",
       "</g>\n",
       "<g clip-path=\"url(#clip1200)\">\n",
       "<text style=\"fill:#000000; fill-opacity:1; font-family:Arial,Helvetica Neue,Helvetica,sans-serif; font-size:48px; text-anchor:middle;\" transform=\"rotate(0, 2161.18, 1541.47)\" x=\"2161.18\" y=\"1541.47\">60</text>\n",
       "</g>\n",
       "<g clip-path=\"url(#clip1200)\">\n",
       "<text style=\"fill:#000000; fill-opacity:1; font-family:Arial,Helvetica Neue,Helvetica,sans-serif; font-size:48px; text-anchor:end;\" transform=\"rotate(0, 156.66, 1300.9)\" x=\"156.66\" y=\"1300.9\">0.00</text>\n",
       "</g>\n",
       "<g clip-path=\"url(#clip1200)\">\n",
       "<text style=\"fill:#000000; fill-opacity:1; font-family:Arial,Helvetica Neue,Helvetica,sans-serif; font-size:48px; text-anchor:end;\" transform=\"rotate(0, 156.66, 1001.09)\" x=\"156.66\" y=\"1001.09\">0.25</text>\n",
       "</g>\n",
       "<g clip-path=\"url(#clip1200)\">\n",
       "<text style=\"fill:#000000; fill-opacity:1; font-family:Arial,Helvetica Neue,Helvetica,sans-serif; font-size:48px; text-anchor:end;\" transform=\"rotate(0, 156.66, 701.271)\" x=\"156.66\" y=\"701.271\">0.50</text>\n",
       "</g>\n",
       "<g clip-path=\"url(#clip1200)\">\n",
       "<text style=\"fill:#000000; fill-opacity:1; font-family:Arial,Helvetica Neue,Helvetica,sans-serif; font-size:48px; text-anchor:end;\" transform=\"rotate(0, 156.66, 401.456)\" x=\"156.66\" y=\"401.456\">0.75</text>\n",
       "</g>\n",
       "<g clip-path=\"url(#clip1200)\">\n",
       "<text style=\"fill:#000000; fill-opacity:1; font-family:Arial,Helvetica Neue,Helvetica,sans-serif; font-size:48px; text-anchor:end;\" transform=\"rotate(0, 156.66, 101.641)\" x=\"156.66\" y=\"101.641\">1.00</text>\n",
       "</g>\n",
       "<polyline clip-path=\"url(#clip1202)\" style=\"stroke:#009af9; stroke-width:4; stroke-opacity:1; fill:none\" points=\"\n",
       "  242.135,1259.95 274.661,1250.57 307.187,1237.02 339.713,1216.95 372.239,1186.39 404.765,1138.77 437.292,1064.3 469.818,952.441 502.344,800.854 534.87,627.137 \n",
       "  567.396,464.54 599.922,338.072 632.448,251.443 664.975,195.589 697.501,159.92 730.027,136.712 762.553,121.186 795.079,110.532 827.605,103.085 860.131,97.8278 \n",
       "  892.658,94.1126 925.184,91.5165 957.71,89.7583 990.236,88.6534 1022.76,88.0883 1055.29,88.0053 1087.81,88.3961 1120.34,89.3003 1152.87,90.8106 1185.39,93.0842 \n",
       "  1217.92,96.3642 1250.45,101.017 1282.97,107.597 1315.5,116.968 1348.02,130.524 1380.55,150.594 1413.08,181.147 1445.6,228.774 1478.13,303.241 1510.65,415.099 \n",
       "  1543.18,566.691 1575.71,740.41 1608.23,903 1640.76,1029.47 1673.28,1116.1 1705.81,1171.95 1738.34,1207.62 1770.86,1230.83 1803.39,1246.36 1835.92,1257.01 \n",
       "  1868.44,1264.46 1900.97,1269.72 1933.49,1273.43 1966.02,1276.03 1998.55,1277.78 2031.07,1278.89 2063.6,1279.45 2096.12,1279.54 2128.65,1279.15 2161.18,1278.24 \n",
       "  2193.7,1276.73 2226.23,1274.46 2258.76,1271.18 2291.28,1266.53 \n",
       "  \"/>\n",
       "<polyline clip-path=\"url(#clip1202)\" style=\"stroke:#009af9; stroke-width:4; stroke-opacity:1; fill:none\" stroke-dasharray=\"16, 10\" points=\"\n",
       "  242.135,1119.13 274.661,1116.77 307.187,1117.26 339.713,1122.25 372.239,1134.46 404.765,1157.99 437.292,1197.54 469.818,1254.06 502.344,1316.85 534.87,1364.87 \n",
       "  567.396,1386.14 599.922,1388.66 632.448,1386.09 664.975,1385.32 697.501,1387.49 730.027,1391.93 762.553,1397.84 795.079,1404.66 827.605,1412 860.131,1419.51 \n",
       "  892.658,1426.87 925.184,1433.67 957.71,1439.48 990.236,1443.84 1022.76,1446.33 1055.29,1446.71 1087.81,1444.95 1120.34,1441.21 1152.87,1435.86 1185.39,1429.36 \n",
       "  1217.92,1422.15 1250.45,1414.65 1282.97,1407.21 1315.5,1400.17 1348.02,1393.88 1380.55,1388.84 1413.08,1385.77 1445.6,1385.48 1478.13,1387.81 1510.65,1388.4 \n",
       "  1543.18,1375.39 1575.71,1336.56 1608.23,1276.53 1640.76,1215.82 1673.28,1169.93 1705.81,1141.23 1738.34,1125.56 1770.86,1118.4 1803.39,1116.55 1835.92,1118.05 \n",
       "  1868.44,1121.65 1900.97,1126.54 1933.49,1132.04 1966.02,1137.55 1998.55,1142.48 2031.07,1146.28 2063.6,1148.49 2096.12,1148.83 2128.65,1147.26 2161.18,1143.98 \n",
       "  2193.7,1139.38 2226.23,1134.01 2258.76,1128.44 2291.28,1123.27 \n",
       "  \"/>\n",
       "<polyline clip-path=\"url(#clip1202)\" style=\"stroke:#e26f46; stroke-width:4; stroke-opacity:1; fill:none\" points=\"\n",
       "  242.135,107.597 274.661,116.968 307.187,130.524 339.713,150.594 372.239,181.147 404.765,228.774 437.292,303.241 469.818,415.099 502.344,566.691 534.87,740.41 \n",
       "  567.396,903 599.922,1029.47 632.448,1116.1 664.975,1171.95 697.501,1207.62 730.027,1230.83 762.553,1246.36 795.079,1257.01 827.605,1264.46 860.131,1269.72 \n",
       "  892.658,1273.43 925.184,1276.03 957.71,1277.78 990.236,1278.89 1022.76,1279.45 1055.29,1279.54 1087.81,1279.15 1120.34,1278.24 1152.87,1276.73 1185.39,1274.46 \n",
       "  1217.92,1271.18 1250.45,1266.53 1282.97,1259.95 1315.5,1250.57 1348.02,1237.02 1380.55,1216.95 1413.08,1186.39 1445.6,1138.77 1478.13,1064.3 1510.65,952.441 \n",
       "  1543.18,800.854 1575.71,627.136 1608.23,464.54 1640.76,338.072 1673.28,251.443 1705.81,195.589 1738.34,159.92 1770.86,136.712 1803.39,121.186 1835.92,110.532 \n",
       "  1868.44,103.085 1900.97,97.8278 1933.49,94.1126 1966.02,91.5165 1998.55,89.7583 2031.07,88.6534 2063.6,88.0883 2096.12,88.0053 2128.65,88.3961 2161.18,89.3003 \n",
       "  2193.7,90.8106 2226.23,93.0842 2258.76,96.3642 2291.28,101.017 \n",
       "  \"/>\n",
       "<polyline clip-path=\"url(#clip1202)\" style=\"stroke:#e26f46; stroke-width:4; stroke-opacity:1; fill:none\" stroke-dasharray=\"16, 10\" points=\"\n",
       "  242.135,1407.21 274.661,1400.17 307.187,1393.88 339.713,1388.84 372.239,1385.77 404.765,1385.48 437.292,1387.81 469.818,1388.4 502.344,1375.39 534.87,1336.56 \n",
       "  567.396,1276.53 599.922,1215.82 632.448,1169.93 664.975,1141.23 697.501,1125.56 730.027,1118.4 762.553,1116.55 795.079,1118.05 827.605,1121.65 860.131,1126.54 \n",
       "  892.658,1132.04 925.184,1137.55 957.71,1142.48 990.236,1146.28 1022.76,1148.49 1055.29,1148.83 1087.81,1147.26 1120.34,1143.98 1152.87,1139.38 1185.39,1134.01 \n",
       "  1217.92,1128.44 1250.45,1123.27 1282.97,1119.13 1315.5,1116.77 1348.02,1117.26 1380.55,1122.25 1413.08,1134.46 1445.6,1157.99 1478.13,1197.54 1510.65,1254.06 \n",
       "  1543.18,1316.85 1575.71,1364.87 1608.23,1386.14 1640.76,1388.66 1673.28,1386.09 1705.81,1385.32 1738.34,1387.49 1770.86,1391.93 1803.39,1397.84 1835.92,1404.66 \n",
       "  1868.44,1412 1900.97,1419.51 1933.49,1426.87 1966.02,1433.67 1998.55,1439.48 2031.07,1443.84 2063.6,1446.33 2096.12,1446.71 2128.65,1444.95 2161.18,1441.21 \n",
       "  2193.7,1435.86 2226.23,1429.36 2258.76,1422.15 2291.28,1414.65 \n",
       "  \"/>\n",
       "<path clip-path=\"url(#clip1200)\" d=\"\n",
       "M2008.65 312.204 L2280.76 312.204 L2280.76 130.764 L2008.65 130.764  Z\n",
       "  \" fill=\"#ffffff\" fill-rule=\"evenodd\" fill-opacity=\"1\"/>\n",
       "<polyline clip-path=\"url(#clip1200)\" style=\"stroke:#000000; stroke-width:4; stroke-opacity:1; fill:none\" points=\"\n",
       "  2008.65,312.204 2280.76,312.204 2280.76,130.764 2008.65,130.764 2008.65,312.204 \n",
       "  \"/>\n",
       "<polyline clip-path=\"url(#clip1200)\" style=\"stroke:#009af9; stroke-width:4; stroke-opacity:1; fill:none\" points=\"\n",
       "  2032.65,191.244 2176.65,191.244 \n",
       "  \"/>\n",
       "<g clip-path=\"url(#clip1200)\">\n",
       "<text style=\"fill:#000000; fill-opacity:1; font-family:Arial,Helvetica Neue,Helvetica,sans-serif; font-size:48px; text-anchor:start;\" transform=\"rotate(0, 2200.65, 208.744)\" x=\"2200.65\" y=\"208.744\">A</text>\n",
       "</g>\n",
       "<polyline clip-path=\"url(#clip1200)\" style=\"stroke:#e26f46; stroke-width:4; stroke-opacity:1; fill:none\" points=\"\n",
       "  2032.65,251.724 2176.65,251.724 \n",
       "  \"/>\n",
       "<g clip-path=\"url(#clip1200)\">\n",
       "<text style=\"fill:#000000; fill-opacity:1; font-family:Arial,Helvetica Neue,Helvetica,sans-serif; font-size:48px; text-anchor:start;\" transform=\"rotate(0, 2200.65, 269.224)\" x=\"2200.65\" y=\"269.224\">B</text>\n",
       "</g>\n",
       "</svg>\n"
      ]
     },
     "execution_count": 146,
     "metadata": {},
     "output_type": "execute_result"
    }
   ],
   "source": [
    "plot(sys.density[1][:,1,1], label = \"A\")\n",
    "plot!(sys.fields[1][:,1,1], primary = false, ls = :dash)\n",
    "\n",
    "plot!(sys.density[2][:,1,1], label = \"B\")\n",
    "plot!(sys.fields[2][:,1,1], primary = false, ls = :dash)\n",
    "\n",
    "# plot!(sys.density[3][:,1,1], label = \"C\")\n",
    "# plot!(sys.fields[3][:,1,1], primary = false, ls = :dash)"
   ]
  },
  {
   "cell_type": "code",
   "execution_count": 78,
   "metadata": {},
   "outputs": [
    {
     "data": {
      "text/plain": [
       "(0.05316658720043248, 0.115)"
      ]
     },
     "execution_count": 78,
     "metadata": {},
     "output_type": "execute_result"
    }
   ],
   "source": [
    "free_energy(sys), free_energy_bulk(sys)"
   ]
  },
  {
   "cell_type": "code",
   "execution_count": 79,
   "metadata": {},
   "outputs": [
    {
     "data": {
      "text/plain": [
       "64×1×1 Array{Float64,3}:\n",
       "[:, :, 1] =\n",
       " 1.0000003041648937\n",
       " 1.000000408038523 \n",
       " 1.0000003125453962\n",
       " 1.0000003867562524\n",
       " 1.0000002623179027\n",
       " 1.0000002131263355\n",
       " 0.9999999276735402\n",
       " 0.9999998160742647\n",
       " 0.9999998367235798\n",
       " 1.0000002207774035\n",
       " 1.0000002686740124\n",
       " 1.0000001454964178\n",
       " 0.9999998186721287\n",
       " ⋮                 \n",
       " 1.0000001173177606\n",
       " 1.00000024334035  \n",
       " 1.000000185792256 \n",
       " 1.0000000146483834\n",
       " 1.0000000183211364\n",
       " 1.000000014975156 \n",
       " 1.0000001677648611\n",
       " 1.0000001599139   \n",
       " 1.0000000915134266\n",
       " 1.0000003562815147\n",
       " 1.000000276236884 \n",
       " 1.0000004149100212"
      ]
     },
     "execution_count": 79,
     "metadata": {},
     "output_type": "execute_result"
    }
   ],
   "source": [
    "sys.density_sum"
   ]
  },
  {
   "cell_type": "markdown",
   "metadata": {},
   "source": [
    "## Plotting"
   ]
  },
  {
   "cell_type": "code",
   "execution_count": null,
   "metadata": {},
   "outputs": [],
   "source": [
    "x = 10.0 * sys.fields[2]\n",
    "\n",
    "plot = volume(x, algorithm = :mip)\n",
    "cm = colorlegend(\n",
    "     plot[end],             # access the plot of Scene p1\n",
    "     raw = true,          # without axes or grid\n",
    "     camera = campixel!,  # gives a concrete bounding box in pixels\n",
    "                          # so that the `vbox` gives you the right size\n",
    "     width = (            # make the colorlegend longer so it looks nicer\n",
    "         30,              # the width\n",
    "         500              # the height\n",
    "     )\n",
    ")\n",
    "\n",
    "scene_final = vbox(plot, cm) # put the colorlegend and the plot together in a `vbox`"
   ]
  },
  {
   "cell_type": "code",
   "execution_count": null,
   "metadata": {},
   "outputs": [],
   "source": []
  }
 ],
 "metadata": {
  "kernelspec": {
   "display_name": "Julia 1.5.2",
   "language": "julia",
   "name": "julia-1.5"
  },
  "language_info": {
   "file_extension": ".jl",
   "mimetype": "application/julia",
   "name": "julia",
   "version": "1.5.2"
  },
  "toc": {
   "base_numbering": 1,
   "nav_menu": {},
   "number_sections": true,
   "sideBar": true,
   "skip_h1_title": false,
   "title_cell": "Table of Contents",
   "title_sidebar": "Contents",
   "toc_cell": false,
   "toc_position": {},
   "toc_section_display": true,
   "toc_window_display": false
  }
 },
 "nbformat": 4,
 "nbformat_minor": 2
}
