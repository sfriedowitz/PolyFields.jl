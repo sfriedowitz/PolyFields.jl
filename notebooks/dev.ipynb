{
 "cells": [
  {
   "cell_type": "markdown",
   "metadata": {},
   "source": [
    "# Imports"
   ]
  },
  {
   "cell_type": "code",
   "execution_count": 1,
   "metadata": {},
   "outputs": [
    {
     "data": {
      "text/plain": [
       "\"/Users/sfriedowitz/Documents/code/development/julia/PolyFields.jl/Project.toml\""
      ]
     },
     "execution_count": 1,
     "metadata": {},
     "output_type": "execute_result"
    }
   ],
   "source": [
    "import Pkg\n",
    "Pkg.activate(\".\")"
   ]
  },
  {
   "cell_type": "code",
   "execution_count": 2,
   "metadata": {},
   "outputs": [],
   "source": [
    "using FFTW\n",
    "using LinearAlgebra\n",
    "\n",
    "using StaticArrays\n",
    "using Random\n",
    "using Statistics\n",
    "using LineSearches"
   ]
  },
  {
   "cell_type": "code",
   "execution_count": 3,
   "metadata": {},
   "outputs": [],
   "source": [
    "using Plots\n",
    "using BenchmarkTools\n",
    "\n",
    "using Revise"
   ]
  },
  {
   "cell_type": "code",
   "execution_count": 4,
   "metadata": {},
   "outputs": [
    {
     "name": "stderr",
     "output_type": "stream",
     "text": [
      "┌ Info: Recompiling stale cache file /Users/sfriedowitz/.julia/compiled/v1.1/PolyFields/i8RjU.ji for PolyFields [537b8fae-343b-4751-aed0-0d38a89c053e]\n",
      "└ @ Base loading.jl:1184\n"
     ]
    }
   ],
   "source": [
    "pkg_dir = joinpath(@__DIR__, \"src\")\n",
    "\n",
    "if !(pkg_dir in LOAD_PATH)\n",
    "    push!(LOAD_PATH, pkg_dir)\n",
    "end\n",
    "\n",
    "using PolyFields"
   ]
  },
  {
   "cell_type": "markdown",
   "metadata": {
    "heading_collapsed": true
   },
   "source": [
    "# Training Examples"
   ]
  },
  {
   "cell_type": "markdown",
   "metadata": {
    "heading_collapsed": true,
    "hidden": true
   },
   "source": [
    "## MDE Solutions"
   ]
  },
  {
   "cell_type": "markdown",
   "metadata": {
    "heading_collapsed": true,
    "hidden": true
   },
   "source": [
    "### Finite Difference Toy Model - Sec 3.6.1"
   ]
  },
  {
   "cell_type": "code",
   "execution_count": null,
   "metadata": {
    "hidden": true
   },
   "outputs": [],
   "source": [
    "N = 200\n",
    "b = 1/(sqrt(N/6))\n",
    "L = 10.0\n",
    "\n",
    "W(x, L) = 1 - 2*sech(3*(x - L/2)/2)^2\n",
    "\n",
    ";"
   ]
  },
  {
   "cell_type": "code",
   "execution_count": null,
   "metadata": {
    "hidden": true
   },
   "outputs": [],
   "source": [
    "Nx = 32\n",
    "Ns = 200\n",
    "\n",
    "dx = L/(Nx-1)\n",
    "ds = N/(Ns-1)\n",
    "\n",
    "x = collect(range(0, L, step = dx))\n",
    "s = collect(range(0, N, step = ds))\n",
    "wx = W.(x, L)\n",
    "\n",
    ";"
   ]
  },
  {
   "cell_type": "code",
   "execution_count": null,
   "metadata": {
    "hidden": true
   },
   "outputs": [],
   "source": [
    "q = ones(Nx, Ns)\n",
    "q[:,1] .= 1.0\n",
    "\n",
    "tol = 1e-6\n",
    "max_steps = 300\n",
    "\n",
    "norm_prev = norm(q)\n",
    "norm_curr = 0.0\n",
    "\n",
    "step = 1\n",
    "while step <= max_steps\n",
    "    step += 1\n",
    "    norm_prev = norm(q)\n",
    "    \n",
    "    if step % 25 == 0\n",
    "        println(\"Calculating for step $(step).\")\n",
    "    end\n",
    "    \n",
    "    # Finite diff the propagator matrix\n",
    "    for j in 1:Nx\n",
    "        for n in 1:Ns-1\n",
    "            # PBC in spatial dimension\n",
    "            jp1 = mod1(j+1, Nx)\n",
    "            jm1 = mod1(j-1, Nx)\n",
    "\n",
    "            rhs = (b^2/6)*((q[jp1, n] - 2*q[j,n] + q[jm1,n])/(dx^2)) - q[j,n]*wx[j]/N\n",
    "            q[j,n+1] = q[j,n] + ds*rhs\n",
    "        end\n",
    "    end\n",
    "    \n",
    "    norm_curr = norm(q)\n",
    "    if abs(norm_prev - norm_curr) < tol\n",
    "        print(\"Tolerance reached at step $(step) -- breaking.\")\n",
    "        break\n",
    "    end\n",
    "end  "
   ]
  },
  {
   "cell_type": "code",
   "execution_count": null,
   "metadata": {
    "hidden": true
   },
   "outputs": [],
   "source": [
    "plot(x, q[:,end], label = \"W(x)\")\n",
    "plot!(x, wx, label = \"q(x, N)\")\n",
    "\n",
    "plot!(legend = :bottomright, size = (400, 275))"
   ]
  },
  {
   "cell_type": "markdown",
   "metadata": {
    "heading_collapsed": true,
    "hidden": true
   },
   "source": [
    "### Crank-Nicolson Scheme - Sec 3.6.1"
   ]
  },
  {
   "cell_type": "code",
   "execution_count": null,
   "metadata": {
    "hidden": true
   },
   "outputs": [],
   "source": [
    "N = 50\n",
    "b = 1.0/(sqrt(N/6))\n",
    "L = 10.0\n",
    "\n",
    "W(x, L) = 1 - 2*sech(3*(x - L/2)/2)^2\n",
    "\n",
    ";"
   ]
  },
  {
   "cell_type": "code",
   "execution_count": null,
   "metadata": {
    "hidden": true
   },
   "outputs": [],
   "source": [
    "Nx = 128\n",
    "Ns = 200\n",
    "\n",
    "dx = L/(Nx-1)\n",
    "ds = N/(Ns-1)\n",
    "\n",
    "x = collect(range(0, L, step = dx))\n",
    "s = collect(range(0, N, step = ds))\n",
    "wx = W.(x, L)\n",
    "\n",
    ";"
   ]
  },
  {
   "cell_type": "code",
   "execution_count": null,
   "metadata": {
    "hidden": true
   },
   "outputs": [],
   "source": [
    "q = zeros(Nx, Ns)\n",
    "q[:,1] .= 1.0\n",
    "\n",
    "# Operators for solver\n",
    "WX = diagm(0 => wx/N)\n",
    "\n",
    "# Init T w/ PBC\n",
    "T = zeros(Nx, Nx)\n",
    "for j in 1:Nx\n",
    "    jp1 = mod1(j+1, Nx)\n",
    "    jm1 = mod1(j-1, Nx)\n",
    "    \n",
    "    T[j,j] = -2.0\n",
    "    T[j,jp1] = 1.0\n",
    "    T[j,jm1] = 1.0\n",
    "end\n",
    "\n",
    "# Matrix operators for solver\n",
    "TW = (I - (ds/2)*WX + (b^2*ds)/(12*dx^2)*T)\n",
    "TWM = (I + (ds/2)*WX - (b^2*ds)/(12*dx^2)*T)\n",
    "\n",
    "# Matrix solve for each chain discretization\n",
    "for n in 1:Ns-1\n",
    "    q[:,n+1] = TWM \\ TW * q[:,n]\n",
    "end"
   ]
  },
  {
   "cell_type": "code",
   "execution_count": null,
   "metadata": {
    "hidden": true
   },
   "outputs": [],
   "source": [
    "plot(x, q[:,end], label = \"q(x, N)\")\n",
    "plot!(x, wx, label = \"W(x)\")\n",
    "\n",
    "plot!(legend = :bottomright, size = (400, 275))"
   ]
  },
  {
   "cell_type": "markdown",
   "metadata": {
    "heading_collapsed": true,
    "hidden": true
   },
   "source": [
    "### Psuedo-Spectral Scheme - Sec. 3.6.2"
   ]
  },
  {
   "cell_type": "code",
   "execution_count": null,
   "metadata": {
    "hidden": true
   },
   "outputs": [],
   "source": [
    "N = 50\n",
    "b = 1/(sqrt(N/6))\n",
    "L = 10.0\n",
    "\n",
    "W(x, L) = 1 - 2*sech(3*(x - L/2)/2)^2\n",
    "\n",
    ";"
   ]
  },
  {
   "cell_type": "code",
   "execution_count": null,
   "metadata": {
    "hidden": true
   },
   "outputs": [],
   "source": [
    "Nx = 32\n",
    "Ns = 200\n",
    "\n",
    "dx = L/Nx\n",
    "ds = N/Ns\n",
    "\n",
    "x = collect(range(0; step = dx, length = Nx))\n",
    "wx = W.(x, L)\n",
    "\n",
    ";"
   ]
  },
  {
   "cell_type": "code",
   "execution_count": null,
   "metadata": {
    "hidden": true
   },
   "outputs": [],
   "source": [
    "q = zeros(Complex{Float64}, Nx, Ns)\n",
    "q[:,1] .= 1.0\n",
    "\n",
    "# Operators for solver\n",
    "LW = exp.(-(wx/N)*ds/2)\n",
    "\n",
    "LD = zeros(Nx)\n",
    "for idx = 0:Nx-1\n",
    "    jx = idx < Nx/2 ? idx : Nx-idx\n",
    "    LD[idx+1] = exp(-2*pi^2*b^2*ds*jx^2/(3*L^2))\n",
    "end\n",
    "\n",
    "for n = 1:Ns-1\n",
    "    qn13 = LW .* q[:,n]\n",
    "    an13 = fft(qn13)\n",
    "    hj = LD .* an13\n",
    "    qn23 = ifft(LD .* an13)\n",
    "    q[:,n+1] = LW .* qn23\n",
    "end\n",
    "\n",
    ";"
   ]
  },
  {
   "cell_type": "code",
   "execution_count": null,
   "metadata": {
    "hidden": true
   },
   "outputs": [],
   "source": [
    "Qw = sum(q[:, end]) / L\n",
    "rho = sum(q .* reverse(q, dims = 2), dims = 2) / L / Qw\n",
    "rho *= L / N\n",
    "\n",
    "\n",
    ";"
   ]
  },
  {
   "cell_type": "code",
   "execution_count": null,
   "metadata": {
    "hidden": true
   },
   "outputs": [],
   "source": [
    "plot(x, real(q[:,end]), label = \"q(x, N)\")\n",
    "plot!(x, real(rho), label = \"rho(x)\")\n",
    "plot!(x, wx, label = \"W(x)\")\n",
    "\n",
    "plot!(legend = :bottomright, size = (400, 275))"
   ]
  },
  {
   "cell_type": "markdown",
   "metadata": {
    "heading_collapsed": true,
    "hidden": true
   },
   "source": [
    "### Higher Dimensional Solver"
   ]
  },
  {
   "cell_type": "code",
   "execution_count": null,
   "metadata": {
    "hidden": true
   },
   "outputs": [],
   "source": [
    "N = 50\n",
    "b = 1/(sqrt(N/6))\n",
    "Lx = 20.0\n",
    "Ly = 20.0\n",
    "\n",
    "e1 = [Lx, 0.0]\n",
    "e2 = [0.0, Ly]\n",
    "\n",
    "#W(x, y, Lx, Ly) = cos(3*pi*x/Lx) * sin(4*pi*y/Ly)\n",
    "W(x, y, Lx, Ly) = (1 - 2*(sech(3(y - Ly/2)/2))^2) * (1 - 2*(sech(3(x - Lx/2)/2))^2)\n",
    "\n",
    ";"
   ]
  },
  {
   "cell_type": "code",
   "execution_count": null,
   "metadata": {
    "hidden": true
   },
   "outputs": [],
   "source": [
    "Nx = 64\n",
    "Ny = 64\n",
    "\n",
    "dx = Lx/Nx\n",
    "dy = Ly/Ny\n",
    "\n",
    "ds = 0.1\n",
    "Ns = trunc(Int, N/ds)\n",
    "\n",
    "x = collect(range(0; length = Nx, step = dx))\n",
    "y = collect(range(0; length = Ny, step = dy))\n",
    "\n",
    "wr = zeros(Nx, Ny)\n",
    "for i = 1:Nx\n",
    "    for j = 1:Ny\n",
    "        wr[i, j] = W(x[i], y[j], Lx, Ly)\n",
    "    end\n",
    "end\n",
    "\n",
    ";"
   ]
  },
  {
   "cell_type": "code",
   "execution_count": null,
   "metadata": {
    "hidden": true
   },
   "outputs": [],
   "source": [
    "q = zeros(Complex{Float64}, Nx, Ny, Ns)\n",
    "q[:, :, 1] .= 1.0\n",
    "\n",
    "# Operators for solver\n",
    "LW = zeros(Nx, Ny)\n",
    "LD = zeros(Nx, Ny)\n",
    "\n",
    "@. LW = exp(-(wr/N)*ds/2)\n",
    "\n",
    "for idx in CartesianIndices((1:Nx, 1:Ny))\n",
    "    jx = idx[1] <= Nx/2 ? idx[1] : Nx-idx[1]\n",
    "    jy = idx[2] <= Ny/2 ? idx[2] : Ny-idx[2]\n",
    "    \n",
    "    LD[idx] = exp(-2*pi^2*b^2*ds*jx^2/(3*Lx^2)) * exp(-2*pi^2*b^2*ds*jy^2/(3*Ly^2))\n",
    "end\n",
    "\n",
    "function mde_solve!(q, LW, LD)\n",
    "    Nx, Ny, Ns = size(q)\n",
    "    \n",
    "    FT = plan_fft(q[:, :, 1])\n",
    "    iFT = inv(FT)\n",
    "    qh =  zeros(Complex{Float64}, Nx, Ny)\n",
    "    \n",
    "    @views for n = 2:Ns\n",
    "        q[:, :, n] .= LW .* q[:, :, n-1]\n",
    "        mul!(qh, FT, q[:, :, n])\n",
    "        qh .*= LD\n",
    "        mul!(q[:, :, n], iFT, qh)\n",
    "        q[:, :, n] .*= LW\n",
    "    end \n",
    "end\n",
    "\n",
    "@time mde_solve!(q, LW, LD)"
   ]
  },
  {
   "cell_type": "code",
   "execution_count": null,
   "metadata": {
    "hidden": true
   },
   "outputs": [],
   "source": [
    "Qw = sum(q[:, :, end]) / Lx / Ly\n",
    "rho = dropdims(sum(q .* reverse(q, dims = 3), dims = 3), dims = 3) / Lx / Ly / Qw\n",
    "rho *= Lx * Ly / N\n",
    "\n",
    "\n",
    ";"
   ]
  },
  {
   "cell_type": "code",
   "execution_count": null,
   "metadata": {
    "hidden": true,
    "scrolled": false
   },
   "outputs": [],
   "source": [
    "plot(x, y, wr, st = :surface, color = :blues)\n",
    "plot!(x, y, real(q[:,:,end]), st = :surface, color = :reds)"
   ]
  },
  {
   "cell_type": "markdown",
   "metadata": {},
   "source": [
    "# SCFT Program"
   ]
  },
  {
   "cell_type": "code",
   "execution_count": 5,
   "metadata": {},
   "outputs": [],
   "source": [
    "npw = (64, 1, 1)\n",
    "cell = Cell1D(25)\n",
    "\n",
    ";"
   ]
  },
  {
   "cell_type": "code",
   "execution_count": 140,
   "metadata": {},
   "outputs": [],
   "source": [
    "amon = Monomer(; id = 1, size = 1.0, charge = 1.0)\n",
    "bmon = Monomer(; id = 2, size = 1.0, charge = -1.0)\n",
    "cmon = Monomer(; id = 3, size = 2.0)\n",
    "\n",
    "sys = FieldSystem(npw, cell; \n",
    "    monomers = [amon, bmon], \n",
    "    mde = \"RQM4\", \n",
    "    comp = Compressibility(inv_zeta = 0.0),\n",
    "    ensemble = Canonical\n",
    ")\n",
    "\n",
    "# Add species \n",
    "chain = Diblock(amon, bmon, 100, 0.5, 1.0, 1.0, 100)\n",
    "add_species!(sys, chain, 1.0)\n",
    "\n",
    "# Interactions\n",
    "fh = FloryInteraction()\n",
    "set_interaction!(fh, amon, bmon, 0.25)\n",
    "add_interaction!(sys, fh)\n",
    "\n",
    "# Initializatione\n",
    "init_fields!(sys, \"examples/seeds/lam1d.dat\")\n",
    "\n",
    ";"
   ]
  },
  {
   "cell_type": "code",
   "execution_count": 145,
   "metadata": {
    "scrolled": true
   },
   "outputs": [
    {
     "name": "stdout",
     "output_type": "stream",
     "text": [
      "Step (0     /  2500): rerr = 8.236921e-03, fhelm = 5.33078e-02\n",
      "Step (100   /  2500): rerr = 4.115335e-03, fhelm = 5.32385e-02\n",
      "Step (200   /  2500): rerr = 1.894837e-03, fhelm = 5.31988e-02\n",
      "Step (300   /  2500): rerr = 8.749782e-04, fhelm = 5.31811e-02\n",
      "Step (400   /  2500): rerr = 4.049819e-04, fhelm = 5.31731e-02\n",
      "Step (500   /  2500): rerr = 1.880308e-04, fhelm = 5.31695e-02\n",
      "Step (600   /  2500): rerr = 8.773884e-05, fhelm = 5.31679e-02\n",
      "Step (700   /  2500): rerr = 4.127256e-05, fhelm = 5.31672e-02\n",
      "Step (800   /  2500): rerr = 1.966153e-05, fhelm = 5.31669e-02\n",
      "Converged @ step = 894: rerr = 9.960968e-06, fhelm = 5.31667e-02\n",
      "  0.211202 seconds (25.47 k allocations: 527.875 KiB)\n"
     ]
    },
    {
     "data": {
      "text/plain": [
       "PolyFields.SCFTResults\n",
       "  time: Float64 0.211163263\n",
       "  nsteps: Int64 894\n",
       "  converged: Bool true\n",
       "  rerr: Float64 9.960967822306453e-6\n",
       "  serr: Float64 0.0\n",
       "  fhelm: Float64 0.053166717805607\n"
      ]
     },
     "execution_count": 145,
     "metadata": {},
     "output_type": "execute_result"
    }
   ],
   "source": [
    "opts = SCFTOptions(nsteps = 2500, nsout = 100, rtol = 1e-5, stol = 1e-6)\n",
    "\n",
    "updater = MomentumUpdater(method = \"MOM\", gamma = 0.9, lam = 0.01, beta2 = 0.999)\n",
    "\n",
    "@time res = scft!(sys, updater; opts = opts)"
   ]
  },
  {
   "cell_type": "code",
   "execution_count": 146,
   "metadata": {
    "scrolled": false
   },
   "outputs": [
    {
     "data": {
      "image/svg+xml": [
       "<?xml version=\"1.0\" encoding=\"utf-8\"?>\n",
       "<svg xmlns=\"http://www.w3.org/2000/svg\" xmlns:xlink=\"http://www.w3.org/1999/xlink\" width=\"600\" height=\"400\" viewBox=\"0 0 2400 1600\">\n",
       "<defs>\n",
       "  <clipPath id=\"clip1200\">\n",
       "    <rect x=\"0\" y=\"0\" width=\"2400\" height=\"1600\"/>\n",
       "  </clipPath>\n",
       "</defs>\n",
       "<path clip-path=\"url(#clip1200)\" d=\"\n",
       "M0 1600 L2400 1600 L2400 0 L0 0  Z\n",
       "  \" fill=\"#ffffff\" fill-rule=\"evenodd\" fill-opacity=\"1\"/>\n",
       "<defs>\n",
       "  <clipPath id=\"clip1201\">\n",
       "    <rect x=\"480\" y=\"0\" width=\"1681\" height=\"1600\"/>\n",
       "  </clipPath>\n",
       "</defs>\n",
       "<path clip-path=\"url(#clip1200)\" d=\"\n",
       "M180.66 1487.47 L2352.76 1487.47 L2352.76 47.2441 L180.66 47.2441  Z\n",
       "  \" fill=\"#ffffff\" fill-rule=\"evenodd\" fill-opacity=\"1\"/>\n",
       "<defs>\n",
       "  <clipPath id=\"clip1202\">\n",
       "    <rect x=\"180\" y=\"47\" width=\"2173\" height=\"1441\"/>\n",
       "  </clipPath>\n",
       "</defs>\n",
       "<polyline clip-path=\"url(#clip1202)\" style=\"stroke:#000000; stroke-width:2; stroke-opacity:0.1; fill:none\" points=\"\n",
       "  209.609,1487.47 209.609,47.2441 \n",
       "  \"/>\n",
       "<polyline clip-path=\"url(#clip1202)\" style=\"stroke:#000000; stroke-width:2; stroke-opacity:0.1; fill:none\" points=\"\n",
       "  534.87,1487.47 534.87,47.2441 \n",
       "  \"/>\n",
       "<polyline clip-path=\"url(#clip1202)\" style=\"stroke:#000000; stroke-width:2; stroke-opacity:0.1; fill:none\" points=\"\n",
       "  860.131,1487.47 860.131,47.2441 \n",
       "  \"/>\n",
       "<polyline clip-path=\"url(#clip1202)\" style=\"stroke:#000000; stroke-width:2; stroke-opacity:0.1; fill:none\" points=\"\n",
       "  1185.39,1487.47 1185.39,47.2441 \n",
       "  \"/>\n",
       "<polyline clip-path=\"url(#clip1202)\" style=\"stroke:#000000; stroke-width:2; stroke-opacity:0.1; fill:none\" points=\"\n",
       "  1510.65,1487.47 1510.65,47.2441 \n",
       "  \"/>\n",
       "<polyline clip-path=\"url(#clip1202)\" style=\"stroke:#000000; stroke-width:2; stroke-opacity:0.1; fill:none\" points=\"\n",
       "  1835.92,1487.47 1835.92,47.2441 \n",
       "  \"/>\n",
       "<polyline clip-path=\"url(#clip1202)\" style=\"stroke:#000000; stroke-width:2; stroke-opacity:0.1; fill:none\" points=\"\n",
       "  2161.18,1487.47 2161.18,47.2441 \n",
       "  \"/>\n",
       "<polyline clip-path=\"url(#clip1202)\" style=\"stroke:#000000; stroke-width:2; stroke-opacity:0.1; fill:none\" points=\"\n",
       "  180.66,1283.4 2352.76,1283.4 \n",
       "  \"/>\n",
       "<polyline clip-path=\"url(#clip1202)\" style=\"stroke:#000000; stroke-width:2; stroke-opacity:0.1; fill:none\" points=\"\n",
       "  180.66,983.586 2352.76,983.586 \n",
       "  \"/>\n",
       "<polyline clip-path=\"url(#clip1202)\" style=\"stroke:#000000; stroke-width:2; stroke-opacity:0.1; fill:none\" points=\"\n",
       "  180.66,683.771 2352.76,683.771 \n",
       "  \"/>\n",
       "<polyline clip-path=\"url(#clip1202)\" style=\"stroke:#000000; stroke-width:2; stroke-opacity:0.1; fill:none\" points=\"\n",
       "  180.66,383.956 2352.76,383.956 \n",
       "  \"/>\n",
       "<polyline clip-path=\"url(#clip1202)\" style=\"stroke:#000000; stroke-width:2; stroke-opacity:0.1; fill:none\" points=\"\n",
       "  180.66,84.1413 2352.76,84.1413 \n",
       "  \"/>\n",
       "<polyline clip-path=\"url(#clip1200)\" style=\"stroke:#000000; stroke-width:4; stroke-opacity:1; fill:none\" points=\"\n",
       "  180.66,1487.47 2352.76,1487.47 \n",
       "  \"/>\n",
       "<polyline clip-path=\"url(#clip1200)\" style=\"stroke:#000000; stroke-width:4; stroke-opacity:1; fill:none\" points=\"\n",
       "  180.66,1487.47 180.66,47.2441 \n",
       "  \"/>\n",
       "<polyline clip-path=\"url(#clip1200)\" style=\"stroke:#000000; stroke-width:4; stroke-opacity:1; fill:none\" points=\"\n",
       "  209.609,1487.47 209.609,1465.87 \n",
       "  \"/>\n",
       "<polyline clip-path=\"url(#clip1200)\" style=\"stroke:#000000; stroke-width:4; stroke-opacity:1; fill:none\" points=\"\n",
       "  534.87,1487.47 534.87,1465.87 \n",
       "  \"/>\n",
       "<polyline clip-path=\"url(#clip1200)\" style=\"stroke:#000000; stroke-width:4; stroke-opacity:1; fill:none\" points=\"\n",
       "  860.131,1487.47 860.131,1465.87 \n",
       "  \"/>\n",
       "<polyline clip-path=\"url(#clip1200)\" style=\"stroke:#000000; stroke-width:4; stroke-opacity:1; fill:none\" points=\"\n",
       "  1185.39,1487.47 1185.39,1465.87 \n",
       "  \"/>\n",
       "<polyline clip-path=\"url(#clip1200)\" style=\"stroke:#000000; stroke-width:4; stroke-opacity:1; fill:none\" points=\"\n",
       "  1510.65,1487.47 1510.65,1465.87 \n",
       "  \"/>\n",
       "<polyline clip-path=\"url(#clip1200)\" style=\"stroke:#000000; stroke-width:4; stroke-opacity:1; fill:none\" points=\"\n",
       "  1835.92,1487.47 1835.92,1465.87 \n",
       "  \"/>\n",
       "<polyline clip-path=\"url(#clip1200)\" style=\"stroke:#000000; stroke-width:4; stroke-opacity:1; fill:none\" points=\"\n",
       "  2161.18,1487.47 2161.18,1465.87 \n",
       "  \"/>\n",
       "<polyline clip-path=\"url(#clip1200)\" style=\"stroke:#000000; stroke-width:4; stroke-opacity:1; fill:none\" points=\"\n",
       "  180.66,1283.4 213.242,1283.4 \n",
       "  \"/>\n",
       "<polyline clip-path=\"url(#clip1200)\" style=\"stroke:#000000; stroke-width:4; stroke-opacity:1; fill:none\" points=\"\n",
       "  180.66,983.586 213.242,983.586 \n",
       "  \"/>\n",
       "<polyline clip-path=\"url(#clip1200)\" style=\"stroke:#000000; stroke-width:4; stroke-opacity:1; fill:none\" points=\"\n",
       "  180.66,683.771 213.242,683.771 \n",
       "  \"/>\n",
       "<polyline clip-path=\"url(#clip1200)\" style=\"stroke:#000000; stroke-width:4; stroke-opacity:1; fill:none\" points=\"\n",
       "  180.66,383.956 213.242,383.956 \n",
       "  \"/>\n",
       "<polyline clip-path=\"url(#clip1200)\" style=\"stroke:#000000; stroke-width:4; stroke-opacity:1; fill:none\" points=\"\n",
       "  180.66,84.1413 213.242,84.1413 \n",
       "  \"/>\n",
       "<g clip-path=\"url(#clip1200)\">\n",
       "<text style=\"fill:#000000; fill-opacity:1; font-family:Arial,Helvetica Neue,Helvetica,sans-serif; font-size:48px; text-anchor:middle;\" transform=\"rotate(0, 209.609, 1541.47)\" x=\"209.609\" y=\"1541.47\">0</text>\n",
       "</g>\n",
       "<g clip-path=\"url(#clip1200)\">\n",
       "<text style=\"fill:#000000; fill-opacity:1; font-family:Arial,Helvetica Neue,Helvetica,sans-serif; font-size:48px; text-anchor:middle;\" transform=\"rotate(0, 534.87, 1541.47)\" x=\"534.87\" y=\"1541.47\">10</text>\n",
       "</g>\n",
       "<g clip-path=\"url(#clip1200)\">\n",
       "<text style=\"fill:#000000; fill-opacity:1; font-family:Arial,Helvetica Neue,Helvetica,sans-serif; font-size:48px; text-anchor:middle;\" transform=\"rotate(0, 860.131, 1541.47)\" x=\"860.131\" y=\"1541.47\">20</text>\n",
       "</g>\n",
       "<g clip-path=\"url(#clip1200)\">\n",
       "<text style=\"fill:#000000; fill-opacity:1; font-family:Arial,Helvetica Neue,Helvetica,sans-serif; font-size:48px; text-anchor:middle;\" transform=\"rotate(0, 1185.39, 1541.47)\" x=\"1185.39\" y=\"1541.47\">30</text>\n",
       "</g>\n",
       "<g clip-path=\"url(#clip1200)\">\n",
       "<text style=\"fill:#000000; fill-opacity:1; font-family:Arial,Helvetica Neue,Helvetica,sans-serif; font-size:48px; text-anchor:middle;\" transform=\"rotate(0, 1510.65, 1541.47)\" x=\"1510.65\" y=\"1541.47\">40</text>\n",
       "</g>\n",
       "<g clip-path=\"url(#clip1200)\">\n",
       "<text style=\"fill:#000000; fill-opacity:1; font-family:Arial,Helvetica Neue,Helvetica,sans-serif; font-size:48px; text-anchor:middle;\" transform=\"rotate(0, 1835.92, 1541.47)\" x=\"1835.92\" y=\"1541.47\">50</text>\n",
       "</g>\n",
       "<g clip-path=\"url(#clip1200)\">\n",
       "<text style=\"fill:#000000; fill-opacity:1; font-family:Arial,Helvetica Neue,Helvetica,sans-serif; font-size:48px; text-anchor:middle;\" transform=\"rotate(0, 2161.18, 1541.47)\" x=\"2161.18\" y=\"1541.47\">60</text>\n",
       "</g>\n",
       "<g clip-path=\"url(#clip1200)\">\n",
       "<text style=\"fill:#000000; fill-opacity:1; font-family:Arial,Helvetica Neue,Helvetica,sans-serif; font-size:48px; text-anchor:end;\" transform=\"rotate(0, 156.66, 1300.9)\" x=\"156.66\" y=\"1300.9\">0.00</text>\n",
       "</g>\n",
       "<g clip-path=\"url(#clip1200)\">\n",
       "<text style=\"fill:#000000; fill-opacity:1; font-family:Arial,Helvetica Neue,Helvetica,sans-serif; font-size:48px; text-anchor:end;\" transform=\"rotate(0, 156.66, 1001.09)\" x=\"156.66\" y=\"1001.09\">0.25</text>\n",
       "</g>\n",
       "<g clip-path=\"url(#clip1200)\">\n",
       "<text style=\"fill:#000000; fill-opacity:1; font-family:Arial,Helvetica Neue,Helvetica,sans-serif; font-size:48px; text-anchor:end;\" transform=\"rotate(0, 156.66, 701.271)\" x=\"156.66\" y=\"701.271\">0.50</text>\n",
       "</g>\n",
       "<g clip-path=\"url(#clip1200)\">\n",
       "<text style=\"fill:#000000; fill-opacity:1; font-family:Arial,Helvetica Neue,Helvetica,sans-serif; font-size:48px; text-anchor:end;\" transform=\"rotate(0, 156.66, 401.456)\" x=\"156.66\" y=\"401.456\">0.75</text>\n",
       "</g>\n",
       "<g clip-path=\"url(#clip1200)\">\n",
       "<text style=\"fill:#000000; fill-opacity:1; font-family:Arial,Helvetica Neue,Helvetica,sans-serif; font-size:48px; text-anchor:end;\" transform=\"rotate(0, 156.66, 101.641)\" x=\"156.66\" y=\"101.641\">1.00</text>\n",
       "</g>\n",
       "<polyline clip-path=\"url(#clip1202)\" style=\"stroke:#009af9; stroke-width:4; stroke-opacity:1; fill:none\" points=\"\n",
       "  242.135,1259.95 274.661,1250.57 307.187,1237.02 339.713,1216.95 372.239,1186.39 404.765,1138.77 437.292,1064.3 469.818,952.441 502.344,800.854 534.87,627.137 \n",
       "  567.396,464.54 599.922,338.072 632.448,251.443 664.975,195.589 697.501,159.92 730.027,136.712 762.553,121.186 795.079,110.532 827.605,103.085 860.131,97.8278 \n",
       "  892.658,94.1126 925.184,91.5165 957.71,89.7583 990.236,88.6534 1022.76,88.0883 1055.29,88.0053 1087.81,88.3961 1120.34,89.3003 1152.87,90.8106 1185.39,93.0842 \n",
       "  1217.92,96.3642 1250.45,101.017 1282.97,107.597 1315.5,116.968 1348.02,130.524 1380.55,150.594 1413.08,181.147 1445.6,228.774 1478.13,303.241 1510.65,415.099 \n",
       "  1543.18,566.691 1575.71,740.41 1608.23,903 1640.76,1029.47 1673.28,1116.1 1705.81,1171.95 1738.34,1207.62 1770.86,1230.83 1803.39,1246.36 1835.92,1257.01 \n",
       "  1868.44,1264.46 1900.97,1269.72 1933.49,1273.43 1966.02,1276.03 1998.55,1277.78 2031.07,1278.89 2063.6,1279.45 2096.12,1279.54 2128.65,1279.15 2161.18,1278.24 \n",
       "  2193.7,1276.73 2226.23,1274.46 2258.76,1271.18 2291.28,1266.53 \n",
       "  \"/>\n",
       "<polyline clip-path=\"url(#clip1202)\" style=\"stroke:#009af9; stroke-width:4; stroke-opacity:1; fill:none\" stroke-dasharray=\"16, 10\" points=\"\n",
       "  242.135,1119.13 274.661,1116.77 307.187,1117.26 339.713,1122.25 372.239,1134.46 404.765,1157.99 437.292,1197.54 469.818,1254.06 502.344,1316.85 534.87,1364.87 \n",
       "  567.396,1386.14 599.922,1388.66 632.448,1386.09 664.975,1385.32 697.501,1387.49 730.027,1391.93 762.553,1397.84 795.079,1404.66 827.605,1412 860.131,1419.51 \n",
       "  892.658,1426.87 925.184,1433.67 957.71,1439.48 990.236,1443.84 1022.76,1446.33 1055.29,1446.71 1087.81,1444.95 1120.34,1441.21 1152.87,1435.86 1185.39,1429.36 \n",
       "  1217.92,1422.15 1250.45,1414.65 1282.97,1407.21 1315.5,1400.17 1348.02,1393.88 1380.55,1388.84 1413.08,1385.77 1445.6,1385.48 1478.13,1387.81 1510.65,1388.4 \n",
       "  1543.18,1375.39 1575.71,1336.56 1608.23,1276.53 1640.76,1215.82 1673.28,1169.93 1705.81,1141.23 1738.34,1125.56 1770.86,1118.4 1803.39,1116.55 1835.92,1118.05 \n",
       "  1868.44,1121.65 1900.97,1126.54 1933.49,1132.04 1966.02,1137.55 1998.55,1142.48 2031.07,1146.28 2063.6,1148.49 2096.12,1148.83 2128.65,1147.26 2161.18,1143.98 \n",
       "  2193.7,1139.38 2226.23,1134.01 2258.76,1128.44 2291.28,1123.27 \n",
       "  \"/>\n",
       "<polyline clip-path=\"url(#clip1202)\" style=\"stroke:#e26f46; stroke-width:4; stroke-opacity:1; fill:none\" points=\"\n",
       "  242.135,107.597 274.661,116.968 307.187,130.524 339.713,150.594 372.239,181.147 404.765,228.774 437.292,303.241 469.818,415.099 502.344,566.691 534.87,740.41 \n",
       "  567.396,903 599.922,1029.47 632.448,1116.1 664.975,1171.95 697.501,1207.62 730.027,1230.83 762.553,1246.36 795.079,1257.01 827.605,1264.46 860.131,1269.72 \n",
       "  892.658,1273.43 925.184,1276.03 957.71,1277.78 990.236,1278.89 1022.76,1279.45 1055.29,1279.54 1087.81,1279.15 1120.34,1278.24 1152.87,1276.73 1185.39,1274.46 \n",
       "  1217.92,1271.18 1250.45,1266.53 1282.97,1259.95 1315.5,1250.57 1348.02,1237.02 1380.55,1216.95 1413.08,1186.39 1445.6,1138.77 1478.13,1064.3 1510.65,952.441 \n",
       "  1543.18,800.854 1575.71,627.136 1608.23,464.54 1640.76,338.072 1673.28,251.443 1705.81,195.589 1738.34,159.92 1770.86,136.712 1803.39,121.186 1835.92,110.532 \n",
       "  1868.44,103.085 1900.97,97.8278 1933.49,94.1126 1966.02,91.5165 1998.55,89.7583 2031.07,88.6534 2063.6,88.0883 2096.12,88.0053 2128.65,88.3961 2161.18,89.3003 \n",
       "  2193.7,90.8106 2226.23,93.0842 2258.76,96.3642 2291.28,101.017 \n",
       "  \"/>\n",
       "<polyline clip-path=\"url(#clip1202)\" style=\"stroke:#e26f46; stroke-width:4; stroke-opacity:1; fill:none\" stroke-dasharray=\"16, 10\" points=\"\n",
       "  242.135,1407.21 274.661,1400.17 307.187,1393.88 339.713,1388.84 372.239,1385.77 404.765,1385.48 437.292,1387.81 469.818,1388.4 502.344,1375.39 534.87,1336.56 \n",
       "  567.396,1276.53 599.922,1215.82 632.448,1169.93 664.975,1141.23 697.501,1125.56 730.027,1118.4 762.553,1116.55 795.079,1118.05 827.605,1121.65 860.131,1126.54 \n",
       "  892.658,1132.04 925.184,1137.55 957.71,1142.48 990.236,1146.28 1022.76,1148.49 1055.29,1148.83 1087.81,1147.26 1120.34,1143.98 1152.87,1139.38 1185.39,1134.01 \n",
       "  1217.92,1128.44 1250.45,1123.27 1282.97,1119.13 1315.5,1116.77 1348.02,1117.26 1380.55,1122.25 1413.08,1134.46 1445.6,1157.99 1478.13,1197.54 1510.65,1254.06 \n",
       "  1543.18,1316.85 1575.71,1364.87 1608.23,1386.14 1640.76,1388.66 1673.28,1386.09 1705.81,1385.32 1738.34,1387.49 1770.86,1391.93 1803.39,1397.84 1835.92,1404.66 \n",
       "  1868.44,1412 1900.97,1419.51 1933.49,1426.87 1966.02,1433.67 1998.55,1439.48 2031.07,1443.84 2063.6,1446.33 2096.12,1446.71 2128.65,1444.95 2161.18,1441.21 \n",
       "  2193.7,1435.86 2226.23,1429.36 2258.76,1422.15 2291.28,1414.65 \n",
       "  \"/>\n",
       "<path clip-path=\"url(#clip1200)\" d=\"\n",
       "M2008.65 312.204 L2280.76 312.204 L2280.76 130.764 L2008.65 130.764  Z\n",
       "  \" fill=\"#ffffff\" fill-rule=\"evenodd\" fill-opacity=\"1\"/>\n",
       "<polyline clip-path=\"url(#clip1200)\" style=\"stroke:#000000; stroke-width:4; stroke-opacity:1; fill:none\" points=\"\n",
       "  2008.65,312.204 2280.76,312.204 2280.76,130.764 2008.65,130.764 2008.65,312.204 \n",
       "  \"/>\n",
       "<polyline clip-path=\"url(#clip1200)\" style=\"stroke:#009af9; stroke-width:4; stroke-opacity:1; fill:none\" points=\"\n",
       "  2032.65,191.244 2176.65,191.244 \n",
       "  \"/>\n",
       "<g clip-path=\"url(#clip1200)\">\n",
       "<text style=\"fill:#000000; fill-opacity:1; font-family:Arial,Helvetica Neue,Helvetica,sans-serif; font-size:48px; text-anchor:start;\" transform=\"rotate(0, 2200.65, 208.744)\" x=\"2200.65\" y=\"208.744\">A</text>\n",
       "</g>\n",
       "<polyline clip-path=\"url(#clip1200)\" style=\"stroke:#e26f46; stroke-width:4; stroke-opacity:1; fill:none\" points=\"\n",
       "  2032.65,251.724 2176.65,251.724 \n",
       "  \"/>\n",
       "<g clip-path=\"url(#clip1200)\">\n",
       "<text style=\"fill:#000000; fill-opacity:1; font-family:Arial,Helvetica Neue,Helvetica,sans-serif; font-size:48px; text-anchor:start;\" transform=\"rotate(0, 2200.65, 269.224)\" x=\"2200.65\" y=\"269.224\">B</text>\n",
       "</g>\n",
       "</svg>\n"
      ]
     },
     "execution_count": 146,
     "metadata": {},
     "output_type": "execute_result"
    }
   ],
   "source": [
    "plot(sys.density[1][:,1,1], label = \"A\")\n",
    "plot!(sys.fields[1][:,1,1], primary = false, ls = :dash)\n",
    "\n",
    "plot!(sys.density[2][:,1,1], label = \"B\")\n",
    "plot!(sys.fields[2][:,1,1], primary = false, ls = :dash)\n",
    "\n",
    "# plot!(sys.density[3][:,1,1], label = \"C\")\n",
    "# plot!(sys.fields[3][:,1,1], primary = false, ls = :dash)"
   ]
  },
  {
   "cell_type": "code",
   "execution_count": 78,
   "metadata": {},
   "outputs": [
    {
     "data": {
      "text/plain": [
       "(0.05316658720043248, 0.115)"
      ]
     },
     "execution_count": 78,
     "metadata": {},
     "output_type": "execute_result"
    }
   ],
   "source": [
    "free_energy(sys), free_energy_bulk(sys)"
   ]
  },
  {
   "cell_type": "code",
   "execution_count": 79,
   "metadata": {},
   "outputs": [
    {
     "data": {
      "text/plain": [
       "64×1×1 Array{Float64,3}:\n",
       "[:, :, 1] =\n",
       " 1.0000003041648937\n",
       " 1.000000408038523 \n",
       " 1.0000003125453962\n",
       " 1.0000003867562524\n",
       " 1.0000002623179027\n",
       " 1.0000002131263355\n",
       " 0.9999999276735402\n",
       " 0.9999998160742647\n",
       " 0.9999998367235798\n",
       " 1.0000002207774035\n",
       " 1.0000002686740124\n",
       " 1.0000001454964178\n",
       " 0.9999998186721287\n",
       " ⋮                 \n",
       " 1.0000001173177606\n",
       " 1.00000024334035  \n",
       " 1.000000185792256 \n",
       " 1.0000000146483834\n",
       " 1.0000000183211364\n",
       " 1.000000014975156 \n",
       " 1.0000001677648611\n",
       " 1.0000001599139   \n",
       " 1.0000000915134266\n",
       " 1.0000003562815147\n",
       " 1.000000276236884 \n",
       " 1.0000004149100212"
      ]
     },
     "execution_count": 79,
     "metadata": {},
     "output_type": "execute_result"
    }
   ],
   "source": [
    "sys.density_sum"
   ]
  },
  {
   "cell_type": "markdown",
   "metadata": {},
   "source": [
    "## Plotting"
   ]
  },
  {
   "cell_type": "code",
   "execution_count": null,
   "metadata": {},
   "outputs": [],
   "source": [
    "using Makie"
   ]
  },
  {
   "cell_type": "code",
   "execution_count": null,
   "metadata": {},
   "outputs": [],
   "source": [
    "x = 10.0 * sys.fields[2]\n",
    "\n",
    "plot = volume(x, algorithm = :mip)\n",
    "cm = colorlegend(\n",
    "     plot[end],             # access the plot of Scene p1\n",
    "     raw = true,          # without axes or grid\n",
    "     camera = campixel!,  # gives a concrete bounding box in pixels\n",
    "                          # so that the `vbox` gives you the right size\n",
    "     width = (            # make the colorlegend longer so it looks nicer\n",
    "         30,              # the width\n",
    "         500              # the height\n",
    "     )\n",
    ")\n",
    "\n",
    "scene_final = vbox(plot, cm) # put the colorlegend and the plot together in a `vbox`"
   ]
  },
  {
   "cell_type": "code",
   "execution_count": null,
   "metadata": {},
   "outputs": [],
   "source": []
  }
 ],
 "metadata": {
  "kernelspec": {
   "display_name": "Julia 1.1.0",
   "language": "julia",
   "name": "julia-1.1"
  },
  "language_info": {
   "file_extension": ".jl",
   "mimetype": "application/julia",
   "name": "julia",
   "version": "1.1.0"
  }
 },
 "nbformat": 4,
 "nbformat_minor": 2
}
