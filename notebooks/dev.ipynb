{
 "cells": [
  {
   "cell_type": "markdown",
   "metadata": {},
   "source": [
    "# Imports"
   ]
  },
  {
   "cell_type": "code",
   "execution_count": 1,
   "metadata": {},
   "outputs": [
    {
     "name": "stderr",
     "output_type": "stream",
     "text": [
      "\u001b[32m\u001b[1m Activating\u001b[22m\u001b[39m environment at `/mnt/c/Users/sfrie/Documents/Code/julia/PolyFields.jl/Project.toml`\n"
     ]
    }
   ],
   "source": [
    "import Pkg\n",
    "\n",
    "Pkg.activate(\"../\")"
   ]
  },
  {
   "cell_type": "code",
   "execution_count": 2,
   "metadata": {},
   "outputs": [],
   "source": [
    "using Test"
   ]
  },
  {
   "cell_type": "code",
   "execution_count": 3,
   "metadata": {},
   "outputs": [],
   "source": [
    "using BenchmarkTools\n",
    "\n",
    "using FFTW\n",
    "using LinearAlgebra\n",
    "using JSON\n",
    "using Printf\n",
    "\n",
    "using StaticArrays\n",
    "using Random\n",
    "using Statistics\n",
    "\n",
    "using Plots"
   ]
  },
  {
   "cell_type": "code",
   "execution_count": 4,
   "metadata": {
    "scrolled": true
   },
   "outputs": [
    {
     "name": "stderr",
     "output_type": "stream",
     "text": [
      "┌ Info: Precompiling PolyFields [537b8fae-343b-4751-aed0-0d38a89c053e]\n",
      "└ @ Base loading.jl:1278\n"
     ]
    }
   ],
   "source": [
    "using PolyFields"
   ]
  },
  {
   "cell_type": "markdown",
   "metadata": {
    "heading_collapsed": true
   },
   "source": [
    "# Examples"
   ]
  },
  {
   "cell_type": "markdown",
   "metadata": {
    "hidden": true
   },
   "source": [
    "## MDE Solutions"
   ]
  },
  {
   "cell_type": "markdown",
   "metadata": {
    "heading_collapsed": true,
    "hidden": true
   },
   "source": [
    "### Finite Difference Toy Model - Sec 3.6.1"
   ]
  },
  {
   "cell_type": "code",
   "execution_count": null,
   "metadata": {
    "hidden": true
   },
   "outputs": [],
   "source": [
    "N = 200\n",
    "b = 1/(sqrt(N/6))\n",
    "L = 10.0\n",
    "\n",
    "W(x, L) = 1 - 2*sech(3*(x - L/2)/2)^2\n",
    "\n",
    ";"
   ]
  },
  {
   "cell_type": "code",
   "execution_count": null,
   "metadata": {
    "hidden": true
   },
   "outputs": [],
   "source": [
    "Nx = 32\n",
    "Ns = 200\n",
    "\n",
    "dx = L/(Nx-1)\n",
    "ds = N/(Ns-1)\n",
    "\n",
    "x = collect(range(0, L, step = dx))\n",
    "s = collect(range(0, N, step = ds))\n",
    "wx = W.(x, L)\n",
    "\n",
    ";"
   ]
  },
  {
   "cell_type": "code",
   "execution_count": null,
   "metadata": {
    "hidden": true
   },
   "outputs": [],
   "source": [
    "q = ones(Nx, Ns)\n",
    "q[:,1] .= 1.0\n",
    "\n",
    "tol = 1e-6\n",
    "max_steps = 300\n",
    "\n",
    "norm_prev = norm(q)\n",
    "norm_curr = 0.0\n",
    "\n",
    "step = 1\n",
    "while step <= max_steps\n",
    "    step += 1\n",
    "    norm_prev = norm(q)\n",
    "    \n",
    "    if step % 25 == 0\n",
    "        println(\"Calculating for step $(step).\")\n",
    "    end\n",
    "    \n",
    "    # Finite diff the propagator matrix\n",
    "    for j in 1:Nx\n",
    "        for n in 1:Ns-1\n",
    "            # PBC in spatial dimension\n",
    "            jp1 = mod1(j+1, Nx)\n",
    "            jm1 = mod1(j-1, Nx)\n",
    "\n",
    "            rhs = (b^2/6)*((q[jp1, n] - 2*q[j,n] + q[jm1,n])/(dx^2)) - q[j,n]*wx[j]/N\n",
    "            q[j,n+1] = q[j,n] + ds*rhs\n",
    "        end\n",
    "    end\n",
    "    \n",
    "    norm_curr = norm(q)\n",
    "    if abs(norm_prev - norm_curr) < tol\n",
    "        print(\"Tolerance reached at step $(step) -- breaking.\")\n",
    "        break\n",
    "    end\n",
    "end  "
   ]
  },
  {
   "cell_type": "code",
   "execution_count": null,
   "metadata": {
    "hidden": true
   },
   "outputs": [],
   "source": [
    "plot(x, q[:,end], label = \"W(x)\")\n",
    "plot!(x, wx, label = \"q(x, N)\")\n",
    "\n",
    "plot!(legend = :bottomright, size = (400, 275))"
   ]
  },
  {
   "cell_type": "markdown",
   "metadata": {
    "heading_collapsed": true,
    "hidden": true
   },
   "source": [
    "### Crank-Nicolson Scheme - Sec 3.6.1"
   ]
  },
  {
   "cell_type": "code",
   "execution_count": 21,
   "metadata": {
    "hidden": true
   },
   "outputs": [],
   "source": [
    "N = 50\n",
    "b = 1.0/(sqrt(N/6))\n",
    "L = 5.0\n",
    "\n",
    "W(x, L) = 1 - 2*sech(3*(x - L/2)/2)^2\n",
    "\n",
    ";"
   ]
  },
  {
   "cell_type": "code",
   "execution_count": 22,
   "metadata": {
    "hidden": true
   },
   "outputs": [],
   "source": [
    "Nx = 128\n",
    "Ns = 200\n",
    "\n",
    "dx = L/(Nx-1)\n",
    "ds = N/(Ns-1)\n",
    "\n",
    "x = collect(range(0, L, step = dx))\n",
    "s = collect(range(0, N, step = ds))\n",
    "wx = W.(x, L)\n",
    "\n",
    ";"
   ]
  },
  {
   "cell_type": "code",
   "execution_count": 23,
   "metadata": {
    "hidden": true
   },
   "outputs": [],
   "source": [
    "q = zeros(Nx, Ns)\n",
    "q[:,1] .= 1.0\n",
    "\n",
    "# Operators for solver\n",
    "WX = diagm(0 => wx/N)\n",
    "\n",
    "# Init T w/ PBC\n",
    "T = zeros(Nx, Nx)\n",
    "for j in 1:Nx\n",
    "    jp1 = mod1(j+1, Nx)\n",
    "    jm1 = mod1(j-1, Nx)\n",
    "    \n",
    "    T[j,j] = -2.0\n",
    "    T[j,jp1] = 1.0\n",
    "    T[j,jm1] = 1.0\n",
    "end\n",
    "\n",
    "# Matrix operators for solver\n",
    "TW = (I - (ds/2)*WX + (b^2*ds)/(12*dx^2)*T)\n",
    "TWM = (I + (ds/2)*WX - (b^2*ds)/(12*dx^2)*T)\n",
    "\n",
    "# Matrix solve for each chain discretization\n",
    "for n in 1:Ns-1\n",
    "    q[:,n+1] = TWM \\ TW * q[:,n]\n",
    "end"
   ]
  },
  {
   "cell_type": "code",
   "execution_count": 24,
   "metadata": {
    "hidden": true
   },
   "outputs": [
    {
     "data": {
      "image/svg+xml": [
       "<?xml version=\"1.0\" encoding=\"utf-8\"?>\n",
       "<svg xmlns=\"http://www.w3.org/2000/svg\" xmlns:xlink=\"http://www.w3.org/1999/xlink\" width=\"400\" height=\"275\" viewBox=\"0 0 1600 1100\">\n",
       "<defs>\n",
       "  <clipPath id=\"clip430\">\n",
       "    <rect x=\"0\" y=\"0\" width=\"1600\" height=\"1100\"/>\n",
       "  </clipPath>\n",
       "</defs>\n",
       "<path clip-path=\"url(#clip430)\" d=\"\n",
       "M0 1100 L1600 1100 L1600 0 L0 0  Z\n",
       "  \" fill=\"#ffffff\" fill-rule=\"evenodd\" fill-opacity=\"1\"/>\n",
       "<defs>\n",
       "  <clipPath id=\"clip431\">\n",
       "    <rect x=\"320\" y=\"0\" width=\"1121\" height=\"1100\"/>\n",
       "  </clipPath>\n",
       "</defs>\n",
       "<path clip-path=\"url(#clip430)\" d=\"\n",
       "M171.654 990.368 L1552.76 990.368 L1552.76 47.2441 L171.654 47.2441  Z\n",
       "  \" fill=\"#ffffff\" fill-rule=\"evenodd\" fill-opacity=\"1\"/>\n",
       "<defs>\n",
       "  <clipPath id=\"clip432\">\n",
       "    <rect x=\"171\" y=\"47\" width=\"1382\" height=\"944\"/>\n",
       "  </clipPath>\n",
       "</defs>\n",
       "<polyline clip-path=\"url(#clip432)\" style=\"stroke:#000000; stroke-width:2; stroke-opacity:0.1; fill:none\" points=\"\n",
       "  210.741,990.368 210.741,47.2441 \n",
       "  \"/>\n",
       "<polyline clip-path=\"url(#clip432)\" style=\"stroke:#000000; stroke-width:2; stroke-opacity:0.1; fill:none\" points=\"\n",
       "  471.327,990.368 471.327,47.2441 \n",
       "  \"/>\n",
       "<polyline clip-path=\"url(#clip432)\" style=\"stroke:#000000; stroke-width:2; stroke-opacity:0.1; fill:none\" points=\"\n",
       "  731.912,990.368 731.912,47.2441 \n",
       "  \"/>\n",
       "<polyline clip-path=\"url(#clip432)\" style=\"stroke:#000000; stroke-width:2; stroke-opacity:0.1; fill:none\" points=\"\n",
       "  992.497,990.368 992.497,47.2441 \n",
       "  \"/>\n",
       "<polyline clip-path=\"url(#clip432)\" style=\"stroke:#000000; stroke-width:2; stroke-opacity:0.1; fill:none\" points=\"\n",
       "  1253.08,990.368 1253.08,47.2441 \n",
       "  \"/>\n",
       "<polyline clip-path=\"url(#clip432)\" style=\"stroke:#000000; stroke-width:2; stroke-opacity:0.1; fill:none\" points=\"\n",
       "  1513.67,990.368 1513.67,47.2441 \n",
       "  \"/>\n",
       "<polyline clip-path=\"url(#clip430)\" style=\"stroke:#000000; stroke-width:4; stroke-opacity:1; fill:none\" points=\"\n",
       "  171.654,990.368 1552.76,990.368 \n",
       "  \"/>\n",
       "<polyline clip-path=\"url(#clip430)\" style=\"stroke:#000000; stroke-width:4; stroke-opacity:1; fill:none\" points=\"\n",
       "  210.741,990.368 210.741,979.05 \n",
       "  \"/>\n",
       "<polyline clip-path=\"url(#clip430)\" style=\"stroke:#000000; stroke-width:4; stroke-opacity:1; fill:none\" points=\"\n",
       "  471.327,990.368 471.327,979.05 \n",
       "  \"/>\n",
       "<polyline clip-path=\"url(#clip430)\" style=\"stroke:#000000; stroke-width:4; stroke-opacity:1; fill:none\" points=\"\n",
       "  731.912,990.368 731.912,979.05 \n",
       "  \"/>\n",
       "<polyline clip-path=\"url(#clip430)\" style=\"stroke:#000000; stroke-width:4; stroke-opacity:1; fill:none\" points=\"\n",
       "  992.497,990.368 992.497,979.05 \n",
       "  \"/>\n",
       "<polyline clip-path=\"url(#clip430)\" style=\"stroke:#000000; stroke-width:4; stroke-opacity:1; fill:none\" points=\"\n",
       "  1253.08,990.368 1253.08,979.05 \n",
       "  \"/>\n",
       "<polyline clip-path=\"url(#clip430)\" style=\"stroke:#000000; stroke-width:4; stroke-opacity:1; fill:none\" points=\"\n",
       "  1513.67,990.368 1513.67,979.05 \n",
       "  \"/>\n",
       "<path clip-path=\"url(#clip430)\" d=\"M 0 0 M210.741 1013.16 Q207.13 1013.16 205.302 1016.72 Q203.496 1020.27 203.496 1027.39 Q203.496 1034.5 205.302 1038.07 Q207.13 1041.61 210.741 1041.61 Q214.376 1041.61 216.181 1038.07 Q218.01 1034.5 218.01 1027.39 Q218.01 1020.27 216.181 1016.72 Q214.376 1013.16 210.741 1013.16 M210.741 1009.45 Q216.552 1009.45 219.607 1014.06 Q222.686 1018.64 222.686 1027.39 Q222.686 1036.12 219.607 1040.73 Q216.552 1045.31 210.741 1045.31 Q204.931 1045.31 201.853 1040.73 Q198.797 1036.12 198.797 1027.39 Q198.797 1018.64 201.853 1014.06 Q204.931 1009.45 210.741 1009.45 Z\" fill=\"#000000\" fill-rule=\"evenodd\" fill-opacity=\"1\" /><path clip-path=\"url(#clip430)\" d=\"M 0 0 M461.709 1040.7 L469.348 1040.7 L469.348 1014.34 L461.037 1016.01 L461.037 1011.75 L469.301 1010.08 L473.977 1010.08 L473.977 1040.7 L481.616 1040.7 L481.616 1044.64 L461.709 1044.64 L461.709 1040.7 Z\" fill=\"#000000\" fill-rule=\"evenodd\" fill-opacity=\"1\" /><path clip-path=\"url(#clip430)\" d=\"M 0 0 M726.565 1040.7 L742.884 1040.7 L742.884 1044.64 L720.94 1044.64 L720.94 1040.7 Q723.602 1037.95 728.185 1033.32 Q732.792 1028.67 733.972 1027.33 Q736.218 1024.8 737.097 1023.07 Q738 1021.31 738 1019.62 Q738 1016.86 736.056 1015.13 Q734.134 1013.39 731.032 1013.39 Q728.833 1013.39 726.38 1014.15 Q723.949 1014.92 721.171 1016.47 L721.171 1011.75 Q723.995 1010.61 726.449 1010.03 Q728.903 1009.45 730.94 1009.45 Q736.31 1009.45 739.505 1012.14 Q742.699 1014.83 742.699 1019.32 Q742.699 1021.45 741.889 1023.37 Q741.102 1025.26 738.995 1027.86 Q738.417 1028.53 735.315 1031.75 Q732.213 1034.94 726.565 1040.7 Z\" fill=\"#000000\" fill-rule=\"evenodd\" fill-opacity=\"1\" /><path clip-path=\"url(#clip430)\" d=\"M 0 0 M996.745 1026.01 Q1000.1 1026.72 1001.98 1028.99 Q1003.87 1031.26 1003.87 1034.59 Q1003.87 1039.71 1000.36 1042.51 Q996.838 1045.31 990.356 1045.31 Q988.18 1045.31 985.866 1044.87 Q983.574 1044.45 981.12 1043.6 L981.12 1039.08 Q983.065 1040.22 985.379 1040.8 Q987.694 1041.38 990.217 1041.38 Q994.615 1041.38 996.907 1039.64 Q999.222 1037.9 999.222 1034.59 Q999.222 1031.54 997.069 1029.83 Q994.94 1028.09 991.12 1028.09 L987.092 1028.09 L987.092 1024.25 L991.305 1024.25 Q994.754 1024.25 996.583 1022.88 Q998.412 1021.49 998.412 1018.9 Q998.412 1016.24 996.514 1014.83 Q994.639 1013.39 991.12 1013.39 Q989.199 1013.39 987 1013.81 Q984.801 1014.22 982.162 1015.1 L982.162 1010.94 Q984.824 1010.2 987.139 1009.83 Q989.477 1009.45 991.537 1009.45 Q996.861 1009.45 999.963 1011.89 Q1003.06 1014.29 1003.06 1018.41 Q1003.06 1021.28 1001.42 1023.27 Q999.778 1025.24 996.745 1026.01 Z\" fill=\"#000000\" fill-rule=\"evenodd\" fill-opacity=\"1\" /><path clip-path=\"url(#clip430)\" d=\"M 0 0 M1256.09 1014.15 L1244.29 1032.6 L1256.09 1032.6 L1256.09 1014.15 M1254.87 1010.08 L1260.74 1010.08 L1260.74 1032.6 L1265.68 1032.6 L1265.68 1036.49 L1260.74 1036.49 L1260.74 1044.64 L1256.09 1044.64 L1256.09 1036.49 L1240.49 1036.49 L1240.49 1031.98 L1254.87 1010.08 Z\" fill=\"#000000\" fill-rule=\"evenodd\" fill-opacity=\"1\" /><path clip-path=\"url(#clip430)\" d=\"M 0 0 M1503.95 1010.08 L1522.3 1010.08 L1522.3 1014.02 L1508.23 1014.02 L1508.23 1022.49 Q1509.25 1022.14 1510.27 1021.98 Q1511.28 1021.79 1512.3 1021.79 Q1518.09 1021.79 1521.47 1024.96 Q1524.85 1028.14 1524.85 1033.55 Q1524.85 1039.13 1521.38 1042.23 Q1517.9 1045.31 1511.58 1045.31 Q1509.41 1045.31 1507.14 1044.94 Q1504.9 1044.57 1502.49 1043.83 L1502.49 1039.13 Q1504.57 1040.26 1506.79 1040.82 Q1509.02 1041.38 1511.49 1041.38 Q1515.5 1041.38 1517.83 1039.27 Q1520.17 1037.16 1520.17 1033.55 Q1520.17 1029.94 1517.83 1027.83 Q1515.5 1025.73 1511.49 1025.73 Q1509.62 1025.73 1507.74 1026.14 Q1505.89 1026.56 1503.95 1027.44 L1503.95 1010.08 Z\" fill=\"#000000\" fill-rule=\"evenodd\" fill-opacity=\"1\" /><polyline clip-path=\"url(#clip432)\" style=\"stroke:#000000; stroke-width:2; stroke-opacity:0.1; fill:none\" points=\"\n",
       "  171.654,964.412 1552.76,964.412 \n",
       "  \"/>\n",
       "<polyline clip-path=\"url(#clip432)\" style=\"stroke:#000000; stroke-width:2; stroke-opacity:0.1; fill:none\" points=\"\n",
       "  171.654,753.111 1552.76,753.111 \n",
       "  \"/>\n",
       "<polyline clip-path=\"url(#clip432)\" style=\"stroke:#000000; stroke-width:2; stroke-opacity:0.1; fill:none\" points=\"\n",
       "  171.654,541.81 1552.76,541.81 \n",
       "  \"/>\n",
       "<polyline clip-path=\"url(#clip432)\" style=\"stroke:#000000; stroke-width:2; stroke-opacity:0.1; fill:none\" points=\"\n",
       "  171.654,330.509 1552.76,330.509 \n",
       "  \"/>\n",
       "<polyline clip-path=\"url(#clip432)\" style=\"stroke:#000000; stroke-width:2; stroke-opacity:0.1; fill:none\" points=\"\n",
       "  171.654,119.208 1552.76,119.208 \n",
       "  \"/>\n",
       "<polyline clip-path=\"url(#clip430)\" style=\"stroke:#000000; stroke-width:4; stroke-opacity:1; fill:none\" points=\"\n",
       "  171.654,990.368 171.654,47.2441 \n",
       "  \"/>\n",
       "<polyline clip-path=\"url(#clip430)\" style=\"stroke:#000000; stroke-width:4; stroke-opacity:1; fill:none\" points=\"\n",
       "  171.654,964.412 188.227,964.412 \n",
       "  \"/>\n",
       "<polyline clip-path=\"url(#clip430)\" style=\"stroke:#000000; stroke-width:4; stroke-opacity:1; fill:none\" points=\"\n",
       "  171.654,753.111 188.227,753.111 \n",
       "  \"/>\n",
       "<polyline clip-path=\"url(#clip430)\" style=\"stroke:#000000; stroke-width:4; stroke-opacity:1; fill:none\" points=\"\n",
       "  171.654,541.81 188.227,541.81 \n",
       "  \"/>\n",
       "<polyline clip-path=\"url(#clip430)\" style=\"stroke:#000000; stroke-width:4; stroke-opacity:1; fill:none\" points=\"\n",
       "  171.654,330.509 188.227,330.509 \n",
       "  \"/>\n",
       "<polyline clip-path=\"url(#clip430)\" style=\"stroke:#000000; stroke-width:4; stroke-opacity:1; fill:none\" points=\"\n",
       "  171.654,119.208 188.227,119.208 \n",
       "  \"/>\n",
       "<path clip-path=\"url(#clip430)\" d=\"M 0 0 M55.2236 964.864 L84.8994 964.864 L84.8994 968.799 L55.2236 968.799 L55.2236 964.864 Z\" fill=\"#000000\" fill-rule=\"evenodd\" fill-opacity=\"1\" /><path clip-path=\"url(#clip430)\" d=\"M 0 0 M90.779 977.757 L98.4178 977.757 L98.4178 951.391 L90.1077 953.058 L90.1077 948.799 L98.3715 947.132 L103.047 947.132 L103.047 977.757 L110.686 977.757 L110.686 981.692 L90.779 981.692 L90.779 977.757 Z\" fill=\"#000000\" fill-rule=\"evenodd\" fill-opacity=\"1\" /><path clip-path=\"url(#clip430)\" d=\"M 0 0 M115.756 975.813 L120.64 975.813 L120.64 981.692 L115.756 981.692 L115.756 975.813 Z\" fill=\"#000000\" fill-rule=\"evenodd\" fill-opacity=\"1\" /><path clip-path=\"url(#clip430)\" d=\"M 0 0 M135.709 950.211 Q132.098 950.211 130.27 953.776 Q128.464 957.317 128.464 964.447 Q128.464 971.553 130.27 975.118 Q132.098 978.66 135.709 978.66 Q139.344 978.66 141.149 975.118 Q142.978 971.553 142.978 964.447 Q142.978 957.317 141.149 953.776 Q139.344 950.211 135.709 950.211 M135.709 946.507 Q141.519 946.507 144.575 951.114 Q147.654 955.697 147.654 964.447 Q147.654 973.174 144.575 977.78 Q141.519 982.363 135.709 982.363 Q129.899 982.363 126.82 977.78 Q123.765 973.174 123.765 964.447 Q123.765 955.697 126.82 951.114 Q129.899 946.507 135.709 946.507 Z\" fill=\"#000000\" fill-rule=\"evenodd\" fill-opacity=\"1\" /><path clip-path=\"url(#clip430)\" d=\"M 0 0 M54.9921 753.563 L84.6679 753.563 L84.6679 757.498 L54.9921 757.498 L54.9921 753.563 Z\" fill=\"#000000\" fill-rule=\"evenodd\" fill-opacity=\"1\" /><path clip-path=\"url(#clip430)\" d=\"M 0 0 M99.7373 738.91 Q96.1262 738.91 94.2975 742.475 Q92.4919 746.016 92.4919 753.146 Q92.4919 760.252 94.2975 763.817 Q96.1262 767.359 99.7373 767.359 Q103.371 767.359 105.177 763.817 Q107.006 760.252 107.006 753.146 Q107.006 746.016 105.177 742.475 Q103.371 738.91 99.7373 738.91 M99.7373 735.206 Q105.547 735.206 108.603 739.813 Q111.682 744.396 111.682 753.146 Q111.682 761.873 108.603 766.479 Q105.547 771.062 99.7373 771.062 Q93.9271 771.062 90.8484 766.479 Q87.7929 761.873 87.7929 753.146 Q87.7929 744.396 90.8484 739.813 Q93.9271 735.206 99.7373 735.206 Z\" fill=\"#000000\" fill-rule=\"evenodd\" fill-opacity=\"1\" /><path clip-path=\"url(#clip430)\" d=\"M 0 0 M116.751 764.512 L121.635 764.512 L121.635 770.391 L116.751 770.391 L116.751 764.512 Z\" fill=\"#000000\" fill-rule=\"evenodd\" fill-opacity=\"1\" /><path clip-path=\"url(#clip430)\" d=\"M 0 0 M126.751 735.831 L145.107 735.831 L145.107 739.766 L131.033 739.766 L131.033 748.239 Q132.052 747.891 133.07 747.729 Q134.089 747.544 135.107 747.544 Q140.894 747.544 144.274 750.715 Q147.654 753.887 147.654 759.303 Q147.654 764.882 144.181 767.984 Q140.709 771.062 134.39 771.062 Q132.214 771.062 129.945 770.692 Q127.7 770.322 125.293 769.581 L125.293 764.882 Q127.376 766.016 129.598 766.572 Q131.82 767.127 134.297 767.127 Q138.302 767.127 140.64 765.021 Q142.978 762.914 142.978 759.303 Q142.978 755.692 140.64 753.586 Q138.302 751.479 134.297 751.479 Q132.422 751.479 130.547 751.896 Q128.695 752.313 126.751 753.192 L126.751 735.831 Z\" fill=\"#000000\" fill-rule=\"evenodd\" fill-opacity=\"1\" /><path clip-path=\"url(#clip430)\" d=\"M 0 0 M98.7419 527.609 Q95.1308 527.609 93.3021 531.174 Q91.4966 534.715 91.4966 541.845 Q91.4966 548.951 93.3021 552.516 Q95.1308 556.058 98.7419 556.058 Q102.376 556.058 104.182 552.516 Q106.01 548.951 106.01 541.845 Q106.01 534.715 104.182 531.174 Q102.376 527.609 98.7419 527.609 M98.7419 523.905 Q104.552 523.905 107.608 528.512 Q110.686 533.095 110.686 541.845 Q110.686 550.572 107.608 555.178 Q104.552 559.761 98.7419 559.761 Q92.9317 559.761 89.8531 555.178 Q86.7975 550.572 86.7975 541.845 Q86.7975 533.095 89.8531 528.512 Q92.9317 523.905 98.7419 523.905 Z\" fill=\"#000000\" fill-rule=\"evenodd\" fill-opacity=\"1\" /><path clip-path=\"url(#clip430)\" d=\"M 0 0 M115.756 553.211 L120.64 553.211 L120.64 559.09 L115.756 559.09 L115.756 553.211 Z\" fill=\"#000000\" fill-rule=\"evenodd\" fill-opacity=\"1\" /><path clip-path=\"url(#clip430)\" d=\"M 0 0 M135.709 527.609 Q132.098 527.609 130.27 531.174 Q128.464 534.715 128.464 541.845 Q128.464 548.951 130.27 552.516 Q132.098 556.058 135.709 556.058 Q139.344 556.058 141.149 552.516 Q142.978 548.951 142.978 541.845 Q142.978 534.715 141.149 531.174 Q139.344 527.609 135.709 527.609 M135.709 523.905 Q141.519 523.905 144.575 528.512 Q147.654 533.095 147.654 541.845 Q147.654 550.572 144.575 555.178 Q141.519 559.761 135.709 559.761 Q129.899 559.761 126.82 555.178 Q123.765 550.572 123.765 541.845 Q123.765 533.095 126.82 528.512 Q129.899 523.905 135.709 523.905 Z\" fill=\"#000000\" fill-rule=\"evenodd\" fill-opacity=\"1\" /><path clip-path=\"url(#clip430)\" d=\"M 0 0 M99.7373 316.308 Q96.1262 316.308 94.2975 319.873 Q92.4919 323.414 92.4919 330.544 Q92.4919 337.65 94.2975 341.215 Q96.1262 344.757 99.7373 344.757 Q103.371 344.757 105.177 341.215 Q107.006 337.65 107.006 330.544 Q107.006 323.414 105.177 319.873 Q103.371 316.308 99.7373 316.308 M99.7373 312.604 Q105.547 312.604 108.603 317.211 Q111.682 321.794 111.682 330.544 Q111.682 339.271 108.603 343.877 Q105.547 348.46 99.7373 348.46 Q93.9271 348.46 90.8484 343.877 Q87.7929 339.271 87.7929 330.544 Q87.7929 321.794 90.8484 317.211 Q93.9271 312.604 99.7373 312.604 Z\" fill=\"#000000\" fill-rule=\"evenodd\" fill-opacity=\"1\" /><path clip-path=\"url(#clip430)\" d=\"M 0 0 M116.751 341.91 L121.635 341.91 L121.635 347.789 L116.751 347.789 L116.751 341.91 Z\" fill=\"#000000\" fill-rule=\"evenodd\" fill-opacity=\"1\" /><path clip-path=\"url(#clip430)\" d=\"M 0 0 M126.751 313.229 L145.107 313.229 L145.107 317.164 L131.033 317.164 L131.033 325.637 Q132.052 325.289 133.07 325.127 Q134.089 324.942 135.107 324.942 Q140.894 324.942 144.274 328.113 Q147.654 331.285 147.654 336.701 Q147.654 342.28 144.181 345.382 Q140.709 348.46 134.39 348.46 Q132.214 348.46 129.945 348.09 Q127.7 347.72 125.293 346.979 L125.293 342.28 Q127.376 343.414 129.598 343.97 Q131.82 344.525 134.297 344.525 Q138.302 344.525 140.64 342.419 Q142.978 340.312 142.978 336.701 Q142.978 333.09 140.64 330.984 Q138.302 328.877 134.297 328.877 Q132.422 328.877 130.547 329.294 Q128.695 329.711 126.751 330.59 L126.751 313.229 Z\" fill=\"#000000\" fill-rule=\"evenodd\" fill-opacity=\"1\" /><path clip-path=\"url(#clip430)\" d=\"M 0 0 M90.779 132.553 L98.4178 132.553 L98.4178 106.187 L90.1077 107.854 L90.1077 103.595 L98.3715 101.928 L103.047 101.928 L103.047 132.553 L110.686 132.553 L110.686 136.488 L90.779 136.488 L90.779 132.553 Z\" fill=\"#000000\" fill-rule=\"evenodd\" fill-opacity=\"1\" /><path clip-path=\"url(#clip430)\" d=\"M 0 0 M115.756 130.609 L120.64 130.609 L120.64 136.488 L115.756 136.488 L115.756 130.609 Z\" fill=\"#000000\" fill-rule=\"evenodd\" fill-opacity=\"1\" /><path clip-path=\"url(#clip430)\" d=\"M 0 0 M135.709 105.007 Q132.098 105.007 130.27 108.572 Q128.464 112.113 128.464 119.243 Q128.464 126.349 130.27 129.914 Q132.098 133.456 135.709 133.456 Q139.344 133.456 141.149 129.914 Q142.978 126.349 142.978 119.243 Q142.978 112.113 141.149 108.572 Q139.344 105.007 135.709 105.007 M135.709 101.303 Q141.519 101.303 144.575 105.91 Q147.654 110.493 147.654 119.243 Q147.654 127.97 144.575 132.576 Q141.519 137.159 135.709 137.159 Q129.899 137.159 126.82 132.576 Q123.765 127.97 123.765 119.243 Q123.765 110.493 126.82 105.91 Q129.899 101.303 135.709 101.303 Z\" fill=\"#000000\" fill-rule=\"evenodd\" fill-opacity=\"1\" /><polyline clip-path=\"url(#clip432)\" style=\"stroke:#009af9; stroke-width:4; stroke-opacity:1; fill:none\" points=\"\n",
       "  210.741,350.441 221.001,350.303 231.26,350.028 241.519,349.614 251.779,349.062 262.038,348.37 272.297,347.536 282.556,346.56 292.816,345.44 303.075,344.173 \n",
       "  313.334,342.757 323.593,341.191 333.853,339.47 344.112,337.592 354.371,335.554 364.63,333.352 374.89,330.984 385.149,328.444 395.408,325.729 405.667,322.835 \n",
       "  415.927,319.757 426.186,316.493 436.445,313.036 446.705,309.383 456.964,305.53 467.223,301.472 477.482,297.206 487.742,292.727 498.001,288.032 508.26,283.118 \n",
       "  518.519,277.983 528.779,272.624 539.038,267.04 549.297,261.231 559.556,255.197 569.816,248.941 580.075,242.465 590.334,235.776 600.594,228.879 610.853,221.785 \n",
       "  621.112,214.504 631.371,207.051 641.631,199.444 651.89,191.703 662.149,183.854 672.408,175.923 682.668,167.945 692.927,159.955 703.186,151.996 713.445,144.113 \n",
       "  723.705,136.357 733.964,128.781 744.223,121.445 754.483,114.408 764.742,107.734 775.001,101.488 785.26,95.7336 795.52,90.5342 805.779,85.9495 816.038,82.0349 \n",
       "  826.297,78.8394 836.557,76.4046 846.816,74.7628 857.075,73.9363 867.334,73.9363 877.594,74.7628 887.853,76.4046 898.112,78.8394 908.371,82.0349 918.631,85.9495 \n",
       "  928.89,90.5342 939.149,95.7336 949.409,101.488 959.668,107.734 969.927,114.408 980.186,121.445 990.446,128.781 1000.7,136.357 1010.96,144.113 1021.22,151.996 \n",
       "  1031.48,159.955 1041.74,167.945 1052,175.923 1062.26,183.854 1072.52,191.703 1082.78,199.444 1093.04,207.051 1103.3,214.504 1113.56,221.785 1123.82,228.879 \n",
       "  1134.08,235.776 1144.33,242.465 1154.59,248.941 1164.85,255.197 1175.11,261.231 1185.37,267.04 1195.63,272.624 1205.89,277.983 1216.15,283.118 1226.41,288.032 \n",
       "  1236.67,292.727 1246.93,297.206 1257.19,301.472 1267.45,305.53 1277.71,309.383 1287.96,313.036 1298.22,316.493 1308.48,319.757 1318.74,322.835 1329,325.729 \n",
       "  1339.26,328.444 1349.52,330.984 1359.78,333.352 1370.04,335.554 1380.3,337.592 1390.56,339.47 1400.82,341.191 1411.08,342.757 1421.33,344.173 1431.59,345.44 \n",
       "  1441.85,346.56 1452.11,347.536 1462.37,348.37 1472.63,349.062 1482.89,349.614 1493.15,350.028 1503.41,350.303 1513.67,350.441 \n",
       "  \"/>\n",
       "<polyline clip-path=\"url(#clip432)\" style=\"stroke:#e26f46; stroke-width:4; stroke-opacity:1; fill:none\" points=\"\n",
       "  210.741,121.076 221.001,121.31 231.26,121.573 241.519,121.869 251.779,122.202 262.038,122.577 272.297,122.998 282.556,123.472 292.816,124.005 303.075,124.604 \n",
       "  313.334,125.278 323.593,126.036 333.853,126.888 344.112,127.846 354.371,128.923 364.63,130.133 374.89,131.493 385.149,133.02 395.408,134.736 405.667,136.662 \n",
       "  415.927,138.825 426.186,141.252 436.445,143.974 446.705,147.028 456.964,150.451 467.223,154.285 477.482,158.579 487.742,163.384 498.001,168.758 508.26,174.763 \n",
       "  518.519,181.466 528.779,188.943 539.038,197.272 549.297,206.541 559.556,216.839 569.816,228.263 580.075,240.915 590.334,254.897 600.594,270.317 610.853,287.279 \n",
       "  621.112,305.886 631.371,326.234 641.631,348.407 651.89,372.475 662.149,398.485 672.408,426.458 682.668,456.376 692.927,488.179 703.186,521.753 713.445,556.925 \n",
       "  723.705,593.454 733.964,631.024 744.223,669.242 754.483,707.637 764.742,745.663 775.001,782.707 785.26,818.105 795.52,851.159 805.779,881.162 816.038,907.424 \n",
       "  826.297,929.307 836.557,946.254 846.816,957.814 857.075,963.676 867.334,963.676 877.594,957.814 887.853,946.254 898.112,929.307 908.371,907.424 918.631,881.162 \n",
       "  928.89,851.159 939.149,818.105 949.409,782.707 959.668,745.663 969.927,707.637 980.186,669.242 990.446,631.024 1000.7,593.454 1010.96,556.925 1021.22,521.753 \n",
       "  1031.48,488.179 1041.74,456.376 1052,426.458 1062.26,398.485 1072.52,372.475 1082.78,348.407 1093.04,326.234 1103.3,305.886 1113.56,287.279 1123.82,270.317 \n",
       "  1134.08,254.897 1144.33,240.915 1154.59,228.263 1164.85,216.839 1175.11,206.541 1185.37,197.272 1195.63,188.943 1205.89,181.466 1216.15,174.763 1226.41,168.758 \n",
       "  1236.67,163.384 1246.93,158.579 1257.19,154.285 1267.45,150.451 1277.71,147.028 1287.96,143.974 1298.22,141.252 1308.48,138.825 1318.74,136.662 1329,134.736 \n",
       "  1339.26,133.02 1349.52,131.493 1359.78,130.133 1370.04,128.923 1380.3,127.846 1390.56,126.888 1400.82,126.036 1411.08,125.278 1421.33,124.604 1431.59,124.005 \n",
       "  1441.85,123.472 1452.11,122.998 1462.37,122.577 1472.63,122.202 1482.89,121.869 1493.15,121.573 1503.41,121.31 1513.67,121.076 \n",
       "  \"/>\n",
       "<path clip-path=\"url(#clip430)\" d=\"\n",
       "M1218.15 958.93 L1506.72 958.93 L1506.72 777.49 L1218.15 777.49  Z\n",
       "  \" fill=\"#ffffff\" fill-rule=\"evenodd\" fill-opacity=\"1\"/>\n",
       "<polyline clip-path=\"url(#clip430)\" style=\"stroke:#000000; stroke-width:4; stroke-opacity:1; fill:none\" points=\"\n",
       "  1218.15,958.93 1506.72,958.93 1506.72,777.49 1218.15,777.49 1218.15,958.93 \n",
       "  \"/>\n",
       "<polyline clip-path=\"url(#clip430)\" style=\"stroke:#009af9; stroke-width:4; stroke-opacity:1; fill:none\" points=\"\n",
       "  1233.49,837.97 1325.57,837.97 \n",
       "  \"/>\n",
       "<path clip-path=\"url(#clip430)\" d=\"M 0 0 M1345.31 842.311 Q1345.31 847.01 1347.23 849.695 Q1349.18 852.357 1352.56 852.357 Q1355.94 852.357 1357.88 849.695 Q1359.82 847.01 1359.82 842.311 Q1359.82 837.612 1357.88 834.95 Q1355.94 832.264 1352.56 832.264 Q1349.18 832.264 1347.23 834.95 Q1345.31 837.612 1345.31 842.311 M1359.82 851.362 Q1358.48 853.676 1356.42 854.811 Q1354.39 855.922 1351.51 855.922 Q1346.82 855.922 1343.85 852.172 Q1340.91 848.422 1340.91 842.311 Q1340.91 836.2 1343.85 832.45 Q1346.82 828.7 1351.51 828.7 Q1354.39 828.7 1356.42 829.834 Q1358.48 830.945 1359.82 833.26 L1359.82 829.325 L1364.08 829.325 L1364.08 865.111 L1359.82 865.111 L1359.82 851.362 Z\" fill=\"#000000\" fill-rule=\"evenodd\" fill-opacity=\"1\" /><path clip-path=\"url(#clip430)\" d=\"M 0 0 M1378.78 819.278 Q1375.68 824.602 1374.18 829.811 Q1372.67 835.019 1372.67 840.366 Q1372.67 845.713 1374.18 850.968 Q1375.7 856.199 1378.78 861.5 L1375.08 861.5 Q1371.61 856.061 1369.87 850.806 Q1368.16 845.551 1368.16 840.366 Q1368.16 835.204 1369.87 829.973 Q1371.58 824.741 1375.08 819.278 L1378.78 819.278 Z\" fill=\"#000000\" fill-rule=\"evenodd\" fill-opacity=\"1\" /><path clip-path=\"url(#clip430)\" d=\"M 0 0 M1404.8 829.325 L1395.43 841.94 L1405.29 855.25 L1400.26 855.25 L1392.72 845.065 L1385.17 855.25 L1380.15 855.25 L1390.22 841.686 L1381.01 829.325 L1386.03 829.325 L1392.9 838.561 L1399.78 829.325 L1404.8 829.325 Z\" fill=\"#000000\" fill-rule=\"evenodd\" fill-opacity=\"1\" /><path clip-path=\"url(#clip430)\" d=\"M 0 0 M1410.84 849.371 L1415.73 849.371 L1415.73 853.352 L1411.93 860.76 L1408.95 860.76 L1410.84 853.352 L1410.84 849.371 Z\" fill=\"#000000\" fill-rule=\"evenodd\" fill-opacity=\"1\" /><path clip-path=\"url(#clip430)\" d=\"M 0 0 M1435.45 820.69 L1441.75 820.69 L1457.07 849.602 L1457.07 820.69 L1461.61 820.69 L1461.61 855.25 L1455.31 855.25 L1439.99 826.339 L1439.99 855.25 L1435.45 855.25 L1435.45 820.69 Z\" fill=\"#000000\" fill-rule=\"evenodd\" fill-opacity=\"1\" /><path clip-path=\"url(#clip430)\" d=\"M 0 0 M1465.4 819.278 L1469.11 819.278 Q1472.58 824.741 1474.29 829.973 Q1476.03 835.204 1476.03 840.366 Q1476.03 845.551 1474.29 850.806 Q1472.58 856.061 1469.11 861.5 L1465.4 861.5 Q1468.48 856.199 1469.99 850.968 Q1471.51 845.713 1471.51 840.366 Q1471.51 835.019 1469.99 829.811 Q1468.48 824.602 1465.4 819.278 Z\" fill=\"#000000\" fill-rule=\"evenodd\" fill-opacity=\"1\" /><polyline clip-path=\"url(#clip430)\" style=\"stroke:#e26f46; stroke-width:4; stroke-opacity:1; fill:none\" points=\"\n",
       "  1233.49,898.45 1325.57,898.45 \n",
       "  \"/>\n",
       "<path clip-path=\"url(#clip430)\" d=\"M 0 0 M1340.91 881.17 L1345.64 881.17 L1352.9 910.383 L1360.15 881.17 L1365.4 881.17 L1372.67 910.383 L1379.92 881.17 L1384.66 881.17 L1375.98 915.73 L1370.1 915.73 L1362.81 885.731 L1355.45 915.73 L1349.57 915.73 L1340.91 881.17 Z\" fill=\"#000000\" fill-rule=\"evenodd\" fill-opacity=\"1\" /><path clip-path=\"url(#clip430)\" d=\"M 0 0 M1399.36 879.758 Q1396.26 885.082 1394.76 890.291 Q1393.25 895.499 1393.25 900.846 Q1393.25 906.193 1394.76 911.448 Q1396.28 916.679 1399.36 921.98 L1395.66 921.98 Q1392.19 916.541 1390.45 911.286 Q1388.74 906.031 1388.74 900.846 Q1388.74 895.684 1390.45 890.453 Q1392.16 885.221 1395.66 879.758 L1399.36 879.758 Z\" fill=\"#000000\" fill-rule=\"evenodd\" fill-opacity=\"1\" /><path clip-path=\"url(#clip430)\" d=\"M 0 0 M1425.38 889.805 L1416.01 902.42 L1425.87 915.73 L1420.84 915.73 L1413.3 905.545 L1405.75 915.73 L1400.73 915.73 L1410.8 902.166 L1401.58 889.805 L1406.61 889.805 L1413.48 899.041 L1420.36 889.805 L1425.38 889.805 Z\" fill=\"#000000\" fill-rule=\"evenodd\" fill-opacity=\"1\" /><path clip-path=\"url(#clip430)\" d=\"M 0 0 M1429.66 879.758 L1433.37 879.758 Q1436.84 885.221 1438.55 890.453 Q1440.29 895.684 1440.29 900.846 Q1440.29 906.031 1438.55 911.286 Q1436.84 916.541 1433.37 921.98 L1429.66 921.98 Q1432.74 916.679 1434.25 911.448 Q1435.77 906.193 1435.77 900.846 Q1435.77 895.499 1434.25 890.291 Q1432.74 885.082 1429.66 879.758 Z\" fill=\"#000000\" fill-rule=\"evenodd\" fill-opacity=\"1\" /></svg>\n"
      ]
     },
     "execution_count": 24,
     "metadata": {},
     "output_type": "execute_result"
    }
   ],
   "source": [
    "plot(x, q[:,end], label = \"q(x, N)\")\n",
    "plot!(x, wx, label = \"W(x)\")\n",
    "\n",
    "plot!(legend = :bottomright, size = (400, 275))"
   ]
  },
  {
   "cell_type": "markdown",
   "metadata": {
    "hidden": true
   },
   "source": [
    "### Psuedo-Spectral Scheme - Sec. 3.6.2"
   ]
  },
  {
   "cell_type": "code",
   "execution_count": null,
   "metadata": {
    "hidden": true
   },
   "outputs": [],
   "source": [
    "N = 50\n",
    "b = 1/(sqrt(N/6))\n",
    "L = 10.0\n",
    "\n",
    "W(x, L) = 1 - 2*sech(3*(x - L/2)/2)^2\n",
    "\n",
    ";"
   ]
  },
  {
   "cell_type": "code",
   "execution_count": null,
   "metadata": {
    "hidden": true
   },
   "outputs": [],
   "source": [
    "Nx = 32\n",
    "Ns = 200\n",
    "\n",
    "dx = L/Nx\n",
    "ds = N/Ns\n",
    "\n",
    "x = collect(range(0; step = dx, length = Nx))\n",
    "wx = W.(x, L)\n",
    "\n",
    ";"
   ]
  },
  {
   "cell_type": "code",
   "execution_count": null,
   "metadata": {
    "hidden": true
   },
   "outputs": [],
   "source": [
    "q = zeros(Complex{Float64}, Nx, Ns)\n",
    "q[:,1] .= 1.0\n",
    "\n",
    "# Operators for solver\n",
    "LW = exp.(-(wx/N)*ds/2)\n",
    "\n",
    "LD = zeros(Nx)\n",
    "for idx = 0:Nx-1\n",
    "    jx = idx < Nx/2 ? idx : Nx-idx\n",
    "    LD[idx+1] = exp(-2*pi^2*b^2*ds*jx^2/(3*L^2))\n",
    "end\n",
    "\n",
    "for n = 1:Ns-1\n",
    "    qn13 = LW .* q[:,n]\n",
    "    an13 = fft(qn13)\n",
    "    hj = LD .* an13\n",
    "    qn23 = ifft(LD .* an13)\n",
    "    q[:,n+1] = LW .* qn23\n",
    "end\n",
    "\n",
    ";"
   ]
  },
  {
   "cell_type": "code",
   "execution_count": null,
   "metadata": {
    "hidden": true
   },
   "outputs": [],
   "source": [
    "Qw = sum(q[:, end]) / L\n",
    "rho = sum(q .* reverse(q, dims = 2), dims = 2) / L / Qw\n",
    "rho *= L / N\n",
    "\n",
    "\n",
    ";"
   ]
  },
  {
   "cell_type": "code",
   "execution_count": null,
   "metadata": {
    "hidden": true
   },
   "outputs": [],
   "source": [
    "plot(x, real(q[:,end]), label = \"q(x, N)\")\n",
    "plot!(x, real(rho), label = \"rho(x)\")\n",
    "plot!(x, wx, label = \"W(x)\")\n",
    "\n",
    "plot!(legend = :bottomright, size = (400, 275))"
   ]
  },
  {
   "cell_type": "markdown",
   "metadata": {
    "heading_collapsed": true,
    "hidden": true
   },
   "source": [
    "### Higher Dimensional Solver"
   ]
  },
  {
   "cell_type": "code",
   "execution_count": null,
   "metadata": {
    "hidden": true
   },
   "outputs": [],
   "source": [
    "N = 50\n",
    "b = 1/(sqrt(N/6))\n",
    "Lx = 20.0\n",
    "Ly = 20.0\n",
    "\n",
    "e1 = [Lx, 0.0]\n",
    "e2 = [0.0, Ly]\n",
    "\n",
    "#W(x, y, Lx, Ly) = cos(3*pi*x/Lx) * sin(4*pi*y/Ly)\n",
    "W(x, y, Lx, Ly) = (1 - 2*(sech(3(y - Ly/2)/2))^2) * (1 - 2*(sech(3(x - Lx/2)/2))^2)\n",
    "\n",
    ";"
   ]
  },
  {
   "cell_type": "code",
   "execution_count": null,
   "metadata": {
    "hidden": true
   },
   "outputs": [],
   "source": [
    "Nx = 64\n",
    "Ny = 64\n",
    "\n",
    "dx = Lx/Nx\n",
    "dy = Ly/Ny\n",
    "\n",
    "ds = 0.1\n",
    "Ns = trunc(Int, N/ds)\n",
    "\n",
    "x = collect(range(0; length = Nx, step = dx))\n",
    "y = collect(range(0; length = Ny, step = dy))\n",
    "\n",
    "wr = zeros(Nx, Ny)\n",
    "for i = 1:Nx\n",
    "    for j = 1:Ny\n",
    "        wr[i, j] = W(x[i], y[j], Lx, Ly)\n",
    "    end\n",
    "end\n",
    "\n",
    ";"
   ]
  },
  {
   "cell_type": "code",
   "execution_count": null,
   "metadata": {
    "hidden": true
   },
   "outputs": [],
   "source": [
    "q = zeros(Complex{Float64}, Nx, Ny, Ns)\n",
    "q[:, :, 1] .= 1.0\n",
    "\n",
    "# Operators for solver\n",
    "LW = zeros(Nx, Ny)\n",
    "LD = zeros(Nx, Ny)\n",
    "\n",
    "@. LW = exp(-(wr/N)*ds/2)\n",
    "\n",
    "for idx in CartesianIndices((1:Nx, 1:Ny))\n",
    "    jx = idx[1] <= Nx/2 ? idx[1] : Nx-idx[1]\n",
    "    jy = idx[2] <= Ny/2 ? idx[2] : Ny-idx[2]\n",
    "    \n",
    "    LD[idx] = exp(-2*pi^2*b^2*ds*jx^2/(3*Lx^2)) * exp(-2*pi^2*b^2*ds*jy^2/(3*Ly^2))\n",
    "end\n",
    "\n",
    "function mde_solve!(q, LW, LD)\n",
    "    Nx, Ny, Ns = size(q)\n",
    "    \n",
    "    FT = plan_fft(q[:, :, 1])\n",
    "    iFT = inv(FT)\n",
    "    qh =  zeros(Complex{Float64}, Nx, Ny)\n",
    "    \n",
    "    @views for n = 2:Ns\n",
    "        q[:, :, n] .= LW .* q[:, :, n-1]\n",
    "        mul!(qh, FT, q[:, :, n])\n",
    "        qh .*= LD\n",
    "        mul!(q[:, :, n], iFT, qh)\n",
    "        q[:, :, n] .*= LW\n",
    "    end \n",
    "end\n",
    "\n",
    "@time mde_solve!(q, LW, LD)"
   ]
  },
  {
   "cell_type": "code",
   "execution_count": null,
   "metadata": {
    "hidden": true
   },
   "outputs": [],
   "source": [
    "Qw = sum(q[:, :, end]) / Lx / Ly\n",
    "rho = dropdims(sum(q .* reverse(q, dims = 3), dims = 3), dims = 3) / Lx / Ly / Qw\n",
    "rho *= Lx * Ly / N\n",
    "\n",
    "\n",
    ";"
   ]
  },
  {
   "cell_type": "code",
   "execution_count": null,
   "metadata": {
    "hidden": true,
    "scrolled": false
   },
   "outputs": [],
   "source": [
    "plot(x, y, wr, st = :surface, color = :blues)\n",
    "plot!(x, y, real(q[:,:,end]), st = :surface, color = :reds)"
   ]
  },
  {
   "cell_type": "markdown",
   "metadata": {},
   "source": [
    "# SCFT Program"
   ]
  },
  {
   "cell_type": "code",
   "execution_count": 215,
   "metadata": {},
   "outputs": [],
   "source": [
    "dims = (32, 1, 1)\n",
    "cell = UnitCell(1, :lamellar, 10.0)\n",
    "\n",
    "amon = Monomer(; id = 1, vol = 1.0, charge = 0.0)\n",
    "bmon = Monomer(; id = 2, vol = 1.0, charge = 0.0)\n",
    "chain = Diblock(amon, bmon, 100, 0.5, 1.0, 1.0, 100)\n",
    "\n",
    "itx = FloryInteraction()\n",
    "set_interaction!(itx, amon.id, bmon.id, 0.2)\n",
    "\n",
    "sys = FieldSystem(dims, cell; monomers = [amon, bmon, cmon], ensemble = Canonical)\n",
    "add_species!(sys, chain, 1.0)\n",
    "add_interaction!(sys, itx)"
   ]
  },
  {
   "cell_type": "code",
   "execution_count": 247,
   "metadata": {
    "scrolled": false
   },
   "outputs": [
    {
     "data": {
      "text/plain": [
       "0.06847971802125785"
      ]
     },
     "execution_count": 247,
     "metadata": {},
     "output_type": "execute_result"
    }
   ],
   "source": [
    "fieldinit!(sys; scale = 0.1, seed = 12345)\n",
    "\n",
    "u1 = updater_with_system(EulerUpdater, sys; lam = 0.005, method = :PECE)\n",
    "u2 = updater_with_system(MomentumUpdater, sys; method = :NAG, lam = 0.005)\n",
    "u3 = updater_with_system(AndersonUpdater, sys; nhist = 5)\n",
    "\n",
    "for i = 1:10; step!(u1); end\n",
    "@test free_energy(sys) ≈ 0.07127488574671817\n",
    "\n",
    "for i = 1:10; step!(u2); end\n",
    "@test free_energy(sys) ≈ 0.06786701231878992\n",
    "\n",
    "for i = 1:10; step!(u3); end\n",
    "free_energy(sys)"
   ]
  },
  {
   "cell_type": "code",
   "execution_count": null,
   "metadata": {},
   "outputs": [],
   "source": []
  },
  {
   "cell_type": "code",
   "execution_count": 246,
   "metadata": {
    "scrolled": false
   },
   "outputs": [
    {
     "data": {
      "image/svg+xml": [
       "<?xml version=\"1.0\" encoding=\"utf-8\"?>\n",
       "<svg xmlns=\"http://www.w3.org/2000/svg\" xmlns:xlink=\"http://www.w3.org/1999/xlink\" width=\"600\" height=\"400\" viewBox=\"0 0 2400 1600\">\n",
       "<defs>\n",
       "  <clipPath id=\"clip490\">\n",
       "    <rect x=\"0\" y=\"0\" width=\"2400\" height=\"1600\"/>\n",
       "  </clipPath>\n",
       "</defs>\n",
       "<path clip-path=\"url(#clip490)\" d=\"\n",
       "M0 1600 L2400 1600 L2400 0 L0 0  Z\n",
       "  \" fill=\"#ffffff\" fill-rule=\"evenodd\" fill-opacity=\"1\"/>\n",
       "<defs>\n",
       "  <clipPath id=\"clip491\">\n",
       "    <rect x=\"480\" y=\"0\" width=\"1681\" height=\"1600\"/>\n",
       "  </clipPath>\n",
       "</defs>\n",
       "<path clip-path=\"url(#clip490)\" d=\"\n",
       "M173.867 1486.45 L2352.76 1486.45 L2352.76 47.2441 L173.867 47.2441  Z\n",
       "  \" fill=\"#ffffff\" fill-rule=\"evenodd\" fill-opacity=\"1\"/>\n",
       "<defs>\n",
       "  <clipPath id=\"clip492\">\n",
       "    <rect x=\"173\" y=\"47\" width=\"2180\" height=\"1440\"/>\n",
       "  </clipPath>\n",
       "</defs>\n",
       "<polyline clip-path=\"url(#clip492)\" style=\"stroke:#000000; stroke-width:2; stroke-opacity:0.1; fill:none\" points=\"\n",
       "  500.766,1486.45 500.766,47.2441 \n",
       "  \"/>\n",
       "<polyline clip-path=\"url(#clip492)\" style=\"stroke:#000000; stroke-width:2; stroke-opacity:0.1; fill:none\" points=\"\n",
       "  832.308,1486.45 832.308,47.2441 \n",
       "  \"/>\n",
       "<polyline clip-path=\"url(#clip492)\" style=\"stroke:#000000; stroke-width:2; stroke-opacity:0.1; fill:none\" points=\"\n",
       "  1163.85,1486.45 1163.85,47.2441 \n",
       "  \"/>\n",
       "<polyline clip-path=\"url(#clip492)\" style=\"stroke:#000000; stroke-width:2; stroke-opacity:0.1; fill:none\" points=\"\n",
       "  1495.39,1486.45 1495.39,47.2441 \n",
       "  \"/>\n",
       "<polyline clip-path=\"url(#clip492)\" style=\"stroke:#000000; stroke-width:2; stroke-opacity:0.1; fill:none\" points=\"\n",
       "  1826.93,1486.45 1826.93,47.2441 \n",
       "  \"/>\n",
       "<polyline clip-path=\"url(#clip492)\" style=\"stroke:#000000; stroke-width:2; stroke-opacity:0.1; fill:none\" points=\"\n",
       "  2158.47,1486.45 2158.47,47.2441 \n",
       "  \"/>\n",
       "<polyline clip-path=\"url(#clip490)\" style=\"stroke:#000000; stroke-width:4; stroke-opacity:1; fill:none\" points=\"\n",
       "  173.867,1486.45 2352.76,1486.45 \n",
       "  \"/>\n",
       "<polyline clip-path=\"url(#clip490)\" style=\"stroke:#000000; stroke-width:4; stroke-opacity:1; fill:none\" points=\"\n",
       "  500.766,1486.45 500.766,1469.18 \n",
       "  \"/>\n",
       "<polyline clip-path=\"url(#clip490)\" style=\"stroke:#000000; stroke-width:4; stroke-opacity:1; fill:none\" points=\"\n",
       "  832.308,1486.45 832.308,1469.18 \n",
       "  \"/>\n",
       "<polyline clip-path=\"url(#clip490)\" style=\"stroke:#000000; stroke-width:4; stroke-opacity:1; fill:none\" points=\"\n",
       "  1163.85,1486.45 1163.85,1469.18 \n",
       "  \"/>\n",
       "<polyline clip-path=\"url(#clip490)\" style=\"stroke:#000000; stroke-width:4; stroke-opacity:1; fill:none\" points=\"\n",
       "  1495.39,1486.45 1495.39,1469.18 \n",
       "  \"/>\n",
       "<polyline clip-path=\"url(#clip490)\" style=\"stroke:#000000; stroke-width:4; stroke-opacity:1; fill:none\" points=\"\n",
       "  1826.93,1486.45 1826.93,1469.18 \n",
       "  \"/>\n",
       "<polyline clip-path=\"url(#clip490)\" style=\"stroke:#000000; stroke-width:4; stroke-opacity:1; fill:none\" points=\"\n",
       "  2158.47,1486.45 2158.47,1469.18 \n",
       "  \"/>\n",
       "<path clip-path=\"url(#clip490)\" d=\"M 0 0 M491.044 1512.56 L509.401 1512.56 L509.401 1516.5 L495.327 1516.5 L495.327 1524.97 Q496.345 1524.62 497.364 1524.46 Q498.382 1524.27 499.401 1524.27 Q505.188 1524.27 508.567 1527.44 Q511.947 1530.62 511.947 1536.03 Q511.947 1541.61 508.475 1544.71 Q505.002 1547.79 498.683 1547.79 Q496.507 1547.79 494.239 1547.42 Q491.993 1547.05 489.586 1546.31 L489.586 1541.61 Q491.669 1542.74 493.891 1543.3 Q496.114 1543.86 498.59 1543.86 Q502.595 1543.86 504.933 1541.75 Q507.271 1539.64 507.271 1536.03 Q507.271 1532.42 504.933 1530.31 Q502.595 1528.21 498.59 1528.21 Q496.715 1528.21 494.84 1528.62 Q492.989 1529.04 491.044 1529.92 L491.044 1512.56 Z\" fill=\"#000000\" fill-rule=\"evenodd\" fill-opacity=\"1\" /><path clip-path=\"url(#clip490)\" d=\"M 0 0 M809.183 1543.18 L816.822 1543.18 L816.822 1516.82 L808.511 1518.49 L808.511 1514.23 L816.775 1512.56 L821.451 1512.56 L821.451 1543.18 L829.09 1543.18 L829.09 1547.12 L809.183 1547.12 L809.183 1543.18 Z\" fill=\"#000000\" fill-rule=\"evenodd\" fill-opacity=\"1\" /><path clip-path=\"url(#clip490)\" d=\"M 0 0 M844.159 1515.64 Q840.548 1515.64 838.72 1519.2 Q836.914 1522.75 836.914 1529.87 Q836.914 1536.98 838.72 1540.55 Q840.548 1544.09 844.159 1544.09 Q847.794 1544.09 849.599 1540.55 Q851.428 1536.98 851.428 1529.87 Q851.428 1522.75 849.599 1519.2 Q847.794 1515.64 844.159 1515.64 M844.159 1511.93 Q849.97 1511.93 853.025 1516.54 Q856.104 1521.12 856.104 1529.87 Q856.104 1538.6 853.025 1543.21 Q849.97 1547.79 844.159 1547.79 Q838.349 1547.79 835.271 1543.21 Q832.215 1538.6 832.215 1529.87 Q832.215 1521.12 835.271 1516.54 Q838.349 1511.93 844.159 1511.93 Z\" fill=\"#000000\" fill-rule=\"evenodd\" fill-opacity=\"1\" /><path clip-path=\"url(#clip490)\" d=\"M 0 0 M1141.22 1543.18 L1148.86 1543.18 L1148.86 1516.82 L1140.55 1518.49 L1140.55 1514.23 L1148.81 1512.56 L1153.49 1512.56 L1153.49 1543.18 L1161.13 1543.18 L1161.13 1547.12 L1141.22 1547.12 L1141.22 1543.18 Z\" fill=\"#000000\" fill-rule=\"evenodd\" fill-opacity=\"1\" /><path clip-path=\"url(#clip490)\" d=\"M 0 0 M1166.24 1512.56 L1184.6 1512.56 L1184.6 1516.5 L1170.53 1516.5 L1170.53 1524.97 Q1171.55 1524.62 1172.56 1524.46 Q1173.58 1524.27 1174.6 1524.27 Q1180.39 1524.27 1183.77 1527.44 Q1187.15 1530.62 1187.15 1536.03 Q1187.15 1541.61 1183.68 1544.71 Q1180.2 1547.79 1173.88 1547.79 Q1171.71 1547.79 1169.44 1547.42 Q1167.19 1547.05 1164.79 1546.31 L1164.79 1541.61 Q1166.87 1542.74 1169.09 1543.3 Q1171.31 1543.86 1173.79 1543.86 Q1177.8 1543.86 1180.13 1541.75 Q1182.47 1539.64 1182.47 1536.03 Q1182.47 1532.42 1180.13 1530.31 Q1177.8 1528.21 1173.79 1528.21 Q1171.92 1528.21 1170.04 1528.62 Q1168.19 1529.04 1166.24 1529.92 L1166.24 1512.56 Z\" fill=\"#000000\" fill-rule=\"evenodd\" fill-opacity=\"1\" /><path clip-path=\"url(#clip490)\" d=\"M 0 0 M1476.54 1543.18 L1492.86 1543.18 L1492.86 1547.12 L1470.91 1547.12 L1470.91 1543.18 Q1473.57 1540.43 1478.16 1535.8 Q1482.76 1531.15 1483.94 1529.81 Q1486.19 1527.28 1487.07 1525.55 Q1487.97 1523.79 1487.97 1522.1 Q1487.97 1519.34 1486.03 1517.61 Q1484.11 1515.87 1481 1515.87 Q1478.8 1515.87 1476.35 1516.63 Q1473.92 1517.4 1471.14 1518.95 L1471.14 1514.23 Q1473.97 1513.09 1476.42 1512.51 Q1478.87 1511.93 1480.91 1511.93 Q1486.28 1511.93 1489.48 1514.62 Q1492.67 1517.31 1492.67 1521.8 Q1492.67 1523.93 1491.86 1525.85 Q1491.07 1527.74 1488.97 1530.34 Q1488.39 1531.01 1485.29 1534.23 Q1482.18 1537.42 1476.54 1543.18 Z\" fill=\"#000000\" fill-rule=\"evenodd\" fill-opacity=\"1\" /><path clip-path=\"url(#clip490)\" d=\"M 0 0 M1507.92 1515.64 Q1504.31 1515.64 1502.49 1519.2 Q1500.68 1522.75 1500.68 1529.87 Q1500.68 1536.98 1502.49 1540.55 Q1504.31 1544.09 1507.92 1544.09 Q1511.56 1544.09 1513.36 1540.55 Q1515.19 1536.98 1515.19 1529.87 Q1515.19 1522.75 1513.36 1519.2 Q1511.56 1515.64 1507.92 1515.64 M1507.92 1511.93 Q1513.73 1511.93 1516.79 1516.54 Q1519.87 1521.12 1519.87 1529.87 Q1519.87 1538.6 1516.79 1543.21 Q1513.73 1547.79 1507.92 1547.79 Q1502.11 1547.79 1499.04 1543.21 Q1495.98 1538.6 1495.98 1529.87 Q1495.98 1521.12 1499.04 1516.54 Q1502.11 1511.93 1507.92 1511.93 Z\" fill=\"#000000\" fill-rule=\"evenodd\" fill-opacity=\"1\" /><path clip-path=\"url(#clip490)\" d=\"M 0 0 M1808.58 1543.18 L1824.89 1543.18 L1824.89 1547.12 L1802.95 1547.12 L1802.95 1543.18 Q1805.61 1540.43 1810.2 1535.8 Q1814.8 1531.15 1815.98 1529.81 Q1818.23 1527.28 1819.11 1525.55 Q1820.01 1523.79 1820.01 1522.1 Q1820.01 1519.34 1818.07 1517.61 Q1816.14 1515.87 1813.04 1515.87 Q1810.84 1515.87 1808.39 1516.63 Q1805.96 1517.4 1803.18 1518.95 L1803.18 1514.23 Q1806.01 1513.09 1808.46 1512.51 Q1810.91 1511.93 1812.95 1511.93 Q1818.32 1511.93 1821.51 1514.62 Q1824.71 1517.31 1824.71 1521.8 Q1824.71 1523.93 1823.9 1525.85 Q1823.11 1527.74 1821.01 1530.34 Q1820.43 1531.01 1817.33 1534.23 Q1814.22 1537.42 1808.58 1543.18 Z\" fill=\"#000000\" fill-rule=\"evenodd\" fill-opacity=\"1\" /><path clip-path=\"url(#clip490)\" d=\"M 0 0 M1830.01 1512.56 L1848.37 1512.56 L1848.37 1516.5 L1834.29 1516.5 L1834.29 1524.97 Q1835.31 1524.62 1836.33 1524.46 Q1837.35 1524.27 1838.37 1524.27 Q1844.15 1524.27 1847.53 1527.44 Q1850.91 1530.62 1850.91 1536.03 Q1850.91 1541.61 1847.44 1544.71 Q1843.97 1547.79 1837.65 1547.79 Q1835.47 1547.79 1833.2 1547.42 Q1830.96 1547.05 1828.55 1546.31 L1828.55 1541.61 Q1830.64 1542.74 1832.86 1543.3 Q1835.08 1543.86 1837.56 1543.86 Q1841.56 1543.86 1843.9 1541.75 Q1846.24 1539.64 1846.24 1536.03 Q1846.24 1532.42 1843.9 1530.31 Q1841.56 1528.21 1837.56 1528.21 Q1835.68 1528.21 1833.81 1528.62 Q1831.95 1529.04 1830.01 1529.92 L1830.01 1512.56 Z\" fill=\"#000000\" fill-rule=\"evenodd\" fill-opacity=\"1\" /><path clip-path=\"url(#clip490)\" d=\"M 0 0 M2149.21 1528.49 Q2152.57 1529.2 2154.44 1531.47 Q2156.34 1533.74 2156.34 1537.07 Q2156.34 1542.19 2152.82 1544.99 Q2149.31 1547.79 2142.82 1547.79 Q2140.65 1547.79 2138.33 1547.35 Q2136.04 1546.93 2133.59 1546.08 L2133.59 1541.56 Q2135.53 1542.7 2137.85 1543.28 Q2140.16 1543.86 2142.69 1543.86 Q2147.08 1543.86 2149.38 1542.12 Q2151.69 1540.38 2151.69 1537.07 Q2151.69 1534.02 2149.54 1532.31 Q2147.41 1530.57 2143.59 1530.57 L2139.56 1530.57 L2139.56 1526.73 L2143.77 1526.73 Q2147.22 1526.73 2149.05 1525.36 Q2150.88 1523.97 2150.88 1521.38 Q2150.88 1518.72 2148.98 1517.31 Q2147.11 1515.87 2143.59 1515.87 Q2141.67 1515.87 2139.47 1516.29 Q2137.27 1516.7 2134.63 1517.58 L2134.63 1513.42 Q2137.29 1512.68 2139.61 1512.31 Q2141.95 1511.93 2144.01 1511.93 Q2149.33 1511.93 2152.43 1514.37 Q2155.53 1516.77 2155.53 1520.89 Q2155.53 1523.76 2153.89 1525.75 Q2152.25 1527.72 2149.21 1528.49 Z\" fill=\"#000000\" fill-rule=\"evenodd\" fill-opacity=\"1\" /><path clip-path=\"url(#clip490)\" d=\"M 0 0 M2171.41 1515.64 Q2167.8 1515.64 2165.97 1519.2 Q2164.17 1522.75 2164.17 1529.87 Q2164.17 1536.98 2165.97 1540.55 Q2167.8 1544.09 2171.41 1544.09 Q2175.05 1544.09 2176.85 1540.55 Q2178.68 1536.98 2178.68 1529.87 Q2178.68 1522.75 2176.85 1519.2 Q2175.05 1515.64 2171.41 1515.64 M2171.41 1511.93 Q2177.22 1511.93 2180.28 1516.54 Q2183.36 1521.12 2183.36 1529.87 Q2183.36 1538.6 2180.28 1543.21 Q2177.22 1547.79 2171.41 1547.79 Q2165.6 1547.79 2162.52 1543.21 Q2159.47 1538.6 2159.47 1529.87 Q2159.47 1521.12 2162.52 1516.54 Q2165.6 1511.93 2171.41 1511.93 Z\" fill=\"#000000\" fill-rule=\"evenodd\" fill-opacity=\"1\" /><polyline clip-path=\"url(#clip492)\" style=\"stroke:#000000; stroke-width:2; stroke-opacity:0.1; fill:none\" points=\"\n",
       "  173.867,1263.16 2352.76,1263.16 \n",
       "  \"/>\n",
       "<polyline clip-path=\"url(#clip492)\" style=\"stroke:#000000; stroke-width:2; stroke-opacity:0.1; fill:none\" points=\"\n",
       "  173.867,993.973 2352.76,993.973 \n",
       "  \"/>\n",
       "<polyline clip-path=\"url(#clip492)\" style=\"stroke:#000000; stroke-width:2; stroke-opacity:0.1; fill:none\" points=\"\n",
       "  173.867,724.791 2352.76,724.791 \n",
       "  \"/>\n",
       "<polyline clip-path=\"url(#clip492)\" style=\"stroke:#000000; stroke-width:2; stroke-opacity:0.1; fill:none\" points=\"\n",
       "  173.867,455.609 2352.76,455.609 \n",
       "  \"/>\n",
       "<polyline clip-path=\"url(#clip492)\" style=\"stroke:#000000; stroke-width:2; stroke-opacity:0.1; fill:none\" points=\"\n",
       "  173.867,186.427 2352.76,186.427 \n",
       "  \"/>\n",
       "<polyline clip-path=\"url(#clip490)\" style=\"stroke:#000000; stroke-width:4; stroke-opacity:1; fill:none\" points=\"\n",
       "  173.867,1486.45 173.867,47.2441 \n",
       "  \"/>\n",
       "<polyline clip-path=\"url(#clip490)\" style=\"stroke:#000000; stroke-width:4; stroke-opacity:1; fill:none\" points=\"\n",
       "  173.867,1263.16 200.013,1263.16 \n",
       "  \"/>\n",
       "<polyline clip-path=\"url(#clip490)\" style=\"stroke:#000000; stroke-width:4; stroke-opacity:1; fill:none\" points=\"\n",
       "  173.867,993.973 200.013,993.973 \n",
       "  \"/>\n",
       "<polyline clip-path=\"url(#clip490)\" style=\"stroke:#000000; stroke-width:4; stroke-opacity:1; fill:none\" points=\"\n",
       "  173.867,724.791 200.013,724.791 \n",
       "  \"/>\n",
       "<polyline clip-path=\"url(#clip490)\" style=\"stroke:#000000; stroke-width:4; stroke-opacity:1; fill:none\" points=\"\n",
       "  173.867,455.609 200.013,455.609 \n",
       "  \"/>\n",
       "<polyline clip-path=\"url(#clip490)\" style=\"stroke:#000000; stroke-width:4; stroke-opacity:1; fill:none\" points=\"\n",
       "  173.867,186.427 200.013,186.427 \n",
       "  \"/>\n",
       "<path clip-path=\"url(#clip490)\" d=\"M 0 0 M64.5337 1248.95 Q60.9226 1248.95 59.0939 1252.52 Q57.2884 1256.06 57.2884 1263.19 Q57.2884 1270.3 59.0939 1273.86 Q60.9226 1277.4 64.5337 1277.4 Q68.168 1277.4 69.9735 1273.86 Q71.8022 1270.3 71.8022 1263.19 Q71.8022 1256.06 69.9735 1252.52 Q68.168 1248.95 64.5337 1248.95 M64.5337 1245.25 Q70.3439 1245.25 73.3994 1249.86 Q76.4781 1254.44 76.4781 1263.19 Q76.4781 1271.92 73.3994 1276.52 Q70.3439 1281.11 64.5337 1281.11 Q58.7236 1281.11 55.6449 1276.52 Q52.5893 1271.92 52.5893 1263.19 Q52.5893 1254.44 55.6449 1249.86 Q58.7236 1245.25 64.5337 1245.25 Z\" fill=\"#000000\" fill-rule=\"evenodd\" fill-opacity=\"1\" /><path clip-path=\"url(#clip490)\" d=\"M 0 0 M81.5475 1274.56 L86.4318 1274.56 L86.4318 1280.44 L81.5475 1280.44 L81.5475 1274.56 Z\" fill=\"#000000\" fill-rule=\"evenodd\" fill-opacity=\"1\" /><path clip-path=\"url(#clip490)\" d=\"M 0 0 M95.5289 1276.5 L111.848 1276.5 L111.848 1280.44 L89.904 1280.44 L89.904 1276.5 Q92.566 1273.75 97.1493 1269.12 Q101.756 1264.46 102.936 1263.12 Q105.182 1260.6 106.061 1258.86 Q106.964 1257.1 106.964 1255.41 Q106.964 1252.66 105.02 1250.92 Q103.098 1249.19 99.9965 1249.19 Q97.7974 1249.19 95.3437 1249.95 Q92.9132 1250.71 90.1354 1252.26 L90.1354 1247.54 Q92.9595 1246.41 95.4132 1245.83 Q97.8669 1245.25 99.9039 1245.25 Q105.274 1245.25 108.469 1247.94 Q111.663 1250.62 111.663 1255.11 Q111.663 1257.24 110.853 1259.16 Q110.066 1261.06 107.959 1263.65 Q107.381 1264.32 104.279 1267.54 Q101.177 1270.74 95.5289 1276.5 Z\" fill=\"#000000\" fill-rule=\"evenodd\" fill-opacity=\"1\" /><path clip-path=\"url(#clip490)\" d=\"M 0 0 M116.964 1245.88 L135.32 1245.88 L135.32 1249.81 L121.246 1249.81 L121.246 1258.28 Q122.265 1257.94 123.283 1257.77 Q124.302 1257.59 125.32 1257.59 Q131.107 1257.59 134.487 1260.76 Q137.867 1263.93 137.867 1269.35 Q137.867 1274.93 134.394 1278.03 Q130.922 1281.11 124.603 1281.11 Q122.427 1281.11 120.158 1280.74 Q117.913 1280.37 115.506 1279.63 L115.506 1274.93 Q117.589 1276.06 119.811 1276.62 Q122.033 1277.17 124.51 1277.17 Q128.515 1277.17 130.853 1275.06 Q133.191 1272.96 133.191 1269.35 Q133.191 1265.74 130.853 1263.63 Q128.515 1261.52 124.51 1261.52 Q122.635 1261.52 120.76 1261.94 Q118.908 1262.36 116.964 1263.24 L116.964 1245.88 Z\" fill=\"#000000\" fill-rule=\"evenodd\" fill-opacity=\"1\" /><path clip-path=\"url(#clip490)\" d=\"M 0 0 M62.9365 979.772 Q59.3254 979.772 57.4967 983.337 Q55.6912 986.878 55.6912 994.008 Q55.6912 1001.11 57.4967 1004.68 Q59.3254 1008.22 62.9365 1008.22 Q66.5707 1008.22 68.3763 1004.68 Q70.205 1001.11 70.205 994.008 Q70.205 986.878 68.3763 983.337 Q66.5707 979.772 62.9365 979.772 M62.9365 976.068 Q68.7467 976.068 71.8022 980.675 Q74.8809 985.258 74.8809 994.008 Q74.8809 1002.73 71.8022 1007.34 Q68.7467 1011.92 62.9365 1011.92 Q57.1264 1011.92 54.0477 1007.34 Q50.9921 1002.73 50.9921 994.008 Q50.9921 985.258 54.0477 980.675 Q57.1264 976.068 62.9365 976.068 Z\" fill=\"#000000\" fill-rule=\"evenodd\" fill-opacity=\"1\" /><path clip-path=\"url(#clip490)\" d=\"M 0 0 M79.9503 1005.37 L84.8345 1005.37 L84.8345 1011.25 L79.9503 1011.25 L79.9503 1005.37 Z\" fill=\"#000000\" fill-rule=\"evenodd\" fill-opacity=\"1\" /><path clip-path=\"url(#clip490)\" d=\"M 0 0 M89.9503 976.693 L108.307 976.693 L108.307 980.628 L94.2326 980.628 L94.2326 989.101 Q95.2511 988.753 96.2697 988.591 Q97.2882 988.406 98.3067 988.406 Q104.094 988.406 107.473 991.577 Q110.853 994.749 110.853 1000.17 Q110.853 1005.74 107.381 1008.85 Q103.909 1011.92 97.5891 1011.92 Q95.4132 1011.92 93.1447 1011.55 Q90.8993 1011.18 88.4919 1010.44 L88.4919 1005.74 Q90.5752 1006.88 92.7975 1007.43 Q95.0197 1007.99 97.4965 1007.99 Q101.501 1007.99 103.839 1005.88 Q106.177 1003.78 106.177 1000.17 Q106.177 996.554 103.839 994.448 Q101.501 992.341 97.4965 992.341 Q95.6215 992.341 93.7465 992.758 Q91.8947 993.175 89.9503 994.054 L89.9503 976.693 Z\" fill=\"#000000\" fill-rule=\"evenodd\" fill-opacity=\"1\" /><path clip-path=\"url(#clip490)\" d=\"M 0 0 M125.922 979.772 Q122.311 979.772 120.482 983.337 Q118.677 986.878 118.677 994.008 Q118.677 1001.11 120.482 1004.68 Q122.311 1008.22 125.922 1008.22 Q129.557 1008.22 131.362 1004.68 Q133.191 1001.11 133.191 994.008 Q133.191 986.878 131.362 983.337 Q129.557 979.772 125.922 979.772 M125.922 976.068 Q131.732 976.068 134.788 980.675 Q137.867 985.258 137.867 994.008 Q137.867 1002.73 134.788 1007.34 Q131.732 1011.92 125.922 1011.92 Q120.112 1011.92 117.033 1007.34 Q113.978 1002.73 113.978 994.008 Q113.978 985.258 117.033 980.675 Q120.112 976.068 125.922 976.068 Z\" fill=\"#000000\" fill-rule=\"evenodd\" fill-opacity=\"1\" /><path clip-path=\"url(#clip490)\" d=\"M 0 0 M63.8393 710.59 Q60.2282 710.59 58.3995 714.155 Q56.5939 717.696 56.5939 724.826 Q56.5939 731.932 58.3995 735.497 Q60.2282 739.039 63.8393 739.039 Q67.4735 739.039 69.2791 735.497 Q71.1078 731.932 71.1078 724.826 Q71.1078 717.696 69.2791 714.155 Q67.4735 710.59 63.8393 710.59 M63.8393 706.886 Q69.6494 706.886 72.705 711.493 Q75.7837 716.076 75.7837 724.826 Q75.7837 733.553 72.705 738.159 Q69.6494 742.742 63.8393 742.742 Q58.0291 742.742 54.9504 738.159 Q51.8949 733.553 51.8949 724.826 Q51.8949 716.076 54.9504 711.493 Q58.0291 706.886 63.8393 706.886 Z\" fill=\"#000000\" fill-rule=\"evenodd\" fill-opacity=\"1\" /><path clip-path=\"url(#clip490)\" d=\"M 0 0 M80.8531 736.191 L85.7373 736.191 L85.7373 742.071 L80.8531 742.071 L80.8531 736.191 Z\" fill=\"#000000\" fill-rule=\"evenodd\" fill-opacity=\"1\" /><path clip-path=\"url(#clip490)\" d=\"M 0 0 M89.6262 707.511 L111.848 707.511 L111.848 709.502 L99.3021 742.071 L94.4178 742.071 L106.223 711.446 L89.6262 711.446 L89.6262 707.511 Z\" fill=\"#000000\" fill-rule=\"evenodd\" fill-opacity=\"1\" /><path clip-path=\"url(#clip490)\" d=\"M 0 0 M116.964 707.511 L135.32 707.511 L135.32 711.446 L121.246 711.446 L121.246 719.918 Q122.265 719.571 123.283 719.409 Q124.302 719.224 125.32 719.224 Q131.107 719.224 134.487 722.395 Q137.867 725.567 137.867 730.983 Q137.867 736.562 134.394 739.664 Q130.922 742.742 124.603 742.742 Q122.427 742.742 120.158 742.372 Q117.913 742.002 115.506 741.261 L115.506 736.562 Q117.589 737.696 119.811 738.252 Q122.033 738.807 124.51 738.807 Q128.515 738.807 130.853 736.701 Q133.191 734.594 133.191 730.983 Q133.191 727.372 130.853 725.266 Q128.515 723.159 124.51 723.159 Q122.635 723.159 120.76 723.576 Q118.908 723.992 116.964 724.872 L116.964 707.511 Z\" fill=\"#000000\" fill-rule=\"evenodd\" fill-opacity=\"1\" /><path clip-path=\"url(#clip490)\" d=\"M 0 0 M53.9782 468.954 L61.6171 468.954 L61.6171 442.588 L53.3069 444.255 L53.3069 439.996 L61.5708 438.329 L66.2467 438.329 L66.2467 468.954 L73.8855 468.954 L73.8855 472.889 L53.9782 472.889 L53.9782 468.954 Z\" fill=\"#000000\" fill-rule=\"evenodd\" fill-opacity=\"1\" /><path clip-path=\"url(#clip490)\" d=\"M 0 0 M78.9549 467.009 L83.8392 467.009 L83.8392 472.889 L78.9549 472.889 L78.9549 467.009 Z\" fill=\"#000000\" fill-rule=\"evenodd\" fill-opacity=\"1\" /><path clip-path=\"url(#clip490)\" d=\"M 0 0 M98.9085 441.408 Q95.2974 441.408 93.4688 444.972 Q91.6632 448.514 91.6632 455.644 Q91.6632 462.75 93.4688 466.315 Q95.2974 469.857 98.9085 469.857 Q102.543 469.857 104.348 466.315 Q106.177 462.75 106.177 455.644 Q106.177 448.514 104.348 444.972 Q102.543 441.408 98.9085 441.408 M98.9085 437.704 Q104.719 437.704 107.774 442.31 Q110.853 446.894 110.853 455.644 Q110.853 464.371 107.774 468.977 Q104.719 473.56 98.9085 473.56 Q93.0984 473.56 90.0197 468.977 Q86.9642 464.371 86.9642 455.644 Q86.9642 446.894 90.0197 442.31 Q93.0984 437.704 98.9085 437.704 Z\" fill=\"#000000\" fill-rule=\"evenodd\" fill-opacity=\"1\" /><path clip-path=\"url(#clip490)\" d=\"M 0 0 M125.922 441.408 Q122.311 441.408 120.482 444.972 Q118.677 448.514 118.677 455.644 Q118.677 462.75 120.482 466.315 Q122.311 469.857 125.922 469.857 Q129.557 469.857 131.362 466.315 Q133.191 462.75 133.191 455.644 Q133.191 448.514 131.362 444.972 Q129.557 441.408 125.922 441.408 M125.922 437.704 Q131.732 437.704 134.788 442.31 Q137.867 446.894 137.867 455.644 Q137.867 464.371 134.788 468.977 Q131.732 473.56 125.922 473.56 Q120.112 473.56 117.033 468.977 Q113.978 464.371 113.978 455.644 Q113.978 446.894 117.033 442.31 Q120.112 437.704 125.922 437.704 Z\" fill=\"#000000\" fill-rule=\"evenodd\" fill-opacity=\"1\" /><path clip-path=\"url(#clip490)\" d=\"M 0 0 M56.5708 199.772 L64.2096 199.772 L64.2096 173.406 L55.8995 175.073 L55.8995 170.814 L64.1634 169.147 L68.8393 169.147 L68.8393 199.772 L76.4781 199.772 L76.4781 203.707 L56.5708 203.707 L56.5708 199.772 Z\" fill=\"#000000\" fill-rule=\"evenodd\" fill-opacity=\"1\" /><path clip-path=\"url(#clip490)\" d=\"M 0 0 M81.5475 197.827 L86.4318 197.827 L86.4318 203.707 L81.5475 203.707 L81.5475 197.827 Z\" fill=\"#000000\" fill-rule=\"evenodd\" fill-opacity=\"1\" /><path clip-path=\"url(#clip490)\" d=\"M 0 0 M95.5289 199.772 L111.848 199.772 L111.848 203.707 L89.904 203.707 L89.904 199.772 Q92.566 197.017 97.1493 192.388 Q101.756 187.735 102.936 186.392 Q105.182 183.869 106.061 182.133 Q106.964 180.374 106.964 178.684 Q106.964 175.929 105.02 174.193 Q103.098 172.457 99.9965 172.457 Q97.7974 172.457 95.3437 173.221 Q92.9132 173.985 90.1354 175.536 L90.1354 170.814 Q92.9595 169.679 95.4132 169.101 Q97.8669 168.522 99.9039 168.522 Q105.274 168.522 108.469 171.207 Q111.663 173.892 111.663 178.383 Q111.663 180.513 110.853 182.434 Q110.066 184.332 107.959 186.925 Q107.381 187.596 104.279 190.813 Q101.177 194.008 95.5289 199.772 Z\" fill=\"#000000\" fill-rule=\"evenodd\" fill-opacity=\"1\" /><path clip-path=\"url(#clip490)\" d=\"M 0 0 M116.964 169.147 L135.32 169.147 L135.32 173.082 L121.246 173.082 L121.246 181.554 Q122.265 181.207 123.283 181.045 Q124.302 180.86 125.32 180.86 Q131.107 180.86 134.487 184.031 Q137.867 187.202 137.867 192.619 Q137.867 198.198 134.394 201.3 Q130.922 204.378 124.603 204.378 Q122.427 204.378 120.158 204.008 Q117.913 203.637 115.506 202.897 L115.506 198.198 Q117.589 199.332 119.811 199.887 Q122.033 200.443 124.51 200.443 Q128.515 200.443 130.853 198.337 Q133.191 196.23 133.191 192.619 Q133.191 189.008 130.853 186.901 Q128.515 184.795 124.51 184.795 Q122.635 184.795 120.76 185.212 Q118.908 185.628 116.964 186.508 L116.964 169.147 Z\" fill=\"#000000\" fill-rule=\"evenodd\" fill-opacity=\"1\" /><polyline clip-path=\"url(#clip492)\" style=\"stroke:#009af9; stroke-width:4; stroke-opacity:1; fill:none\" points=\"\n",
       "  235.533,1435.92 301.842,1392.52 368.15,1367.32 434.458,1286.32 500.766,1236.93 567.075,1165.42 633.383,1040.57 699.691,900.018 765.999,752.02 832.308,450.23 \n",
       "  898.616,283.236 964.924,195.851 1031.23,87.9763 1097.54,149.656 1163.85,446.317 1230.16,583.424 1296.47,646.204 1362.77,828.659 1429.08,891.418 1495.39,914.442 \n",
       "  1561.7,1054.87 1628.01,1196.25 1694.31,1251.58 1760.62,1300.39 1826.93,1311.98 1893.24,1333.7 1959.55,1325.87 2025.86,1320.93 2092.16,1357.43 2158.47,1418.47 \n",
       "  2224.78,1435.51 2291.09,1445.72 \n",
       "  \"/>\n",
       "<path clip-path=\"url(#clip490)\" d=\"\n",
       "M1987.01 216.178 L2280.13 216.178 L2280.13 95.2176 L1987.01 95.2176  Z\n",
       "  \" fill=\"#ffffff\" fill-rule=\"evenodd\" fill-opacity=\"1\"/>\n",
       "<polyline clip-path=\"url(#clip490)\" style=\"stroke:#000000; stroke-width:4; stroke-opacity:1; fill:none\" points=\"\n",
       "  1987.01,216.178 2280.13,216.178 2280.13,95.2176 1987.01,95.2176 1987.01,216.178 \n",
       "  \"/>\n",
       "<polyline clip-path=\"url(#clip490)\" style=\"stroke:#009af9; stroke-width:4; stroke-opacity:1; fill:none\" points=\"\n",
       "  2011.22,155.698 2156.48,155.698 \n",
       "  \"/>\n",
       "<path clip-path=\"url(#clip490)\" d=\"M 0 0 M2194.53 175.385 Q2192.73 180.015 2191.01 181.427 Q2189.3 182.839 2186.43 182.839 L2183.03 182.839 L2183.03 179.274 L2185.53 179.274 Q2187.29 179.274 2188.26 178.44 Q2189.23 177.607 2190.41 174.505 L2191.17 172.561 L2180.69 147.052 L2185.2 147.052 L2193.3 167.329 L2201.41 147.052 L2205.92 147.052 L2194.53 175.385 Z\" fill=\"#000000\" fill-rule=\"evenodd\" fill-opacity=\"1\" /><path clip-path=\"url(#clip490)\" d=\"M 0 0 M2211.8 169.042 L2219.44 169.042 L2219.44 142.677 L2211.13 144.343 L2211.13 140.084 L2219.39 138.418 L2224.07 138.418 L2224.07 169.042 L2231.71 169.042 L2231.71 172.978 L2211.8 172.978 L2211.8 169.042 Z\" fill=\"#000000\" fill-rule=\"evenodd\" fill-opacity=\"1\" /></svg>\n"
      ]
     },
     "execution_count": 246,
     "metadata": {},
     "output_type": "execute_result"
    }
   ],
   "source": [
    "# plot(sys.density[1][:,1,1], label = \"A\")\n",
    "# plot!(sys.fields[1][:,1,1], primary = false, ls = :dash)\n",
    "\n",
    "# plot!(sys.density[2][:,1,1], label = \"B\")\n",
    "# plot!(sys.fields[2][:,1,1], primary = false, ls = :dash)\n",
    "\n",
    "plot(sys.density[1][:,1,1])"
   ]
  },
  {
   "cell_type": "code",
   "execution_count": null,
   "metadata": {},
   "outputs": [],
   "source": []
  },
  {
   "cell_type": "code",
   "execution_count": null,
   "metadata": {},
   "outputs": [],
   "source": []
  },
  {
   "cell_type": "markdown",
   "metadata": {},
   "source": [
    "## Plotting"
   ]
  },
  {
   "cell_type": "code",
   "execution_count": 217,
   "metadata": {},
   "outputs": [
    {
     "ename": "LoadError",
     "evalue": "UndefVarError: volume not defined",
     "output_type": "error",
     "traceback": [
      "UndefVarError: volume not defined",
      "",
      "Stacktrace:",
      " [1] top-level scope at In[217]:3",
      " [2] include_string(::Function, ::Module, ::String, ::String) at ./loading.jl:1091"
     ]
    }
   ],
   "source": [
    "x = 10.0 * sys.fields[2]\n",
    "\n",
    "plot = volume(x, algorithm = :mip)\n",
    "cm = colorlegend(\n",
    "     plot[end],             # access the plot of Scene p1\n",
    "     raw = true,          # without axes or grid\n",
    "     camera = campixel!,  # gives a concrete bounding box in pixels\n",
    "                          # so that the `vbox` gives you the right size\n",
    "     width = (            # make the colorlegend longer so it looks nicer\n",
    "         30,              # the width\n",
    "         500              # the height\n",
    "     )\n",
    ")\n",
    "\n",
    "scene_final = vbox(plot, cm) # put the colorlegend and the plot together in a `vbox`"
   ]
  },
  {
   "cell_type": "code",
   "execution_count": null,
   "metadata": {},
   "outputs": [],
   "source": []
  }
 ],
 "metadata": {
  "kernelspec": {
   "display_name": "Julia 1.5.2",
   "language": "julia",
   "name": "julia-1.5"
  },
  "language_info": {
   "file_extension": ".jl",
   "mimetype": "application/julia",
   "name": "julia",
   "version": "1.5.2"
  },
  "toc": {
   "base_numbering": 1,
   "nav_menu": {},
   "number_sections": true,
   "sideBar": true,
   "skip_h1_title": false,
   "title_cell": "Table of Contents",
   "title_sidebar": "Contents",
   "toc_cell": false,
   "toc_position": {},
   "toc_section_display": true,
   "toc_window_display": false
  }
 },
 "nbformat": 4,
 "nbformat_minor": 2
}
