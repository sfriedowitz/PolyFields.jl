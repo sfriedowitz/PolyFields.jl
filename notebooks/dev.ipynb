{
 "cells": [
  {
   "cell_type": "markdown",
   "metadata": {},
   "source": [
    "# Imports"
   ]
  },
  {
   "cell_type": "code",
   "execution_count": 4,
   "metadata": {},
   "outputs": [
    {
     "name": "stderr",
     "output_type": "stream",
     "text": [
      "\u001b[32m\u001b[1m Activating\u001b[22m\u001b[39m environment at `/mnt/c/Users/sfrie/Documents/Code/julia/PolyFields.jl/Project.toml`\n"
     ]
    }
   ],
   "source": [
    "import Pkg\n",
    "\n",
    "Pkg.activate(\"../\")"
   ]
  },
  {
   "cell_type": "code",
   "execution_count": 5,
   "metadata": {},
   "outputs": [],
   "source": [
    "using BenchmarkTools\n",
    "\n",
    "using FFTW\n",
    "using LinearAlgebra\n",
    "using JSON\n",
    "\n",
    "using StaticArrays\n",
    "using Random\n",
    "using Statistics\n",
    "\n",
    "using Plots"
   ]
  },
  {
   "cell_type": "code",
   "execution_count": 7,
   "metadata": {
    "scrolled": true
   },
   "outputs": [
    {
     "name": "stderr",
     "output_type": "stream",
     "text": [
      "┌ Info: Precompiling PolyFields [537b8fae-343b-4751-aed0-0d38a89c053e]\n",
      "└ @ Base loading.jl:1278\n"
     ]
    }
   ],
   "source": [
    "using PolyFields"
   ]
  },
  {
   "cell_type": "markdown",
   "metadata": {
    "heading_collapsed": true
   },
   "source": [
    "# Examples"
   ]
  },
  {
   "cell_type": "markdown",
   "metadata": {
    "hidden": true
   },
   "source": [
    "## MDE Solutions"
   ]
  },
  {
   "cell_type": "markdown",
   "metadata": {
    "heading_collapsed": true,
    "hidden": true
   },
   "source": [
    "### Finite Difference Toy Model - Sec 3.6.1"
   ]
  },
  {
   "cell_type": "code",
   "execution_count": null,
   "metadata": {
    "hidden": true
   },
   "outputs": [],
   "source": [
    "N = 200\n",
    "b = 1/(sqrt(N/6))\n",
    "L = 10.0\n",
    "\n",
    "W(x, L) = 1 - 2*sech(3*(x - L/2)/2)^2\n",
    "\n",
    ";"
   ]
  },
  {
   "cell_type": "code",
   "execution_count": null,
   "metadata": {
    "hidden": true
   },
   "outputs": [],
   "source": [
    "Nx = 32\n",
    "Ns = 200\n",
    "\n",
    "dx = L/(Nx-1)\n",
    "ds = N/(Ns-1)\n",
    "\n",
    "x = collect(range(0, L, step = dx))\n",
    "s = collect(range(0, N, step = ds))\n",
    "wx = W.(x, L)\n",
    "\n",
    ";"
   ]
  },
  {
   "cell_type": "code",
   "execution_count": null,
   "metadata": {
    "hidden": true
   },
   "outputs": [],
   "source": [
    "q = ones(Nx, Ns)\n",
    "q[:,1] .= 1.0\n",
    "\n",
    "tol = 1e-6\n",
    "max_steps = 300\n",
    "\n",
    "norm_prev = norm(q)\n",
    "norm_curr = 0.0\n",
    "\n",
    "step = 1\n",
    "while step <= max_steps\n",
    "    step += 1\n",
    "    norm_prev = norm(q)\n",
    "    \n",
    "    if step % 25 == 0\n",
    "        println(\"Calculating for step $(step).\")\n",
    "    end\n",
    "    \n",
    "    # Finite diff the propagator matrix\n",
    "    for j in 1:Nx\n",
    "        for n in 1:Ns-1\n",
    "            # PBC in spatial dimension\n",
    "            jp1 = mod1(j+1, Nx)\n",
    "            jm1 = mod1(j-1, Nx)\n",
    "\n",
    "            rhs = (b^2/6)*((q[jp1, n] - 2*q[j,n] + q[jm1,n])/(dx^2)) - q[j,n]*wx[j]/N\n",
    "            q[j,n+1] = q[j,n] + ds*rhs\n",
    "        end\n",
    "    end\n",
    "    \n",
    "    norm_curr = norm(q)\n",
    "    if abs(norm_prev - norm_curr) < tol\n",
    "        print(\"Tolerance reached at step $(step) -- breaking.\")\n",
    "        break\n",
    "    end\n",
    "end  "
   ]
  },
  {
   "cell_type": "code",
   "execution_count": null,
   "metadata": {
    "hidden": true
   },
   "outputs": [],
   "source": [
    "plot(x, q[:,end], label = \"W(x)\")\n",
    "plot!(x, wx, label = \"q(x, N)\")\n",
    "\n",
    "plot!(legend = :bottomright, size = (400, 275))"
   ]
  },
  {
   "cell_type": "markdown",
   "metadata": {
    "heading_collapsed": true,
    "hidden": true
   },
   "source": [
    "### Crank-Nicolson Scheme - Sec 3.6.1"
   ]
  },
  {
   "cell_type": "code",
   "execution_count": 21,
   "metadata": {
    "hidden": true
   },
   "outputs": [],
   "source": [
    "N = 50\n",
    "b = 1.0/(sqrt(N/6))\n",
    "L = 5.0\n",
    "\n",
    "W(x, L) = 1 - 2*sech(3*(x - L/2)/2)^2\n",
    "\n",
    ";"
   ]
  },
  {
   "cell_type": "code",
   "execution_count": 22,
   "metadata": {
    "hidden": true
   },
   "outputs": [],
   "source": [
    "Nx = 128\n",
    "Ns = 200\n",
    "\n",
    "dx = L/(Nx-1)\n",
    "ds = N/(Ns-1)\n",
    "\n",
    "x = collect(range(0, L, step = dx))\n",
    "s = collect(range(0, N, step = ds))\n",
    "wx = W.(x, L)\n",
    "\n",
    ";"
   ]
  },
  {
   "cell_type": "code",
   "execution_count": 23,
   "metadata": {
    "hidden": true
   },
   "outputs": [],
   "source": [
    "q = zeros(Nx, Ns)\n",
    "q[:,1] .= 1.0\n",
    "\n",
    "# Operators for solver\n",
    "WX = diagm(0 => wx/N)\n",
    "\n",
    "# Init T w/ PBC\n",
    "T = zeros(Nx, Nx)\n",
    "for j in 1:Nx\n",
    "    jp1 = mod1(j+1, Nx)\n",
    "    jm1 = mod1(j-1, Nx)\n",
    "    \n",
    "    T[j,j] = -2.0\n",
    "    T[j,jp1] = 1.0\n",
    "    T[j,jm1] = 1.0\n",
    "end\n",
    "\n",
    "# Matrix operators for solver\n",
    "TW = (I - (ds/2)*WX + (b^2*ds)/(12*dx^2)*T)\n",
    "TWM = (I + (ds/2)*WX - (b^2*ds)/(12*dx^2)*T)\n",
    "\n",
    "# Matrix solve for each chain discretization\n",
    "for n in 1:Ns-1\n",
    "    q[:,n+1] = TWM \\ TW * q[:,n]\n",
    "end"
   ]
  },
  {
   "cell_type": "code",
   "execution_count": 24,
   "metadata": {
    "hidden": true
   },
   "outputs": [
    {
     "data": {
      "image/svg+xml": [
       "<?xml version=\"1.0\" encoding=\"utf-8\"?>\n",
       "<svg xmlns=\"http://www.w3.org/2000/svg\" xmlns:xlink=\"http://www.w3.org/1999/xlink\" width=\"400\" height=\"275\" viewBox=\"0 0 1600 1100\">\n",
       "<defs>\n",
       "  <clipPath id=\"clip430\">\n",
       "    <rect x=\"0\" y=\"0\" width=\"1600\" height=\"1100\"/>\n",
       "  </clipPath>\n",
       "</defs>\n",
       "<path clip-path=\"url(#clip430)\" d=\"\n",
       "M0 1100 L1600 1100 L1600 0 L0 0  Z\n",
       "  \" fill=\"#ffffff\" fill-rule=\"evenodd\" fill-opacity=\"1\"/>\n",
       "<defs>\n",
       "  <clipPath id=\"clip431\">\n",
       "    <rect x=\"320\" y=\"0\" width=\"1121\" height=\"1100\"/>\n",
       "  </clipPath>\n",
       "</defs>\n",
       "<path clip-path=\"url(#clip430)\" d=\"\n",
       "M171.654 990.368 L1552.76 990.368 L1552.76 47.2441 L171.654 47.2441  Z\n",
       "  \" fill=\"#ffffff\" fill-rule=\"evenodd\" fill-opacity=\"1\"/>\n",
       "<defs>\n",
       "  <clipPath id=\"clip432\">\n",
       "    <rect x=\"171\" y=\"47\" width=\"1382\" height=\"944\"/>\n",
       "  </clipPath>\n",
       "</defs>\n",
       "<polyline clip-path=\"url(#clip432)\" style=\"stroke:#000000; stroke-width:2; stroke-opacity:0.1; fill:none\" points=\"\n",
       "  210.741,990.368 210.741,47.2441 \n",
       "  \"/>\n",
       "<polyline clip-path=\"url(#clip432)\" style=\"stroke:#000000; stroke-width:2; stroke-opacity:0.1; fill:none\" points=\"\n",
       "  471.327,990.368 471.327,47.2441 \n",
       "  \"/>\n",
       "<polyline clip-path=\"url(#clip432)\" style=\"stroke:#000000; stroke-width:2; stroke-opacity:0.1; fill:none\" points=\"\n",
       "  731.912,990.368 731.912,47.2441 \n",
       "  \"/>\n",
       "<polyline clip-path=\"url(#clip432)\" style=\"stroke:#000000; stroke-width:2; stroke-opacity:0.1; fill:none\" points=\"\n",
       "  992.497,990.368 992.497,47.2441 \n",
       "  \"/>\n",
       "<polyline clip-path=\"url(#clip432)\" style=\"stroke:#000000; stroke-width:2; stroke-opacity:0.1; fill:none\" points=\"\n",
       "  1253.08,990.368 1253.08,47.2441 \n",
       "  \"/>\n",
       "<polyline clip-path=\"url(#clip432)\" style=\"stroke:#000000; stroke-width:2; stroke-opacity:0.1; fill:none\" points=\"\n",
       "  1513.67,990.368 1513.67,47.2441 \n",
       "  \"/>\n",
       "<polyline clip-path=\"url(#clip430)\" style=\"stroke:#000000; stroke-width:4; stroke-opacity:1; fill:none\" points=\"\n",
       "  171.654,990.368 1552.76,990.368 \n",
       "  \"/>\n",
       "<polyline clip-path=\"url(#clip430)\" style=\"stroke:#000000; stroke-width:4; stroke-opacity:1; fill:none\" points=\"\n",
       "  210.741,990.368 210.741,979.05 \n",
       "  \"/>\n",
       "<polyline clip-path=\"url(#clip430)\" style=\"stroke:#000000; stroke-width:4; stroke-opacity:1; fill:none\" points=\"\n",
       "  471.327,990.368 471.327,979.05 \n",
       "  \"/>\n",
       "<polyline clip-path=\"url(#clip430)\" style=\"stroke:#000000; stroke-width:4; stroke-opacity:1; fill:none\" points=\"\n",
       "  731.912,990.368 731.912,979.05 \n",
       "  \"/>\n",
       "<polyline clip-path=\"url(#clip430)\" style=\"stroke:#000000; stroke-width:4; stroke-opacity:1; fill:none\" points=\"\n",
       "  992.497,990.368 992.497,979.05 \n",
       "  \"/>\n",
       "<polyline clip-path=\"url(#clip430)\" style=\"stroke:#000000; stroke-width:4; stroke-opacity:1; fill:none\" points=\"\n",
       "  1253.08,990.368 1253.08,979.05 \n",
       "  \"/>\n",
       "<polyline clip-path=\"url(#clip430)\" style=\"stroke:#000000; stroke-width:4; stroke-opacity:1; fill:none\" points=\"\n",
       "  1513.67,990.368 1513.67,979.05 \n",
       "  \"/>\n",
       "<path clip-path=\"url(#clip430)\" d=\"M 0 0 M210.741 1013.16 Q207.13 1013.16 205.302 1016.72 Q203.496 1020.27 203.496 1027.39 Q203.496 1034.5 205.302 1038.07 Q207.13 1041.61 210.741 1041.61 Q214.376 1041.61 216.181 1038.07 Q218.01 1034.5 218.01 1027.39 Q218.01 1020.27 216.181 1016.72 Q214.376 1013.16 210.741 1013.16 M210.741 1009.45 Q216.552 1009.45 219.607 1014.06 Q222.686 1018.64 222.686 1027.39 Q222.686 1036.12 219.607 1040.73 Q216.552 1045.31 210.741 1045.31 Q204.931 1045.31 201.853 1040.73 Q198.797 1036.12 198.797 1027.39 Q198.797 1018.64 201.853 1014.06 Q204.931 1009.45 210.741 1009.45 Z\" fill=\"#000000\" fill-rule=\"evenodd\" fill-opacity=\"1\" /><path clip-path=\"url(#clip430)\" d=\"M 0 0 M461.709 1040.7 L469.348 1040.7 L469.348 1014.34 L461.037 1016.01 L461.037 1011.75 L469.301 1010.08 L473.977 1010.08 L473.977 1040.7 L481.616 1040.7 L481.616 1044.64 L461.709 1044.64 L461.709 1040.7 Z\" fill=\"#000000\" fill-rule=\"evenodd\" fill-opacity=\"1\" /><path clip-path=\"url(#clip430)\" d=\"M 0 0 M726.565 1040.7 L742.884 1040.7 L742.884 1044.64 L720.94 1044.64 L720.94 1040.7 Q723.602 1037.95 728.185 1033.32 Q732.792 1028.67 733.972 1027.33 Q736.218 1024.8 737.097 1023.07 Q738 1021.31 738 1019.62 Q738 1016.86 736.056 1015.13 Q734.134 1013.39 731.032 1013.39 Q728.833 1013.39 726.38 1014.15 Q723.949 1014.92 721.171 1016.47 L721.171 1011.75 Q723.995 1010.61 726.449 1010.03 Q728.903 1009.45 730.94 1009.45 Q736.31 1009.45 739.505 1012.14 Q742.699 1014.83 742.699 1019.32 Q742.699 1021.45 741.889 1023.37 Q741.102 1025.26 738.995 1027.86 Q738.417 1028.53 735.315 1031.75 Q732.213 1034.94 726.565 1040.7 Z\" fill=\"#000000\" fill-rule=\"evenodd\" fill-opacity=\"1\" /><path clip-path=\"url(#clip430)\" d=\"M 0 0 M996.745 1026.01 Q1000.1 1026.72 1001.98 1028.99 Q1003.87 1031.26 1003.87 1034.59 Q1003.87 1039.71 1000.36 1042.51 Q996.838 1045.31 990.356 1045.31 Q988.18 1045.31 985.866 1044.87 Q983.574 1044.45 981.12 1043.6 L981.12 1039.08 Q983.065 1040.22 985.379 1040.8 Q987.694 1041.38 990.217 1041.38 Q994.615 1041.38 996.907 1039.64 Q999.222 1037.9 999.222 1034.59 Q999.222 1031.54 997.069 1029.83 Q994.94 1028.09 991.12 1028.09 L987.092 1028.09 L987.092 1024.25 L991.305 1024.25 Q994.754 1024.25 996.583 1022.88 Q998.412 1021.49 998.412 1018.9 Q998.412 1016.24 996.514 1014.83 Q994.639 1013.39 991.12 1013.39 Q989.199 1013.39 987 1013.81 Q984.801 1014.22 982.162 1015.1 L982.162 1010.94 Q984.824 1010.2 987.139 1009.83 Q989.477 1009.45 991.537 1009.45 Q996.861 1009.45 999.963 1011.89 Q1003.06 1014.29 1003.06 1018.41 Q1003.06 1021.28 1001.42 1023.27 Q999.778 1025.24 996.745 1026.01 Z\" fill=\"#000000\" fill-rule=\"evenodd\" fill-opacity=\"1\" /><path clip-path=\"url(#clip430)\" d=\"M 0 0 M1256.09 1014.15 L1244.29 1032.6 L1256.09 1032.6 L1256.09 1014.15 M1254.87 1010.08 L1260.74 1010.08 L1260.74 1032.6 L1265.68 1032.6 L1265.68 1036.49 L1260.74 1036.49 L1260.74 1044.64 L1256.09 1044.64 L1256.09 1036.49 L1240.49 1036.49 L1240.49 1031.98 L1254.87 1010.08 Z\" fill=\"#000000\" fill-rule=\"evenodd\" fill-opacity=\"1\" /><path clip-path=\"url(#clip430)\" d=\"M 0 0 M1503.95 1010.08 L1522.3 1010.08 L1522.3 1014.02 L1508.23 1014.02 L1508.23 1022.49 Q1509.25 1022.14 1510.27 1021.98 Q1511.28 1021.79 1512.3 1021.79 Q1518.09 1021.79 1521.47 1024.96 Q1524.85 1028.14 1524.85 1033.55 Q1524.85 1039.13 1521.38 1042.23 Q1517.9 1045.31 1511.58 1045.31 Q1509.41 1045.31 1507.14 1044.94 Q1504.9 1044.57 1502.49 1043.83 L1502.49 1039.13 Q1504.57 1040.26 1506.79 1040.82 Q1509.02 1041.38 1511.49 1041.38 Q1515.5 1041.38 1517.83 1039.27 Q1520.17 1037.16 1520.17 1033.55 Q1520.17 1029.94 1517.83 1027.83 Q1515.5 1025.73 1511.49 1025.73 Q1509.62 1025.73 1507.74 1026.14 Q1505.89 1026.56 1503.95 1027.44 L1503.95 1010.08 Z\" fill=\"#000000\" fill-rule=\"evenodd\" fill-opacity=\"1\" /><polyline clip-path=\"url(#clip432)\" style=\"stroke:#000000; stroke-width:2; stroke-opacity:0.1; fill:none\" points=\"\n",
       "  171.654,964.412 1552.76,964.412 \n",
       "  \"/>\n",
       "<polyline clip-path=\"url(#clip432)\" style=\"stroke:#000000; stroke-width:2; stroke-opacity:0.1; fill:none\" points=\"\n",
       "  171.654,753.111 1552.76,753.111 \n",
       "  \"/>\n",
       "<polyline clip-path=\"url(#clip432)\" style=\"stroke:#000000; stroke-width:2; stroke-opacity:0.1; fill:none\" points=\"\n",
       "  171.654,541.81 1552.76,541.81 \n",
       "  \"/>\n",
       "<polyline clip-path=\"url(#clip432)\" style=\"stroke:#000000; stroke-width:2; stroke-opacity:0.1; fill:none\" points=\"\n",
       "  171.654,330.509 1552.76,330.509 \n",
       "  \"/>\n",
       "<polyline clip-path=\"url(#clip432)\" style=\"stroke:#000000; stroke-width:2; stroke-opacity:0.1; fill:none\" points=\"\n",
       "  171.654,119.208 1552.76,119.208 \n",
       "  \"/>\n",
       "<polyline clip-path=\"url(#clip430)\" style=\"stroke:#000000; stroke-width:4; stroke-opacity:1; fill:none\" points=\"\n",
       "  171.654,990.368 171.654,47.2441 \n",
       "  \"/>\n",
       "<polyline clip-path=\"url(#clip430)\" style=\"stroke:#000000; stroke-width:4; stroke-opacity:1; fill:none\" points=\"\n",
       "  171.654,964.412 188.227,964.412 \n",
       "  \"/>\n",
       "<polyline clip-path=\"url(#clip430)\" style=\"stroke:#000000; stroke-width:4; stroke-opacity:1; fill:none\" points=\"\n",
       "  171.654,753.111 188.227,753.111 \n",
       "  \"/>\n",
       "<polyline clip-path=\"url(#clip430)\" style=\"stroke:#000000; stroke-width:4; stroke-opacity:1; fill:none\" points=\"\n",
       "  171.654,541.81 188.227,541.81 \n",
       "  \"/>\n",
       "<polyline clip-path=\"url(#clip430)\" style=\"stroke:#000000; stroke-width:4; stroke-opacity:1; fill:none\" points=\"\n",
       "  171.654,330.509 188.227,330.509 \n",
       "  \"/>\n",
       "<polyline clip-path=\"url(#clip430)\" style=\"stroke:#000000; stroke-width:4; stroke-opacity:1; fill:none\" points=\"\n",
       "  171.654,119.208 188.227,119.208 \n",
       "  \"/>\n",
       "<path clip-path=\"url(#clip430)\" d=\"M 0 0 M55.2236 964.864 L84.8994 964.864 L84.8994 968.799 L55.2236 968.799 L55.2236 964.864 Z\" fill=\"#000000\" fill-rule=\"evenodd\" fill-opacity=\"1\" /><path clip-path=\"url(#clip430)\" d=\"M 0 0 M90.779 977.757 L98.4178 977.757 L98.4178 951.391 L90.1077 953.058 L90.1077 948.799 L98.3715 947.132 L103.047 947.132 L103.047 977.757 L110.686 977.757 L110.686 981.692 L90.779 981.692 L90.779 977.757 Z\" fill=\"#000000\" fill-rule=\"evenodd\" fill-opacity=\"1\" /><path clip-path=\"url(#clip430)\" d=\"M 0 0 M115.756 975.813 L120.64 975.813 L120.64 981.692 L115.756 981.692 L115.756 975.813 Z\" fill=\"#000000\" fill-rule=\"evenodd\" fill-opacity=\"1\" /><path clip-path=\"url(#clip430)\" d=\"M 0 0 M135.709 950.211 Q132.098 950.211 130.27 953.776 Q128.464 957.317 128.464 964.447 Q128.464 971.553 130.27 975.118 Q132.098 978.66 135.709 978.66 Q139.344 978.66 141.149 975.118 Q142.978 971.553 142.978 964.447 Q142.978 957.317 141.149 953.776 Q139.344 950.211 135.709 950.211 M135.709 946.507 Q141.519 946.507 144.575 951.114 Q147.654 955.697 147.654 964.447 Q147.654 973.174 144.575 977.78 Q141.519 982.363 135.709 982.363 Q129.899 982.363 126.82 977.78 Q123.765 973.174 123.765 964.447 Q123.765 955.697 126.82 951.114 Q129.899 946.507 135.709 946.507 Z\" fill=\"#000000\" fill-rule=\"evenodd\" fill-opacity=\"1\" /><path clip-path=\"url(#clip430)\" d=\"M 0 0 M54.9921 753.563 L84.6679 753.563 L84.6679 757.498 L54.9921 757.498 L54.9921 753.563 Z\" fill=\"#000000\" fill-rule=\"evenodd\" fill-opacity=\"1\" /><path clip-path=\"url(#clip430)\" d=\"M 0 0 M99.7373 738.91 Q96.1262 738.91 94.2975 742.475 Q92.4919 746.016 92.4919 753.146 Q92.4919 760.252 94.2975 763.817 Q96.1262 767.359 99.7373 767.359 Q103.371 767.359 105.177 763.817 Q107.006 760.252 107.006 753.146 Q107.006 746.016 105.177 742.475 Q103.371 738.91 99.7373 738.91 M99.7373 735.206 Q105.547 735.206 108.603 739.813 Q111.682 744.396 111.682 753.146 Q111.682 761.873 108.603 766.479 Q105.547 771.062 99.7373 771.062 Q93.9271 771.062 90.8484 766.479 Q87.7929 761.873 87.7929 753.146 Q87.7929 744.396 90.8484 739.813 Q93.9271 735.206 99.7373 735.206 Z\" fill=\"#000000\" fill-rule=\"evenodd\" fill-opacity=\"1\" /><path clip-path=\"url(#clip430)\" d=\"M 0 0 M116.751 764.512 L121.635 764.512 L121.635 770.391 L116.751 770.391 L116.751 764.512 Z\" fill=\"#000000\" fill-rule=\"evenodd\" fill-opacity=\"1\" /><path clip-path=\"url(#clip430)\" d=\"M 0 0 M126.751 735.831 L145.107 735.831 L145.107 739.766 L131.033 739.766 L131.033 748.239 Q132.052 747.891 133.07 747.729 Q134.089 747.544 135.107 747.544 Q140.894 747.544 144.274 750.715 Q147.654 753.887 147.654 759.303 Q147.654 764.882 144.181 767.984 Q140.709 771.062 134.39 771.062 Q132.214 771.062 129.945 770.692 Q127.7 770.322 125.293 769.581 L125.293 764.882 Q127.376 766.016 129.598 766.572 Q131.82 767.127 134.297 767.127 Q138.302 767.127 140.64 765.021 Q142.978 762.914 142.978 759.303 Q142.978 755.692 140.64 753.586 Q138.302 751.479 134.297 751.479 Q132.422 751.479 130.547 751.896 Q128.695 752.313 126.751 753.192 L126.751 735.831 Z\" fill=\"#000000\" fill-rule=\"evenodd\" fill-opacity=\"1\" /><path clip-path=\"url(#clip430)\" d=\"M 0 0 M98.7419 527.609 Q95.1308 527.609 93.3021 531.174 Q91.4966 534.715 91.4966 541.845 Q91.4966 548.951 93.3021 552.516 Q95.1308 556.058 98.7419 556.058 Q102.376 556.058 104.182 552.516 Q106.01 548.951 106.01 541.845 Q106.01 534.715 104.182 531.174 Q102.376 527.609 98.7419 527.609 M98.7419 523.905 Q104.552 523.905 107.608 528.512 Q110.686 533.095 110.686 541.845 Q110.686 550.572 107.608 555.178 Q104.552 559.761 98.7419 559.761 Q92.9317 559.761 89.8531 555.178 Q86.7975 550.572 86.7975 541.845 Q86.7975 533.095 89.8531 528.512 Q92.9317 523.905 98.7419 523.905 Z\" fill=\"#000000\" fill-rule=\"evenodd\" fill-opacity=\"1\" /><path clip-path=\"url(#clip430)\" d=\"M 0 0 M115.756 553.211 L120.64 553.211 L120.64 559.09 L115.756 559.09 L115.756 553.211 Z\" fill=\"#000000\" fill-rule=\"evenodd\" fill-opacity=\"1\" /><path clip-path=\"url(#clip430)\" d=\"M 0 0 M135.709 527.609 Q132.098 527.609 130.27 531.174 Q128.464 534.715 128.464 541.845 Q128.464 548.951 130.27 552.516 Q132.098 556.058 135.709 556.058 Q139.344 556.058 141.149 552.516 Q142.978 548.951 142.978 541.845 Q142.978 534.715 141.149 531.174 Q139.344 527.609 135.709 527.609 M135.709 523.905 Q141.519 523.905 144.575 528.512 Q147.654 533.095 147.654 541.845 Q147.654 550.572 144.575 555.178 Q141.519 559.761 135.709 559.761 Q129.899 559.761 126.82 555.178 Q123.765 550.572 123.765 541.845 Q123.765 533.095 126.82 528.512 Q129.899 523.905 135.709 523.905 Z\" fill=\"#000000\" fill-rule=\"evenodd\" fill-opacity=\"1\" /><path clip-path=\"url(#clip430)\" d=\"M 0 0 M99.7373 316.308 Q96.1262 316.308 94.2975 319.873 Q92.4919 323.414 92.4919 330.544 Q92.4919 337.65 94.2975 341.215 Q96.1262 344.757 99.7373 344.757 Q103.371 344.757 105.177 341.215 Q107.006 337.65 107.006 330.544 Q107.006 323.414 105.177 319.873 Q103.371 316.308 99.7373 316.308 M99.7373 312.604 Q105.547 312.604 108.603 317.211 Q111.682 321.794 111.682 330.544 Q111.682 339.271 108.603 343.877 Q105.547 348.46 99.7373 348.46 Q93.9271 348.46 90.8484 343.877 Q87.7929 339.271 87.7929 330.544 Q87.7929 321.794 90.8484 317.211 Q93.9271 312.604 99.7373 312.604 Z\" fill=\"#000000\" fill-rule=\"evenodd\" fill-opacity=\"1\" /><path clip-path=\"url(#clip430)\" d=\"M 0 0 M116.751 341.91 L121.635 341.91 L121.635 347.789 L116.751 347.789 L116.751 341.91 Z\" fill=\"#000000\" fill-rule=\"evenodd\" fill-opacity=\"1\" /><path clip-path=\"url(#clip430)\" d=\"M 0 0 M126.751 313.229 L145.107 313.229 L145.107 317.164 L131.033 317.164 L131.033 325.637 Q132.052 325.289 133.07 325.127 Q134.089 324.942 135.107 324.942 Q140.894 324.942 144.274 328.113 Q147.654 331.285 147.654 336.701 Q147.654 342.28 144.181 345.382 Q140.709 348.46 134.39 348.46 Q132.214 348.46 129.945 348.09 Q127.7 347.72 125.293 346.979 L125.293 342.28 Q127.376 343.414 129.598 343.97 Q131.82 344.525 134.297 344.525 Q138.302 344.525 140.64 342.419 Q142.978 340.312 142.978 336.701 Q142.978 333.09 140.64 330.984 Q138.302 328.877 134.297 328.877 Q132.422 328.877 130.547 329.294 Q128.695 329.711 126.751 330.59 L126.751 313.229 Z\" fill=\"#000000\" fill-rule=\"evenodd\" fill-opacity=\"1\" /><path clip-path=\"url(#clip430)\" d=\"M 0 0 M90.779 132.553 L98.4178 132.553 L98.4178 106.187 L90.1077 107.854 L90.1077 103.595 L98.3715 101.928 L103.047 101.928 L103.047 132.553 L110.686 132.553 L110.686 136.488 L90.779 136.488 L90.779 132.553 Z\" fill=\"#000000\" fill-rule=\"evenodd\" fill-opacity=\"1\" /><path clip-path=\"url(#clip430)\" d=\"M 0 0 M115.756 130.609 L120.64 130.609 L120.64 136.488 L115.756 136.488 L115.756 130.609 Z\" fill=\"#000000\" fill-rule=\"evenodd\" fill-opacity=\"1\" /><path clip-path=\"url(#clip430)\" d=\"M 0 0 M135.709 105.007 Q132.098 105.007 130.27 108.572 Q128.464 112.113 128.464 119.243 Q128.464 126.349 130.27 129.914 Q132.098 133.456 135.709 133.456 Q139.344 133.456 141.149 129.914 Q142.978 126.349 142.978 119.243 Q142.978 112.113 141.149 108.572 Q139.344 105.007 135.709 105.007 M135.709 101.303 Q141.519 101.303 144.575 105.91 Q147.654 110.493 147.654 119.243 Q147.654 127.97 144.575 132.576 Q141.519 137.159 135.709 137.159 Q129.899 137.159 126.82 132.576 Q123.765 127.97 123.765 119.243 Q123.765 110.493 126.82 105.91 Q129.899 101.303 135.709 101.303 Z\" fill=\"#000000\" fill-rule=\"evenodd\" fill-opacity=\"1\" /><polyline clip-path=\"url(#clip432)\" style=\"stroke:#009af9; stroke-width:4; stroke-opacity:1; fill:none\" points=\"\n",
       "  210.741,350.441 221.001,350.303 231.26,350.028 241.519,349.614 251.779,349.062 262.038,348.37 272.297,347.536 282.556,346.56 292.816,345.44 303.075,344.173 \n",
       "  313.334,342.757 323.593,341.191 333.853,339.47 344.112,337.592 354.371,335.554 364.63,333.352 374.89,330.984 385.149,328.444 395.408,325.729 405.667,322.835 \n",
       "  415.927,319.757 426.186,316.493 436.445,313.036 446.705,309.383 456.964,305.53 467.223,301.472 477.482,297.206 487.742,292.727 498.001,288.032 508.26,283.118 \n",
       "  518.519,277.983 528.779,272.624 539.038,267.04 549.297,261.231 559.556,255.197 569.816,248.941 580.075,242.465 590.334,235.776 600.594,228.879 610.853,221.785 \n",
       "  621.112,214.504 631.371,207.051 641.631,199.444 651.89,191.703 662.149,183.854 672.408,175.923 682.668,167.945 692.927,159.955 703.186,151.996 713.445,144.113 \n",
       "  723.705,136.357 733.964,128.781 744.223,121.445 754.483,114.408 764.742,107.734 775.001,101.488 785.26,95.7336 795.52,90.5342 805.779,85.9495 816.038,82.0349 \n",
       "  826.297,78.8394 836.557,76.4046 846.816,74.7628 857.075,73.9363 867.334,73.9363 877.594,74.7628 887.853,76.4046 898.112,78.8394 908.371,82.0349 918.631,85.9495 \n",
       "  928.89,90.5342 939.149,95.7336 949.409,101.488 959.668,107.734 969.927,114.408 980.186,121.445 990.446,128.781 1000.7,136.357 1010.96,144.113 1021.22,151.996 \n",
       "  1031.48,159.955 1041.74,167.945 1052,175.923 1062.26,183.854 1072.52,191.703 1082.78,199.444 1093.04,207.051 1103.3,214.504 1113.56,221.785 1123.82,228.879 \n",
       "  1134.08,235.776 1144.33,242.465 1154.59,248.941 1164.85,255.197 1175.11,261.231 1185.37,267.04 1195.63,272.624 1205.89,277.983 1216.15,283.118 1226.41,288.032 \n",
       "  1236.67,292.727 1246.93,297.206 1257.19,301.472 1267.45,305.53 1277.71,309.383 1287.96,313.036 1298.22,316.493 1308.48,319.757 1318.74,322.835 1329,325.729 \n",
       "  1339.26,328.444 1349.52,330.984 1359.78,333.352 1370.04,335.554 1380.3,337.592 1390.56,339.47 1400.82,341.191 1411.08,342.757 1421.33,344.173 1431.59,345.44 \n",
       "  1441.85,346.56 1452.11,347.536 1462.37,348.37 1472.63,349.062 1482.89,349.614 1493.15,350.028 1503.41,350.303 1513.67,350.441 \n",
       "  \"/>\n",
       "<polyline clip-path=\"url(#clip432)\" style=\"stroke:#e26f46; stroke-width:4; stroke-opacity:1; fill:none\" points=\"\n",
       "  210.741,121.076 221.001,121.31 231.26,121.573 241.519,121.869 251.779,122.202 262.038,122.577 272.297,122.998 282.556,123.472 292.816,124.005 303.075,124.604 \n",
       "  313.334,125.278 323.593,126.036 333.853,126.888 344.112,127.846 354.371,128.923 364.63,130.133 374.89,131.493 385.149,133.02 395.408,134.736 405.667,136.662 \n",
       "  415.927,138.825 426.186,141.252 436.445,143.974 446.705,147.028 456.964,150.451 467.223,154.285 477.482,158.579 487.742,163.384 498.001,168.758 508.26,174.763 \n",
       "  518.519,181.466 528.779,188.943 539.038,197.272 549.297,206.541 559.556,216.839 569.816,228.263 580.075,240.915 590.334,254.897 600.594,270.317 610.853,287.279 \n",
       "  621.112,305.886 631.371,326.234 641.631,348.407 651.89,372.475 662.149,398.485 672.408,426.458 682.668,456.376 692.927,488.179 703.186,521.753 713.445,556.925 \n",
       "  723.705,593.454 733.964,631.024 744.223,669.242 754.483,707.637 764.742,745.663 775.001,782.707 785.26,818.105 795.52,851.159 805.779,881.162 816.038,907.424 \n",
       "  826.297,929.307 836.557,946.254 846.816,957.814 857.075,963.676 867.334,963.676 877.594,957.814 887.853,946.254 898.112,929.307 908.371,907.424 918.631,881.162 \n",
       "  928.89,851.159 939.149,818.105 949.409,782.707 959.668,745.663 969.927,707.637 980.186,669.242 990.446,631.024 1000.7,593.454 1010.96,556.925 1021.22,521.753 \n",
       "  1031.48,488.179 1041.74,456.376 1052,426.458 1062.26,398.485 1072.52,372.475 1082.78,348.407 1093.04,326.234 1103.3,305.886 1113.56,287.279 1123.82,270.317 \n",
       "  1134.08,254.897 1144.33,240.915 1154.59,228.263 1164.85,216.839 1175.11,206.541 1185.37,197.272 1195.63,188.943 1205.89,181.466 1216.15,174.763 1226.41,168.758 \n",
       "  1236.67,163.384 1246.93,158.579 1257.19,154.285 1267.45,150.451 1277.71,147.028 1287.96,143.974 1298.22,141.252 1308.48,138.825 1318.74,136.662 1329,134.736 \n",
       "  1339.26,133.02 1349.52,131.493 1359.78,130.133 1370.04,128.923 1380.3,127.846 1390.56,126.888 1400.82,126.036 1411.08,125.278 1421.33,124.604 1431.59,124.005 \n",
       "  1441.85,123.472 1452.11,122.998 1462.37,122.577 1472.63,122.202 1482.89,121.869 1493.15,121.573 1503.41,121.31 1513.67,121.076 \n",
       "  \"/>\n",
       "<path clip-path=\"url(#clip430)\" d=\"\n",
       "M1218.15 958.93 L1506.72 958.93 L1506.72 777.49 L1218.15 777.49  Z\n",
       "  \" fill=\"#ffffff\" fill-rule=\"evenodd\" fill-opacity=\"1\"/>\n",
       "<polyline clip-path=\"url(#clip430)\" style=\"stroke:#000000; stroke-width:4; stroke-opacity:1; fill:none\" points=\"\n",
       "  1218.15,958.93 1506.72,958.93 1506.72,777.49 1218.15,777.49 1218.15,958.93 \n",
       "  \"/>\n",
       "<polyline clip-path=\"url(#clip430)\" style=\"stroke:#009af9; stroke-width:4; stroke-opacity:1; fill:none\" points=\"\n",
       "  1233.49,837.97 1325.57,837.97 \n",
       "  \"/>\n",
       "<path clip-path=\"url(#clip430)\" d=\"M 0 0 M1345.31 842.311 Q1345.31 847.01 1347.23 849.695 Q1349.18 852.357 1352.56 852.357 Q1355.94 852.357 1357.88 849.695 Q1359.82 847.01 1359.82 842.311 Q1359.82 837.612 1357.88 834.95 Q1355.94 832.264 1352.56 832.264 Q1349.18 832.264 1347.23 834.95 Q1345.31 837.612 1345.31 842.311 M1359.82 851.362 Q1358.48 853.676 1356.42 854.811 Q1354.39 855.922 1351.51 855.922 Q1346.82 855.922 1343.85 852.172 Q1340.91 848.422 1340.91 842.311 Q1340.91 836.2 1343.85 832.45 Q1346.82 828.7 1351.51 828.7 Q1354.39 828.7 1356.42 829.834 Q1358.48 830.945 1359.82 833.26 L1359.82 829.325 L1364.08 829.325 L1364.08 865.111 L1359.82 865.111 L1359.82 851.362 Z\" fill=\"#000000\" fill-rule=\"evenodd\" fill-opacity=\"1\" /><path clip-path=\"url(#clip430)\" d=\"M 0 0 M1378.78 819.278 Q1375.68 824.602 1374.18 829.811 Q1372.67 835.019 1372.67 840.366 Q1372.67 845.713 1374.18 850.968 Q1375.7 856.199 1378.78 861.5 L1375.08 861.5 Q1371.61 856.061 1369.87 850.806 Q1368.16 845.551 1368.16 840.366 Q1368.16 835.204 1369.87 829.973 Q1371.58 824.741 1375.08 819.278 L1378.78 819.278 Z\" fill=\"#000000\" fill-rule=\"evenodd\" fill-opacity=\"1\" /><path clip-path=\"url(#clip430)\" d=\"M 0 0 M1404.8 829.325 L1395.43 841.94 L1405.29 855.25 L1400.26 855.25 L1392.72 845.065 L1385.17 855.25 L1380.15 855.25 L1390.22 841.686 L1381.01 829.325 L1386.03 829.325 L1392.9 838.561 L1399.78 829.325 L1404.8 829.325 Z\" fill=\"#000000\" fill-rule=\"evenodd\" fill-opacity=\"1\" /><path clip-path=\"url(#clip430)\" d=\"M 0 0 M1410.84 849.371 L1415.73 849.371 L1415.73 853.352 L1411.93 860.76 L1408.95 860.76 L1410.84 853.352 L1410.84 849.371 Z\" fill=\"#000000\" fill-rule=\"evenodd\" fill-opacity=\"1\" /><path clip-path=\"url(#clip430)\" d=\"M 0 0 M1435.45 820.69 L1441.75 820.69 L1457.07 849.602 L1457.07 820.69 L1461.61 820.69 L1461.61 855.25 L1455.31 855.25 L1439.99 826.339 L1439.99 855.25 L1435.45 855.25 L1435.45 820.69 Z\" fill=\"#000000\" fill-rule=\"evenodd\" fill-opacity=\"1\" /><path clip-path=\"url(#clip430)\" d=\"M 0 0 M1465.4 819.278 L1469.11 819.278 Q1472.58 824.741 1474.29 829.973 Q1476.03 835.204 1476.03 840.366 Q1476.03 845.551 1474.29 850.806 Q1472.58 856.061 1469.11 861.5 L1465.4 861.5 Q1468.48 856.199 1469.99 850.968 Q1471.51 845.713 1471.51 840.366 Q1471.51 835.019 1469.99 829.811 Q1468.48 824.602 1465.4 819.278 Z\" fill=\"#000000\" fill-rule=\"evenodd\" fill-opacity=\"1\" /><polyline clip-path=\"url(#clip430)\" style=\"stroke:#e26f46; stroke-width:4; stroke-opacity:1; fill:none\" points=\"\n",
       "  1233.49,898.45 1325.57,898.45 \n",
       "  \"/>\n",
       "<path clip-path=\"url(#clip430)\" d=\"M 0 0 M1340.91 881.17 L1345.64 881.17 L1352.9 910.383 L1360.15 881.17 L1365.4 881.17 L1372.67 910.383 L1379.92 881.17 L1384.66 881.17 L1375.98 915.73 L1370.1 915.73 L1362.81 885.731 L1355.45 915.73 L1349.57 915.73 L1340.91 881.17 Z\" fill=\"#000000\" fill-rule=\"evenodd\" fill-opacity=\"1\" /><path clip-path=\"url(#clip430)\" d=\"M 0 0 M1399.36 879.758 Q1396.26 885.082 1394.76 890.291 Q1393.25 895.499 1393.25 900.846 Q1393.25 906.193 1394.76 911.448 Q1396.28 916.679 1399.36 921.98 L1395.66 921.98 Q1392.19 916.541 1390.45 911.286 Q1388.74 906.031 1388.74 900.846 Q1388.74 895.684 1390.45 890.453 Q1392.16 885.221 1395.66 879.758 L1399.36 879.758 Z\" fill=\"#000000\" fill-rule=\"evenodd\" fill-opacity=\"1\" /><path clip-path=\"url(#clip430)\" d=\"M 0 0 M1425.38 889.805 L1416.01 902.42 L1425.87 915.73 L1420.84 915.73 L1413.3 905.545 L1405.75 915.73 L1400.73 915.73 L1410.8 902.166 L1401.58 889.805 L1406.61 889.805 L1413.48 899.041 L1420.36 889.805 L1425.38 889.805 Z\" fill=\"#000000\" fill-rule=\"evenodd\" fill-opacity=\"1\" /><path clip-path=\"url(#clip430)\" d=\"M 0 0 M1429.66 879.758 L1433.37 879.758 Q1436.84 885.221 1438.55 890.453 Q1440.29 895.684 1440.29 900.846 Q1440.29 906.031 1438.55 911.286 Q1436.84 916.541 1433.37 921.98 L1429.66 921.98 Q1432.74 916.679 1434.25 911.448 Q1435.77 906.193 1435.77 900.846 Q1435.77 895.499 1434.25 890.291 Q1432.74 885.082 1429.66 879.758 Z\" fill=\"#000000\" fill-rule=\"evenodd\" fill-opacity=\"1\" /></svg>\n"
      ]
     },
     "execution_count": 24,
     "metadata": {},
     "output_type": "execute_result"
    }
   ],
   "source": [
    "plot(x, q[:,end], label = \"q(x, N)\")\n",
    "plot!(x, wx, label = \"W(x)\")\n",
    "\n",
    "plot!(legend = :bottomright, size = (400, 275))"
   ]
  },
  {
   "cell_type": "markdown",
   "metadata": {
    "hidden": true
   },
   "source": [
    "### Psuedo-Spectral Scheme - Sec. 3.6.2"
   ]
  },
  {
   "cell_type": "code",
   "execution_count": null,
   "metadata": {
    "hidden": true
   },
   "outputs": [],
   "source": [
    "N = 50\n",
    "b = 1/(sqrt(N/6))\n",
    "L = 10.0\n",
    "\n",
    "W(x, L) = 1 - 2*sech(3*(x - L/2)/2)^2\n",
    "\n",
    ";"
   ]
  },
  {
   "cell_type": "code",
   "execution_count": null,
   "metadata": {
    "hidden": true
   },
   "outputs": [],
   "source": [
    "Nx = 32\n",
    "Ns = 200\n",
    "\n",
    "dx = L/Nx\n",
    "ds = N/Ns\n",
    "\n",
    "x = collect(range(0; step = dx, length = Nx))\n",
    "wx = W.(x, L)\n",
    "\n",
    ";"
   ]
  },
  {
   "cell_type": "code",
   "execution_count": null,
   "metadata": {
    "hidden": true
   },
   "outputs": [],
   "source": [
    "q = zeros(Complex{Float64}, Nx, Ns)\n",
    "q[:,1] .= 1.0\n",
    "\n",
    "# Operators for solver\n",
    "LW = exp.(-(wx/N)*ds/2)\n",
    "\n",
    "LD = zeros(Nx)\n",
    "for idx = 0:Nx-1\n",
    "    jx = idx < Nx/2 ? idx : Nx-idx\n",
    "    LD[idx+1] = exp(-2*pi^2*b^2*ds*jx^2/(3*L^2))\n",
    "end\n",
    "\n",
    "for n = 1:Ns-1\n",
    "    qn13 = LW .* q[:,n]\n",
    "    an13 = fft(qn13)\n",
    "    hj = LD .* an13\n",
    "    qn23 = ifft(LD .* an13)\n",
    "    q[:,n+1] = LW .* qn23\n",
    "end\n",
    "\n",
    ";"
   ]
  },
  {
   "cell_type": "code",
   "execution_count": null,
   "metadata": {
    "hidden": true
   },
   "outputs": [],
   "source": [
    "Qw = sum(q[:, end]) / L\n",
    "rho = sum(q .* reverse(q, dims = 2), dims = 2) / L / Qw\n",
    "rho *= L / N\n",
    "\n",
    "\n",
    ";"
   ]
  },
  {
   "cell_type": "code",
   "execution_count": null,
   "metadata": {
    "hidden": true
   },
   "outputs": [],
   "source": [
    "plot(x, real(q[:,end]), label = \"q(x, N)\")\n",
    "plot!(x, real(rho), label = \"rho(x)\")\n",
    "plot!(x, wx, label = \"W(x)\")\n",
    "\n",
    "plot!(legend = :bottomright, size = (400, 275))"
   ]
  },
  {
   "cell_type": "markdown",
   "metadata": {
    "heading_collapsed": true,
    "hidden": true
   },
   "source": [
    "### Higher Dimensional Solver"
   ]
  },
  {
   "cell_type": "code",
   "execution_count": null,
   "metadata": {
    "hidden": true
   },
   "outputs": [],
   "source": [
    "N = 50\n",
    "b = 1/(sqrt(N/6))\n",
    "Lx = 20.0\n",
    "Ly = 20.0\n",
    "\n",
    "e1 = [Lx, 0.0]\n",
    "e2 = [0.0, Ly]\n",
    "\n",
    "#W(x, y, Lx, Ly) = cos(3*pi*x/Lx) * sin(4*pi*y/Ly)\n",
    "W(x, y, Lx, Ly) = (1 - 2*(sech(3(y - Ly/2)/2))^2) * (1 - 2*(sech(3(x - Lx/2)/2))^2)\n",
    "\n",
    ";"
   ]
  },
  {
   "cell_type": "code",
   "execution_count": null,
   "metadata": {
    "hidden": true
   },
   "outputs": [],
   "source": [
    "Nx = 64\n",
    "Ny = 64\n",
    "\n",
    "dx = Lx/Nx\n",
    "dy = Ly/Ny\n",
    "\n",
    "ds = 0.1\n",
    "Ns = trunc(Int, N/ds)\n",
    "\n",
    "x = collect(range(0; length = Nx, step = dx))\n",
    "y = collect(range(0; length = Ny, step = dy))\n",
    "\n",
    "wr = zeros(Nx, Ny)\n",
    "for i = 1:Nx\n",
    "    for j = 1:Ny\n",
    "        wr[i, j] = W(x[i], y[j], Lx, Ly)\n",
    "    end\n",
    "end\n",
    "\n",
    ";"
   ]
  },
  {
   "cell_type": "code",
   "execution_count": null,
   "metadata": {
    "hidden": true
   },
   "outputs": [],
   "source": [
    "q = zeros(Complex{Float64}, Nx, Ny, Ns)\n",
    "q[:, :, 1] .= 1.0\n",
    "\n",
    "# Operators for solver\n",
    "LW = zeros(Nx, Ny)\n",
    "LD = zeros(Nx, Ny)\n",
    "\n",
    "@. LW = exp(-(wr/N)*ds/2)\n",
    "\n",
    "for idx in CartesianIndices((1:Nx, 1:Ny))\n",
    "    jx = idx[1] <= Nx/2 ? idx[1] : Nx-idx[1]\n",
    "    jy = idx[2] <= Ny/2 ? idx[2] : Ny-idx[2]\n",
    "    \n",
    "    LD[idx] = exp(-2*pi^2*b^2*ds*jx^2/(3*Lx^2)) * exp(-2*pi^2*b^2*ds*jy^2/(3*Ly^2))\n",
    "end\n",
    "\n",
    "function mde_solve!(q, LW, LD)\n",
    "    Nx, Ny, Ns = size(q)\n",
    "    \n",
    "    FT = plan_fft(q[:, :, 1])\n",
    "    iFT = inv(FT)\n",
    "    qh =  zeros(Complex{Float64}, Nx, Ny)\n",
    "    \n",
    "    @views for n = 2:Ns\n",
    "        q[:, :, n] .= LW .* q[:, :, n-1]\n",
    "        mul!(qh, FT, q[:, :, n])\n",
    "        qh .*= LD\n",
    "        mul!(q[:, :, n], iFT, qh)\n",
    "        q[:, :, n] .*= LW\n",
    "    end \n",
    "end\n",
    "\n",
    "@time mde_solve!(q, LW, LD)"
   ]
  },
  {
   "cell_type": "code",
   "execution_count": null,
   "metadata": {
    "hidden": true
   },
   "outputs": [],
   "source": [
    "Qw = sum(q[:, :, end]) / Lx / Ly\n",
    "rho = dropdims(sum(q .* reverse(q, dims = 3), dims = 3), dims = 3) / Lx / Ly / Qw\n",
    "rho *= Lx * Ly / N\n",
    "\n",
    "\n",
    ";"
   ]
  },
  {
   "cell_type": "code",
   "execution_count": null,
   "metadata": {
    "hidden": true,
    "scrolled": false
   },
   "outputs": [],
   "source": [
    "plot(x, y, wr, st = :surface, color = :blues)\n",
    "plot!(x, y, real(q[:,:,end]), st = :surface, color = :reds)"
   ]
  },
  {
   "cell_type": "markdown",
   "metadata": {},
   "source": [
    "# SCFT Program"
   ]
  },
  {
   "cell_type": "code",
   "execution_count": 42,
   "metadata": {},
   "outputs": [],
   "source": [
    "dims = (64, 1, 1)\n",
    "cell = UnitCell(1, :lamellar, 10.0)\n",
    "\n",
    ";"
   ]
  },
  {
   "cell_type": "code",
   "execution_count": 69,
   "metadata": {},
   "outputs": [],
   "source": [
    "amon = Monomer(; id = 1, vol = 1.0, charge = 0.0)\n",
    "bmon = Monomer(; id = 2, vol = 1.0, charge = 0.0)\n",
    "#cmon = Monomer(; id = 3, vol = 2.0)\n",
    "\n",
    "sys = FieldSystem(dims, cell; monomers = [amon, bmon], ensemble = Canonical)\n",
    "\n",
    "# Add species \n",
    "#point = Point(cmon)\n",
    "chain = Diblock(amon, bmon, 500, 0.5, 1.0, 1.0, 100)\n",
    "#add_species!(sys, point, 0.5)\n",
    "add_species!(sys, chain, 1.0)\n",
    "\n",
    "# Interactions\n",
    "itx = FloryInteraction()\n",
    "set_interaction!(itx, amon.id, bmon.id, 0.15)\n",
    "add_interaction!(sys, itx)\n",
    "\n",
    "# # Initializatione\n",
    "fieldinit!(sys, \"../examples/seeds/lam1d.json\", load_cell = false)\n",
    "#fieldinit!(sys; scale = 0.1)\n",
    "\n",
    "# ;"
   ]
  },
  {
   "cell_type": "code",
   "execution_count": 70,
   "metadata": {
    "scrolled": false
   },
   "outputs": [
    {
     "name": "stdout",
     "output_type": "stream",
     "text": [
      "Step (0     /  2500): ferr = 9.721827e-06, fhelm = 5.68039e-02\n",
      "Converged @ step = 0: ferr = 9.721827e-06, fhelm = 5.68039e-02\n"
     ]
    },
    {
     "data": {
      "text/plain": [
       "SCFTResults\n",
       "  time: Float64 0.0008446\n",
       "  nsteps: Int64 0\n",
       "  converged: Bool true\n",
       "  ferr: Float64 9.721827108801126e-6\n",
       "  serr: Float64 0.0\n",
       "  fhelm: Float64 0.05680394298314467\n"
      ]
     },
     "execution_count": 70,
     "metadata": {},
     "output_type": "execute_result"
    }
   ],
   "source": [
    "opts = SCFTOptions(nsteps = 2500, nsout = 100, ftol = 1e-5, stol = 1e-6)\n",
    "\n",
    "updater = MomentumUpdater(method = :MOM, lam = 0.025, gamma = 0.9, beta2 = 0.999)\n",
    "\n",
    "res = scft!(sys, updater; opts = opts)"
   ]
  },
  {
   "cell_type": "code",
   "execution_count": 71,
   "metadata": {
    "scrolled": false
   },
   "outputs": [
    {
     "data": {
      "image/svg+xml": [
       "<?xml version=\"1.0\" encoding=\"utf-8\"?>\n",
       "<svg xmlns=\"http://www.w3.org/2000/svg\" xmlns:xlink=\"http://www.w3.org/1999/xlink\" width=\"600\" height=\"400\" viewBox=\"0 0 2400 1600\">\n",
       "<defs>\n",
       "  <clipPath id=\"clip650\">\n",
       "    <rect x=\"0\" y=\"0\" width=\"2400\" height=\"1600\"/>\n",
       "  </clipPath>\n",
       "</defs>\n",
       "<path clip-path=\"url(#clip650)\" d=\"\n",
       "M0 1600 L2400 1600 L2400 0 L0 0  Z\n",
       "  \" fill=\"#ffffff\" fill-rule=\"evenodd\" fill-opacity=\"1\"/>\n",
       "<defs>\n",
       "  <clipPath id=\"clip651\">\n",
       "    <rect x=\"480\" y=\"0\" width=\"1681\" height=\"1600\"/>\n",
       "  </clipPath>\n",
       "</defs>\n",
       "<path clip-path=\"url(#clip650)\" d=\"\n",
       "M148.334 1486.45 L2352.76 1486.45 L2352.76 47.2441 L148.334 47.2441  Z\n",
       "  \" fill=\"#ffffff\" fill-rule=\"evenodd\" fill-opacity=\"1\"/>\n",
       "<defs>\n",
       "  <clipPath id=\"clip652\">\n",
       "    <rect x=\"148\" y=\"47\" width=\"2205\" height=\"1440\"/>\n",
       "  </clipPath>\n",
       "</defs>\n",
       "<polyline clip-path=\"url(#clip652)\" style=\"stroke:#000000; stroke-width:2; stroke-opacity:0.1; fill:none\" points=\"\n",
       "  177.713,1486.45 177.713,47.2441 \n",
       "  \"/>\n",
       "<polyline clip-path=\"url(#clip652)\" style=\"stroke:#000000; stroke-width:2; stroke-opacity:0.1; fill:none\" points=\"\n",
       "  507.816,1486.45 507.816,47.2441 \n",
       "  \"/>\n",
       "<polyline clip-path=\"url(#clip652)\" style=\"stroke:#000000; stroke-width:2; stroke-opacity:0.1; fill:none\" points=\"\n",
       "  837.918,1486.45 837.918,47.2441 \n",
       "  \"/>\n",
       "<polyline clip-path=\"url(#clip652)\" style=\"stroke:#000000; stroke-width:2; stroke-opacity:0.1; fill:none\" points=\"\n",
       "  1168.02,1486.45 1168.02,47.2441 \n",
       "  \"/>\n",
       "<polyline clip-path=\"url(#clip652)\" style=\"stroke:#000000; stroke-width:2; stroke-opacity:0.1; fill:none\" points=\"\n",
       "  1498.12,1486.45 1498.12,47.2441 \n",
       "  \"/>\n",
       "<polyline clip-path=\"url(#clip652)\" style=\"stroke:#000000; stroke-width:2; stroke-opacity:0.1; fill:none\" points=\"\n",
       "  1828.22,1486.45 1828.22,47.2441 \n",
       "  \"/>\n",
       "<polyline clip-path=\"url(#clip652)\" style=\"stroke:#000000; stroke-width:2; stroke-opacity:0.1; fill:none\" points=\"\n",
       "  2158.33,1486.45 2158.33,47.2441 \n",
       "  \"/>\n",
       "<polyline clip-path=\"url(#clip650)\" style=\"stroke:#000000; stroke-width:4; stroke-opacity:1; fill:none\" points=\"\n",
       "  148.334,1486.45 2352.76,1486.45 \n",
       "  \"/>\n",
       "<polyline clip-path=\"url(#clip650)\" style=\"stroke:#000000; stroke-width:4; stroke-opacity:1; fill:none\" points=\"\n",
       "  177.713,1486.45 177.713,1469.18 \n",
       "  \"/>\n",
       "<polyline clip-path=\"url(#clip650)\" style=\"stroke:#000000; stroke-width:4; stroke-opacity:1; fill:none\" points=\"\n",
       "  507.816,1486.45 507.816,1469.18 \n",
       "  \"/>\n",
       "<polyline clip-path=\"url(#clip650)\" style=\"stroke:#000000; stroke-width:4; stroke-opacity:1; fill:none\" points=\"\n",
       "  837.918,1486.45 837.918,1469.18 \n",
       "  \"/>\n",
       "<polyline clip-path=\"url(#clip650)\" style=\"stroke:#000000; stroke-width:4; stroke-opacity:1; fill:none\" points=\"\n",
       "  1168.02,1486.45 1168.02,1469.18 \n",
       "  \"/>\n",
       "<polyline clip-path=\"url(#clip650)\" style=\"stroke:#000000; stroke-width:4; stroke-opacity:1; fill:none\" points=\"\n",
       "  1498.12,1486.45 1498.12,1469.18 \n",
       "  \"/>\n",
       "<polyline clip-path=\"url(#clip650)\" style=\"stroke:#000000; stroke-width:4; stroke-opacity:1; fill:none\" points=\"\n",
       "  1828.22,1486.45 1828.22,1469.18 \n",
       "  \"/>\n",
       "<polyline clip-path=\"url(#clip650)\" style=\"stroke:#000000; stroke-width:4; stroke-opacity:1; fill:none\" points=\"\n",
       "  2158.33,1486.45 2158.33,1469.18 \n",
       "  \"/>\n",
       "<path clip-path=\"url(#clip650)\" d=\"M 0 0 M177.713 1515.64 Q174.102 1515.64 172.274 1519.2 Q170.468 1522.75 170.468 1529.87 Q170.468 1536.98 172.274 1540.55 Q174.102 1544.09 177.713 1544.09 Q181.348 1544.09 183.153 1540.55 Q184.982 1536.98 184.982 1529.87 Q184.982 1522.75 183.153 1519.2 Q181.348 1515.64 177.713 1515.64 M177.713 1511.93 Q183.524 1511.93 186.579 1516.54 Q189.658 1521.12 189.658 1529.87 Q189.658 1538.6 186.579 1543.21 Q183.524 1547.79 177.713 1547.79 Q171.903 1547.79 168.825 1543.21 Q165.769 1538.6 165.769 1529.87 Q165.769 1521.12 168.825 1516.54 Q171.903 1511.93 177.713 1511.93 Z\" fill=\"#000000\" fill-rule=\"evenodd\" fill-opacity=\"1\" /><path clip-path=\"url(#clip650)\" d=\"M 0 0 M484.691 1543.18 L492.329 1543.18 L492.329 1516.82 L484.019 1518.49 L484.019 1514.23 L492.283 1512.56 L496.959 1512.56 L496.959 1543.18 L504.598 1543.18 L504.598 1547.12 L484.691 1547.12 L484.691 1543.18 Z\" fill=\"#000000\" fill-rule=\"evenodd\" fill-opacity=\"1\" /><path clip-path=\"url(#clip650)\" d=\"M 0 0 M519.667 1515.64 Q516.056 1515.64 514.228 1519.2 Q512.422 1522.75 512.422 1529.87 Q512.422 1536.98 514.228 1540.55 Q516.056 1544.09 519.667 1544.09 Q523.302 1544.09 525.107 1540.55 Q526.936 1536.98 526.936 1529.87 Q526.936 1522.75 525.107 1519.2 Q523.302 1515.64 519.667 1515.64 M519.667 1511.93 Q525.477 1511.93 528.533 1516.54 Q531.612 1521.12 531.612 1529.87 Q531.612 1538.6 528.533 1543.21 Q525.477 1547.79 519.667 1547.79 Q513.857 1547.79 510.778 1543.21 Q507.723 1538.6 507.723 1529.87 Q507.723 1521.12 510.778 1516.54 Q513.857 1511.93 519.667 1511.93 Z\" fill=\"#000000\" fill-rule=\"evenodd\" fill-opacity=\"1\" /><path clip-path=\"url(#clip650)\" d=\"M 0 0 M819.064 1543.18 L835.383 1543.18 L835.383 1547.12 L813.439 1547.12 L813.439 1543.18 Q816.101 1540.43 820.684 1535.8 Q825.29 1531.15 826.471 1529.81 Q828.716 1527.28 829.596 1525.55 Q830.499 1523.79 830.499 1522.1 Q830.499 1519.34 828.554 1517.61 Q826.633 1515.87 823.531 1515.87 Q821.332 1515.87 818.878 1516.63 Q816.448 1517.4 813.67 1518.95 L813.67 1514.23 Q816.494 1513.09 818.948 1512.51 Q821.401 1511.93 823.438 1511.93 Q828.809 1511.93 832.003 1514.62 Q835.198 1517.31 835.198 1521.8 Q835.198 1523.93 834.388 1525.85 Q833.6 1527.74 831.494 1530.34 Q830.915 1531.01 827.813 1534.23 Q824.712 1537.42 819.064 1543.18 Z\" fill=\"#000000\" fill-rule=\"evenodd\" fill-opacity=\"1\" /><path clip-path=\"url(#clip650)\" d=\"M 0 0 M850.452 1515.64 Q846.841 1515.64 845.012 1519.2 Q843.207 1522.75 843.207 1529.87 Q843.207 1536.98 845.012 1540.55 Q846.841 1544.09 850.452 1544.09 Q854.086 1544.09 855.892 1540.55 Q857.721 1536.98 857.721 1529.87 Q857.721 1522.75 855.892 1519.2 Q854.086 1515.64 850.452 1515.64 M850.452 1511.93 Q856.262 1511.93 859.318 1516.54 Q862.397 1521.12 862.397 1529.87 Q862.397 1538.6 859.318 1543.21 Q856.262 1547.79 850.452 1547.79 Q844.642 1547.79 841.563 1543.21 Q838.508 1538.6 838.508 1529.87 Q838.508 1521.12 841.563 1516.54 Q844.642 1511.93 850.452 1511.93 Z\" fill=\"#000000\" fill-rule=\"evenodd\" fill-opacity=\"1\" /><path clip-path=\"url(#clip650)\" d=\"M 0 0 M1158.76 1528.49 Q1162.12 1529.2 1163.99 1531.47 Q1165.89 1533.74 1165.89 1537.07 Q1165.89 1542.19 1162.37 1544.99 Q1158.85 1547.79 1152.37 1547.79 Q1150.2 1547.79 1147.88 1547.35 Q1145.59 1546.93 1143.14 1546.08 L1143.14 1541.56 Q1145.08 1542.7 1147.39 1543.28 Q1149.71 1543.86 1152.23 1543.86 Q1156.63 1543.86 1158.92 1542.12 Q1161.24 1540.38 1161.24 1537.07 Q1161.24 1534.02 1159.08 1532.31 Q1156.95 1530.57 1153.14 1530.57 L1149.11 1530.57 L1149.11 1526.73 L1153.32 1526.73 Q1156.77 1526.73 1158.6 1525.36 Q1160.43 1523.97 1160.43 1521.38 Q1160.43 1518.72 1158.53 1517.31 Q1156.65 1515.87 1153.14 1515.87 Q1151.21 1515.87 1149.02 1516.29 Q1146.82 1516.7 1144.18 1517.58 L1144.18 1513.42 Q1146.84 1512.68 1149.15 1512.31 Q1151.49 1511.93 1153.55 1511.93 Q1158.88 1511.93 1161.98 1514.37 Q1165.08 1516.77 1165.08 1520.89 Q1165.08 1523.76 1163.44 1525.75 Q1161.79 1527.72 1158.76 1528.49 Z\" fill=\"#000000\" fill-rule=\"evenodd\" fill-opacity=\"1\" /><path clip-path=\"url(#clip650)\" d=\"M 0 0 M1180.96 1515.64 Q1177.35 1515.64 1175.52 1519.2 Q1173.71 1522.75 1173.71 1529.87 Q1173.71 1536.98 1175.52 1540.55 Q1177.35 1544.09 1180.96 1544.09 Q1184.59 1544.09 1186.4 1540.55 Q1188.23 1536.98 1188.23 1529.87 Q1188.23 1522.75 1186.4 1519.2 Q1184.59 1515.64 1180.96 1515.64 M1180.96 1511.93 Q1186.77 1511.93 1189.83 1516.54 Q1192.9 1521.12 1192.9 1529.87 Q1192.9 1538.6 1189.83 1543.21 Q1186.77 1547.79 1180.96 1547.79 Q1175.15 1547.79 1172.07 1543.21 Q1169.01 1538.6 1169.01 1529.87 Q1169.01 1521.12 1172.07 1516.54 Q1175.15 1511.93 1180.96 1511.93 Z\" fill=\"#000000\" fill-rule=\"evenodd\" fill-opacity=\"1\" /><path clip-path=\"url(#clip650)\" d=\"M 0 0 M1487.62 1516.63 L1475.82 1535.08 L1487.62 1535.08 L1487.62 1516.63 M1486.4 1512.56 L1492.28 1512.56 L1492.28 1535.08 L1497.21 1535.08 L1497.21 1538.97 L1492.28 1538.97 L1492.28 1547.12 L1487.62 1547.12 L1487.62 1538.97 L1472.02 1538.97 L1472.02 1534.46 L1486.4 1512.56 Z\" fill=\"#000000\" fill-rule=\"evenodd\" fill-opacity=\"1\" /><path clip-path=\"url(#clip650)\" d=\"M 0 0 M1512.28 1515.64 Q1508.67 1515.64 1506.84 1519.2 Q1505.03 1522.75 1505.03 1529.87 Q1505.03 1536.98 1506.84 1540.55 Q1508.67 1544.09 1512.28 1544.09 Q1515.91 1544.09 1517.72 1540.55 Q1519.55 1536.98 1519.55 1529.87 Q1519.55 1522.75 1517.72 1519.2 Q1515.91 1515.64 1512.28 1515.64 M1512.28 1511.93 Q1518.09 1511.93 1521.14 1516.54 Q1524.22 1521.12 1524.22 1529.87 Q1524.22 1538.6 1521.14 1543.21 Q1518.09 1547.79 1512.28 1547.79 Q1506.47 1547.79 1503.39 1543.21 Q1500.33 1538.6 1500.33 1529.87 Q1500.33 1521.12 1503.39 1516.54 Q1506.47 1511.93 1512.28 1511.93 Z\" fill=\"#000000\" fill-rule=\"evenodd\" fill-opacity=\"1\" /><path clip-path=\"url(#clip650)\" d=\"M 0 0 M1804.99 1512.56 L1823.35 1512.56 L1823.35 1516.5 L1809.28 1516.5 L1809.28 1524.97 Q1810.3 1524.62 1811.31 1524.46 Q1812.33 1524.27 1813.35 1524.27 Q1819.14 1524.27 1822.52 1527.44 Q1825.9 1530.62 1825.9 1536.03 Q1825.9 1541.61 1822.43 1544.71 Q1818.95 1547.79 1812.63 1547.79 Q1810.46 1547.79 1808.19 1547.42 Q1805.94 1547.05 1803.54 1546.31 L1803.54 1541.61 Q1805.62 1542.74 1807.84 1543.3 Q1810.06 1543.86 1812.54 1543.86 Q1816.55 1543.86 1818.88 1541.75 Q1821.22 1539.64 1821.22 1536.03 Q1821.22 1532.42 1818.88 1530.31 Q1816.55 1528.21 1812.54 1528.21 Q1810.67 1528.21 1808.79 1528.62 Q1806.94 1529.04 1804.99 1529.92 L1804.99 1512.56 Z\" fill=\"#000000\" fill-rule=\"evenodd\" fill-opacity=\"1\" /><path clip-path=\"url(#clip650)\" d=\"M 0 0 M1840.97 1515.64 Q1837.36 1515.64 1835.53 1519.2 Q1833.72 1522.75 1833.72 1529.87 Q1833.72 1536.98 1835.53 1540.55 Q1837.36 1544.09 1840.97 1544.09 Q1844.6 1544.09 1846.41 1540.55 Q1848.24 1536.98 1848.24 1529.87 Q1848.24 1522.75 1846.41 1519.2 Q1844.6 1515.64 1840.97 1515.64 M1840.97 1511.93 Q1846.78 1511.93 1849.83 1516.54 Q1852.91 1521.12 1852.91 1529.87 Q1852.91 1538.6 1849.83 1543.21 Q1846.78 1547.79 1840.97 1547.79 Q1835.16 1547.79 1832.08 1543.21 Q1829.02 1538.6 1829.02 1529.87 Q1829.02 1521.12 1832.08 1516.54 Q1835.16 1511.93 1840.97 1511.93 Z\" fill=\"#000000\" fill-rule=\"evenodd\" fill-opacity=\"1\" /><path clip-path=\"url(#clip650)\" d=\"M 0 0 M2145.22 1527.98 Q2142.08 1527.98 2140.22 1530.13 Q2138.4 1532.28 2138.4 1536.03 Q2138.4 1539.76 2140.22 1541.93 Q2142.08 1544.09 2145.22 1544.09 Q2148.37 1544.09 2150.2 1541.93 Q2152.05 1539.76 2152.05 1536.03 Q2152.05 1532.28 2150.2 1530.13 Q2148.37 1527.98 2145.22 1527.98 M2154.51 1513.32 L2154.51 1517.58 Q2152.75 1516.75 2150.94 1516.31 Q2149.16 1515.87 2147.4 1515.87 Q2142.77 1515.87 2140.32 1519 Q2137.89 1522.12 2137.54 1528.44 Q2138.9 1526.43 2140.96 1525.36 Q2143.02 1524.27 2145.5 1524.27 Q2150.71 1524.27 2153.72 1527.44 Q2156.75 1530.59 2156.75 1536.03 Q2156.75 1541.36 2153.6 1544.57 Q2150.46 1547.79 2145.22 1547.79 Q2139.23 1547.79 2136.06 1543.21 Q2132.89 1538.6 2132.89 1529.87 Q2132.89 1521.68 2136.77 1516.82 Q2140.66 1511.93 2147.21 1511.93 Q2148.97 1511.93 2150.76 1512.28 Q2152.56 1512.63 2154.51 1513.32 Z\" fill=\"#000000\" fill-rule=\"evenodd\" fill-opacity=\"1\" /><path clip-path=\"url(#clip650)\" d=\"M 0 0 M2171.82 1515.64 Q2168.21 1515.64 2166.38 1519.2 Q2164.58 1522.75 2164.58 1529.87 Q2164.58 1536.98 2166.38 1540.55 Q2168.21 1544.09 2171.82 1544.09 Q2175.46 1544.09 2177.26 1540.55 Q2179.09 1536.98 2179.09 1529.87 Q2179.09 1522.75 2177.26 1519.2 Q2175.46 1515.64 2171.82 1515.64 M2171.82 1511.93 Q2177.63 1511.93 2180.69 1516.54 Q2183.77 1521.12 2183.77 1529.87 Q2183.77 1538.6 2180.69 1543.21 Q2177.63 1547.79 2171.82 1547.79 Q2166.01 1547.79 2162.93 1543.21 Q2159.88 1538.6 2159.88 1529.87 Q2159.88 1521.12 2162.93 1516.54 Q2166.01 1511.93 2171.82 1511.93 Z\" fill=\"#000000\" fill-rule=\"evenodd\" fill-opacity=\"1\" /><polyline clip-path=\"url(#clip652)\" style=\"stroke:#000000; stroke-width:2; stroke-opacity:0.1; fill:none\" points=\"\n",
       "  148.334,1358.48 2352.76,1358.48 \n",
       "  \"/>\n",
       "<polyline clip-path=\"url(#clip652)\" style=\"stroke:#000000; stroke-width:2; stroke-opacity:0.1; fill:none\" points=\"\n",
       "  148.334,1091.09 2352.76,1091.09 \n",
       "  \"/>\n",
       "<polyline clip-path=\"url(#clip652)\" style=\"stroke:#000000; stroke-width:2; stroke-opacity:0.1; fill:none\" points=\"\n",
       "  148.334,823.695 2352.76,823.695 \n",
       "  \"/>\n",
       "<polyline clip-path=\"url(#clip652)\" style=\"stroke:#000000; stroke-width:2; stroke-opacity:0.1; fill:none\" points=\"\n",
       "  148.334,556.3 2352.76,556.3 \n",
       "  \"/>\n",
       "<polyline clip-path=\"url(#clip652)\" style=\"stroke:#000000; stroke-width:2; stroke-opacity:0.1; fill:none\" points=\"\n",
       "  148.334,288.905 2352.76,288.905 \n",
       "  \"/>\n",
       "<polyline clip-path=\"url(#clip650)\" style=\"stroke:#000000; stroke-width:4; stroke-opacity:1; fill:none\" points=\"\n",
       "  148.334,1486.45 148.334,47.2441 \n",
       "  \"/>\n",
       "<polyline clip-path=\"url(#clip650)\" style=\"stroke:#000000; stroke-width:4; stroke-opacity:1; fill:none\" points=\"\n",
       "  148.334,1358.48 174.787,1358.48 \n",
       "  \"/>\n",
       "<polyline clip-path=\"url(#clip650)\" style=\"stroke:#000000; stroke-width:4; stroke-opacity:1; fill:none\" points=\"\n",
       "  148.334,1091.09 174.787,1091.09 \n",
       "  \"/>\n",
       "<polyline clip-path=\"url(#clip650)\" style=\"stroke:#000000; stroke-width:4; stroke-opacity:1; fill:none\" points=\"\n",
       "  148.334,823.695 174.787,823.695 \n",
       "  \"/>\n",
       "<polyline clip-path=\"url(#clip650)\" style=\"stroke:#000000; stroke-width:4; stroke-opacity:1; fill:none\" points=\"\n",
       "  148.334,556.3 174.787,556.3 \n",
       "  \"/>\n",
       "<polyline clip-path=\"url(#clip650)\" style=\"stroke:#000000; stroke-width:4; stroke-opacity:1; fill:none\" points=\"\n",
       "  148.334,288.905 174.787,288.905 \n",
       "  \"/>\n",
       "<path clip-path=\"url(#clip650)\" d=\"M 0 0 M63.4226 1344.28 Q59.8115 1344.28 57.9828 1347.85 Q56.1773 1351.39 56.1773 1358.52 Q56.1773 1365.63 57.9828 1369.19 Q59.8115 1372.73 63.4226 1372.73 Q67.0569 1372.73 68.8624 1369.19 Q70.6911 1365.63 70.6911 1358.52 Q70.6911 1351.39 68.8624 1347.85 Q67.0569 1344.28 63.4226 1344.28 M63.4226 1340.58 Q69.2328 1340.58 72.2883 1345.19 Q75.367 1349.77 75.367 1358.52 Q75.367 1367.25 72.2883 1371.85 Q69.2328 1376.44 63.4226 1376.44 Q57.6125 1376.44 54.5338 1371.85 Q51.4782 1367.25 51.4782 1358.52 Q51.4782 1349.77 54.5338 1345.19 Q57.6125 1340.58 63.4226 1340.58 Z\" fill=\"#000000\" fill-rule=\"evenodd\" fill-opacity=\"1\" /><path clip-path=\"url(#clip650)\" d=\"M 0 0 M80.4364 1369.88 L85.3206 1369.88 L85.3206 1375.76 L80.4364 1375.76 L80.4364 1369.88 Z\" fill=\"#000000\" fill-rule=\"evenodd\" fill-opacity=\"1\" /><path clip-path=\"url(#clip650)\" d=\"M 0 0 M100.39 1344.28 Q96.7789 1344.28 94.9502 1347.85 Q93.1447 1351.39 93.1447 1358.52 Q93.1447 1365.63 94.9502 1369.19 Q96.7789 1372.73 100.39 1372.73 Q104.024 1372.73 105.83 1369.19 Q107.658 1365.63 107.658 1358.52 Q107.658 1351.39 105.83 1347.85 Q104.024 1344.28 100.39 1344.28 M100.39 1340.58 Q106.2 1340.58 109.256 1345.19 Q112.334 1349.77 112.334 1358.52 Q112.334 1367.25 109.256 1371.85 Q106.2 1376.44 100.39 1376.44 Q94.5799 1376.44 91.5012 1371.85 Q88.4456 1367.25 88.4456 1358.52 Q88.4456 1349.77 91.5012 1345.19 Q94.5799 1340.58 100.39 1340.58 Z\" fill=\"#000000\" fill-rule=\"evenodd\" fill-opacity=\"1\" /><path clip-path=\"url(#clip650)\" d=\"M 0 0 M65.0198 1076.89 Q61.4087 1076.89 59.58 1080.45 Q57.7745 1083.99 57.7745 1091.12 Q57.7745 1098.23 59.58 1101.8 Q61.4087 1105.34 65.0198 1105.34 Q68.6541 1105.34 70.4596 1101.8 Q72.2883 1098.23 72.2883 1091.12 Q72.2883 1083.99 70.4596 1080.45 Q68.6541 1076.89 65.0198 1076.89 M65.0198 1073.18 Q70.83 1073.18 73.8855 1077.79 Q76.9642 1082.37 76.9642 1091.12 Q76.9642 1099.85 73.8855 1104.46 Q70.83 1109.04 65.0198 1109.04 Q59.2097 1109.04 56.131 1104.46 Q53.0754 1099.85 53.0754 1091.12 Q53.0754 1082.37 56.131 1077.79 Q59.2097 1073.18 65.0198 1073.18 Z\" fill=\"#000000\" fill-rule=\"evenodd\" fill-opacity=\"1\" /><path clip-path=\"url(#clip650)\" d=\"M 0 0 M82.0336 1102.49 L86.9179 1102.49 L86.9179 1108.37 L82.0336 1108.37 L82.0336 1102.49 Z\" fill=\"#000000\" fill-rule=\"evenodd\" fill-opacity=\"1\" /><path clip-path=\"url(#clip650)\" d=\"M 0 0 M96.015 1104.43 L112.334 1104.43 L112.334 1108.37 L90.3901 1108.37 L90.3901 1104.43 Q93.0521 1101.68 97.6354 1097.05 Q102.242 1092.4 103.422 1091.05 Q105.668 1088.53 106.547 1086.8 Q107.45 1085.04 107.45 1083.35 Q107.45 1080.59 105.506 1078.86 Q103.584 1077.12 100.483 1077.12 Q98.2835 1077.12 95.8298 1077.88 Q93.3993 1078.65 90.6215 1080.2 L90.6215 1075.48 Q93.4456 1074.34 95.8993 1073.76 Q98.353 1073.18 100.39 1073.18 Q105.76 1073.18 108.955 1075.87 Q112.149 1078.55 112.149 1083.05 Q112.149 1085.18 111.339 1087.1 Q110.552 1088.99 108.446 1091.59 Q107.867 1092.26 104.765 1095.48 Q101.663 1098.67 96.015 1104.43 Z\" fill=\"#000000\" fill-rule=\"evenodd\" fill-opacity=\"1\" /><path clip-path=\"url(#clip650)\" d=\"M 0 0 M62.9365 809.494 Q59.3254 809.494 57.4967 813.058 Q55.6912 816.6 55.6912 823.73 Q55.6912 830.836 57.4967 834.401 Q59.3254 837.942 62.9365 837.942 Q66.5707 837.942 68.3763 834.401 Q70.205 830.836 70.205 823.73 Q70.205 816.6 68.3763 813.058 Q66.5707 809.494 62.9365 809.494 M62.9365 805.79 Q68.7467 805.79 71.8022 810.396 Q74.8809 814.98 74.8809 823.73 Q74.8809 832.456 71.8022 837.063 Q68.7467 841.646 62.9365 841.646 Q57.1264 841.646 54.0477 837.063 Q50.9921 832.456 50.9921 823.73 Q50.9921 814.98 54.0477 810.396 Q57.1264 805.79 62.9365 805.79 Z\" fill=\"#000000\" fill-rule=\"evenodd\" fill-opacity=\"1\" /><path clip-path=\"url(#clip650)\" d=\"M 0 0 M79.9503 835.095 L84.8345 835.095 L84.8345 840.975 L79.9503 840.975 L79.9503 835.095 Z\" fill=\"#000000\" fill-rule=\"evenodd\" fill-opacity=\"1\" /><path clip-path=\"url(#clip650)\" d=\"M 0 0 M102.751 810.489 L90.9456 828.938 L102.751 828.938 L102.751 810.489 M101.524 806.415 L107.404 806.415 L107.404 828.938 L112.334 828.938 L112.334 832.827 L107.404 832.827 L107.404 840.975 L102.751 840.975 L102.751 832.827 L87.1493 832.827 L87.1493 828.313 L101.524 806.415 Z\" fill=\"#000000\" fill-rule=\"evenodd\" fill-opacity=\"1\" /><path clip-path=\"url(#clip650)\" d=\"M 0 0 M63.2606 542.099 Q59.6495 542.099 57.8208 545.664 Q56.0152 549.205 56.0152 556.335 Q56.0152 563.441 57.8208 567.006 Q59.6495 570.548 63.2606 570.548 Q66.8948 570.548 68.7004 567.006 Q70.5291 563.441 70.5291 556.335 Q70.5291 549.205 68.7004 545.664 Q66.8948 542.099 63.2606 542.099 M63.2606 538.395 Q69.0707 538.395 72.1263 543.002 Q75.205 547.585 75.205 556.335 Q75.205 565.062 72.1263 569.668 Q69.0707 574.251 63.2606 574.251 Q57.4504 574.251 54.3717 569.668 Q51.3162 565.062 51.3162 556.335 Q51.3162 547.585 54.3717 543.002 Q57.4504 538.395 63.2606 538.395 Z\" fill=\"#000000\" fill-rule=\"evenodd\" fill-opacity=\"1\" /><path clip-path=\"url(#clip650)\" d=\"M 0 0 M80.2744 567.7 L85.1586 567.7 L85.1586 573.58 L80.2744 573.58 L80.2744 567.7 Z\" fill=\"#000000\" fill-rule=\"evenodd\" fill-opacity=\"1\" /><path clip-path=\"url(#clip650)\" d=\"M 0 0 M100.807 554.437 Q97.6585 554.437 95.8067 556.589 Q93.978 558.742 93.978 562.492 Q93.978 566.219 95.8067 568.395 Q97.6585 570.548 100.807 570.548 Q103.955 570.548 105.783 568.395 Q107.635 566.219 107.635 562.492 Q107.635 558.742 105.783 556.589 Q103.955 554.437 100.807 554.437 M110.089 539.784 L110.089 544.043 Q108.33 543.21 106.524 542.77 Q104.742 542.33 102.983 542.33 Q98.353 542.33 95.8993 545.455 Q93.4688 548.58 93.1215 554.9 Q94.4873 552.886 96.5474 551.821 Q98.6076 550.733 101.084 550.733 Q106.293 550.733 109.302 553.904 Q112.334 557.052 112.334 562.492 Q112.334 567.816 109.186 571.034 Q106.038 574.251 100.807 574.251 Q94.8113 574.251 91.6401 569.668 Q88.4688 565.062 88.4688 556.335 Q88.4688 548.14 92.3576 543.279 Q96.2465 538.395 102.797 538.395 Q104.557 538.395 106.339 538.742 Q108.145 539.09 110.089 539.784 Z\" fill=\"#000000\" fill-rule=\"evenodd\" fill-opacity=\"1\" /><path clip-path=\"url(#clip650)\" d=\"M 0 0 M63.5152 274.704 Q59.9041 274.704 58.0754 278.269 Q56.2699 281.81 56.2699 288.94 Q56.2699 296.046 58.0754 299.611 Q59.9041 303.153 63.5152 303.153 Q67.1494 303.153 68.955 299.611 Q70.7837 296.046 70.7837 288.94 Q70.7837 281.81 68.955 278.269 Q67.1494 274.704 63.5152 274.704 M63.5152 271 Q69.3254 271 72.3809 275.607 Q75.4596 280.19 75.4596 288.94 Q75.4596 297.667 72.3809 302.273 Q69.3254 306.857 63.5152 306.857 Q57.7051 306.857 54.6264 302.273 Q51.5708 297.667 51.5708 288.94 Q51.5708 280.19 54.6264 275.607 Q57.7051 271 63.5152 271 Z\" fill=\"#000000\" fill-rule=\"evenodd\" fill-opacity=\"1\" /><path clip-path=\"url(#clip650)\" d=\"M 0 0 M80.529 300.306 L85.4132 300.306 L85.4132 306.185 L80.529 306.185 L80.529 300.306 Z\" fill=\"#000000\" fill-rule=\"evenodd\" fill-opacity=\"1\" /><path clip-path=\"url(#clip650)\" d=\"M 0 0 M100.483 289.773 Q97.1493 289.773 95.228 291.556 Q93.3299 293.338 93.3299 296.463 Q93.3299 299.588 95.228 301.37 Q97.1493 303.153 100.483 303.153 Q103.816 303.153 105.737 301.37 Q107.658 299.565 107.658 296.463 Q107.658 293.338 105.737 291.556 Q103.839 289.773 100.483 289.773 M95.8067 287.783 Q92.7975 287.042 91.1077 284.982 Q89.441 282.922 89.441 279.959 Q89.441 275.815 92.3808 273.408 Q95.3437 271 100.483 271 Q105.645 271 108.584 273.408 Q111.524 275.815 111.524 279.959 Q111.524 282.922 109.834 284.982 Q108.168 287.042 105.182 287.783 Q108.561 288.57 110.436 290.861 Q112.334 293.153 112.334 296.463 Q112.334 301.486 109.256 304.171 Q106.2 306.857 100.483 306.857 Q94.765 306.857 91.6864 304.171 Q88.6308 301.486 88.6308 296.463 Q88.6308 293.153 90.529 290.861 Q92.4271 288.57 95.8067 287.783 M94.0937 280.398 Q94.0937 283.084 95.7604 284.588 Q97.4502 286.093 100.483 286.093 Q103.492 286.093 105.182 284.588 Q106.895 283.084 106.895 280.398 Q106.895 277.713 105.182 276.209 Q103.492 274.704 100.483 274.704 Q97.4502 274.704 95.7604 276.209 Q94.0937 277.713 94.0937 280.398 Z\" fill=\"#000000\" fill-rule=\"evenodd\" fill-opacity=\"1\" /><polyline clip-path=\"url(#clip652)\" style=\"stroke:#009af9; stroke-width:4; stroke-opacity:1; fill:none\" points=\"\n",
       "  210.724,147.614 243.734,170.675 276.744,199.937 309.754,236.849 342.764,283.14 375.775,340.715 408.785,411.315 441.795,495.72 474.805,592.408 507.816,696.39 \n",
       "  540.826,799.869 573.836,895.255 606.846,978.001 639.856,1046.95 672.867,1103.05 705.877,1148.1 738.887,1183.99 771.897,1212.43 804.907,1234.82 837.918,1252.31 \n",
       "  870.928,1265.79 903.938,1275.95 936.948,1283.34 969.958,1288.32 1002.97,1291.16 1035.98,1292.02 1068.99,1290.93 1102,1287.83 1135.01,1282.57 1168.02,1274.88 \n",
       "  1201.03,1264.34 1234.04,1250.41 1267.05,1232.38 1300.06,1209.32 1333.07,1180.06 1366.08,1143.15 1399.09,1096.85 1432.1,1039.28 1465.11,968.679 1498.12,884.274 \n",
       "  1531.13,787.585 1564.14,683.605 1597.15,580.13 1630.16,484.741 1663.17,401.994 1696.18,333.048 1729.19,276.947 1762.2,231.897 1795.21,196.002 1828.22,167.566 \n",
       "  1861.23,145.173 1894.24,127.687 1927.25,114.208 1960.26,104.041 1993.27,96.6575 2026.28,91.6742 2059.3,88.8302 2092.31,87.9763 2125.32,89.0677 2158.33,92.1618 \n",
       "  2191.34,97.4206 2224.35,105.119 2257.36,115.658 2290.37,129.583 \n",
       "  \"/>\n",
       "<polyline clip-path=\"url(#clip652)\" style=\"stroke:#009af9; stroke-width:4; stroke-opacity:1; fill:none\" stroke-dasharray=\"16, 10\" points=\"\n",
       "  210.724,1423.44 243.734,1428.4 276.744,1433.53 309.754,1438.46 342.764,1442.66 375.775,1445.37 408.785,1445.57 441.795,1442.05 474.805,1433.72 507.816,1420.16 \n",
       "  540.826,1402.06 573.836,1381.14 606.846,1359.32 639.856,1338.07 672.867,1318.3 705.877,1300.46 738.887,1284.71 771.897,1271.05 804.907,1259.42 837.918,1249.68 \n",
       "  870.928,1241.73 903.938,1235.42 936.948,1230.66 969.958,1227.35 1002.97,1225.43 1035.98,1224.84 1068.99,1225.59 1102,1227.68 1135.01,1231.16 1168.02,1236.11 \n",
       "  1201.03,1242.6 1234.04,1250.77 1267.05,1260.73 1300.06,1272.6 1333.07,1286.51 1366.08,1302.52 1399.09,1320.61 1432.1,1340.59 1465.11,1361.96 1498.12,1383.77 \n",
       "  1531.13,1404.45 1564.14,1422.07 1597.15,1435.02 1630.16,1442.72 1663.17,1445.72 1696.18,1445.15 1729.19,1442.21 1762.2,1437.89 1795.21,1432.91 1828.22,1427.78 \n",
       "  1861.23,1422.86 1894.24,1418.38 1927.25,1414.46 1960.26,1411.21 1993.27,1408.67 2026.28,1406.85 2059.3,1405.78 2092.31,1405.45 2125.32,1405.87 2158.33,1407.03 \n",
       "  2191.34,1408.94 2224.35,1411.57 2257.36,1414.91 2290.37,1418.89 \n",
       "  \"/>\n",
       "<polyline clip-path=\"url(#clip652)\" style=\"stroke:#e26f46; stroke-width:4; stroke-opacity:1; fill:none\" points=\"\n",
       "  210.724,1232.38 243.734,1209.32 276.744,1180.06 309.754,1143.15 342.764,1096.86 375.775,1039.28 408.785,968.679 441.795,884.275 474.805,787.588 507.816,683.607 \n",
       "  540.826,580.127 573.836,484.74 606.846,401.994 639.856,333.048 672.867,276.947 705.877,231.897 738.887,196.002 771.897,167.565 804.907,145.173 837.918,127.687 \n",
       "  870.928,114.208 903.938,104.041 936.948,96.6575 969.958,91.6742 1002.97,88.8302 1035.98,87.9763 1068.99,89.0677 1102,92.1618 1135.01,97.4206 1168.02,105.119 \n",
       "  1201.03,115.658 1234.04,129.583 1267.05,147.614 1300.06,170.675 1333.07,199.937 1366.08,236.849 1399.09,283.14 1432.1,340.715 1465.11,411.315 1498.12,495.721 \n",
       "  1531.13,592.411 1564.14,696.391 1597.15,799.865 1630.16,895.254 1663.17,978.001 1696.18,1046.95 1729.19,1103.05 1762.2,1148.1 1795.21,1183.99 1828.22,1212.43 \n",
       "  1861.23,1234.82 1894.24,1252.31 1927.25,1265.79 1960.26,1275.95 1993.27,1283.34 2026.28,1288.32 2059.3,1291.16 2092.31,1292.02 2125.32,1290.93 2158.33,1287.83 \n",
       "  2191.34,1282.57 2224.35,1274.88 2257.36,1264.34 2290.37,1250.41 \n",
       "  \"/>\n",
       "<polyline clip-path=\"url(#clip652)\" style=\"stroke:#e26f46; stroke-width:4; stroke-opacity:1; fill:none\" stroke-dasharray=\"16, 10\" points=\"\n",
       "  210.724,1260.73 243.734,1272.6 276.744,1286.51 309.754,1302.52 342.764,1320.61 375.775,1340.59 408.785,1361.96 441.795,1383.77 474.805,1404.45 507.816,1422.07 \n",
       "  540.826,1435.02 573.836,1442.72 606.846,1445.72 639.856,1445.15 672.867,1442.21 705.877,1437.89 738.887,1432.91 771.897,1427.78 804.907,1422.86 837.918,1418.38 \n",
       "  870.928,1414.46 903.938,1411.21 936.948,1408.67 969.958,1406.85 1002.97,1405.78 1035.98,1405.45 1068.99,1405.87 1102,1407.03 1135.01,1408.94 1168.02,1411.57 \n",
       "  1201.03,1414.91 1234.04,1418.89 1267.05,1423.44 1300.06,1428.4 1333.07,1433.53 1366.08,1438.46 1399.09,1442.66 1432.1,1445.37 1465.11,1445.57 1498.12,1442.05 \n",
       "  1531.13,1433.72 1564.14,1420.15 1597.15,1402.06 1630.16,1381.14 1663.17,1359.32 1696.18,1338.07 1729.19,1318.3 1762.2,1300.46 1795.21,1284.71 1828.22,1271.05 \n",
       "  1861.23,1259.42 1894.24,1249.68 1927.25,1241.73 1960.26,1235.42 1993.27,1230.66 2026.28,1227.35 2059.3,1225.43 2092.31,1224.84 2125.32,1225.59 2158.33,1227.68 \n",
       "  2191.34,1231.16 2224.35,1236.11 2257.36,1242.6 2290.37,1250.77 \n",
       "  \"/>\n",
       "<path clip-path=\"url(#clip650)\" d=\"\n",
       "M2002.67 276.658 L2279.28 276.658 L2279.28 95.2176 L2002.67 95.2176  Z\n",
       "  \" fill=\"#ffffff\" fill-rule=\"evenodd\" fill-opacity=\"1\"/>\n",
       "<polyline clip-path=\"url(#clip650)\" style=\"stroke:#000000; stroke-width:4; stroke-opacity:1; fill:none\" points=\"\n",
       "  2002.67,276.658 2279.28,276.658 2279.28,95.2176 2002.67,95.2176 2002.67,276.658 \n",
       "  \"/>\n",
       "<polyline clip-path=\"url(#clip650)\" style=\"stroke:#009af9; stroke-width:4; stroke-opacity:1; fill:none\" points=\"\n",
       "  2027.17,155.698 2174.13,155.698 \n",
       "  \"/>\n",
       "<path clip-path=\"url(#clip650)\" d=\"M 0 0 M2214.45 143.024 L2208.11 160.223 L2220.82 160.223 L2214.45 143.024 M2211.82 138.418 L2217.12 138.418 L2230.29 172.978 L2225.43 172.978 L2222.28 164.112 L2206.7 164.112 L2203.55 172.978 L2198.62 172.978 L2211.82 138.418 Z\" fill=\"#000000\" fill-rule=\"evenodd\" fill-opacity=\"1\" /><polyline clip-path=\"url(#clip650)\" style=\"stroke:#e26f46; stroke-width:4; stroke-opacity:1; fill:none\" points=\"\n",
       "  2027.17,216.178 2174.13,216.178 \n",
       "  \"/>\n",
       "<path clip-path=\"url(#clip650)\" d=\"M 0 0 M2203.3 216.953 L2203.3 229.615 L2210.8 229.615 Q2214.57 229.615 2216.38 228.064 Q2218.2 226.49 2218.2 223.272 Q2218.2 220.032 2216.38 218.504 Q2214.57 216.953 2210.8 216.953 L2203.3 216.953 M2203.3 202.74 L2203.3 213.157 L2210.22 213.157 Q2213.64 213.157 2215.31 211.884 Q2217 210.587 2217 207.948 Q2217 205.333 2215.31 204.036 Q2213.64 202.74 2210.22 202.74 L2203.3 202.74 M2198.62 198.898 L2210.57 198.898 Q2215.91 198.898 2218.81 201.12 Q2221.7 203.342 2221.7 207.439 Q2221.7 210.61 2220.22 212.485 Q2218.74 214.36 2215.87 214.823 Q2219.32 215.564 2221.21 217.925 Q2223.14 220.263 2223.14 223.782 Q2223.14 228.411 2219.99 230.934 Q2216.84 233.458 2211.03 233.458 L2198.62 233.458 L2198.62 198.898 Z\" fill=\"#000000\" fill-rule=\"evenodd\" fill-opacity=\"1\" /></svg>\n"
      ]
     },
     "execution_count": 71,
     "metadata": {},
     "output_type": "execute_result"
    }
   ],
   "source": [
    "plot(sys.density[1][:,1,1], label = \"A\")\n",
    "plot!(sys.fields[1][:,1,1], primary = false, ls = :dash)\n",
    "\n",
    "plot!(sys.density[2][:,1,1], label = \"B\")\n",
    "plot!(sys.fields[2][:,1,1], primary = false, ls = :dash)\n",
    "\n",
    "# plot!(sys.density[3][:,1,1], label = \"C\")\n",
    "# plot!(sys.fields[3][:,1,1], primary = false, ls = :dash)"
   ]
  },
  {
   "cell_type": "code",
   "execution_count": null,
   "metadata": {},
   "outputs": [],
   "source": []
  },
  {
   "cell_type": "code",
   "execution_count": null,
   "metadata": {},
   "outputs": [],
   "source": []
  },
  {
   "cell_type": "markdown",
   "metadata": {},
   "source": [
    "## Plotting"
   ]
  },
  {
   "cell_type": "code",
   "execution_count": null,
   "metadata": {},
   "outputs": [],
   "source": [
    "x = 10.0 * sys.fields[2]\n",
    "\n",
    "plot = volume(x, algorithm = :mip)\n",
    "cm = colorlegend(\n",
    "     plot[end],             # access the plot of Scene p1\n",
    "     raw = true,          # without axes or grid\n",
    "     camera = campixel!,  # gives a concrete bounding box in pixels\n",
    "                          # so that the `vbox` gives you the right size\n",
    "     width = (            # make the colorlegend longer so it looks nicer\n",
    "         30,              # the width\n",
    "         500              # the height\n",
    "     )\n",
    ")\n",
    "\n",
    "scene_final = vbox(plot, cm) # put the colorlegend and the plot together in a `vbox`"
   ]
  },
  {
   "cell_type": "code",
   "execution_count": null,
   "metadata": {},
   "outputs": [],
   "source": []
  }
 ],
 "metadata": {
  "kernelspec": {
   "display_name": "Julia 1.5.2",
   "language": "julia",
   "name": "julia-1.5"
  },
  "language_info": {
   "file_extension": ".jl",
   "mimetype": "application/julia",
   "name": "julia",
   "version": "1.5.2"
  },
  "toc": {
   "base_numbering": 1,
   "nav_menu": {},
   "number_sections": true,
   "sideBar": true,
   "skip_h1_title": false,
   "title_cell": "Table of Contents",
   "title_sidebar": "Contents",
   "toc_cell": false,
   "toc_position": {},
   "toc_section_display": true,
   "toc_window_display": false
  }
 },
 "nbformat": 4,
 "nbformat_minor": 2
}
