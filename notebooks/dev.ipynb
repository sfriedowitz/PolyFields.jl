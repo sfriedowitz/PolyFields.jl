{
 "cells": [
  {
   "cell_type": "markdown",
   "metadata": {},
   "source": [
    "# Imports"
   ]
  },
  {
   "cell_type": "code",
   "execution_count": 229,
   "metadata": {},
   "outputs": [
    {
     "name": "stderr",
     "output_type": "stream",
     "text": [
      "\u001b[32m\u001b[1m Activating\u001b[22m\u001b[39m environment at `/mnt/c/Users/sfrie/Documents/Code/julia/PolyFields.jl/Project.toml`\n"
     ]
    }
   ],
   "source": [
    "import Pkg\n",
    "\n",
    "Pkg.activate(\"../\")"
   ]
  },
  {
   "cell_type": "code",
   "execution_count": 230,
   "metadata": {},
   "outputs": [],
   "source": [
    "using BenchmarkTools\n",
    "\n",
    "using FFTW\n",
    "using LinearAlgebra\n",
    "using JSON\n",
    "using Printf\n",
    "\n",
    "using StaticArrays\n",
    "using Random\n",
    "using Statistics\n",
    "\n",
    "using Plots"
   ]
  },
  {
   "cell_type": "code",
   "execution_count": 231,
   "metadata": {
    "scrolled": true
   },
   "outputs": [],
   "source": [
    "using PolyFields"
   ]
  },
  {
   "cell_type": "markdown",
   "metadata": {
    "heading_collapsed": true
   },
   "source": [
    "# Examples"
   ]
  },
  {
   "cell_type": "markdown",
   "metadata": {
    "hidden": true
   },
   "source": [
    "## MDE Solutions"
   ]
  },
  {
   "cell_type": "markdown",
   "metadata": {
    "heading_collapsed": true,
    "hidden": true
   },
   "source": [
    "### Finite Difference Toy Model - Sec 3.6.1"
   ]
  },
  {
   "cell_type": "code",
   "execution_count": null,
   "metadata": {
    "hidden": true
   },
   "outputs": [],
   "source": [
    "N = 200\n",
    "b = 1/(sqrt(N/6))\n",
    "L = 10.0\n",
    "\n",
    "W(x, L) = 1 - 2*sech(3*(x - L/2)/2)^2\n",
    "\n",
    ";"
   ]
  },
  {
   "cell_type": "code",
   "execution_count": null,
   "metadata": {
    "hidden": true
   },
   "outputs": [],
   "source": [
    "Nx = 32\n",
    "Ns = 200\n",
    "\n",
    "dx = L/(Nx-1)\n",
    "ds = N/(Ns-1)\n",
    "\n",
    "x = collect(range(0, L, step = dx))\n",
    "s = collect(range(0, N, step = ds))\n",
    "wx = W.(x, L)\n",
    "\n",
    ";"
   ]
  },
  {
   "cell_type": "code",
   "execution_count": null,
   "metadata": {
    "hidden": true
   },
   "outputs": [],
   "source": [
    "q = ones(Nx, Ns)\n",
    "q[:,1] .= 1.0\n",
    "\n",
    "tol = 1e-6\n",
    "max_steps = 300\n",
    "\n",
    "norm_prev = norm(q)\n",
    "norm_curr = 0.0\n",
    "\n",
    "step = 1\n",
    "while step <= max_steps\n",
    "    step += 1\n",
    "    norm_prev = norm(q)\n",
    "    \n",
    "    if step % 25 == 0\n",
    "        println(\"Calculating for step $(step).\")\n",
    "    end\n",
    "    \n",
    "    # Finite diff the propagator matrix\n",
    "    for j in 1:Nx\n",
    "        for n in 1:Ns-1\n",
    "            # PBC in spatial dimension\n",
    "            jp1 = mod1(j+1, Nx)\n",
    "            jm1 = mod1(j-1, Nx)\n",
    "\n",
    "            rhs = (b^2/6)*((q[jp1, n] - 2*q[j,n] + q[jm1,n])/(dx^2)) - q[j,n]*wx[j]/N\n",
    "            q[j,n+1] = q[j,n] + ds*rhs\n",
    "        end\n",
    "    end\n",
    "    \n",
    "    norm_curr = norm(q)\n",
    "    if abs(norm_prev - norm_curr) < tol\n",
    "        print(\"Tolerance reached at step $(step) -- breaking.\")\n",
    "        break\n",
    "    end\n",
    "end  "
   ]
  },
  {
   "cell_type": "code",
   "execution_count": null,
   "metadata": {
    "hidden": true
   },
   "outputs": [],
   "source": [
    "plot(x, q[:,end], label = \"W(x)\")\n",
    "plot!(x, wx, label = \"q(x, N)\")\n",
    "\n",
    "plot!(legend = :bottomright, size = (400, 275))"
   ]
  },
  {
   "cell_type": "markdown",
   "metadata": {
    "heading_collapsed": true,
    "hidden": true
   },
   "source": [
    "### Crank-Nicolson Scheme - Sec 3.6.1"
   ]
  },
  {
   "cell_type": "code",
   "execution_count": 21,
   "metadata": {
    "hidden": true
   },
   "outputs": [],
   "source": [
    "N = 50\n",
    "b = 1.0/(sqrt(N/6))\n",
    "L = 5.0\n",
    "\n",
    "W(x, L) = 1 - 2*sech(3*(x - L/2)/2)^2\n",
    "\n",
    ";"
   ]
  },
  {
   "cell_type": "code",
   "execution_count": 22,
   "metadata": {
    "hidden": true
   },
   "outputs": [],
   "source": [
    "Nx = 128\n",
    "Ns = 200\n",
    "\n",
    "dx = L/(Nx-1)\n",
    "ds = N/(Ns-1)\n",
    "\n",
    "x = collect(range(0, L, step = dx))\n",
    "s = collect(range(0, N, step = ds))\n",
    "wx = W.(x, L)\n",
    "\n",
    ";"
   ]
  },
  {
   "cell_type": "code",
   "execution_count": 23,
   "metadata": {
    "hidden": true
   },
   "outputs": [],
   "source": [
    "q = zeros(Nx, Ns)\n",
    "q[:,1] .= 1.0\n",
    "\n",
    "# Operators for solver\n",
    "WX = diagm(0 => wx/N)\n",
    "\n",
    "# Init T w/ PBC\n",
    "T = zeros(Nx, Nx)\n",
    "for j in 1:Nx\n",
    "    jp1 = mod1(j+1, Nx)\n",
    "    jm1 = mod1(j-1, Nx)\n",
    "    \n",
    "    T[j,j] = -2.0\n",
    "    T[j,jp1] = 1.0\n",
    "    T[j,jm1] = 1.0\n",
    "end\n",
    "\n",
    "# Matrix operators for solver\n",
    "TW = (I - (ds/2)*WX + (b^2*ds)/(12*dx^2)*T)\n",
    "TWM = (I + (ds/2)*WX - (b^2*ds)/(12*dx^2)*T)\n",
    "\n",
    "# Matrix solve for each chain discretization\n",
    "for n in 1:Ns-1\n",
    "    q[:,n+1] = TWM \\ TW * q[:,n]\n",
    "end"
   ]
  },
  {
   "cell_type": "code",
   "execution_count": 24,
   "metadata": {
    "hidden": true
   },
   "outputs": [
    {
     "data": {
      "image/svg+xml": [
       "<?xml version=\"1.0\" encoding=\"utf-8\"?>\n",
       "<svg xmlns=\"http://www.w3.org/2000/svg\" xmlns:xlink=\"http://www.w3.org/1999/xlink\" width=\"400\" height=\"275\" viewBox=\"0 0 1600 1100\">\n",
       "<defs>\n",
       "  <clipPath id=\"clip430\">\n",
       "    <rect x=\"0\" y=\"0\" width=\"1600\" height=\"1100\"/>\n",
       "  </clipPath>\n",
       "</defs>\n",
       "<path clip-path=\"url(#clip430)\" d=\"\n",
       "M0 1100 L1600 1100 L1600 0 L0 0  Z\n",
       "  \" fill=\"#ffffff\" fill-rule=\"evenodd\" fill-opacity=\"1\"/>\n",
       "<defs>\n",
       "  <clipPath id=\"clip431\">\n",
       "    <rect x=\"320\" y=\"0\" width=\"1121\" height=\"1100\"/>\n",
       "  </clipPath>\n",
       "</defs>\n",
       "<path clip-path=\"url(#clip430)\" d=\"\n",
       "M171.654 990.368 L1552.76 990.368 L1552.76 47.2441 L171.654 47.2441  Z\n",
       "  \" fill=\"#ffffff\" fill-rule=\"evenodd\" fill-opacity=\"1\"/>\n",
       "<defs>\n",
       "  <clipPath id=\"clip432\">\n",
       "    <rect x=\"171\" y=\"47\" width=\"1382\" height=\"944\"/>\n",
       "  </clipPath>\n",
       "</defs>\n",
       "<polyline clip-path=\"url(#clip432)\" style=\"stroke:#000000; stroke-width:2; stroke-opacity:0.1; fill:none\" points=\"\n",
       "  210.741,990.368 210.741,47.2441 \n",
       "  \"/>\n",
       "<polyline clip-path=\"url(#clip432)\" style=\"stroke:#000000; stroke-width:2; stroke-opacity:0.1; fill:none\" points=\"\n",
       "  471.327,990.368 471.327,47.2441 \n",
       "  \"/>\n",
       "<polyline clip-path=\"url(#clip432)\" style=\"stroke:#000000; stroke-width:2; stroke-opacity:0.1; fill:none\" points=\"\n",
       "  731.912,990.368 731.912,47.2441 \n",
       "  \"/>\n",
       "<polyline clip-path=\"url(#clip432)\" style=\"stroke:#000000; stroke-width:2; stroke-opacity:0.1; fill:none\" points=\"\n",
       "  992.497,990.368 992.497,47.2441 \n",
       "  \"/>\n",
       "<polyline clip-path=\"url(#clip432)\" style=\"stroke:#000000; stroke-width:2; stroke-opacity:0.1; fill:none\" points=\"\n",
       "  1253.08,990.368 1253.08,47.2441 \n",
       "  \"/>\n",
       "<polyline clip-path=\"url(#clip432)\" style=\"stroke:#000000; stroke-width:2; stroke-opacity:0.1; fill:none\" points=\"\n",
       "  1513.67,990.368 1513.67,47.2441 \n",
       "  \"/>\n",
       "<polyline clip-path=\"url(#clip430)\" style=\"stroke:#000000; stroke-width:4; stroke-opacity:1; fill:none\" points=\"\n",
       "  171.654,990.368 1552.76,990.368 \n",
       "  \"/>\n",
       "<polyline clip-path=\"url(#clip430)\" style=\"stroke:#000000; stroke-width:4; stroke-opacity:1; fill:none\" points=\"\n",
       "  210.741,990.368 210.741,979.05 \n",
       "  \"/>\n",
       "<polyline clip-path=\"url(#clip430)\" style=\"stroke:#000000; stroke-width:4; stroke-opacity:1; fill:none\" points=\"\n",
       "  471.327,990.368 471.327,979.05 \n",
       "  \"/>\n",
       "<polyline clip-path=\"url(#clip430)\" style=\"stroke:#000000; stroke-width:4; stroke-opacity:1; fill:none\" points=\"\n",
       "  731.912,990.368 731.912,979.05 \n",
       "  \"/>\n",
       "<polyline clip-path=\"url(#clip430)\" style=\"stroke:#000000; stroke-width:4; stroke-opacity:1; fill:none\" points=\"\n",
       "  992.497,990.368 992.497,979.05 \n",
       "  \"/>\n",
       "<polyline clip-path=\"url(#clip430)\" style=\"stroke:#000000; stroke-width:4; stroke-opacity:1; fill:none\" points=\"\n",
       "  1253.08,990.368 1253.08,979.05 \n",
       "  \"/>\n",
       "<polyline clip-path=\"url(#clip430)\" style=\"stroke:#000000; stroke-width:4; stroke-opacity:1; fill:none\" points=\"\n",
       "  1513.67,990.368 1513.67,979.05 \n",
       "  \"/>\n",
       "<path clip-path=\"url(#clip430)\" d=\"M 0 0 M210.741 1013.16 Q207.13 1013.16 205.302 1016.72 Q203.496 1020.27 203.496 1027.39 Q203.496 1034.5 205.302 1038.07 Q207.13 1041.61 210.741 1041.61 Q214.376 1041.61 216.181 1038.07 Q218.01 1034.5 218.01 1027.39 Q218.01 1020.27 216.181 1016.72 Q214.376 1013.16 210.741 1013.16 M210.741 1009.45 Q216.552 1009.45 219.607 1014.06 Q222.686 1018.64 222.686 1027.39 Q222.686 1036.12 219.607 1040.73 Q216.552 1045.31 210.741 1045.31 Q204.931 1045.31 201.853 1040.73 Q198.797 1036.12 198.797 1027.39 Q198.797 1018.64 201.853 1014.06 Q204.931 1009.45 210.741 1009.45 Z\" fill=\"#000000\" fill-rule=\"evenodd\" fill-opacity=\"1\" /><path clip-path=\"url(#clip430)\" d=\"M 0 0 M461.709 1040.7 L469.348 1040.7 L469.348 1014.34 L461.037 1016.01 L461.037 1011.75 L469.301 1010.08 L473.977 1010.08 L473.977 1040.7 L481.616 1040.7 L481.616 1044.64 L461.709 1044.64 L461.709 1040.7 Z\" fill=\"#000000\" fill-rule=\"evenodd\" fill-opacity=\"1\" /><path clip-path=\"url(#clip430)\" d=\"M 0 0 M726.565 1040.7 L742.884 1040.7 L742.884 1044.64 L720.94 1044.64 L720.94 1040.7 Q723.602 1037.95 728.185 1033.32 Q732.792 1028.67 733.972 1027.33 Q736.218 1024.8 737.097 1023.07 Q738 1021.31 738 1019.62 Q738 1016.86 736.056 1015.13 Q734.134 1013.39 731.032 1013.39 Q728.833 1013.39 726.38 1014.15 Q723.949 1014.92 721.171 1016.47 L721.171 1011.75 Q723.995 1010.61 726.449 1010.03 Q728.903 1009.45 730.94 1009.45 Q736.31 1009.45 739.505 1012.14 Q742.699 1014.83 742.699 1019.32 Q742.699 1021.45 741.889 1023.37 Q741.102 1025.26 738.995 1027.86 Q738.417 1028.53 735.315 1031.75 Q732.213 1034.94 726.565 1040.7 Z\" fill=\"#000000\" fill-rule=\"evenodd\" fill-opacity=\"1\" /><path clip-path=\"url(#clip430)\" d=\"M 0 0 M996.745 1026.01 Q1000.1 1026.72 1001.98 1028.99 Q1003.87 1031.26 1003.87 1034.59 Q1003.87 1039.71 1000.36 1042.51 Q996.838 1045.31 990.356 1045.31 Q988.18 1045.31 985.866 1044.87 Q983.574 1044.45 981.12 1043.6 L981.12 1039.08 Q983.065 1040.22 985.379 1040.8 Q987.694 1041.38 990.217 1041.38 Q994.615 1041.38 996.907 1039.64 Q999.222 1037.9 999.222 1034.59 Q999.222 1031.54 997.069 1029.83 Q994.94 1028.09 991.12 1028.09 L987.092 1028.09 L987.092 1024.25 L991.305 1024.25 Q994.754 1024.25 996.583 1022.88 Q998.412 1021.49 998.412 1018.9 Q998.412 1016.24 996.514 1014.83 Q994.639 1013.39 991.12 1013.39 Q989.199 1013.39 987 1013.81 Q984.801 1014.22 982.162 1015.1 L982.162 1010.94 Q984.824 1010.2 987.139 1009.83 Q989.477 1009.45 991.537 1009.45 Q996.861 1009.45 999.963 1011.89 Q1003.06 1014.29 1003.06 1018.41 Q1003.06 1021.28 1001.42 1023.27 Q999.778 1025.24 996.745 1026.01 Z\" fill=\"#000000\" fill-rule=\"evenodd\" fill-opacity=\"1\" /><path clip-path=\"url(#clip430)\" d=\"M 0 0 M1256.09 1014.15 L1244.29 1032.6 L1256.09 1032.6 L1256.09 1014.15 M1254.87 1010.08 L1260.74 1010.08 L1260.74 1032.6 L1265.68 1032.6 L1265.68 1036.49 L1260.74 1036.49 L1260.74 1044.64 L1256.09 1044.64 L1256.09 1036.49 L1240.49 1036.49 L1240.49 1031.98 L1254.87 1010.08 Z\" fill=\"#000000\" fill-rule=\"evenodd\" fill-opacity=\"1\" /><path clip-path=\"url(#clip430)\" d=\"M 0 0 M1503.95 1010.08 L1522.3 1010.08 L1522.3 1014.02 L1508.23 1014.02 L1508.23 1022.49 Q1509.25 1022.14 1510.27 1021.98 Q1511.28 1021.79 1512.3 1021.79 Q1518.09 1021.79 1521.47 1024.96 Q1524.85 1028.14 1524.85 1033.55 Q1524.85 1039.13 1521.38 1042.23 Q1517.9 1045.31 1511.58 1045.31 Q1509.41 1045.31 1507.14 1044.94 Q1504.9 1044.57 1502.49 1043.83 L1502.49 1039.13 Q1504.57 1040.26 1506.79 1040.82 Q1509.02 1041.38 1511.49 1041.38 Q1515.5 1041.38 1517.83 1039.27 Q1520.17 1037.16 1520.17 1033.55 Q1520.17 1029.94 1517.83 1027.83 Q1515.5 1025.73 1511.49 1025.73 Q1509.62 1025.73 1507.74 1026.14 Q1505.89 1026.56 1503.95 1027.44 L1503.95 1010.08 Z\" fill=\"#000000\" fill-rule=\"evenodd\" fill-opacity=\"1\" /><polyline clip-path=\"url(#clip432)\" style=\"stroke:#000000; stroke-width:2; stroke-opacity:0.1; fill:none\" points=\"\n",
       "  171.654,964.412 1552.76,964.412 \n",
       "  \"/>\n",
       "<polyline clip-path=\"url(#clip432)\" style=\"stroke:#000000; stroke-width:2; stroke-opacity:0.1; fill:none\" points=\"\n",
       "  171.654,753.111 1552.76,753.111 \n",
       "  \"/>\n",
       "<polyline clip-path=\"url(#clip432)\" style=\"stroke:#000000; stroke-width:2; stroke-opacity:0.1; fill:none\" points=\"\n",
       "  171.654,541.81 1552.76,541.81 \n",
       "  \"/>\n",
       "<polyline clip-path=\"url(#clip432)\" style=\"stroke:#000000; stroke-width:2; stroke-opacity:0.1; fill:none\" points=\"\n",
       "  171.654,330.509 1552.76,330.509 \n",
       "  \"/>\n",
       "<polyline clip-path=\"url(#clip432)\" style=\"stroke:#000000; stroke-width:2; stroke-opacity:0.1; fill:none\" points=\"\n",
       "  171.654,119.208 1552.76,119.208 \n",
       "  \"/>\n",
       "<polyline clip-path=\"url(#clip430)\" style=\"stroke:#000000; stroke-width:4; stroke-opacity:1; fill:none\" points=\"\n",
       "  171.654,990.368 171.654,47.2441 \n",
       "  \"/>\n",
       "<polyline clip-path=\"url(#clip430)\" style=\"stroke:#000000; stroke-width:4; stroke-opacity:1; fill:none\" points=\"\n",
       "  171.654,964.412 188.227,964.412 \n",
       "  \"/>\n",
       "<polyline clip-path=\"url(#clip430)\" style=\"stroke:#000000; stroke-width:4; stroke-opacity:1; fill:none\" points=\"\n",
       "  171.654,753.111 188.227,753.111 \n",
       "  \"/>\n",
       "<polyline clip-path=\"url(#clip430)\" style=\"stroke:#000000; stroke-width:4; stroke-opacity:1; fill:none\" points=\"\n",
       "  171.654,541.81 188.227,541.81 \n",
       "  \"/>\n",
       "<polyline clip-path=\"url(#clip430)\" style=\"stroke:#000000; stroke-width:4; stroke-opacity:1; fill:none\" points=\"\n",
       "  171.654,330.509 188.227,330.509 \n",
       "  \"/>\n",
       "<polyline clip-path=\"url(#clip430)\" style=\"stroke:#000000; stroke-width:4; stroke-opacity:1; fill:none\" points=\"\n",
       "  171.654,119.208 188.227,119.208 \n",
       "  \"/>\n",
       "<path clip-path=\"url(#clip430)\" d=\"M 0 0 M55.2236 964.864 L84.8994 964.864 L84.8994 968.799 L55.2236 968.799 L55.2236 964.864 Z\" fill=\"#000000\" fill-rule=\"evenodd\" fill-opacity=\"1\" /><path clip-path=\"url(#clip430)\" d=\"M 0 0 M90.779 977.757 L98.4178 977.757 L98.4178 951.391 L90.1077 953.058 L90.1077 948.799 L98.3715 947.132 L103.047 947.132 L103.047 977.757 L110.686 977.757 L110.686 981.692 L90.779 981.692 L90.779 977.757 Z\" fill=\"#000000\" fill-rule=\"evenodd\" fill-opacity=\"1\" /><path clip-path=\"url(#clip430)\" d=\"M 0 0 M115.756 975.813 L120.64 975.813 L120.64 981.692 L115.756 981.692 L115.756 975.813 Z\" fill=\"#000000\" fill-rule=\"evenodd\" fill-opacity=\"1\" /><path clip-path=\"url(#clip430)\" d=\"M 0 0 M135.709 950.211 Q132.098 950.211 130.27 953.776 Q128.464 957.317 128.464 964.447 Q128.464 971.553 130.27 975.118 Q132.098 978.66 135.709 978.66 Q139.344 978.66 141.149 975.118 Q142.978 971.553 142.978 964.447 Q142.978 957.317 141.149 953.776 Q139.344 950.211 135.709 950.211 M135.709 946.507 Q141.519 946.507 144.575 951.114 Q147.654 955.697 147.654 964.447 Q147.654 973.174 144.575 977.78 Q141.519 982.363 135.709 982.363 Q129.899 982.363 126.82 977.78 Q123.765 973.174 123.765 964.447 Q123.765 955.697 126.82 951.114 Q129.899 946.507 135.709 946.507 Z\" fill=\"#000000\" fill-rule=\"evenodd\" fill-opacity=\"1\" /><path clip-path=\"url(#clip430)\" d=\"M 0 0 M54.9921 753.563 L84.6679 753.563 L84.6679 757.498 L54.9921 757.498 L54.9921 753.563 Z\" fill=\"#000000\" fill-rule=\"evenodd\" fill-opacity=\"1\" /><path clip-path=\"url(#clip430)\" d=\"M 0 0 M99.7373 738.91 Q96.1262 738.91 94.2975 742.475 Q92.4919 746.016 92.4919 753.146 Q92.4919 760.252 94.2975 763.817 Q96.1262 767.359 99.7373 767.359 Q103.371 767.359 105.177 763.817 Q107.006 760.252 107.006 753.146 Q107.006 746.016 105.177 742.475 Q103.371 738.91 99.7373 738.91 M99.7373 735.206 Q105.547 735.206 108.603 739.813 Q111.682 744.396 111.682 753.146 Q111.682 761.873 108.603 766.479 Q105.547 771.062 99.7373 771.062 Q93.9271 771.062 90.8484 766.479 Q87.7929 761.873 87.7929 753.146 Q87.7929 744.396 90.8484 739.813 Q93.9271 735.206 99.7373 735.206 Z\" fill=\"#000000\" fill-rule=\"evenodd\" fill-opacity=\"1\" /><path clip-path=\"url(#clip430)\" d=\"M 0 0 M116.751 764.512 L121.635 764.512 L121.635 770.391 L116.751 770.391 L116.751 764.512 Z\" fill=\"#000000\" fill-rule=\"evenodd\" fill-opacity=\"1\" /><path clip-path=\"url(#clip430)\" d=\"M 0 0 M126.751 735.831 L145.107 735.831 L145.107 739.766 L131.033 739.766 L131.033 748.239 Q132.052 747.891 133.07 747.729 Q134.089 747.544 135.107 747.544 Q140.894 747.544 144.274 750.715 Q147.654 753.887 147.654 759.303 Q147.654 764.882 144.181 767.984 Q140.709 771.062 134.39 771.062 Q132.214 771.062 129.945 770.692 Q127.7 770.322 125.293 769.581 L125.293 764.882 Q127.376 766.016 129.598 766.572 Q131.82 767.127 134.297 767.127 Q138.302 767.127 140.64 765.021 Q142.978 762.914 142.978 759.303 Q142.978 755.692 140.64 753.586 Q138.302 751.479 134.297 751.479 Q132.422 751.479 130.547 751.896 Q128.695 752.313 126.751 753.192 L126.751 735.831 Z\" fill=\"#000000\" fill-rule=\"evenodd\" fill-opacity=\"1\" /><path clip-path=\"url(#clip430)\" d=\"M 0 0 M98.7419 527.609 Q95.1308 527.609 93.3021 531.174 Q91.4966 534.715 91.4966 541.845 Q91.4966 548.951 93.3021 552.516 Q95.1308 556.058 98.7419 556.058 Q102.376 556.058 104.182 552.516 Q106.01 548.951 106.01 541.845 Q106.01 534.715 104.182 531.174 Q102.376 527.609 98.7419 527.609 M98.7419 523.905 Q104.552 523.905 107.608 528.512 Q110.686 533.095 110.686 541.845 Q110.686 550.572 107.608 555.178 Q104.552 559.761 98.7419 559.761 Q92.9317 559.761 89.8531 555.178 Q86.7975 550.572 86.7975 541.845 Q86.7975 533.095 89.8531 528.512 Q92.9317 523.905 98.7419 523.905 Z\" fill=\"#000000\" fill-rule=\"evenodd\" fill-opacity=\"1\" /><path clip-path=\"url(#clip430)\" d=\"M 0 0 M115.756 553.211 L120.64 553.211 L120.64 559.09 L115.756 559.09 L115.756 553.211 Z\" fill=\"#000000\" fill-rule=\"evenodd\" fill-opacity=\"1\" /><path clip-path=\"url(#clip430)\" d=\"M 0 0 M135.709 527.609 Q132.098 527.609 130.27 531.174 Q128.464 534.715 128.464 541.845 Q128.464 548.951 130.27 552.516 Q132.098 556.058 135.709 556.058 Q139.344 556.058 141.149 552.516 Q142.978 548.951 142.978 541.845 Q142.978 534.715 141.149 531.174 Q139.344 527.609 135.709 527.609 M135.709 523.905 Q141.519 523.905 144.575 528.512 Q147.654 533.095 147.654 541.845 Q147.654 550.572 144.575 555.178 Q141.519 559.761 135.709 559.761 Q129.899 559.761 126.82 555.178 Q123.765 550.572 123.765 541.845 Q123.765 533.095 126.82 528.512 Q129.899 523.905 135.709 523.905 Z\" fill=\"#000000\" fill-rule=\"evenodd\" fill-opacity=\"1\" /><path clip-path=\"url(#clip430)\" d=\"M 0 0 M99.7373 316.308 Q96.1262 316.308 94.2975 319.873 Q92.4919 323.414 92.4919 330.544 Q92.4919 337.65 94.2975 341.215 Q96.1262 344.757 99.7373 344.757 Q103.371 344.757 105.177 341.215 Q107.006 337.65 107.006 330.544 Q107.006 323.414 105.177 319.873 Q103.371 316.308 99.7373 316.308 M99.7373 312.604 Q105.547 312.604 108.603 317.211 Q111.682 321.794 111.682 330.544 Q111.682 339.271 108.603 343.877 Q105.547 348.46 99.7373 348.46 Q93.9271 348.46 90.8484 343.877 Q87.7929 339.271 87.7929 330.544 Q87.7929 321.794 90.8484 317.211 Q93.9271 312.604 99.7373 312.604 Z\" fill=\"#000000\" fill-rule=\"evenodd\" fill-opacity=\"1\" /><path clip-path=\"url(#clip430)\" d=\"M 0 0 M116.751 341.91 L121.635 341.91 L121.635 347.789 L116.751 347.789 L116.751 341.91 Z\" fill=\"#000000\" fill-rule=\"evenodd\" fill-opacity=\"1\" /><path clip-path=\"url(#clip430)\" d=\"M 0 0 M126.751 313.229 L145.107 313.229 L145.107 317.164 L131.033 317.164 L131.033 325.637 Q132.052 325.289 133.07 325.127 Q134.089 324.942 135.107 324.942 Q140.894 324.942 144.274 328.113 Q147.654 331.285 147.654 336.701 Q147.654 342.28 144.181 345.382 Q140.709 348.46 134.39 348.46 Q132.214 348.46 129.945 348.09 Q127.7 347.72 125.293 346.979 L125.293 342.28 Q127.376 343.414 129.598 343.97 Q131.82 344.525 134.297 344.525 Q138.302 344.525 140.64 342.419 Q142.978 340.312 142.978 336.701 Q142.978 333.09 140.64 330.984 Q138.302 328.877 134.297 328.877 Q132.422 328.877 130.547 329.294 Q128.695 329.711 126.751 330.59 L126.751 313.229 Z\" fill=\"#000000\" fill-rule=\"evenodd\" fill-opacity=\"1\" /><path clip-path=\"url(#clip430)\" d=\"M 0 0 M90.779 132.553 L98.4178 132.553 L98.4178 106.187 L90.1077 107.854 L90.1077 103.595 L98.3715 101.928 L103.047 101.928 L103.047 132.553 L110.686 132.553 L110.686 136.488 L90.779 136.488 L90.779 132.553 Z\" fill=\"#000000\" fill-rule=\"evenodd\" fill-opacity=\"1\" /><path clip-path=\"url(#clip430)\" d=\"M 0 0 M115.756 130.609 L120.64 130.609 L120.64 136.488 L115.756 136.488 L115.756 130.609 Z\" fill=\"#000000\" fill-rule=\"evenodd\" fill-opacity=\"1\" /><path clip-path=\"url(#clip430)\" d=\"M 0 0 M135.709 105.007 Q132.098 105.007 130.27 108.572 Q128.464 112.113 128.464 119.243 Q128.464 126.349 130.27 129.914 Q132.098 133.456 135.709 133.456 Q139.344 133.456 141.149 129.914 Q142.978 126.349 142.978 119.243 Q142.978 112.113 141.149 108.572 Q139.344 105.007 135.709 105.007 M135.709 101.303 Q141.519 101.303 144.575 105.91 Q147.654 110.493 147.654 119.243 Q147.654 127.97 144.575 132.576 Q141.519 137.159 135.709 137.159 Q129.899 137.159 126.82 132.576 Q123.765 127.97 123.765 119.243 Q123.765 110.493 126.82 105.91 Q129.899 101.303 135.709 101.303 Z\" fill=\"#000000\" fill-rule=\"evenodd\" fill-opacity=\"1\" /><polyline clip-path=\"url(#clip432)\" style=\"stroke:#009af9; stroke-width:4; stroke-opacity:1; fill:none\" points=\"\n",
       "  210.741,350.441 221.001,350.303 231.26,350.028 241.519,349.614 251.779,349.062 262.038,348.37 272.297,347.536 282.556,346.56 292.816,345.44 303.075,344.173 \n",
       "  313.334,342.757 323.593,341.191 333.853,339.47 344.112,337.592 354.371,335.554 364.63,333.352 374.89,330.984 385.149,328.444 395.408,325.729 405.667,322.835 \n",
       "  415.927,319.757 426.186,316.493 436.445,313.036 446.705,309.383 456.964,305.53 467.223,301.472 477.482,297.206 487.742,292.727 498.001,288.032 508.26,283.118 \n",
       "  518.519,277.983 528.779,272.624 539.038,267.04 549.297,261.231 559.556,255.197 569.816,248.941 580.075,242.465 590.334,235.776 600.594,228.879 610.853,221.785 \n",
       "  621.112,214.504 631.371,207.051 641.631,199.444 651.89,191.703 662.149,183.854 672.408,175.923 682.668,167.945 692.927,159.955 703.186,151.996 713.445,144.113 \n",
       "  723.705,136.357 733.964,128.781 744.223,121.445 754.483,114.408 764.742,107.734 775.001,101.488 785.26,95.7336 795.52,90.5342 805.779,85.9495 816.038,82.0349 \n",
       "  826.297,78.8394 836.557,76.4046 846.816,74.7628 857.075,73.9363 867.334,73.9363 877.594,74.7628 887.853,76.4046 898.112,78.8394 908.371,82.0349 918.631,85.9495 \n",
       "  928.89,90.5342 939.149,95.7336 949.409,101.488 959.668,107.734 969.927,114.408 980.186,121.445 990.446,128.781 1000.7,136.357 1010.96,144.113 1021.22,151.996 \n",
       "  1031.48,159.955 1041.74,167.945 1052,175.923 1062.26,183.854 1072.52,191.703 1082.78,199.444 1093.04,207.051 1103.3,214.504 1113.56,221.785 1123.82,228.879 \n",
       "  1134.08,235.776 1144.33,242.465 1154.59,248.941 1164.85,255.197 1175.11,261.231 1185.37,267.04 1195.63,272.624 1205.89,277.983 1216.15,283.118 1226.41,288.032 \n",
       "  1236.67,292.727 1246.93,297.206 1257.19,301.472 1267.45,305.53 1277.71,309.383 1287.96,313.036 1298.22,316.493 1308.48,319.757 1318.74,322.835 1329,325.729 \n",
       "  1339.26,328.444 1349.52,330.984 1359.78,333.352 1370.04,335.554 1380.3,337.592 1390.56,339.47 1400.82,341.191 1411.08,342.757 1421.33,344.173 1431.59,345.44 \n",
       "  1441.85,346.56 1452.11,347.536 1462.37,348.37 1472.63,349.062 1482.89,349.614 1493.15,350.028 1503.41,350.303 1513.67,350.441 \n",
       "  \"/>\n",
       "<polyline clip-path=\"url(#clip432)\" style=\"stroke:#e26f46; stroke-width:4; stroke-opacity:1; fill:none\" points=\"\n",
       "  210.741,121.076 221.001,121.31 231.26,121.573 241.519,121.869 251.779,122.202 262.038,122.577 272.297,122.998 282.556,123.472 292.816,124.005 303.075,124.604 \n",
       "  313.334,125.278 323.593,126.036 333.853,126.888 344.112,127.846 354.371,128.923 364.63,130.133 374.89,131.493 385.149,133.02 395.408,134.736 405.667,136.662 \n",
       "  415.927,138.825 426.186,141.252 436.445,143.974 446.705,147.028 456.964,150.451 467.223,154.285 477.482,158.579 487.742,163.384 498.001,168.758 508.26,174.763 \n",
       "  518.519,181.466 528.779,188.943 539.038,197.272 549.297,206.541 559.556,216.839 569.816,228.263 580.075,240.915 590.334,254.897 600.594,270.317 610.853,287.279 \n",
       "  621.112,305.886 631.371,326.234 641.631,348.407 651.89,372.475 662.149,398.485 672.408,426.458 682.668,456.376 692.927,488.179 703.186,521.753 713.445,556.925 \n",
       "  723.705,593.454 733.964,631.024 744.223,669.242 754.483,707.637 764.742,745.663 775.001,782.707 785.26,818.105 795.52,851.159 805.779,881.162 816.038,907.424 \n",
       "  826.297,929.307 836.557,946.254 846.816,957.814 857.075,963.676 867.334,963.676 877.594,957.814 887.853,946.254 898.112,929.307 908.371,907.424 918.631,881.162 \n",
       "  928.89,851.159 939.149,818.105 949.409,782.707 959.668,745.663 969.927,707.637 980.186,669.242 990.446,631.024 1000.7,593.454 1010.96,556.925 1021.22,521.753 \n",
       "  1031.48,488.179 1041.74,456.376 1052,426.458 1062.26,398.485 1072.52,372.475 1082.78,348.407 1093.04,326.234 1103.3,305.886 1113.56,287.279 1123.82,270.317 \n",
       "  1134.08,254.897 1144.33,240.915 1154.59,228.263 1164.85,216.839 1175.11,206.541 1185.37,197.272 1195.63,188.943 1205.89,181.466 1216.15,174.763 1226.41,168.758 \n",
       "  1236.67,163.384 1246.93,158.579 1257.19,154.285 1267.45,150.451 1277.71,147.028 1287.96,143.974 1298.22,141.252 1308.48,138.825 1318.74,136.662 1329,134.736 \n",
       "  1339.26,133.02 1349.52,131.493 1359.78,130.133 1370.04,128.923 1380.3,127.846 1390.56,126.888 1400.82,126.036 1411.08,125.278 1421.33,124.604 1431.59,124.005 \n",
       "  1441.85,123.472 1452.11,122.998 1462.37,122.577 1472.63,122.202 1482.89,121.869 1493.15,121.573 1503.41,121.31 1513.67,121.076 \n",
       "  \"/>\n",
       "<path clip-path=\"url(#clip430)\" d=\"\n",
       "M1218.15 958.93 L1506.72 958.93 L1506.72 777.49 L1218.15 777.49  Z\n",
       "  \" fill=\"#ffffff\" fill-rule=\"evenodd\" fill-opacity=\"1\"/>\n",
       "<polyline clip-path=\"url(#clip430)\" style=\"stroke:#000000; stroke-width:4; stroke-opacity:1; fill:none\" points=\"\n",
       "  1218.15,958.93 1506.72,958.93 1506.72,777.49 1218.15,777.49 1218.15,958.93 \n",
       "  \"/>\n",
       "<polyline clip-path=\"url(#clip430)\" style=\"stroke:#009af9; stroke-width:4; stroke-opacity:1; fill:none\" points=\"\n",
       "  1233.49,837.97 1325.57,837.97 \n",
       "  \"/>\n",
       "<path clip-path=\"url(#clip430)\" d=\"M 0 0 M1345.31 842.311 Q1345.31 847.01 1347.23 849.695 Q1349.18 852.357 1352.56 852.357 Q1355.94 852.357 1357.88 849.695 Q1359.82 847.01 1359.82 842.311 Q1359.82 837.612 1357.88 834.95 Q1355.94 832.264 1352.56 832.264 Q1349.18 832.264 1347.23 834.95 Q1345.31 837.612 1345.31 842.311 M1359.82 851.362 Q1358.48 853.676 1356.42 854.811 Q1354.39 855.922 1351.51 855.922 Q1346.82 855.922 1343.85 852.172 Q1340.91 848.422 1340.91 842.311 Q1340.91 836.2 1343.85 832.45 Q1346.82 828.7 1351.51 828.7 Q1354.39 828.7 1356.42 829.834 Q1358.48 830.945 1359.82 833.26 L1359.82 829.325 L1364.08 829.325 L1364.08 865.111 L1359.82 865.111 L1359.82 851.362 Z\" fill=\"#000000\" fill-rule=\"evenodd\" fill-opacity=\"1\" /><path clip-path=\"url(#clip430)\" d=\"M 0 0 M1378.78 819.278 Q1375.68 824.602 1374.18 829.811 Q1372.67 835.019 1372.67 840.366 Q1372.67 845.713 1374.18 850.968 Q1375.7 856.199 1378.78 861.5 L1375.08 861.5 Q1371.61 856.061 1369.87 850.806 Q1368.16 845.551 1368.16 840.366 Q1368.16 835.204 1369.87 829.973 Q1371.58 824.741 1375.08 819.278 L1378.78 819.278 Z\" fill=\"#000000\" fill-rule=\"evenodd\" fill-opacity=\"1\" /><path clip-path=\"url(#clip430)\" d=\"M 0 0 M1404.8 829.325 L1395.43 841.94 L1405.29 855.25 L1400.26 855.25 L1392.72 845.065 L1385.17 855.25 L1380.15 855.25 L1390.22 841.686 L1381.01 829.325 L1386.03 829.325 L1392.9 838.561 L1399.78 829.325 L1404.8 829.325 Z\" fill=\"#000000\" fill-rule=\"evenodd\" fill-opacity=\"1\" /><path clip-path=\"url(#clip430)\" d=\"M 0 0 M1410.84 849.371 L1415.73 849.371 L1415.73 853.352 L1411.93 860.76 L1408.95 860.76 L1410.84 853.352 L1410.84 849.371 Z\" fill=\"#000000\" fill-rule=\"evenodd\" fill-opacity=\"1\" /><path clip-path=\"url(#clip430)\" d=\"M 0 0 M1435.45 820.69 L1441.75 820.69 L1457.07 849.602 L1457.07 820.69 L1461.61 820.69 L1461.61 855.25 L1455.31 855.25 L1439.99 826.339 L1439.99 855.25 L1435.45 855.25 L1435.45 820.69 Z\" fill=\"#000000\" fill-rule=\"evenodd\" fill-opacity=\"1\" /><path clip-path=\"url(#clip430)\" d=\"M 0 0 M1465.4 819.278 L1469.11 819.278 Q1472.58 824.741 1474.29 829.973 Q1476.03 835.204 1476.03 840.366 Q1476.03 845.551 1474.29 850.806 Q1472.58 856.061 1469.11 861.5 L1465.4 861.5 Q1468.48 856.199 1469.99 850.968 Q1471.51 845.713 1471.51 840.366 Q1471.51 835.019 1469.99 829.811 Q1468.48 824.602 1465.4 819.278 Z\" fill=\"#000000\" fill-rule=\"evenodd\" fill-opacity=\"1\" /><polyline clip-path=\"url(#clip430)\" style=\"stroke:#e26f46; stroke-width:4; stroke-opacity:1; fill:none\" points=\"\n",
       "  1233.49,898.45 1325.57,898.45 \n",
       "  \"/>\n",
       "<path clip-path=\"url(#clip430)\" d=\"M 0 0 M1340.91 881.17 L1345.64 881.17 L1352.9 910.383 L1360.15 881.17 L1365.4 881.17 L1372.67 910.383 L1379.92 881.17 L1384.66 881.17 L1375.98 915.73 L1370.1 915.73 L1362.81 885.731 L1355.45 915.73 L1349.57 915.73 L1340.91 881.17 Z\" fill=\"#000000\" fill-rule=\"evenodd\" fill-opacity=\"1\" /><path clip-path=\"url(#clip430)\" d=\"M 0 0 M1399.36 879.758 Q1396.26 885.082 1394.76 890.291 Q1393.25 895.499 1393.25 900.846 Q1393.25 906.193 1394.76 911.448 Q1396.28 916.679 1399.36 921.98 L1395.66 921.98 Q1392.19 916.541 1390.45 911.286 Q1388.74 906.031 1388.74 900.846 Q1388.74 895.684 1390.45 890.453 Q1392.16 885.221 1395.66 879.758 L1399.36 879.758 Z\" fill=\"#000000\" fill-rule=\"evenodd\" fill-opacity=\"1\" /><path clip-path=\"url(#clip430)\" d=\"M 0 0 M1425.38 889.805 L1416.01 902.42 L1425.87 915.73 L1420.84 915.73 L1413.3 905.545 L1405.75 915.73 L1400.73 915.73 L1410.8 902.166 L1401.58 889.805 L1406.61 889.805 L1413.48 899.041 L1420.36 889.805 L1425.38 889.805 Z\" fill=\"#000000\" fill-rule=\"evenodd\" fill-opacity=\"1\" /><path clip-path=\"url(#clip430)\" d=\"M 0 0 M1429.66 879.758 L1433.37 879.758 Q1436.84 885.221 1438.55 890.453 Q1440.29 895.684 1440.29 900.846 Q1440.29 906.031 1438.55 911.286 Q1436.84 916.541 1433.37 921.98 L1429.66 921.98 Q1432.74 916.679 1434.25 911.448 Q1435.77 906.193 1435.77 900.846 Q1435.77 895.499 1434.25 890.291 Q1432.74 885.082 1429.66 879.758 Z\" fill=\"#000000\" fill-rule=\"evenodd\" fill-opacity=\"1\" /></svg>\n"
      ]
     },
     "execution_count": 24,
     "metadata": {},
     "output_type": "execute_result"
    }
   ],
   "source": [
    "plot(x, q[:,end], label = \"q(x, N)\")\n",
    "plot!(x, wx, label = \"W(x)\")\n",
    "\n",
    "plot!(legend = :bottomright, size = (400, 275))"
   ]
  },
  {
   "cell_type": "markdown",
   "metadata": {
    "hidden": true
   },
   "source": [
    "### Psuedo-Spectral Scheme - Sec. 3.6.2"
   ]
  },
  {
   "cell_type": "code",
   "execution_count": null,
   "metadata": {
    "hidden": true
   },
   "outputs": [],
   "source": [
    "N = 50\n",
    "b = 1/(sqrt(N/6))\n",
    "L = 10.0\n",
    "\n",
    "W(x, L) = 1 - 2*sech(3*(x - L/2)/2)^2\n",
    "\n",
    ";"
   ]
  },
  {
   "cell_type": "code",
   "execution_count": null,
   "metadata": {
    "hidden": true
   },
   "outputs": [],
   "source": [
    "Nx = 32\n",
    "Ns = 200\n",
    "\n",
    "dx = L/Nx\n",
    "ds = N/Ns\n",
    "\n",
    "x = collect(range(0; step = dx, length = Nx))\n",
    "wx = W.(x, L)\n",
    "\n",
    ";"
   ]
  },
  {
   "cell_type": "code",
   "execution_count": null,
   "metadata": {
    "hidden": true
   },
   "outputs": [],
   "source": [
    "q = zeros(Complex{Float64}, Nx, Ns)\n",
    "q[:,1] .= 1.0\n",
    "\n",
    "# Operators for solver\n",
    "LW = exp.(-(wx/N)*ds/2)\n",
    "\n",
    "LD = zeros(Nx)\n",
    "for idx = 0:Nx-1\n",
    "    jx = idx < Nx/2 ? idx : Nx-idx\n",
    "    LD[idx+1] = exp(-2*pi^2*b^2*ds*jx^2/(3*L^2))\n",
    "end\n",
    "\n",
    "for n = 1:Ns-1\n",
    "    qn13 = LW .* q[:,n]\n",
    "    an13 = fft(qn13)\n",
    "    hj = LD .* an13\n",
    "    qn23 = ifft(LD .* an13)\n",
    "    q[:,n+1] = LW .* qn23\n",
    "end\n",
    "\n",
    ";"
   ]
  },
  {
   "cell_type": "code",
   "execution_count": null,
   "metadata": {
    "hidden": true
   },
   "outputs": [],
   "source": [
    "Qw = sum(q[:, end]) / L\n",
    "rho = sum(q .* reverse(q, dims = 2), dims = 2) / L / Qw\n",
    "rho *= L / N\n",
    "\n",
    "\n",
    ";"
   ]
  },
  {
   "cell_type": "code",
   "execution_count": null,
   "metadata": {
    "hidden": true
   },
   "outputs": [],
   "source": [
    "plot(x, real(q[:,end]), label = \"q(x, N)\")\n",
    "plot!(x, real(rho), label = \"rho(x)\")\n",
    "plot!(x, wx, label = \"W(x)\")\n",
    "\n",
    "plot!(legend = :bottomright, size = (400, 275))"
   ]
  },
  {
   "cell_type": "markdown",
   "metadata": {
    "heading_collapsed": true,
    "hidden": true
   },
   "source": [
    "### Higher Dimensional Solver"
   ]
  },
  {
   "cell_type": "code",
   "execution_count": null,
   "metadata": {
    "hidden": true
   },
   "outputs": [],
   "source": [
    "N = 50\n",
    "b = 1/(sqrt(N/6))\n",
    "Lx = 20.0\n",
    "Ly = 20.0\n",
    "\n",
    "e1 = [Lx, 0.0]\n",
    "e2 = [0.0, Ly]\n",
    "\n",
    "#W(x, y, Lx, Ly) = cos(3*pi*x/Lx) * sin(4*pi*y/Ly)\n",
    "W(x, y, Lx, Ly) = (1 - 2*(sech(3(y - Ly/2)/2))^2) * (1 - 2*(sech(3(x - Lx/2)/2))^2)\n",
    "\n",
    ";"
   ]
  },
  {
   "cell_type": "code",
   "execution_count": null,
   "metadata": {
    "hidden": true
   },
   "outputs": [],
   "source": [
    "Nx = 64\n",
    "Ny = 64\n",
    "\n",
    "dx = Lx/Nx\n",
    "dy = Ly/Ny\n",
    "\n",
    "ds = 0.1\n",
    "Ns = trunc(Int, N/ds)\n",
    "\n",
    "x = collect(range(0; length = Nx, step = dx))\n",
    "y = collect(range(0; length = Ny, step = dy))\n",
    "\n",
    "wr = zeros(Nx, Ny)\n",
    "for i = 1:Nx\n",
    "    for j = 1:Ny\n",
    "        wr[i, j] = W(x[i], y[j], Lx, Ly)\n",
    "    end\n",
    "end\n",
    "\n",
    ";"
   ]
  },
  {
   "cell_type": "code",
   "execution_count": null,
   "metadata": {
    "hidden": true
   },
   "outputs": [],
   "source": [
    "q = zeros(Complex{Float64}, Nx, Ny, Ns)\n",
    "q[:, :, 1] .= 1.0\n",
    "\n",
    "# Operators for solver\n",
    "LW = zeros(Nx, Ny)\n",
    "LD = zeros(Nx, Ny)\n",
    "\n",
    "@. LW = exp(-(wr/N)*ds/2)\n",
    "\n",
    "for idx in CartesianIndices((1:Nx, 1:Ny))\n",
    "    jx = idx[1] <= Nx/2 ? idx[1] : Nx-idx[1]\n",
    "    jy = idx[2] <= Ny/2 ? idx[2] : Ny-idx[2]\n",
    "    \n",
    "    LD[idx] = exp(-2*pi^2*b^2*ds*jx^2/(3*Lx^2)) * exp(-2*pi^2*b^2*ds*jy^2/(3*Ly^2))\n",
    "end\n",
    "\n",
    "function mde_solve!(q, LW, LD)\n",
    "    Nx, Ny, Ns = size(q)\n",
    "    \n",
    "    FT = plan_fft(q[:, :, 1])\n",
    "    iFT = inv(FT)\n",
    "    qh =  zeros(Complex{Float64}, Nx, Ny)\n",
    "    \n",
    "    @views for n = 2:Ns\n",
    "        q[:, :, n] .= LW .* q[:, :, n-1]\n",
    "        mul!(qh, FT, q[:, :, n])\n",
    "        qh .*= LD\n",
    "        mul!(q[:, :, n], iFT, qh)\n",
    "        q[:, :, n] .*= LW\n",
    "    end \n",
    "end\n",
    "\n",
    "@time mde_solve!(q, LW, LD)"
   ]
  },
  {
   "cell_type": "code",
   "execution_count": null,
   "metadata": {
    "hidden": true
   },
   "outputs": [],
   "source": [
    "Qw = sum(q[:, :, end]) / Lx / Ly\n",
    "rho = dropdims(sum(q .* reverse(q, dims = 3), dims = 3), dims = 3) / Lx / Ly / Qw\n",
    "rho *= Lx * Ly / N\n",
    "\n",
    "\n",
    ";"
   ]
  },
  {
   "cell_type": "code",
   "execution_count": null,
   "metadata": {
    "hidden": true,
    "scrolled": false
   },
   "outputs": [],
   "source": [
    "plot(x, y, wr, st = :surface, color = :blues)\n",
    "plot!(x, y, real(q[:,:,end]), st = :surface, color = :reds)"
   ]
  },
  {
   "cell_type": "markdown",
   "metadata": {},
   "source": [
    "# SCFT Program"
   ]
  },
  {
   "cell_type": "code",
   "execution_count": 325,
   "metadata": {},
   "outputs": [],
   "source": [
    "dims = (64, 1, 1)\n",
    "cell = UnitCell(1, :lamellar, 10.0)\n",
    "\n",
    ";"
   ]
  },
  {
   "cell_type": "code",
   "execution_count": 326,
   "metadata": {},
   "outputs": [],
   "source": [
    "amon = Monomer(; id = 1, vol = 1.0, charge = 0.0)\n",
    "bmon = Monomer(; id = 2, vol = 1.0, charge = 0.0)\n",
    "cmon = Monomer(; id = 3, vol = 2.0)\n",
    "\n",
    "sys = FieldSystem(dims, cell; monomers = [amon, bmon], ensemble = Canonical)\n",
    "\n",
    "# Add species \n",
    "#point = Point(cmon)\n",
    "#add_species!(sys, point, 0.5)\n",
    "\n",
    "chain = Diblock(amon, bmon, 100, 0.5, 1.0, 1.0, 100)\n",
    "add_species!(sys, chain, 1.0)\n",
    "\n",
    "# Interactions\n",
    "itx = FloryInteraction()\n",
    "set_interaction!(itx, amon.id, bmon.id, 0.2)\n",
    "add_interaction!(sys, itx)\n",
    "\n",
    "# # Initializatione\n",
    "#fieldinit!(sys, \"../examples/seeds/lam1d.json\", load_cell = false)\n",
    "fieldinit!(sys; scale = 0.1)\n",
    "\n",
    "# ;"
   ]
  },
  {
   "cell_type": "code",
   "execution_count": 327,
   "metadata": {
    "scrolled": false
   },
   "outputs": [
    {
     "name": "stdout",
     "output_type": "stream",
     "text": [
      "Step (0     /  1500): ferr = 2.714097e+00, fhelm = 9.11369e-02\n",
      "Updating cell dimensions: serr = 4.44357e-03\n",
      "Step (10    /  1500): ferr = 9.052774e-01, fhelm = 8.30728e-02\n",
      "Updating cell dimensions: serr = 7.68904e-04\n",
      "Step (20    /  1500): ferr = 5.502302e-01, fhelm = 7.86577e-02\n",
      "Updating cell dimensions: serr = 5.13565e-04\n",
      "Step (30    /  1500): ferr = 9.215338e-04, fhelm = 7.76757e-02\n",
      "Updating cell dimensions: serr = 3.56919e-04\n",
      "Step (40    /  1500): ferr = 1.334250e-01, fhelm = 7.82135e-02\n",
      "Updating cell dimensions: serr = 2.44857e-04\n",
      "Step (50    /  1500): ferr = 1.434354e-01, fhelm = 7.94343e-02\n",
      "Updating cell dimensions: serr = 1.44504e-04\n",
      "Step (60    /  1500): ferr = 2.511615e-01, fhelm = 8.02967e-02\n",
      "Updating cell dimensions: serr = 6.87233e-05\n",
      "Step (70    /  1500): ferr = 3.708123e-01, fhelm = 8.12030e-02\n",
      "Updating cell dimensions: serr = 2.33257e-05\n",
      "Step (80    /  1500): ferr = 4.503784e-01, fhelm = 8.18496e-02\n",
      "Updating cell dimensions: serr = 6.33112e-06\n",
      "Step (90    /  1500): ferr = 4.630755e-01, fhelm = 8.20975e-02\n",
      "Step (100   /  1500): ferr = 1.470985e-02, fhelm = 8.19481e-02\n",
      "Updating cell dimensions: serr = 3.06109e-05\n",
      "Step (110   /  1500): ferr = 1.179689e-01, fhelm = 8.14978e-02\n",
      "Updating cell dimensions: serr = 1.00249e-05\n",
      "Step (120   /  1500): ferr = 1.180627e-01, fhelm = 8.13219e-02\n",
      "Step (130   /  1500): ferr = 1.019987e-05, fhelm = 8.12514e-02\n",
      "Updating cell dimensions: serr = 4.60256e-06\n",
      "Step (140   /  1500): ferr = 1.755261e-02, fhelm = 8.13044e-02\n",
      "Converged @ step = 148: ferr = 6.588308e-06, fhelm = 8.13189e-02\n",
      "Converged cell parameters: [16.65150848436396]\n"
     ]
    },
    {
     "data": {
      "text/plain": [
       "SCFTResults\n",
       "  time: Float64 0.1011729\n",
       "  nsteps: Int64 148\n",
       "  converged: Bool true\n",
       "  ferr: Float64 3.1223576732052154e-6\n",
       "  serr: Float64 4.610473878519985e-6\n",
       "  fhelm: Float64 0.08132056917007947\n"
      ]
     },
     "execution_count": 327,
     "metadata": {},
     "output_type": "execute_result"
    }
   ],
   "source": [
    "opts = SCFTOptions(nsteps = 1500, nsout = 10, ftol = 1e-5, stol = 1e-5)\n",
    "\n",
    "#updater = MomentumUpdater(method = :MOM, lam = 0.01, gamma = 0.9, beta2 = 0.999)\n",
    "updater = AndersonUpdater(; nhist = 10)\n",
    "domain = DomainUpdater(; nskip = 10, nper = 20)\n",
    "\n",
    "res = scft!(sys, updater; domain = domain, opts = opts)"
   ]
  },
  {
   "cell_type": "code",
   "execution_count": 272,
   "metadata": {
    "scrolled": false
   },
   "outputs": [
    {
     "data": {
      "image/svg+xml": [
       "<?xml version=\"1.0\" encoding=\"utf-8\"?>\n",
       "<svg xmlns=\"http://www.w3.org/2000/svg\" xmlns:xlink=\"http://www.w3.org/1999/xlink\" width=\"600\" height=\"400\" viewBox=\"0 0 2400 1600\">\n",
       "<defs>\n",
       "  <clipPath id=\"clip820\">\n",
       "    <rect x=\"0\" y=\"0\" width=\"2400\" height=\"1600\"/>\n",
       "  </clipPath>\n",
       "</defs>\n",
       "<path clip-path=\"url(#clip820)\" d=\"\n",
       "M0 1600 L2400 1600 L2400 0 L0 0  Z\n",
       "  \" fill=\"#ffffff\" fill-rule=\"evenodd\" fill-opacity=\"1\"/>\n",
       "<defs>\n",
       "  <clipPath id=\"clip821\">\n",
       "    <rect x=\"480\" y=\"0\" width=\"1681\" height=\"1600\"/>\n",
       "  </clipPath>\n",
       "</defs>\n",
       "<path clip-path=\"url(#clip820)\" d=\"\n",
       "M174.862 1486.45 L2352.76 1486.45 L2352.76 47.2441 L174.862 47.2441  Z\n",
       "  \" fill=\"#ffffff\" fill-rule=\"evenodd\" fill-opacity=\"1\"/>\n",
       "<defs>\n",
       "  <clipPath id=\"clip822\">\n",
       "    <rect x=\"174\" y=\"47\" width=\"2179\" height=\"1440\"/>\n",
       "  </clipPath>\n",
       "</defs>\n",
       "<polyline clip-path=\"url(#clip822)\" style=\"stroke:#000000; stroke-width:2; stroke-opacity:0.1; fill:none\" points=\"\n",
       "  203.888,1486.45 203.888,47.2441 \n",
       "  \"/>\n",
       "<polyline clip-path=\"url(#clip822)\" style=\"stroke:#000000; stroke-width:2; stroke-opacity:0.1; fill:none\" points=\"\n",
       "  530.017,1486.45 530.017,47.2441 \n",
       "  \"/>\n",
       "<polyline clip-path=\"url(#clip822)\" style=\"stroke:#000000; stroke-width:2; stroke-opacity:0.1; fill:none\" points=\"\n",
       "  856.147,1486.45 856.147,47.2441 \n",
       "  \"/>\n",
       "<polyline clip-path=\"url(#clip822)\" style=\"stroke:#000000; stroke-width:2; stroke-opacity:0.1; fill:none\" points=\"\n",
       "  1182.28,1486.45 1182.28,47.2441 \n",
       "  \"/>\n",
       "<polyline clip-path=\"url(#clip822)\" style=\"stroke:#000000; stroke-width:2; stroke-opacity:0.1; fill:none\" points=\"\n",
       "  1508.41,1486.45 1508.41,47.2441 \n",
       "  \"/>\n",
       "<polyline clip-path=\"url(#clip822)\" style=\"stroke:#000000; stroke-width:2; stroke-opacity:0.1; fill:none\" points=\"\n",
       "  1834.54,1486.45 1834.54,47.2441 \n",
       "  \"/>\n",
       "<polyline clip-path=\"url(#clip822)\" style=\"stroke:#000000; stroke-width:2; stroke-opacity:0.1; fill:none\" points=\"\n",
       "  2160.67,1486.45 2160.67,47.2441 \n",
       "  \"/>\n",
       "<polyline clip-path=\"url(#clip820)\" style=\"stroke:#000000; stroke-width:4; stroke-opacity:1; fill:none\" points=\"\n",
       "  174.862,1486.45 2352.76,1486.45 \n",
       "  \"/>\n",
       "<polyline clip-path=\"url(#clip820)\" style=\"stroke:#000000; stroke-width:4; stroke-opacity:1; fill:none\" points=\"\n",
       "  203.888,1486.45 203.888,1469.18 \n",
       "  \"/>\n",
       "<polyline clip-path=\"url(#clip820)\" style=\"stroke:#000000; stroke-width:4; stroke-opacity:1; fill:none\" points=\"\n",
       "  530.017,1486.45 530.017,1469.18 \n",
       "  \"/>\n",
       "<polyline clip-path=\"url(#clip820)\" style=\"stroke:#000000; stroke-width:4; stroke-opacity:1; fill:none\" points=\"\n",
       "  856.147,1486.45 856.147,1469.18 \n",
       "  \"/>\n",
       "<polyline clip-path=\"url(#clip820)\" style=\"stroke:#000000; stroke-width:4; stroke-opacity:1; fill:none\" points=\"\n",
       "  1182.28,1486.45 1182.28,1469.18 \n",
       "  \"/>\n",
       "<polyline clip-path=\"url(#clip820)\" style=\"stroke:#000000; stroke-width:4; stroke-opacity:1; fill:none\" points=\"\n",
       "  1508.41,1486.45 1508.41,1469.18 \n",
       "  \"/>\n",
       "<polyline clip-path=\"url(#clip820)\" style=\"stroke:#000000; stroke-width:4; stroke-opacity:1; fill:none\" points=\"\n",
       "  1834.54,1486.45 1834.54,1469.18 \n",
       "  \"/>\n",
       "<polyline clip-path=\"url(#clip820)\" style=\"stroke:#000000; stroke-width:4; stroke-opacity:1; fill:none\" points=\"\n",
       "  2160.67,1486.45 2160.67,1469.18 \n",
       "  \"/>\n",
       "<path clip-path=\"url(#clip820)\" d=\"M 0 0 M203.888 1515.64 Q200.276 1515.64 198.448 1519.2 Q196.642 1522.75 196.642 1529.87 Q196.642 1536.98 198.448 1540.55 Q200.276 1544.09 203.888 1544.09 Q207.522 1544.09 209.327 1540.55 Q211.156 1536.98 211.156 1529.87 Q211.156 1522.75 209.327 1519.2 Q207.522 1515.64 203.888 1515.64 M203.888 1511.93 Q209.698 1511.93 212.753 1516.54 Q215.832 1521.12 215.832 1529.87 Q215.832 1538.6 212.753 1543.21 Q209.698 1547.79 203.888 1547.79 Q198.077 1547.79 194.999 1543.21 Q191.943 1538.6 191.943 1529.87 Q191.943 1521.12 194.999 1516.54 Q198.077 1511.93 203.888 1511.93 Z\" fill=\"#000000\" fill-rule=\"evenodd\" fill-opacity=\"1\" /><path clip-path=\"url(#clip820)\" d=\"M 0 0 M506.892 1543.18 L514.531 1543.18 L514.531 1516.82 L506.221 1518.49 L506.221 1514.23 L514.485 1512.56 L519.161 1512.56 L519.161 1543.18 L526.8 1543.18 L526.8 1547.12 L506.892 1547.12 L506.892 1543.18 Z\" fill=\"#000000\" fill-rule=\"evenodd\" fill-opacity=\"1\" /><path clip-path=\"url(#clip820)\" d=\"M 0 0 M541.869 1515.64 Q538.258 1515.64 536.429 1519.2 Q534.624 1522.75 534.624 1529.87 Q534.624 1536.98 536.429 1540.55 Q538.258 1544.09 541.869 1544.09 Q545.503 1544.09 547.309 1540.55 Q549.137 1536.98 549.137 1529.87 Q549.137 1522.75 547.309 1519.2 Q545.503 1515.64 541.869 1515.64 M541.869 1511.93 Q547.679 1511.93 550.735 1516.54 Q553.813 1521.12 553.813 1529.87 Q553.813 1538.6 550.735 1543.21 Q547.679 1547.79 541.869 1547.79 Q536.059 1547.79 532.98 1543.21 Q529.925 1538.6 529.925 1529.87 Q529.925 1521.12 532.98 1516.54 Q536.059 1511.93 541.869 1511.93 Z\" fill=\"#000000\" fill-rule=\"evenodd\" fill-opacity=\"1\" /><path clip-path=\"url(#clip820)\" d=\"M 0 0 M837.293 1543.18 L853.612 1543.18 L853.612 1547.12 L831.668 1547.12 L831.668 1543.18 Q834.33 1540.43 838.913 1535.8 Q843.52 1531.15 844.7 1529.81 Q846.946 1527.28 847.825 1525.55 Q848.728 1523.79 848.728 1522.1 Q848.728 1519.34 846.784 1517.61 Q844.862 1515.87 841.76 1515.87 Q839.561 1515.87 837.108 1516.63 Q834.677 1517.4 831.899 1518.95 L831.899 1514.23 Q834.723 1513.09 837.177 1512.51 Q839.631 1511.93 841.668 1511.93 Q847.038 1511.93 850.233 1514.62 Q853.427 1517.31 853.427 1521.8 Q853.427 1523.93 852.617 1525.85 Q851.83 1527.74 849.723 1530.34 Q849.145 1531.01 846.043 1534.23 Q842.941 1537.42 837.293 1543.18 Z\" fill=\"#000000\" fill-rule=\"evenodd\" fill-opacity=\"1\" /><path clip-path=\"url(#clip820)\" d=\"M 0 0 M868.682 1515.64 Q865.07 1515.64 863.242 1519.2 Q861.436 1522.75 861.436 1529.87 Q861.436 1536.98 863.242 1540.55 Q865.07 1544.09 868.682 1544.09 Q872.316 1544.09 874.121 1540.55 Q875.95 1536.98 875.95 1529.87 Q875.95 1522.75 874.121 1519.2 Q872.316 1515.64 868.682 1515.64 M868.682 1511.93 Q874.492 1511.93 877.547 1516.54 Q880.626 1521.12 880.626 1529.87 Q880.626 1538.6 877.547 1543.21 Q874.492 1547.79 868.682 1547.79 Q862.871 1547.79 859.793 1543.21 Q856.737 1538.6 856.737 1529.87 Q856.737 1521.12 859.793 1516.54 Q862.871 1511.93 868.682 1511.93 Z\" fill=\"#000000\" fill-rule=\"evenodd\" fill-opacity=\"1\" /><path clip-path=\"url(#clip820)\" d=\"M 0 0 M1173.02 1528.49 Q1176.37 1529.2 1178.25 1531.47 Q1180.15 1533.74 1180.15 1537.07 Q1180.15 1542.19 1176.63 1544.99 Q1173.11 1547.79 1166.63 1547.79 Q1164.45 1547.79 1162.14 1547.35 Q1159.85 1546.93 1157.39 1546.08 L1157.39 1541.56 Q1159.34 1542.7 1161.65 1543.28 Q1163.97 1543.86 1166.49 1543.86 Q1170.89 1543.86 1173.18 1542.12 Q1175.49 1540.38 1175.49 1537.07 Q1175.49 1534.02 1173.34 1532.31 Q1171.21 1530.57 1167.39 1530.57 L1163.36 1530.57 L1163.36 1526.73 L1167.58 1526.73 Q1171.03 1526.73 1172.86 1525.36 Q1174.68 1523.97 1174.68 1521.38 Q1174.68 1518.72 1172.79 1517.31 Q1170.91 1515.87 1167.39 1515.87 Q1165.47 1515.87 1163.27 1516.29 Q1161.07 1516.7 1158.43 1517.58 L1158.43 1513.42 Q1161.1 1512.68 1163.41 1512.31 Q1165.75 1511.93 1167.81 1511.93 Q1173.13 1511.93 1176.23 1514.37 Q1179.34 1516.77 1179.34 1520.89 Q1179.34 1523.76 1177.69 1525.75 Q1176.05 1527.72 1173.02 1528.49 Z\" fill=\"#000000\" fill-rule=\"evenodd\" fill-opacity=\"1\" /><path clip-path=\"url(#clip820)\" d=\"M 0 0 M1195.22 1515.64 Q1191.61 1515.64 1189.78 1519.2 Q1187.97 1522.75 1187.97 1529.87 Q1187.97 1536.98 1189.78 1540.55 Q1191.61 1544.09 1195.22 1544.09 Q1198.85 1544.09 1200.66 1540.55 Q1202.48 1536.98 1202.48 1529.87 Q1202.48 1522.75 1200.66 1519.2 Q1198.85 1515.64 1195.22 1515.64 M1195.22 1511.93 Q1201.03 1511.93 1204.08 1516.54 Q1207.16 1521.12 1207.16 1529.87 Q1207.16 1538.6 1204.08 1543.21 Q1201.03 1547.79 1195.22 1547.79 Q1189.41 1547.79 1186.33 1543.21 Q1183.27 1538.6 1183.27 1529.87 Q1183.27 1521.12 1186.33 1516.54 Q1189.41 1511.93 1195.22 1511.93 Z\" fill=\"#000000\" fill-rule=\"evenodd\" fill-opacity=\"1\" /><path clip-path=\"url(#clip820)\" d=\"M 0 0 M1497.91 1516.63 L1486.1 1535.08 L1497.91 1535.08 L1497.91 1516.63 M1496.68 1512.56 L1502.56 1512.56 L1502.56 1535.08 L1507.49 1535.08 L1507.49 1538.97 L1502.56 1538.97 L1502.56 1547.12 L1497.91 1547.12 L1497.91 1538.97 L1482.31 1538.97 L1482.31 1534.46 L1496.68 1512.56 Z\" fill=\"#000000\" fill-rule=\"evenodd\" fill-opacity=\"1\" /><path clip-path=\"url(#clip820)\" d=\"M 0 0 M1522.56 1515.64 Q1518.95 1515.64 1517.12 1519.2 Q1515.32 1522.75 1515.32 1529.87 Q1515.32 1536.98 1517.12 1540.55 Q1518.95 1544.09 1522.56 1544.09 Q1526.2 1544.09 1528 1540.55 Q1529.83 1536.98 1529.83 1529.87 Q1529.83 1522.75 1528 1519.2 Q1526.2 1515.64 1522.56 1515.64 M1522.56 1511.93 Q1528.37 1511.93 1531.43 1516.54 Q1534.51 1521.12 1534.51 1529.87 Q1534.51 1538.6 1531.43 1543.21 Q1528.37 1547.79 1522.56 1547.79 Q1516.75 1547.79 1513.67 1543.21 Q1510.62 1538.6 1510.62 1529.87 Q1510.62 1521.12 1513.67 1516.54 Q1516.75 1511.93 1522.56 1511.93 Z\" fill=\"#000000\" fill-rule=\"evenodd\" fill-opacity=\"1\" /><path clip-path=\"url(#clip820)\" d=\"M 0 0 M1811.31 1512.56 L1829.66 1512.56 L1829.66 1516.5 L1815.59 1516.5 L1815.59 1524.97 Q1816.61 1524.62 1817.63 1524.46 Q1818.64 1524.27 1819.66 1524.27 Q1825.45 1524.27 1828.83 1527.44 Q1832.21 1530.62 1832.21 1536.03 Q1832.21 1541.61 1828.74 1544.71 Q1825.27 1547.79 1818.95 1547.79 Q1816.77 1547.79 1814.5 1547.42 Q1812.26 1547.05 1809.85 1546.31 L1809.85 1541.61 Q1811.93 1542.74 1814.15 1543.3 Q1816.38 1543.86 1818.85 1543.86 Q1822.86 1543.86 1825.2 1541.75 Q1827.53 1539.64 1827.53 1536.03 Q1827.53 1532.42 1825.2 1530.31 Q1822.86 1528.21 1818.85 1528.21 Q1816.98 1528.21 1815.1 1528.62 Q1813.25 1529.04 1811.31 1529.92 L1811.31 1512.56 Z\" fill=\"#000000\" fill-rule=\"evenodd\" fill-opacity=\"1\" /><path clip-path=\"url(#clip820)\" d=\"M 0 0 M1847.28 1515.64 Q1843.67 1515.64 1841.84 1519.2 Q1840.03 1522.75 1840.03 1529.87 Q1840.03 1536.98 1841.84 1540.55 Q1843.67 1544.09 1847.28 1544.09 Q1850.91 1544.09 1852.72 1540.55 Q1854.55 1536.98 1854.55 1529.87 Q1854.55 1522.75 1852.72 1519.2 Q1850.91 1515.64 1847.28 1515.64 M1847.28 1511.93 Q1853.09 1511.93 1856.14 1516.54 Q1859.22 1521.12 1859.22 1529.87 Q1859.22 1538.6 1856.14 1543.21 Q1853.09 1547.79 1847.28 1547.79 Q1841.47 1547.79 1838.39 1543.21 Q1835.33 1538.6 1835.33 1529.87 Q1835.33 1521.12 1838.39 1516.54 Q1841.47 1511.93 1847.28 1511.93 Z\" fill=\"#000000\" fill-rule=\"evenodd\" fill-opacity=\"1\" /><path clip-path=\"url(#clip820)\" d=\"M 0 0 M2147.56 1527.98 Q2144.42 1527.98 2142.56 1530.13 Q2140.74 1532.28 2140.74 1536.03 Q2140.74 1539.76 2142.56 1541.93 Q2144.42 1544.09 2147.56 1544.09 Q2150.71 1544.09 2152.54 1541.93 Q2154.39 1539.76 2154.39 1536.03 Q2154.39 1532.28 2152.54 1530.13 Q2150.71 1527.98 2147.56 1527.98 M2156.85 1513.32 L2156.85 1517.58 Q2155.09 1516.75 2153.28 1516.31 Q2151.5 1515.87 2149.74 1515.87 Q2145.11 1515.87 2142.66 1519 Q2140.23 1522.12 2139.88 1528.44 Q2141.24 1526.43 2143.3 1525.36 Q2145.36 1524.27 2147.84 1524.27 Q2153.05 1524.27 2156.06 1527.44 Q2159.09 1530.59 2159.09 1536.03 Q2159.09 1541.36 2155.94 1544.57 Q2152.8 1547.79 2147.56 1547.79 Q2141.57 1547.79 2138.4 1543.21 Q2135.23 1538.6 2135.23 1529.87 Q2135.23 1521.68 2139.11 1516.82 Q2143 1511.93 2149.55 1511.93 Q2151.31 1511.93 2153.1 1512.28 Q2154.9 1512.63 2156.85 1513.32 Z\" fill=\"#000000\" fill-rule=\"evenodd\" fill-opacity=\"1\" /><path clip-path=\"url(#clip820)\" d=\"M 0 0 M2174.16 1515.64 Q2170.55 1515.64 2168.72 1519.2 Q2166.92 1522.75 2166.92 1529.87 Q2166.92 1536.98 2168.72 1540.55 Q2170.55 1544.09 2174.16 1544.09 Q2177.8 1544.09 2179.6 1540.55 Q2181.43 1536.98 2181.43 1529.87 Q2181.43 1522.75 2179.6 1519.2 Q2177.8 1515.64 2174.16 1515.64 M2174.16 1511.93 Q2179.97 1511.93 2183.03 1516.54 Q2186.11 1521.12 2186.11 1529.87 Q2186.11 1538.6 2183.03 1543.21 Q2179.97 1547.79 2174.16 1547.79 Q2168.35 1547.79 2165.27 1543.21 Q2162.22 1538.6 2162.22 1529.87 Q2162.22 1521.12 2165.27 1516.54 Q2168.35 1511.93 2174.16 1511.93 Z\" fill=\"#000000\" fill-rule=\"evenodd\" fill-opacity=\"1\" /><polyline clip-path=\"url(#clip822)\" style=\"stroke:#000000; stroke-width:2; stroke-opacity:0.1; fill:none\" points=\"\n",
       "  174.862,1470.95 2352.76,1470.95 \n",
       "  \"/>\n",
       "<polyline clip-path=\"url(#clip822)\" style=\"stroke:#000000; stroke-width:2; stroke-opacity:0.1; fill:none\" points=\"\n",
       "  174.862,1118.9 2352.76,1118.9 \n",
       "  \"/>\n",
       "<polyline clip-path=\"url(#clip822)\" style=\"stroke:#000000; stroke-width:2; stroke-opacity:0.1; fill:none\" points=\"\n",
       "  174.862,766.846 2352.76,766.846 \n",
       "  \"/>\n",
       "<polyline clip-path=\"url(#clip822)\" style=\"stroke:#000000; stroke-width:2; stroke-opacity:0.1; fill:none\" points=\"\n",
       "  174.862,414.794 2352.76,414.794 \n",
       "  \"/>\n",
       "<polyline clip-path=\"url(#clip822)\" style=\"stroke:#000000; stroke-width:2; stroke-opacity:0.1; fill:none\" points=\"\n",
       "  174.862,62.7429 2352.76,62.7429 \n",
       "  \"/>\n",
       "<polyline clip-path=\"url(#clip820)\" style=\"stroke:#000000; stroke-width:4; stroke-opacity:1; fill:none\" points=\"\n",
       "  174.862,1486.45 174.862,47.2441 \n",
       "  \"/>\n",
       "<polyline clip-path=\"url(#clip820)\" style=\"stroke:#000000; stroke-width:4; stroke-opacity:1; fill:none\" points=\"\n",
       "  174.862,1470.95 200.997,1470.95 \n",
       "  \"/>\n",
       "<polyline clip-path=\"url(#clip820)\" style=\"stroke:#000000; stroke-width:4; stroke-opacity:1; fill:none\" points=\"\n",
       "  174.862,1118.9 200.997,1118.9 \n",
       "  \"/>\n",
       "<polyline clip-path=\"url(#clip820)\" style=\"stroke:#000000; stroke-width:4; stroke-opacity:1; fill:none\" points=\"\n",
       "  174.862,766.846 200.997,766.846 \n",
       "  \"/>\n",
       "<polyline clip-path=\"url(#clip820)\" style=\"stroke:#000000; stroke-width:4; stroke-opacity:1; fill:none\" points=\"\n",
       "  174.862,414.794 200.997,414.794 \n",
       "  \"/>\n",
       "<polyline clip-path=\"url(#clip820)\" style=\"stroke:#000000; stroke-width:4; stroke-opacity:1; fill:none\" points=\"\n",
       "  174.862,62.7429 200.997,62.7429 \n",
       "  \"/>\n",
       "<path clip-path=\"url(#clip820)\" d=\"M 0 0 M62.9365 1456.75 Q59.3254 1456.75 57.4967 1460.31 Q55.6912 1463.85 55.6912 1470.98 Q55.6912 1478.09 57.4967 1481.66 Q59.3254 1485.2 62.9365 1485.2 Q66.5707 1485.2 68.3763 1481.66 Q70.205 1478.09 70.205 1470.98 Q70.205 1463.85 68.3763 1460.31 Q66.5707 1456.75 62.9365 1456.75 M62.9365 1453.04 Q68.7467 1453.04 71.8022 1457.65 Q74.8809 1462.23 74.8809 1470.98 Q74.8809 1479.71 71.8022 1484.32 Q68.7467 1488.9 62.9365 1488.9 Q57.1264 1488.9 54.0477 1484.32 Q50.9921 1479.71 50.9921 1470.98 Q50.9921 1462.23 54.0477 1457.65 Q57.1264 1453.04 62.9365 1453.04 Z\" fill=\"#000000\" fill-rule=\"evenodd\" fill-opacity=\"1\" /><path clip-path=\"url(#clip820)\" d=\"M 0 0 M79.9503 1482.35 L84.8345 1482.35 L84.8345 1488.23 L79.9503 1488.23 L79.9503 1482.35 Z\" fill=\"#000000\" fill-rule=\"evenodd\" fill-opacity=\"1\" /><path clip-path=\"url(#clip820)\" d=\"M 0 0 M99.9039 1456.75 Q96.2928 1456.75 94.4641 1460.31 Q92.6586 1463.85 92.6586 1470.98 Q92.6586 1478.09 94.4641 1481.66 Q96.2928 1485.2 99.9039 1485.2 Q103.538 1485.2 105.344 1481.66 Q107.172 1478.09 107.172 1470.98 Q107.172 1463.85 105.344 1460.31 Q103.538 1456.75 99.9039 1456.75 M99.9039 1453.04 Q105.714 1453.04 108.77 1457.65 Q111.848 1462.23 111.848 1470.98 Q111.848 1479.71 108.77 1484.32 Q105.714 1488.9 99.9039 1488.9 Q94.0937 1488.9 91.0151 1484.32 Q87.9595 1479.71 87.9595 1470.98 Q87.9595 1462.23 91.0151 1457.65 Q94.0937 1453.04 99.9039 1453.04 Z\" fill=\"#000000\" fill-rule=\"evenodd\" fill-opacity=\"1\" /><path clip-path=\"url(#clip820)\" d=\"M 0 0 M126.918 1456.75 Q123.307 1456.75 121.478 1460.31 Q119.672 1463.85 119.672 1470.98 Q119.672 1478.09 121.478 1481.66 Q123.307 1485.2 126.918 1485.2 Q130.552 1485.2 132.357 1481.66 Q134.186 1478.09 134.186 1470.98 Q134.186 1463.85 132.357 1460.31 Q130.552 1456.75 126.918 1456.75 M126.918 1453.04 Q132.728 1453.04 135.783 1457.65 Q138.862 1462.23 138.862 1470.98 Q138.862 1479.71 135.783 1484.32 Q132.728 1488.9 126.918 1488.9 Q121.107 1488.9 118.029 1484.32 Q114.973 1479.71 114.973 1470.98 Q114.973 1462.23 118.029 1457.65 Q121.107 1453.04 126.918 1453.04 Z\" fill=\"#000000\" fill-rule=\"evenodd\" fill-opacity=\"1\" /><path clip-path=\"url(#clip820)\" d=\"M 0 0 M65.5291 1104.7 Q61.918 1104.7 60.0893 1108.26 Q58.2838 1111.8 58.2838 1118.93 Q58.2838 1126.04 60.0893 1129.6 Q61.918 1133.15 65.5291 1133.15 Q69.1633 1133.15 70.9689 1129.6 Q72.7976 1126.04 72.7976 1118.93 Q72.7976 1111.8 70.9689 1108.26 Q69.1633 1104.7 65.5291 1104.7 M65.5291 1100.99 Q71.3392 1100.99 74.3948 1105.6 Q77.4735 1110.18 77.4735 1118.93 Q77.4735 1127.66 74.3948 1132.27 Q71.3392 1136.85 65.5291 1136.85 Q59.7189 1136.85 56.6402 1132.27 Q53.5847 1127.66 53.5847 1118.93 Q53.5847 1110.18 56.6402 1105.6 Q59.7189 1100.99 65.5291 1100.99 Z\" fill=\"#000000\" fill-rule=\"evenodd\" fill-opacity=\"1\" /><path clip-path=\"url(#clip820)\" d=\"M 0 0 M82.5429 1130.3 L87.4271 1130.3 L87.4271 1136.18 L82.5429 1136.18 L82.5429 1130.3 Z\" fill=\"#000000\" fill-rule=\"evenodd\" fill-opacity=\"1\" /><path clip-path=\"url(#clip820)\" d=\"M 0 0 M96.5243 1132.24 L112.844 1132.24 L112.844 1136.18 L90.8993 1136.18 L90.8993 1132.24 Q93.5613 1129.49 98.1447 1124.86 Q102.751 1120.21 103.932 1118.86 Q106.177 1116.34 107.057 1114.6 Q107.959 1112.84 107.959 1111.15 Q107.959 1108.4 106.015 1106.66 Q104.094 1104.93 100.992 1104.93 Q98.7928 1104.93 96.3391 1105.69 Q93.9086 1106.46 91.1308 1108.01 L91.1308 1103.28 Q93.9549 1102.15 96.4085 1101.57 Q98.8622 1100.99 100.899 1100.99 Q106.27 1100.99 109.464 1103.68 Q112.658 1106.36 112.658 1110.85 Q112.658 1112.98 111.848 1114.9 Q111.061 1116.8 108.955 1119.4 Q108.376 1120.07 105.274 1123.28 Q102.172 1126.48 96.5243 1132.24 Z\" fill=\"#000000\" fill-rule=\"evenodd\" fill-opacity=\"1\" /><path clip-path=\"url(#clip820)\" d=\"M 0 0 M117.959 1101.62 L136.316 1101.62 L136.316 1105.55 L122.242 1105.55 L122.242 1114.02 Q123.26 1113.68 124.279 1113.52 Q125.297 1113.33 126.316 1113.33 Q132.103 1113.33 135.482 1116.5 Q138.862 1119.67 138.862 1125.09 Q138.862 1130.67 135.39 1133.77 Q131.918 1136.85 125.598 1136.85 Q123.422 1136.85 121.154 1136.48 Q118.908 1136.11 116.501 1135.37 L116.501 1130.67 Q118.584 1131.8 120.807 1132.36 Q123.029 1132.91 125.506 1132.91 Q129.51 1132.91 131.848 1130.81 Q134.186 1128.7 134.186 1125.09 Q134.186 1121.48 131.848 1119.37 Q129.51 1117.27 125.506 1117.27 Q123.631 1117.27 121.756 1117.68 Q119.904 1118.1 117.959 1118.98 L117.959 1101.62 Z\" fill=\"#000000\" fill-rule=\"evenodd\" fill-opacity=\"1\" /><path clip-path=\"url(#clip820)\" d=\"M 0 0 M63.9319 752.645 Q60.3208 752.645 58.4921 756.209 Q56.6865 759.751 56.6865 766.881 Q56.6865 773.987 58.4921 777.552 Q60.3208 781.094 63.9319 781.094 Q67.5661 781.094 69.3717 777.552 Q71.2004 773.987 71.2004 766.881 Q71.2004 759.751 69.3717 756.209 Q67.5661 752.645 63.9319 752.645 M63.9319 748.941 Q69.742 748.941 72.7976 753.547 Q75.8763 758.131 75.8763 766.881 Q75.8763 775.608 72.7976 780.214 Q69.742 784.797 63.9319 784.797 Q58.1217 784.797 55.043 780.214 Q51.9875 775.608 51.9875 766.881 Q51.9875 758.131 55.043 753.547 Q58.1217 748.941 63.9319 748.941 Z\" fill=\"#000000\" fill-rule=\"evenodd\" fill-opacity=\"1\" /><path clip-path=\"url(#clip820)\" d=\"M 0 0 M80.9457 778.246 L85.8299 778.246 L85.8299 784.126 L80.9457 784.126 L80.9457 778.246 Z\" fill=\"#000000\" fill-rule=\"evenodd\" fill-opacity=\"1\" /><path clip-path=\"url(#clip820)\" d=\"M 0 0 M90.9456 749.566 L109.302 749.566 L109.302 753.501 L95.228 753.501 L95.228 761.973 Q96.2465 761.626 97.265 761.464 Q98.2835 761.279 99.3021 761.279 Q105.089 761.279 108.469 764.45 Q111.848 767.621 111.848 773.038 Q111.848 778.617 108.376 781.719 Q104.904 784.797 98.5845 784.797 Q96.4085 784.797 94.14 784.427 Q91.8947 784.057 89.4873 783.316 L89.4873 778.617 Q91.5706 779.751 93.7928 780.307 Q96.015 780.862 98.4919 780.862 Q102.496 780.862 104.834 778.756 Q107.172 776.649 107.172 773.038 Q107.172 769.427 104.834 767.321 Q102.496 765.214 98.4919 765.214 Q96.6169 765.214 94.7419 765.631 Q92.89 766.047 90.9456 766.927 L90.9456 749.566 Z\" fill=\"#000000\" fill-rule=\"evenodd\" fill-opacity=\"1\" /><path clip-path=\"url(#clip820)\" d=\"M 0 0 M126.918 752.645 Q123.307 752.645 121.478 756.209 Q119.672 759.751 119.672 766.881 Q119.672 773.987 121.478 777.552 Q123.307 781.094 126.918 781.094 Q130.552 781.094 132.357 777.552 Q134.186 773.987 134.186 766.881 Q134.186 759.751 132.357 756.209 Q130.552 752.645 126.918 752.645 M126.918 748.941 Q132.728 748.941 135.783 753.547 Q138.862 758.131 138.862 766.881 Q138.862 775.608 135.783 780.214 Q132.728 784.797 126.918 784.797 Q121.107 784.797 118.029 780.214 Q114.973 775.608 114.973 766.881 Q114.973 758.131 118.029 753.547 Q121.107 748.941 126.918 748.941 Z\" fill=\"#000000\" fill-rule=\"evenodd\" fill-opacity=\"1\" /><path clip-path=\"url(#clip820)\" d=\"M 0 0 M64.8346 400.593 Q61.2236 400.593 59.3949 404.158 Q57.5893 407.7 57.5893 414.829 Q57.5893 421.936 59.3949 425.5 Q61.2236 429.042 64.8346 429.042 Q68.4689 429.042 70.2744 425.5 Q72.1031 421.936 72.1031 414.829 Q72.1031 407.7 70.2744 404.158 Q68.4689 400.593 64.8346 400.593 M64.8346 396.889 Q70.6448 396.889 73.7003 401.496 Q76.779 406.079 76.779 414.829 Q76.779 423.556 73.7003 428.162 Q70.6448 432.746 64.8346 432.746 Q59.0245 432.746 55.9458 428.162 Q52.8903 423.556 52.8903 414.829 Q52.8903 406.079 55.9458 401.496 Q59.0245 396.889 64.8346 396.889 Z\" fill=\"#000000\" fill-rule=\"evenodd\" fill-opacity=\"1\" /><path clip-path=\"url(#clip820)\" d=\"M 0 0 M81.8484 426.195 L86.7327 426.195 L86.7327 432.074 L81.8484 432.074 L81.8484 426.195 Z\" fill=\"#000000\" fill-rule=\"evenodd\" fill-opacity=\"1\" /><path clip-path=\"url(#clip820)\" d=\"M 0 0 M90.6215 397.514 L112.844 397.514 L112.844 399.505 L100.297 432.074 L95.4132 432.074 L107.219 401.45 L90.6215 401.45 L90.6215 397.514 Z\" fill=\"#000000\" fill-rule=\"evenodd\" fill-opacity=\"1\" /><path clip-path=\"url(#clip820)\" d=\"M 0 0 M117.959 397.514 L136.316 397.514 L136.316 401.45 L122.242 401.45 L122.242 409.922 Q123.26 409.575 124.279 409.413 Q125.297 409.227 126.316 409.227 Q132.103 409.227 135.482 412.399 Q138.862 415.57 138.862 420.987 Q138.862 426.565 135.39 429.667 Q131.918 432.746 125.598 432.746 Q123.422 432.746 121.154 432.375 Q118.908 432.005 116.501 431.264 L116.501 426.565 Q118.584 427.699 120.807 428.255 Q123.029 428.811 125.506 428.811 Q129.51 428.811 131.848 426.704 Q134.186 424.598 134.186 420.987 Q134.186 417.375 131.848 415.269 Q129.51 413.162 125.506 413.162 Q123.631 413.162 121.756 413.579 Q119.904 413.996 117.959 414.875 L117.959 397.514 Z\" fill=\"#000000\" fill-rule=\"evenodd\" fill-opacity=\"1\" /><path clip-path=\"url(#clip820)\" d=\"M 0 0 M54.9736 76.0877 L62.6124 76.0877 L62.6124 49.7221 L54.3023 51.3888 L54.3023 47.1295 L62.5661 45.4629 L67.242 45.4629 L67.242 76.0877 L74.8809 76.0877 L74.8809 80.0229 L54.9736 80.0229 L54.9736 76.0877 Z\" fill=\"#000000\" fill-rule=\"evenodd\" fill-opacity=\"1\" /><path clip-path=\"url(#clip820)\" d=\"M 0 0 M79.9503 74.1433 L84.8345 74.1433 L84.8345 80.0229 L79.9503 80.0229 L79.9503 74.1433 Z\" fill=\"#000000\" fill-rule=\"evenodd\" fill-opacity=\"1\" /><path clip-path=\"url(#clip820)\" d=\"M 0 0 M99.9039 48.5416 Q96.2928 48.5416 94.4641 52.1064 Q92.6586 55.648 92.6586 62.7776 Q92.6586 69.884 94.4641 73.4488 Q96.2928 76.9905 99.9039 76.9905 Q103.538 76.9905 105.344 73.4488 Q107.172 69.884 107.172 62.7776 Q107.172 55.648 105.344 52.1064 Q103.538 48.5416 99.9039 48.5416 M99.9039 44.8379 Q105.714 44.8379 108.77 49.4443 Q111.848 54.0277 111.848 62.7776 Q111.848 71.5044 108.77 76.1109 Q105.714 80.6942 99.9039 80.6942 Q94.0937 80.6942 91.0151 76.1109 Q87.9595 71.5044 87.9595 62.7776 Q87.9595 54.0277 91.0151 49.4443 Q94.0937 44.8379 99.9039 44.8379 Z\" fill=\"#000000\" fill-rule=\"evenodd\" fill-opacity=\"1\" /><path clip-path=\"url(#clip820)\" d=\"M 0 0 M126.918 48.5416 Q123.307 48.5416 121.478 52.1064 Q119.672 55.648 119.672 62.7776 Q119.672 69.884 121.478 73.4488 Q123.307 76.9905 126.918 76.9905 Q130.552 76.9905 132.357 73.4488 Q134.186 69.884 134.186 62.7776 Q134.186 55.648 132.357 52.1064 Q130.552 48.5416 126.918 48.5416 M126.918 44.8379 Q132.728 44.8379 135.783 49.4443 Q138.862 54.0277 138.862 62.7776 Q138.862 71.5044 135.783 76.1109 Q132.728 80.6942 126.918 80.6942 Q121.107 80.6942 118.029 76.1109 Q114.973 71.5044 114.973 62.7776 Q114.973 54.0277 118.029 49.4443 Q121.107 44.8379 126.918 44.8379 Z\" fill=\"#000000\" fill-rule=\"evenodd\" fill-opacity=\"1\" /><polyline clip-path=\"url(#clip822)\" style=\"stroke:#009af9; stroke-width:4; stroke-opacity:1; fill:none\" points=\"\n",
       "  236.501,182.779 269.113,155.638 301.726,135.353 334.339,120.202 366.952,108.933 399.565,100.659 432.178,94.7674 464.791,90.8443 497.404,88.6281 530.017,87.9763 \n",
       "  562.63,88.8474 595.243,91.2968 627.856,95.4827 660.469,101.686 693.082,110.346 725.695,122.109 758.308,137.909 790.921,159.058 823.534,187.354 856.147,225.161 \n",
       "  888.76,275.381 921.373,341.162 953.986,425.153 986.599,528.16 1019.21,647.503 1051.82,776.163 1084.44,904.064 1117.05,1021.4 1149.66,1121.75 1182.28,1203.02 \n",
       "  1214.89,1266.39 1247.5,1314.64 1280.12,1350.91 1312.73,1378.05 1345.34,1398.34 1377.95,1413.49 1410.57,1424.76 1443.18,1433.03 1475.79,1438.92 1508.41,1442.85 \n",
       "  1541.02,1445.06 1573.63,1445.72 1606.25,1444.84 1638.86,1442.4 1671.47,1438.21 1704.08,1432.01 1736.7,1423.35 1769.31,1411.58 1801.92,1395.78 1834.54,1374.63 \n",
       "  1867.15,1346.34 1899.76,1308.53 1932.37,1258.31 1964.99,1192.53 1997.6,1108.54 2030.21,1005.53 2062.83,886.189 2095.44,757.529 2128.05,629.628 2160.67,512.294 \n",
       "  2193.28,411.944 2225.89,330.671 2258.5,267.305 2291.12,219.057 \n",
       "  \"/>\n",
       "<path clip-path=\"url(#clip820)\" d=\"\n",
       "M1987.15 216.178 L2280.16 216.178 L2280.16 95.2176 L1987.15 95.2176  Z\n",
       "  \" fill=\"#ffffff\" fill-rule=\"evenodd\" fill-opacity=\"1\"/>\n",
       "<polyline clip-path=\"url(#clip820)\" style=\"stroke:#000000; stroke-width:4; stroke-opacity:1; fill:none\" points=\"\n",
       "  1987.15,216.178 2280.16,216.178 2280.16,95.2176 1987.15,95.2176 1987.15,216.178 \n",
       "  \"/>\n",
       "<polyline clip-path=\"url(#clip820)\" style=\"stroke:#009af9; stroke-width:4; stroke-opacity:1; fill:none\" points=\"\n",
       "  2011.35,155.698 2156.54,155.698 \n",
       "  \"/>\n",
       "<path clip-path=\"url(#clip820)\" d=\"M 0 0 M2194.59 175.385 Q2192.78 180.015 2191.07 181.427 Q2189.35 182.839 2186.48 182.839 L2183.08 182.839 L2183.08 179.274 L2185.58 179.274 Q2187.34 179.274 2188.31 178.44 Q2189.29 177.607 2190.47 174.505 L2191.23 172.561 L2180.74 147.052 L2185.26 147.052 L2193.36 167.329 L2201.46 147.052 L2205.97 147.052 L2194.59 175.385 Z\" fill=\"#000000\" fill-rule=\"evenodd\" fill-opacity=\"1\" /><path clip-path=\"url(#clip820)\" d=\"M 0 0 M2211.85 169.042 L2219.49 169.042 L2219.49 142.677 L2211.18 144.343 L2211.18 140.084 L2219.45 138.418 L2224.12 138.418 L2224.12 169.042 L2231.76 169.042 L2231.76 172.978 L2211.85 172.978 L2211.85 169.042 Z\" fill=\"#000000\" fill-rule=\"evenodd\" fill-opacity=\"1\" /></svg>\n"
      ]
     },
     "execution_count": 272,
     "metadata": {},
     "output_type": "execute_result"
    }
   ],
   "source": [
    "# plot(sys.density[1][:,1,1], label = \"A\")\n",
    "# plot!(sys.fields[1][:,1,1], primary = false, ls = :dash)\n",
    "\n",
    "# plot!(sys.density[2][:,1,1], label = \"B\")\n",
    "# plot!(sys.fields[2][:,1,1], primary = false, ls = :dash)\n",
    "\n",
    "plot(sys.density[1][:,1,1])"
   ]
  },
  {
   "cell_type": "code",
   "execution_count": null,
   "metadata": {},
   "outputs": [],
   "source": []
  },
  {
   "cell_type": "code",
   "execution_count": null,
   "metadata": {},
   "outputs": [],
   "source": []
  },
  {
   "cell_type": "markdown",
   "metadata": {},
   "source": [
    "## Plotting"
   ]
  },
  {
   "cell_type": "code",
   "execution_count": 217,
   "metadata": {},
   "outputs": [
    {
     "ename": "LoadError",
     "evalue": "UndefVarError: volume not defined",
     "output_type": "error",
     "traceback": [
      "UndefVarError: volume not defined",
      "",
      "Stacktrace:",
      " [1] top-level scope at In[217]:3",
      " [2] include_string(::Function, ::Module, ::String, ::String) at ./loading.jl:1091"
     ]
    }
   ],
   "source": [
    "x = 10.0 * sys.fields[2]\n",
    "\n",
    "plot = volume(x, algorithm = :mip)\n",
    "cm = colorlegend(\n",
    "     plot[end],             # access the plot of Scene p1\n",
    "     raw = true,          # without axes or grid\n",
    "     camera = campixel!,  # gives a concrete bounding box in pixels\n",
    "                          # so that the `vbox` gives you the right size\n",
    "     width = (            # make the colorlegend longer so it looks nicer\n",
    "         30,              # the width\n",
    "         500              # the height\n",
    "     )\n",
    ")\n",
    "\n",
    "scene_final = vbox(plot, cm) # put the colorlegend and the plot together in a `vbox`"
   ]
  },
  {
   "cell_type": "code",
   "execution_count": null,
   "metadata": {},
   "outputs": [],
   "source": []
  }
 ],
 "metadata": {
  "kernelspec": {
   "display_name": "Julia 1.5.2",
   "language": "julia",
   "name": "julia-1.5"
  },
  "language_info": {
   "file_extension": ".jl",
   "mimetype": "application/julia",
   "name": "julia",
   "version": "1.5.2"
  },
  "toc": {
   "base_numbering": 1,
   "nav_menu": {},
   "number_sections": true,
   "sideBar": true,
   "skip_h1_title": false,
   "title_cell": "Table of Contents",
   "title_sidebar": "Contents",
   "toc_cell": false,
   "toc_position": {},
   "toc_section_display": true,
   "toc_window_display": false
  }
 },
 "nbformat": 4,
 "nbformat_minor": 2
}
